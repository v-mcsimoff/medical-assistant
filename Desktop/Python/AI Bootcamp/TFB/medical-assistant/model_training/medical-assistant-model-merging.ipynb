{
 "cells": [
  {
   "cell_type": "code",
   "execution_count": 1,
   "id": "48c0b0c0",
   "metadata": {
    "_cell_guid": "b1076dfc-b9ad-4769-8c92-a6c4dae69d19",
    "_uuid": "8f2839f25d086af736a60e9eeb907d3b93b6e0e5",
    "execution": {
     "iopub.execute_input": "2024-07-20T09:22:02.720985Z",
     "iopub.status.busy": "2024-07-20T09:22:02.720703Z",
     "iopub.status.idle": "2024-07-20T09:22:03.701779Z",
     "shell.execute_reply": "2024-07-20T09:22:03.700839Z"
    },
    "papermill": {
     "duration": 0.990637,
     "end_time": "2024-07-20T09:22:03.704473",
     "exception": false,
     "start_time": "2024-07-20T09:22:02.713836",
     "status": "completed"
    },
    "tags": []
   },
   "outputs": [
    {
     "name": "stdout",
     "output_type": "stream",
     "text": [
      "/kaggle/input/model-training-for-medical-assistant/__results__.html\n",
      "/kaggle/input/model-training-for-medical-assistant/__notebook__.ipynb\n",
      "/kaggle/input/model-training-for-medical-assistant/__output__.json\n",
      "/kaggle/input/model-training-for-medical-assistant/custom.css\n",
      "/kaggle/input/model-training-for-medical-assistant/llama-3-8b-medical-assistant/adapter_model.safetensors\n",
      "/kaggle/input/model-training-for-medical-assistant/llama-3-8b-medical-assistant/adapter_config.json\n",
      "/kaggle/input/model-training-for-medical-assistant/llama-3-8b-medical-assistant/README.md\n",
      "/kaggle/input/model-training-for-medical-assistant/llama-3-8b-medical-assistant/checkpoint-3500/adapter_model.safetensors\n",
      "/kaggle/input/model-training-for-medical-assistant/llama-3-8b-medical-assistant/checkpoint-3500/trainer_state.json\n",
      "/kaggle/input/model-training-for-medical-assistant/llama-3-8b-medical-assistant/checkpoint-3500/training_args.bin\n",
      "/kaggle/input/model-training-for-medical-assistant/llama-3-8b-medical-assistant/checkpoint-3500/adapter_config.json\n",
      "/kaggle/input/model-training-for-medical-assistant/llama-3-8b-medical-assistant/checkpoint-3500/README.md\n",
      "/kaggle/input/model-training-for-medical-assistant/llama-3-8b-medical-assistant/checkpoint-3500/tokenizer.json\n",
      "/kaggle/input/model-training-for-medical-assistant/llama-3-8b-medical-assistant/checkpoint-3500/tokenizer_config.json\n",
      "/kaggle/input/model-training-for-medical-assistant/llama-3-8b-medical-assistant/checkpoint-3500/scheduler.pt\n",
      "/kaggle/input/model-training-for-medical-assistant/llama-3-8b-medical-assistant/checkpoint-3500/special_tokens_map.json\n",
      "/kaggle/input/model-training-for-medical-assistant/llama-3-8b-medical-assistant/checkpoint-3500/optimizer.pt\n",
      "/kaggle/input/model-training-for-medical-assistant/llama-3-8b-medical-assistant/checkpoint-3500/rng_state.pth\n",
      "/kaggle/input/model-training-for-medical-assistant/llama-3-8b-medical-assistant/checkpoint-1500/adapter_model.safetensors\n",
      "/kaggle/input/model-training-for-medical-assistant/llama-3-8b-medical-assistant/checkpoint-1500/trainer_state.json\n",
      "/kaggle/input/model-training-for-medical-assistant/llama-3-8b-medical-assistant/checkpoint-1500/training_args.bin\n",
      "/kaggle/input/model-training-for-medical-assistant/llama-3-8b-medical-assistant/checkpoint-1500/adapter_config.json\n",
      "/kaggle/input/model-training-for-medical-assistant/llama-3-8b-medical-assistant/checkpoint-1500/README.md\n",
      "/kaggle/input/model-training-for-medical-assistant/llama-3-8b-medical-assistant/checkpoint-1500/tokenizer.json\n",
      "/kaggle/input/model-training-for-medical-assistant/llama-3-8b-medical-assistant/checkpoint-1500/tokenizer_config.json\n",
      "/kaggle/input/model-training-for-medical-assistant/llama-3-8b-medical-assistant/checkpoint-1500/scheduler.pt\n",
      "/kaggle/input/model-training-for-medical-assistant/llama-3-8b-medical-assistant/checkpoint-1500/special_tokens_map.json\n",
      "/kaggle/input/model-training-for-medical-assistant/llama-3-8b-medical-assistant/checkpoint-1500/optimizer.pt\n",
      "/kaggle/input/model-training-for-medical-assistant/llama-3-8b-medical-assistant/checkpoint-1500/rng_state.pth\n",
      "/kaggle/input/model-training-for-medical-assistant/llama-3-8b-medical-assistant/checkpoint-2000/adapter_model.safetensors\n",
      "/kaggle/input/model-training-for-medical-assistant/llama-3-8b-medical-assistant/checkpoint-2000/trainer_state.json\n",
      "/kaggle/input/model-training-for-medical-assistant/llama-3-8b-medical-assistant/checkpoint-2000/training_args.bin\n",
      "/kaggle/input/model-training-for-medical-assistant/llama-3-8b-medical-assistant/checkpoint-2000/adapter_config.json\n",
      "/kaggle/input/model-training-for-medical-assistant/llama-3-8b-medical-assistant/checkpoint-2000/README.md\n",
      "/kaggle/input/model-training-for-medical-assistant/llama-3-8b-medical-assistant/checkpoint-2000/tokenizer.json\n",
      "/kaggle/input/model-training-for-medical-assistant/llama-3-8b-medical-assistant/checkpoint-2000/tokenizer_config.json\n",
      "/kaggle/input/model-training-for-medical-assistant/llama-3-8b-medical-assistant/checkpoint-2000/scheduler.pt\n",
      "/kaggle/input/model-training-for-medical-assistant/llama-3-8b-medical-assistant/checkpoint-2000/special_tokens_map.json\n",
      "/kaggle/input/model-training-for-medical-assistant/llama-3-8b-medical-assistant/checkpoint-2000/optimizer.pt\n",
      "/kaggle/input/model-training-for-medical-assistant/llama-3-8b-medical-assistant/checkpoint-2000/rng_state.pth\n",
      "/kaggle/input/model-training-for-medical-assistant/llama-3-8b-medical-assistant/checkpoint-3000/adapter_model.safetensors\n",
      "/kaggle/input/model-training-for-medical-assistant/llama-3-8b-medical-assistant/checkpoint-3000/trainer_state.json\n",
      "/kaggle/input/model-training-for-medical-assistant/llama-3-8b-medical-assistant/checkpoint-3000/training_args.bin\n",
      "/kaggle/input/model-training-for-medical-assistant/llama-3-8b-medical-assistant/checkpoint-3000/adapter_config.json\n",
      "/kaggle/input/model-training-for-medical-assistant/llama-3-8b-medical-assistant/checkpoint-3000/README.md\n",
      "/kaggle/input/model-training-for-medical-assistant/llama-3-8b-medical-assistant/checkpoint-3000/tokenizer.json\n",
      "/kaggle/input/model-training-for-medical-assistant/llama-3-8b-medical-assistant/checkpoint-3000/tokenizer_config.json\n",
      "/kaggle/input/model-training-for-medical-assistant/llama-3-8b-medical-assistant/checkpoint-3000/scheduler.pt\n",
      "/kaggle/input/model-training-for-medical-assistant/llama-3-8b-medical-assistant/checkpoint-3000/special_tokens_map.json\n",
      "/kaggle/input/model-training-for-medical-assistant/llama-3-8b-medical-assistant/checkpoint-3000/optimizer.pt\n",
      "/kaggle/input/model-training-for-medical-assistant/llama-3-8b-medical-assistant/checkpoint-3000/rng_state.pth\n",
      "/kaggle/input/model-training-for-medical-assistant/llama-3-8b-medical-assistant/checkpoint-500/adapter_model.safetensors\n",
      "/kaggle/input/model-training-for-medical-assistant/llama-3-8b-medical-assistant/checkpoint-500/trainer_state.json\n",
      "/kaggle/input/model-training-for-medical-assistant/llama-3-8b-medical-assistant/checkpoint-500/training_args.bin\n",
      "/kaggle/input/model-training-for-medical-assistant/llama-3-8b-medical-assistant/checkpoint-500/adapter_config.json\n",
      "/kaggle/input/model-training-for-medical-assistant/llama-3-8b-medical-assistant/checkpoint-500/README.md\n",
      "/kaggle/input/model-training-for-medical-assistant/llama-3-8b-medical-assistant/checkpoint-500/tokenizer.json\n",
      "/kaggle/input/model-training-for-medical-assistant/llama-3-8b-medical-assistant/checkpoint-500/tokenizer_config.json\n",
      "/kaggle/input/model-training-for-medical-assistant/llama-3-8b-medical-assistant/checkpoint-500/scheduler.pt\n",
      "/kaggle/input/model-training-for-medical-assistant/llama-3-8b-medical-assistant/checkpoint-500/special_tokens_map.json\n",
      "/kaggle/input/model-training-for-medical-assistant/llama-3-8b-medical-assistant/checkpoint-500/optimizer.pt\n",
      "/kaggle/input/model-training-for-medical-assistant/llama-3-8b-medical-assistant/checkpoint-500/rng_state.pth\n",
      "/kaggle/input/model-training-for-medical-assistant/llama-3-8b-medical-assistant/checkpoint-2500/adapter_model.safetensors\n",
      "/kaggle/input/model-training-for-medical-assistant/llama-3-8b-medical-assistant/checkpoint-2500/trainer_state.json\n",
      "/kaggle/input/model-training-for-medical-assistant/llama-3-8b-medical-assistant/checkpoint-2500/training_args.bin\n",
      "/kaggle/input/model-training-for-medical-assistant/llama-3-8b-medical-assistant/checkpoint-2500/adapter_config.json\n",
      "/kaggle/input/model-training-for-medical-assistant/llama-3-8b-medical-assistant/checkpoint-2500/README.md\n",
      "/kaggle/input/model-training-for-medical-assistant/llama-3-8b-medical-assistant/checkpoint-2500/tokenizer.json\n",
      "/kaggle/input/model-training-for-medical-assistant/llama-3-8b-medical-assistant/checkpoint-2500/tokenizer_config.json\n",
      "/kaggle/input/model-training-for-medical-assistant/llama-3-8b-medical-assistant/checkpoint-2500/scheduler.pt\n",
      "/kaggle/input/model-training-for-medical-assistant/llama-3-8b-medical-assistant/checkpoint-2500/special_tokens_map.json\n",
      "/kaggle/input/model-training-for-medical-assistant/llama-3-8b-medical-assistant/checkpoint-2500/optimizer.pt\n",
      "/kaggle/input/model-training-for-medical-assistant/llama-3-8b-medical-assistant/checkpoint-2500/rng_state.pth\n",
      "/kaggle/input/model-training-for-medical-assistant/llama-3-8b-medical-assistant/checkpoint-4500/adapter_model.safetensors\n",
      "/kaggle/input/model-training-for-medical-assistant/llama-3-8b-medical-assistant/checkpoint-4500/trainer_state.json\n",
      "/kaggle/input/model-training-for-medical-assistant/llama-3-8b-medical-assistant/checkpoint-4500/training_args.bin\n",
      "/kaggle/input/model-training-for-medical-assistant/llama-3-8b-medical-assistant/checkpoint-4500/adapter_config.json\n",
      "/kaggle/input/model-training-for-medical-assistant/llama-3-8b-medical-assistant/checkpoint-4500/README.md\n",
      "/kaggle/input/model-training-for-medical-assistant/llama-3-8b-medical-assistant/checkpoint-4500/tokenizer.json\n",
      "/kaggle/input/model-training-for-medical-assistant/llama-3-8b-medical-assistant/checkpoint-4500/tokenizer_config.json\n",
      "/kaggle/input/model-training-for-medical-assistant/llama-3-8b-medical-assistant/checkpoint-4500/scheduler.pt\n",
      "/kaggle/input/model-training-for-medical-assistant/llama-3-8b-medical-assistant/checkpoint-4500/special_tokens_map.json\n",
      "/kaggle/input/model-training-for-medical-assistant/llama-3-8b-medical-assistant/checkpoint-4500/optimizer.pt\n",
      "/kaggle/input/model-training-for-medical-assistant/llama-3-8b-medical-assistant/checkpoint-4500/rng_state.pth\n",
      "/kaggle/input/model-training-for-medical-assistant/llama-3-8b-medical-assistant/checkpoint-4000/adapter_model.safetensors\n",
      "/kaggle/input/model-training-for-medical-assistant/llama-3-8b-medical-assistant/checkpoint-4000/trainer_state.json\n",
      "/kaggle/input/model-training-for-medical-assistant/llama-3-8b-medical-assistant/checkpoint-4000/training_args.bin\n",
      "/kaggle/input/model-training-for-medical-assistant/llama-3-8b-medical-assistant/checkpoint-4000/adapter_config.json\n",
      "/kaggle/input/model-training-for-medical-assistant/llama-3-8b-medical-assistant/checkpoint-4000/README.md\n",
      "/kaggle/input/model-training-for-medical-assistant/llama-3-8b-medical-assistant/checkpoint-4000/tokenizer.json\n",
      "/kaggle/input/model-training-for-medical-assistant/llama-3-8b-medical-assistant/checkpoint-4000/tokenizer_config.json\n",
      "/kaggle/input/model-training-for-medical-assistant/llama-3-8b-medical-assistant/checkpoint-4000/scheduler.pt\n",
      "/kaggle/input/model-training-for-medical-assistant/llama-3-8b-medical-assistant/checkpoint-4000/special_tokens_map.json\n",
      "/kaggle/input/model-training-for-medical-assistant/llama-3-8b-medical-assistant/checkpoint-4000/optimizer.pt\n",
      "/kaggle/input/model-training-for-medical-assistant/llama-3-8b-medical-assistant/checkpoint-4000/rng_state.pth\n",
      "/kaggle/input/model-training-for-medical-assistant/llama-3-8b-medical-assistant/checkpoint-1000/adapter_model.safetensors\n",
      "/kaggle/input/model-training-for-medical-assistant/llama-3-8b-medical-assistant/checkpoint-1000/trainer_state.json\n",
      "/kaggle/input/model-training-for-medical-assistant/llama-3-8b-medical-assistant/checkpoint-1000/training_args.bin\n",
      "/kaggle/input/model-training-for-medical-assistant/llama-3-8b-medical-assistant/checkpoint-1000/adapter_config.json\n",
      "/kaggle/input/model-training-for-medical-assistant/llama-3-8b-medical-assistant/checkpoint-1000/README.md\n",
      "/kaggle/input/model-training-for-medical-assistant/llama-3-8b-medical-assistant/checkpoint-1000/tokenizer.json\n",
      "/kaggle/input/model-training-for-medical-assistant/llama-3-8b-medical-assistant/checkpoint-1000/tokenizer_config.json\n",
      "/kaggle/input/model-training-for-medical-assistant/llama-3-8b-medical-assistant/checkpoint-1000/scheduler.pt\n",
      "/kaggle/input/model-training-for-medical-assistant/llama-3-8b-medical-assistant/checkpoint-1000/special_tokens_map.json\n",
      "/kaggle/input/model-training-for-medical-assistant/llama-3-8b-medical-assistant/checkpoint-1000/optimizer.pt\n",
      "/kaggle/input/model-training-for-medical-assistant/llama-3-8b-medical-assistant/checkpoint-1000/rng_state.pth\n",
      "/kaggle/input/model-training-for-medical-assistant/wandb/run-20240718_155104-gu8nctuj/run-gu8nctuj.wandb\n",
      "/kaggle/input/model-training-for-medical-assistant/wandb/run-20240718_155104-gu8nctuj/logs/debug.log\n",
      "/kaggle/input/model-training-for-medical-assistant/wandb/run-20240718_155104-gu8nctuj/logs/debug-internal.log\n",
      "/kaggle/input/model-training-for-medical-assistant/wandb/run-20240718_155104-gu8nctuj/files/wandb-summary.json\n",
      "/kaggle/input/model-training-for-medical-assistant/wandb/run-20240718_155104-gu8nctuj/files/conda-environment.yaml\n",
      "/kaggle/input/model-training-for-medical-assistant/wandb/run-20240718_155104-gu8nctuj/files/config.yaml\n",
      "/kaggle/input/model-training-for-medical-assistant/wandb/run-20240718_155104-gu8nctuj/files/output.log\n",
      "/kaggle/input/model-training-for-medical-assistant/wandb/run-20240718_155104-gu8nctuj/files/requirements.txt\n",
      "/kaggle/input/model-training-for-medical-assistant/wandb/run-20240718_155104-gu8nctuj/files/wandb-metadata.json\n",
      "/kaggle/input/model-training-for-medical-assistant/wandb/run-20240718_160710-w5499jiz/run-w5499jiz.wandb\n",
      "/kaggle/input/model-training-for-medical-assistant/wandb/run-20240718_160710-w5499jiz/logs/debug.log\n",
      "/kaggle/input/model-training-for-medical-assistant/wandb/run-20240718_160710-w5499jiz/logs/debug-internal.log\n",
      "/kaggle/input/model-training-for-medical-assistant/wandb/run-20240718_160710-w5499jiz/files/wandb-summary.json\n",
      "/kaggle/input/model-training-for-medical-assistant/wandb/run-20240718_160710-w5499jiz/files/conda-environment.yaml\n",
      "/kaggle/input/model-training-for-medical-assistant/wandb/run-20240718_160710-w5499jiz/files/config.yaml\n",
      "/kaggle/input/model-training-for-medical-assistant/wandb/run-20240718_160710-w5499jiz/files/output.log\n",
      "/kaggle/input/model-training-for-medical-assistant/wandb/run-20240718_160710-w5499jiz/files/requirements.txt\n",
      "/kaggle/input/model-training-for-medical-assistant/wandb/run-20240718_160710-w5499jiz/files/wandb-metadata.json\n",
      "/kaggle/input/llama-3/transformers/8b-chat-hf/1/model.safetensors.index.json\n",
      "/kaggle/input/llama-3/transformers/8b-chat-hf/1/model-00003-of-00004.safetensors\n",
      "/kaggle/input/llama-3/transformers/8b-chat-hf/1/config.json\n",
      "/kaggle/input/llama-3/transformers/8b-chat-hf/1/LICENSE\n",
      "/kaggle/input/llama-3/transformers/8b-chat-hf/1/model-00001-of-00004.safetensors\n",
      "/kaggle/input/llama-3/transformers/8b-chat-hf/1/model.py\n",
      "/kaggle/input/llama-3/transformers/8b-chat-hf/1/USE_POLICY.md\n",
      "/kaggle/input/llama-3/transformers/8b-chat-hf/1/tokenizer.json\n",
      "/kaggle/input/llama-3/transformers/8b-chat-hf/1/tokenizer_config.json\n",
      "/kaggle/input/llama-3/transformers/8b-chat-hf/1/example_text_completion.py\n",
      "/kaggle/input/llama-3/transformers/8b-chat-hf/1/test_tokenizer.py\n",
      "/kaggle/input/llama-3/transformers/8b-chat-hf/1/requirements.txt\n",
      "/kaggle/input/llama-3/transformers/8b-chat-hf/1/tokenizer.py\n",
      "/kaggle/input/llama-3/transformers/8b-chat-hf/1/model-00004-of-00004.safetensors\n",
      "/kaggle/input/llama-3/transformers/8b-chat-hf/1/eval_details.md\n",
      "/kaggle/input/llama-3/transformers/8b-chat-hf/1/special_tokens_map.json\n",
      "/kaggle/input/llama-3/transformers/8b-chat-hf/1/generation.py\n",
      "/kaggle/input/llama-3/transformers/8b-chat-hf/1/model-00002-of-00004.safetensors\n",
      "/kaggle/input/llama-3/transformers/8b-chat-hf/1/__init__.py\n",
      "/kaggle/input/llama-3/transformers/8b-chat-hf/1/example_chat_completion.py\n",
      "/kaggle/input/llama-3/transformers/8b-chat-hf/1/setup.py\n",
      "/kaggle/input/llama-3/transformers/8b-chat-hf/1/generation_config.json\n"
     ]
    }
   ],
   "source": [
    "# This Python 3 environment comes with many helpful analytics libraries installed\n",
    "# It is defined by the kaggle/python Docker image: https://github.com/kaggle/docker-python\n",
    "# For example, here's several helpful packages to load\n",
    "\n",
    "import numpy as np # linear algebra\n",
    "import pandas as pd # data processing, CSV file I/O (e.g. pd.read_csv)\n",
    "\n",
    "# Input data files are available in the read-only \"../input/\" directory\n",
    "# For example, running this (by clicking run or pressing Shift+Enter) will list all files under the input directory\n",
    "\n",
    "import os\n",
    "for dirname, _, filenames in os.walk('/kaggle/input'):\n",
    "    for filename in filenames:\n",
    "        print(os.path.join(dirname, filename))\n",
    "\n",
    "# You can write up to 20GB to the current directory (/kaggle/working/) that gets preserved as output when you create a version using \"Save & Run All\" \n",
    "# You can also write temporary files to /kaggle/temp/, but they won't be saved outside of the current session"
   ]
  },
  {
   "cell_type": "markdown",
   "id": "3edf2df6",
   "metadata": {
    "papermill": {
     "duration": 0.005369,
     "end_time": "2024-07-20T09:22:03.715841",
     "exception": false,
     "start_time": "2024-07-20T09:22:03.710472",
     "status": "completed"
    },
    "tags": []
   },
   "source": [
    "#### Tuned model merging."
   ]
  },
  {
   "cell_type": "markdown",
   "id": "14708d11",
   "metadata": {
    "papermill": {
     "duration": 0.005277,
     "end_time": "2024-07-20T09:22:03.726635",
     "exception": false,
     "start_time": "2024-07-20T09:22:03.721358",
     "status": "completed"
    },
    "tags": []
   },
   "source": [
    "We have already trained the model, and now it should be merged with the base model to be saved and used in the project."
   ]
  },
  {
   "cell_type": "code",
   "execution_count": 2,
   "id": "cc1139a5",
   "metadata": {
    "execution": {
     "iopub.execute_input": "2024-07-20T09:22:03.738786Z",
     "iopub.status.busy": "2024-07-20T09:22:03.738401Z",
     "iopub.status.idle": "2024-07-20T09:23:22.194058Z",
     "shell.execute_reply": "2024-07-20T09:23:22.192728Z"
    },
    "papermill": {
     "duration": 78.464471,
     "end_time": "2024-07-20T09:23:22.196539",
     "exception": false,
     "start_time": "2024-07-20T09:22:03.732068",
     "status": "completed"
    },
    "tags": []
   },
   "outputs": [],
   "source": [
    "%%capture\n",
    "%pip install -U bitsandbytes\n",
    "%pip install -U transformers\n",
    "%pip install -U accelerate\n",
    "%pip install -U peft\n",
    "%pip install -U trl"
   ]
  },
  {
   "cell_type": "markdown",
   "id": "6457b43e",
   "metadata": {
    "papermill": {
     "duration": 0.00534,
     "end_time": "2024-07-20T09:23:22.207901",
     "exception": false,
     "start_time": "2024-07-20T09:23:22.202561",
     "status": "completed"
    },
    "tags": []
   },
   "source": [
    "Logging in to Hugging Face."
   ]
  },
  {
   "cell_type": "code",
   "execution_count": 3,
   "id": "7ea8b39b",
   "metadata": {
    "execution": {
     "iopub.execute_input": "2024-07-20T09:23:22.220381Z",
     "iopub.status.busy": "2024-07-20T09:23:22.220033Z",
     "iopub.status.idle": "2024-07-20T09:23:22.927478Z",
     "shell.execute_reply": "2024-07-20T09:23:22.926300Z"
    },
    "papermill": {
     "duration": 0.716381,
     "end_time": "2024-07-20T09:23:22.929805",
     "exception": false,
     "start_time": "2024-07-20T09:23:22.213424",
     "status": "completed"
    },
    "tags": []
   },
   "outputs": [
    {
     "name": "stdout",
     "output_type": "stream",
     "text": [
      "The token has not been saved to the git credentials helper. Pass `add_to_git_credential=True` in this function directly or `--add-to-git-credential` if using via `huggingface-cli` if you want to set the git credential as well.\n",
      "Token is valid (permission: write).\n",
      "Your token has been saved to /root/.cache/huggingface/token\n",
      "Login successful\n"
     ]
    }
   ],
   "source": [
    "from huggingface_hub import login\n",
    "from kaggle_secrets import UserSecretsClient\n",
    "user_secrets = UserSecretsClient()\n",
    "\n",
    "hf_token = user_secrets.get_secret(\"huggingface_token\")\n",
    "login(token = hf_token)"
   ]
  },
  {
   "cell_type": "markdown",
   "id": "d1d064a9",
   "metadata": {
    "papermill": {
     "duration": 0.006547,
     "end_time": "2024-07-20T09:23:22.943270",
     "exception": false,
     "start_time": "2024-07-20T09:23:22.936723",
     "status": "completed"
    },
    "tags": []
   },
   "source": [
    "Creating variables for base and new models."
   ]
  },
  {
   "cell_type": "code",
   "execution_count": 4,
   "id": "cc61545b",
   "metadata": {
    "execution": {
     "iopub.execute_input": "2024-07-20T09:23:22.958449Z",
     "iopub.status.busy": "2024-07-20T09:23:22.958087Z",
     "iopub.status.idle": "2024-07-20T09:23:22.962684Z",
     "shell.execute_reply": "2024-07-20T09:23:22.961801Z"
    },
    "papermill": {
     "duration": 0.014559,
     "end_time": "2024-07-20T09:23:22.964809",
     "exception": false,
     "start_time": "2024-07-20T09:23:22.950250",
     "status": "completed"
    },
    "tags": []
   },
   "outputs": [],
   "source": [
    "base_model = \"/kaggle/input/llama-3/transformers/8b-chat-hf/1\"\n",
    "new_model = \"/kaggle/input/model-training-for-medical-assistant/llama-3-8b-medical-assistant/\""
   ]
  },
  {
   "cell_type": "markdown",
   "id": "6ea95742",
   "metadata": {
    "papermill": {
     "duration": 0.005709,
     "end_time": "2024-07-20T09:23:22.976699",
     "exception": false,
     "start_time": "2024-07-20T09:23:22.970990",
     "status": "completed"
    },
    "tags": []
   },
   "source": [
    "To merge the base model with the adapter we should load the tokenizer and base model using the transformers library. Then, we set up the chat format using the trl library. Finally, we load and merge the adapter to the base model using the PEFT library."
   ]
  },
  {
   "cell_type": "code",
   "execution_count": 5,
   "id": "99846194",
   "metadata": {
    "execution": {
     "iopub.execute_input": "2024-07-20T09:23:22.989263Z",
     "iopub.status.busy": "2024-07-20T09:23:22.989018Z",
     "iopub.status.idle": "2024-07-20T09:25:17.325040Z",
     "shell.execute_reply": "2024-07-20T09:25:17.324036Z"
    },
    "papermill": {
     "duration": 114.344837,
     "end_time": "2024-07-20T09:25:17.327375",
     "exception": false,
     "start_time": "2024-07-20T09:23:22.982538",
     "status": "completed"
    },
    "tags": []
   },
   "outputs": [
    {
     "name": "stderr",
     "output_type": "stream",
     "text": [
      "2024-07-20 09:23:29.777451: E external/local_xla/xla/stream_executor/cuda/cuda_dnn.cc:9261] Unable to register cuDNN factory: Attempting to register factory for plugin cuDNN when one has already been registered\n",
      "2024-07-20 09:23:29.777561: E external/local_xla/xla/stream_executor/cuda/cuda_fft.cc:607] Unable to register cuFFT factory: Attempting to register factory for plugin cuFFT when one has already been registered\n",
      "2024-07-20 09:23:29.903199: E external/local_xla/xla/stream_executor/cuda/cuda_blas.cc:1515] Unable to register cuBLAS factory: Attempting to register factory for plugin cuBLAS when one has already been registered\n",
      "Special tokens have been added in the vocabulary, make sure the associated word embeddings are fine-tuned or trained.\n"
     ]
    },
    {
     "data": {
      "application/vnd.jupyter.widget-view+json": {
       "model_id": "dbc6544f252c4db78ea5a1e6e088c3ed",
       "version_major": 2,
       "version_minor": 0
      },
      "text/plain": [
       "Loading checkpoint shards:   0%|          | 0/4 [00:00<?, ?it/s]"
      ]
     },
     "metadata": {},
     "output_type": "display_data"
    }
   ],
   "source": [
    "from transformers import AutoModelForCausalLM, AutoTokenizer, pipeline\n",
    "from peft import PeftModel\n",
    "import torch\n",
    "from trl import setup_chat_format\n",
    "\n",
    "# Reload tokenizer and model\n",
    "tokenizer = AutoTokenizer.from_pretrained(base_model)\n",
    "\n",
    "base_model_reload = AutoModelForCausalLM.from_pretrained(\n",
    "        base_model,\n",
    "        return_dict=True,\n",
    "        low_cpu_mem_usage=True,\n",
    "        torch_dtype=torch.float16,\n",
    "        device_map=\"auto\",\n",
    "        trust_remote_code=True,\n",
    ")"
   ]
  },
  {
   "cell_type": "code",
   "execution_count": 6,
   "id": "a66bfcb3",
   "metadata": {
    "execution": {
     "iopub.execute_input": "2024-07-20T09:25:17.342657Z",
     "iopub.status.busy": "2024-07-20T09:25:17.342039Z",
     "iopub.status.idle": "2024-07-20T09:25:17.346496Z",
     "shell.execute_reply": "2024-07-20T09:25:17.345649Z"
    },
    "papermill": {
     "duration": 0.013348,
     "end_time": "2024-07-20T09:25:17.348302",
     "exception": false,
     "start_time": "2024-07-20T09:25:17.334954",
     "status": "completed"
    },
    "tags": []
   },
   "outputs": [],
   "source": [
    "torch.cuda.empty_cache()"
   ]
  },
  {
   "cell_type": "code",
   "execution_count": 7,
   "id": "746f874d",
   "metadata": {
    "execution": {
     "iopub.execute_input": "2024-07-20T09:25:17.361721Z",
     "iopub.status.busy": "2024-07-20T09:25:17.361462Z",
     "iopub.status.idle": "2024-07-20T09:25:20.638911Z",
     "shell.execute_reply": "2024-07-20T09:25:20.638088Z"
    },
    "papermill": {
     "duration": 3.286858,
     "end_time": "2024-07-20T09:25:20.641139",
     "exception": false,
     "start_time": "2024-07-20T09:25:17.354281",
     "status": "completed"
    },
    "tags": []
   },
   "outputs": [],
   "source": [
    "# Merge adapter with base model\n",
    "base_model_reload, tokenizer = setup_chat_format(base_model_reload, tokenizer)\n",
    "model = PeftModel.from_pretrained(base_model_reload, new_model)"
   ]
  },
  {
   "cell_type": "code",
   "execution_count": 8,
   "id": "90eb6ddc",
   "metadata": {
    "execution": {
     "iopub.execute_input": "2024-07-20T09:25:20.655172Z",
     "iopub.status.busy": "2024-07-20T09:25:20.654496Z",
     "iopub.status.idle": "2024-07-20T09:25:20.979554Z",
     "shell.execute_reply": "2024-07-20T09:25:20.978573Z"
    },
    "papermill": {
     "duration": 0.334627,
     "end_time": "2024-07-20T09:25:20.982105",
     "exception": false,
     "start_time": "2024-07-20T09:25:20.647478",
     "status": "completed"
    },
    "tags": []
   },
   "outputs": [],
   "source": [
    "model = model.merge_and_unload()"
   ]
  },
  {
   "cell_type": "markdown",
   "id": "d294261e",
   "metadata": {
    "papermill": {
     "duration": 0.00603,
     "end_time": "2024-07-20T09:25:20.994542",
     "exception": false,
     "start_time": "2024-07-20T09:25:20.988512",
     "status": "completed"
    },
    "tags": []
   },
   "source": [
    "#### Model Inference."
   ]
  },
  {
   "cell_type": "markdown",
   "id": "8c8a9f7c",
   "metadata": {
    "papermill": {
     "duration": 0.005791,
     "end_time": "2024-07-20T09:25:21.006274",
     "exception": false,
     "start_time": "2024-07-20T09:25:21.000483",
     "status": "completed"
    },
    "tags": []
   },
   "source": [
    "To verify if our model has been merged correctly, we perform a simple inference using pipeline from the transformers library. We convert the message using the chat template and then provide a prompt to the pipeline. The pipeline was initialized using the model, tokenizer, and task type."
   ]
  },
  {
   "cell_type": "code",
   "execution_count": 9,
   "id": "93f61fce",
   "metadata": {
    "execution": {
     "iopub.execute_input": "2024-07-20T09:25:21.019700Z",
     "iopub.status.busy": "2024-07-20T09:25:21.019027Z",
     "iopub.status.idle": "2024-07-20T09:25:29.793647Z",
     "shell.execute_reply": "2024-07-20T09:25:29.792554Z"
    },
    "papermill": {
     "duration": 8.783494,
     "end_time": "2024-07-20T09:25:29.795700",
     "exception": false,
     "start_time": "2024-07-20T09:25:21.012206",
     "status": "completed"
    },
    "tags": []
   },
   "outputs": [
    {
     "name": "stdout",
     "output_type": "stream",
     "text": [
      "<|im_start|>user\n",
      "Hello doctor, I have bad acne. How do I get rid of it?<|im_end|>\n",
      "<|im_start|>assistant\n",
      "                                                                 \t \t \t \t \t \t \t \t \t \t \t \t \t \t \t \t \t \t \t \t \t \t \t \t \t \t \t \t\n"
     ]
    }
   ],
   "source": [
    "messages = [{\"role\": \"user\", \"content\": \"Hello doctor, I have bad acne. How do I get rid of it?\"}]\n",
    "\n",
    "prompt = tokenizer.apply_chat_template(messages, tokenize=False, add_generation_prompt=True)\n",
    "pipe = pipeline(\n",
    "    \"text-generation\",\n",
    "    model=model,\n",
    "    tokenizer=tokenizer,\n",
    "    torch_dtype=torch.float16,\n",
    "    device_map=\"auto\",\n",
    ")\n",
    "\n",
    "outputs = pipe(prompt, max_new_tokens=120, do_sample=True, temperature=0.7, top_k=50, top_p=0.95)\n",
    "print(outputs[0][\"generated_text\"])"
   ]
  },
  {
   "cell_type": "markdown",
   "id": "4574f024",
   "metadata": {
    "papermill": {
     "duration": 0.00591,
     "end_time": "2024-07-20T09:25:29.808048",
     "exception": false,
     "start_time": "2024-07-20T09:25:29.802138",
     "status": "completed"
    },
    "tags": []
   },
   "source": [
    "We can see that the fine-tuned model is working as expected after being merged."
   ]
  },
  {
   "cell_type": "markdown",
   "id": "9be091c3",
   "metadata": {
    "papermill": {
     "duration": 0.005828,
     "end_time": "2024-07-20T09:25:29.819882",
     "exception": false,
     "start_time": "2024-07-20T09:25:29.814054",
     "status": "completed"
    },
    "tags": []
   },
   "source": [
    "#### Saving and pushing the merged model."
   ]
  },
  {
   "cell_type": "code",
   "execution_count": 10,
   "id": "141d4a4f",
   "metadata": {
    "execution": {
     "iopub.execute_input": "2024-07-20T09:25:29.834207Z",
     "iopub.status.busy": "2024-07-20T09:25:29.833280Z",
     "iopub.status.idle": "2024-07-20T09:26:27.272522Z",
     "shell.execute_reply": "2024-07-20T09:26:27.271607Z"
    },
    "papermill": {
     "duration": 72.154036,
     "end_time": "2024-07-20T09:26:41.980462",
     "exception": false,
     "start_time": "2024-07-20T09:25:29.826426",
     "status": "completed"
    },
    "tags": []
   },
   "outputs": [
    {
     "data": {
      "text/plain": [
       "('llama-3-8b-medical-assistant/tokenizer_config.json',\n",
       " 'llama-3-8b-medical-assistant/special_tokens_map.json',\n",
       " 'llama-3-8b-medical-assistant/tokenizer.json')"
      ]
     },
     "execution_count": 10,
     "metadata": {},
     "output_type": "execute_result"
    }
   ],
   "source": [
    "model.save_pretrained(\"llama-3-8b-medical-assistant\")\n",
    "tokenizer.save_pretrained(\"llama-3-8b-medical-assistant\")"
   ]
  },
  {
   "cell_type": "code",
   "execution_count": 11,
   "id": "7b83127b",
   "metadata": {
    "execution": {
     "iopub.execute_input": "2024-07-20T09:26:42.026519Z",
     "iopub.status.busy": "2024-07-20T09:26:42.026134Z",
     "iopub.status.idle": "2024-07-20T09:31:14.623635Z",
     "shell.execute_reply": "2024-07-20T09:31:14.622670Z"
    },
    "papermill": {
     "duration": 272.612288,
     "end_time": "2024-07-20T09:31:14.625984",
     "exception": false,
     "start_time": "2024-07-20T09:26:42.013696",
     "status": "completed"
    },
    "tags": []
   },
   "outputs": [
    {
     "data": {
      "application/vnd.jupyter.widget-view+json": {
       "model_id": "af6246ee4fb44523aaf11ace4a47cfed",
       "version_major": 2,
       "version_minor": 0
      },
      "text/plain": [
       "README.md:   0%|          | 0.00/5.17k [00:00<?, ?B/s]"
      ]
     },
     "metadata": {},
     "output_type": "display_data"
    },
    {
     "data": {
      "application/vnd.jupyter.widget-view+json": {
       "model_id": "d3d190105b72464aba4e439e637a0db1",
       "version_major": 2,
       "version_minor": 0
      },
      "text/plain": [
       "model-00001-of-00004.safetensors:   0%|          | 0.00/4.98G [00:00<?, ?B/s]"
      ]
     },
     "metadata": {},
     "output_type": "display_data"
    },
    {
     "data": {
      "application/vnd.jupyter.widget-view+json": {
       "model_id": "3e0cab1ad77440ef8e13f4c7e83a5086",
       "version_major": 2,
       "version_minor": 0
      },
      "text/plain": [
       "Upload 2 LFS files:   0%|          | 0/2 [00:00<?, ?it/s]"
      ]
     },
     "metadata": {},
     "output_type": "display_data"
    },
    {
     "data": {
      "application/vnd.jupyter.widget-view+json": {
       "model_id": "cc63542d5703419293ac6ba3d0dfabfd",
       "version_major": 2,
       "version_minor": 0
      },
      "text/plain": [
       "model-00004-of-00004.safetensors:   0%|          | 0.00/1.17G [00:00<?, ?B/s]"
      ]
     },
     "metadata": {},
     "output_type": "display_data"
    },
    {
     "data": {
      "text/plain": [
       "CommitInfo(commit_url='https://huggingface.co/McSimoff/llama-3-8b-medical-assistant/commit/25ada26a4a949e75409172f54fe621ea3109e5a6', commit_message='Upload tokenizer', commit_description='', oid='25ada26a4a949e75409172f54fe621ea3109e5a6', pr_url=None, pr_revision=None, pr_num=None)"
      ]
     },
     "execution_count": 11,
     "metadata": {},
     "output_type": "execute_result"
    }
   ],
   "source": [
    "model.push_to_hub(\"llama-3-8b-medical-assistant\", use_temp_dir=False)\n",
    "tokenizer.push_to_hub(\"llama-3-8b-medical-assistant\", use_temp_dir=False)"
   ]
  },
  {
   "cell_type": "code",
   "execution_count": null,
   "id": "71558e5d",
   "metadata": {
    "papermill": {
     "duration": 0.006871,
     "end_time": "2024-07-20T09:31:14.641364",
     "exception": false,
     "start_time": "2024-07-20T09:31:14.634493",
     "status": "completed"
    },
    "tags": []
   },
   "outputs": [],
   "source": []
  }
 ],
 "metadata": {
  "kaggle": {
   "accelerator": "nvidiaTeslaT4",
   "dataSources": [
    {
     "sourceId": 188873122,
     "sourceType": "kernelVersion"
    },
    {
     "isSourceIdPinned": true,
     "modelId": 39106,
     "modelInstanceId": 28083,
     "sourceId": 33551,
     "sourceType": "modelInstanceVersion"
    }
   ],
   "dockerImageVersionId": 30747,
   "isGpuEnabled": true,
   "isInternetEnabled": true,
   "language": "python",
   "sourceType": "notebook"
  },
  "kernelspec": {
   "display_name": "Python 3",
   "language": "python",
   "name": "python3"
  },
  "language_info": {
   "codemirror_mode": {
    "name": "ipython",
    "version": 3
   },
   "file_extension": ".py",
   "mimetype": "text/x-python",
   "name": "python",
   "nbconvert_exporter": "python",
   "pygments_lexer": "ipython3",
   "version": "3.10.13"
  },
  "papermill": {
   "default_parameters": {},
   "duration": 558.446161,
   "end_time": "2024-07-20T09:31:18.344773",
   "environment_variables": {},
   "exception": null,
   "input_path": "__notebook__.ipynb",
   "output_path": "__notebook__.ipynb",
   "parameters": {},
   "start_time": "2024-07-20T09:21:59.898612",
   "version": "2.5.0"
  },
  "widgets": {
   "application/vnd.jupyter.widget-state+json": {
    "state": {
     "045b39c05880427c8e52de02448d8fcd": {
      "model_module": "@jupyter-widgets/controls",
      "model_module_version": "1.5.0",
      "model_name": "HTMLModel",
      "state": {
       "_dom_classes": [],
       "_model_module": "@jupyter-widgets/controls",
       "_model_module_version": "1.5.0",
       "_model_name": "HTMLModel",
       "_view_count": null,
       "_view_module": "@jupyter-widgets/controls",
       "_view_module_version": "1.5.0",
       "_view_name": "HTMLView",
       "description": "",
       "description_tooltip": null,
       "layout": "IPY_MODEL_5bc9f4bfe8ea4b22a34776f57b348b12",
       "placeholder": "​",
       "style": "IPY_MODEL_233d87a3bb6f44f88269ff3821c21600",
       "value": " 1.17G/1.17G [00:29&lt;00:00, 53.1MB/s]"
      }
     },
     "079bc63459ff4bcea691cfac27153dd7": {
      "model_module": "@jupyter-widgets/controls",
      "model_module_version": "1.5.0",
      "model_name": "HTMLModel",
      "state": {
       "_dom_classes": [],
       "_model_module": "@jupyter-widgets/controls",
       "_model_module_version": "1.5.0",
       "_model_name": "HTMLModel",
       "_view_count": null,
       "_view_module": "@jupyter-widgets/controls",
       "_view_module_version": "1.5.0",
       "_view_name": "HTMLView",
       "description": "",
       "description_tooltip": null,
       "layout": "IPY_MODEL_c8fcaa66ca5b410993cba9c554958c3a",
       "placeholder": "​",
       "style": "IPY_MODEL_0fdd6d0d68ae4fe1b5623620fcd005bb",
       "value": " 2/2 [01:51&lt;00:00, 111.99s/it]"
      }
     },
     "0fdd6d0d68ae4fe1b5623620fcd005bb": {
      "model_module": "@jupyter-widgets/controls",
      "model_module_version": "1.5.0",
      "model_name": "DescriptionStyleModel",
      "state": {
       "_model_module": "@jupyter-widgets/controls",
       "_model_module_version": "1.5.0",
       "_model_name": "DescriptionStyleModel",
       "_view_count": null,
       "_view_module": "@jupyter-widgets/base",
       "_view_module_version": "1.2.0",
       "_view_name": "StyleView",
       "description_width": ""
      }
     },
     "111f9effb1634b2985d1fa5e6e7da957": {
      "model_module": "@jupyter-widgets/base",
      "model_module_version": "1.2.0",
      "model_name": "LayoutModel",
      "state": {
       "_model_module": "@jupyter-widgets/base",
       "_model_module_version": "1.2.0",
       "_model_name": "LayoutModel",
       "_view_count": null,
       "_view_module": "@jupyter-widgets/base",
       "_view_module_version": "1.2.0",
       "_view_name": "LayoutView",
       "align_content": null,
       "align_items": null,
       "align_self": null,
       "border": null,
       "bottom": null,
       "display": null,
       "flex": null,
       "flex_flow": null,
       "grid_area": null,
       "grid_auto_columns": null,
       "grid_auto_flow": null,
       "grid_auto_rows": null,
       "grid_column": null,
       "grid_gap": null,
       "grid_row": null,
       "grid_template_areas": null,
       "grid_template_columns": null,
       "grid_template_rows": null,
       "height": null,
       "justify_content": null,
       "justify_items": null,
       "left": null,
       "margin": null,
       "max_height": null,
       "max_width": null,
       "min_height": null,
       "min_width": null,
       "object_fit": null,
       "object_position": null,
       "order": null,
       "overflow": null,
       "overflow_x": null,
       "overflow_y": null,
       "padding": null,
       "right": null,
       "top": null,
       "visibility": null,
       "width": null
      }
     },
     "183b28dbc59a4b9b987de9336f29cede": {
      "model_module": "@jupyter-widgets/base",
      "model_module_version": "1.2.0",
      "model_name": "LayoutModel",
      "state": {
       "_model_module": "@jupyter-widgets/base",
       "_model_module_version": "1.2.0",
       "_model_name": "LayoutModel",
       "_view_count": null,
       "_view_module": "@jupyter-widgets/base",
       "_view_module_version": "1.2.0",
       "_view_name": "LayoutView",
       "align_content": null,
       "align_items": null,
       "align_self": null,
       "border": null,
       "bottom": null,
       "display": null,
       "flex": null,
       "flex_flow": null,
       "grid_area": null,
       "grid_auto_columns": null,
       "grid_auto_flow": null,
       "grid_auto_rows": null,
       "grid_column": null,
       "grid_gap": null,
       "grid_row": null,
       "grid_template_areas": null,
       "grid_template_columns": null,
       "grid_template_rows": null,
       "height": null,
       "justify_content": null,
       "justify_items": null,
       "left": null,
       "margin": null,
       "max_height": null,
       "max_width": null,
       "min_height": null,
       "min_width": null,
       "object_fit": null,
       "object_position": null,
       "order": null,
       "overflow": null,
       "overflow_x": null,
       "overflow_y": null,
       "padding": null,
       "right": null,
       "top": null,
       "visibility": null,
       "width": null
      }
     },
     "233d87a3bb6f44f88269ff3821c21600": {
      "model_module": "@jupyter-widgets/controls",
      "model_module_version": "1.5.0",
      "model_name": "DescriptionStyleModel",
      "state": {
       "_model_module": "@jupyter-widgets/controls",
       "_model_module_version": "1.5.0",
       "_model_name": "DescriptionStyleModel",
       "_view_count": null,
       "_view_module": "@jupyter-widgets/base",
       "_view_module_version": "1.2.0",
       "_view_name": "StyleView",
       "description_width": ""
      }
     },
     "3e0cab1ad77440ef8e13f4c7e83a5086": {
      "model_module": "@jupyter-widgets/controls",
      "model_module_version": "1.5.0",
      "model_name": "HBoxModel",
      "state": {
       "_dom_classes": [],
       "_model_module": "@jupyter-widgets/controls",
       "_model_module_version": "1.5.0",
       "_model_name": "HBoxModel",
       "_view_count": null,
       "_view_module": "@jupyter-widgets/controls",
       "_view_module_version": "1.5.0",
       "_view_name": "HBoxView",
       "box_style": "",
       "children": [
        "IPY_MODEL_5edf57ad15e344a081aa787c1f13503e",
        "IPY_MODEL_59c3dcbf857545be8d0b5618e0febafd",
        "IPY_MODEL_079bc63459ff4bcea691cfac27153dd7"
       ],
       "layout": "IPY_MODEL_d646cebe6e6e4749bc6fe6b1c295a176"
      }
     },
     "417d576b44b642f088469dfad76b8e14": {
      "model_module": "@jupyter-widgets/controls",
      "model_module_version": "1.5.0",
      "model_name": "HTMLModel",
      "state": {
       "_dom_classes": [],
       "_model_module": "@jupyter-widgets/controls",
       "_model_module_version": "1.5.0",
       "_model_name": "HTMLModel",
       "_view_count": null,
       "_view_module": "@jupyter-widgets/controls",
       "_view_module_version": "1.5.0",
       "_view_name": "HTMLView",
       "description": "",
       "description_tooltip": null,
       "layout": "IPY_MODEL_52ea0e5841d04bd4a6108682dd2e9eda",
       "placeholder": "​",
       "style": "IPY_MODEL_e9d1a7b68125475183fd880ce443499a",
       "value": "Loading checkpoint shards: 100%"
      }
     },
     "4a5d96eabcc147c68daea39f408c1eb8": {
      "model_module": "@jupyter-widgets/base",
      "model_module_version": "1.2.0",
      "model_name": "LayoutModel",
      "state": {
       "_model_module": "@jupyter-widgets/base",
       "_model_module_version": "1.2.0",
       "_model_name": "LayoutModel",
       "_view_count": null,
       "_view_module": "@jupyter-widgets/base",
       "_view_module_version": "1.2.0",
       "_view_name": "LayoutView",
       "align_content": null,
       "align_items": null,
       "align_self": null,
       "border": null,
       "bottom": null,
       "display": null,
       "flex": null,
       "flex_flow": null,
       "grid_area": null,
       "grid_auto_columns": null,
       "grid_auto_flow": null,
       "grid_auto_rows": null,
       "grid_column": null,
       "grid_gap": null,
       "grid_row": null,
       "grid_template_areas": null,
       "grid_template_columns": null,
       "grid_template_rows": null,
       "height": null,
       "justify_content": null,
       "justify_items": null,
       "left": null,
       "margin": null,
       "max_height": null,
       "max_width": null,
       "min_height": null,
       "min_width": null,
       "object_fit": null,
       "object_position": null,
       "order": null,
       "overflow": null,
       "overflow_x": null,
       "overflow_y": null,
       "padding": null,
       "right": null,
       "top": null,
       "visibility": null,
       "width": null
      }
     },
     "4b48ac4473a44a15bc4fe165e4008102": {
      "model_module": "@jupyter-widgets/base",
      "model_module_version": "1.2.0",
      "model_name": "LayoutModel",
      "state": {
       "_model_module": "@jupyter-widgets/base",
       "_model_module_version": "1.2.0",
       "_model_name": "LayoutModel",
       "_view_count": null,
       "_view_module": "@jupyter-widgets/base",
       "_view_module_version": "1.2.0",
       "_view_name": "LayoutView",
       "align_content": null,
       "align_items": null,
       "align_self": null,
       "border": null,
       "bottom": null,
       "display": null,
       "flex": null,
       "flex_flow": null,
       "grid_area": null,
       "grid_auto_columns": null,
       "grid_auto_flow": null,
       "grid_auto_rows": null,
       "grid_column": null,
       "grid_gap": null,
       "grid_row": null,
       "grid_template_areas": null,
       "grid_template_columns": null,
       "grid_template_rows": null,
       "height": null,
       "justify_content": null,
       "justify_items": null,
       "left": null,
       "margin": null,
       "max_height": null,
       "max_width": null,
       "min_height": null,
       "min_width": null,
       "object_fit": null,
       "object_position": null,
       "order": null,
       "overflow": null,
       "overflow_x": null,
       "overflow_y": null,
       "padding": null,
       "right": null,
       "top": null,
       "visibility": null,
       "width": null
      }
     },
     "4cabe6bba5d94b479e203c2ec53298f1": {
      "model_module": "@jupyter-widgets/controls",
      "model_module_version": "1.5.0",
      "model_name": "FloatProgressModel",
      "state": {
       "_dom_classes": [],
       "_model_module": "@jupyter-widgets/controls",
       "_model_module_version": "1.5.0",
       "_model_name": "FloatProgressModel",
       "_view_count": null,
       "_view_module": "@jupyter-widgets/controls",
       "_view_module_version": "1.5.0",
       "_view_name": "ProgressView",
       "bar_style": "success",
       "description": "",
       "description_tooltip": null,
       "layout": "IPY_MODEL_755f37775e944b649cf8ade884468c42",
       "max": 5174.0,
       "min": 0.0,
       "orientation": "horizontal",
       "style": "IPY_MODEL_dbf325ce4d394a8197049c45816ce0ff",
       "value": 5174.0
      }
     },
     "52ea0e5841d04bd4a6108682dd2e9eda": {
      "model_module": "@jupyter-widgets/base",
      "model_module_version": "1.2.0",
      "model_name": "LayoutModel",
      "state": {
       "_model_module": "@jupyter-widgets/base",
       "_model_module_version": "1.2.0",
       "_model_name": "LayoutModel",
       "_view_count": null,
       "_view_module": "@jupyter-widgets/base",
       "_view_module_version": "1.2.0",
       "_view_name": "LayoutView",
       "align_content": null,
       "align_items": null,
       "align_self": null,
       "border": null,
       "bottom": null,
       "display": null,
       "flex": null,
       "flex_flow": null,
       "grid_area": null,
       "grid_auto_columns": null,
       "grid_auto_flow": null,
       "grid_auto_rows": null,
       "grid_column": null,
       "grid_gap": null,
       "grid_row": null,
       "grid_template_areas": null,
       "grid_template_columns": null,
       "grid_template_rows": null,
       "height": null,
       "justify_content": null,
       "justify_items": null,
       "left": null,
       "margin": null,
       "max_height": null,
       "max_width": null,
       "min_height": null,
       "min_width": null,
       "object_fit": null,
       "object_position": null,
       "order": null,
       "overflow": null,
       "overflow_x": null,
       "overflow_y": null,
       "padding": null,
       "right": null,
       "top": null,
       "visibility": null,
       "width": null
      }
     },
     "56ff8714a0d448c7ae9f69afab5c589c": {
      "model_module": "@jupyter-widgets/controls",
      "model_module_version": "1.5.0",
      "model_name": "DescriptionStyleModel",
      "state": {
       "_model_module": "@jupyter-widgets/controls",
       "_model_module_version": "1.5.0",
       "_model_name": "DescriptionStyleModel",
       "_view_count": null,
       "_view_module": "@jupyter-widgets/base",
       "_view_module_version": "1.2.0",
       "_view_name": "StyleView",
       "description_width": ""
      }
     },
     "59c3dcbf857545be8d0b5618e0febafd": {
      "model_module": "@jupyter-widgets/controls",
      "model_module_version": "1.5.0",
      "model_name": "FloatProgressModel",
      "state": {
       "_dom_classes": [],
       "_model_module": "@jupyter-widgets/controls",
       "_model_module_version": "1.5.0",
       "_model_name": "FloatProgressModel",
       "_view_count": null,
       "_view_module": "@jupyter-widgets/controls",
       "_view_module_version": "1.5.0",
       "_view_name": "ProgressView",
       "bar_style": "success",
       "description": "",
       "description_tooltip": null,
       "layout": "IPY_MODEL_71ac9840be0149f6b6506eaf2f70f406",
       "max": 2.0,
       "min": 0.0,
       "orientation": "horizontal",
       "style": "IPY_MODEL_dbb236b8b9f04c92aeeef54a74d207dc",
       "value": 2.0
      }
     },
     "5bc9f4bfe8ea4b22a34776f57b348b12": {
      "model_module": "@jupyter-widgets/base",
      "model_module_version": "1.2.0",
      "model_name": "LayoutModel",
      "state": {
       "_model_module": "@jupyter-widgets/base",
       "_model_module_version": "1.2.0",
       "_model_name": "LayoutModel",
       "_view_count": null,
       "_view_module": "@jupyter-widgets/base",
       "_view_module_version": "1.2.0",
       "_view_name": "LayoutView",
       "align_content": null,
       "align_items": null,
       "align_self": null,
       "border": null,
       "bottom": null,
       "display": null,
       "flex": null,
       "flex_flow": null,
       "grid_area": null,
       "grid_auto_columns": null,
       "grid_auto_flow": null,
       "grid_auto_rows": null,
       "grid_column": null,
       "grid_gap": null,
       "grid_row": null,
       "grid_template_areas": null,
       "grid_template_columns": null,
       "grid_template_rows": null,
       "height": null,
       "justify_content": null,
       "justify_items": null,
       "left": null,
       "margin": null,
       "max_height": null,
       "max_width": null,
       "min_height": null,
       "min_width": null,
       "object_fit": null,
       "object_position": null,
       "order": null,
       "overflow": null,
       "overflow_x": null,
       "overflow_y": null,
       "padding": null,
       "right": null,
       "top": null,
       "visibility": null,
       "width": null
      }
     },
     "5dd00030c4e54444898b6e3facb13f29": {
      "model_module": "@jupyter-widgets/controls",
      "model_module_version": "1.5.0",
      "model_name": "DescriptionStyleModel",
      "state": {
       "_model_module": "@jupyter-widgets/controls",
       "_model_module_version": "1.5.0",
       "_model_name": "DescriptionStyleModel",
       "_view_count": null,
       "_view_module": "@jupyter-widgets/base",
       "_view_module_version": "1.2.0",
       "_view_name": "StyleView",
       "description_width": ""
      }
     },
     "5edf57ad15e344a081aa787c1f13503e": {
      "model_module": "@jupyter-widgets/controls",
      "model_module_version": "1.5.0",
      "model_name": "HTMLModel",
      "state": {
       "_dom_classes": [],
       "_model_module": "@jupyter-widgets/controls",
       "_model_module_version": "1.5.0",
       "_model_name": "HTMLModel",
       "_view_count": null,
       "_view_module": "@jupyter-widgets/controls",
       "_view_module_version": "1.5.0",
       "_view_name": "HTMLView",
       "description": "",
       "description_tooltip": null,
       "layout": "IPY_MODEL_111f9effb1634b2985d1fa5e6e7da957",
       "placeholder": "​",
       "style": "IPY_MODEL_98d7924a613543fc952a0a0d0374fd41",
       "value": "Upload 2 LFS files: 100%"
      }
     },
     "61d9f09b1b4949aa8c64718a459faefe": {
      "model_module": "@jupyter-widgets/controls",
      "model_module_version": "1.5.0",
      "model_name": "DescriptionStyleModel",
      "state": {
       "_model_module": "@jupyter-widgets/controls",
       "_model_module_version": "1.5.0",
       "_model_name": "DescriptionStyleModel",
       "_view_count": null,
       "_view_module": "@jupyter-widgets/base",
       "_view_module_version": "1.2.0",
       "_view_name": "StyleView",
       "description_width": ""
      }
     },
     "6418f7f6e1704350be523a64c3c7a737": {
      "model_module": "@jupyter-widgets/controls",
      "model_module_version": "1.5.0",
      "model_name": "HTMLModel",
      "state": {
       "_dom_classes": [],
       "_model_module": "@jupyter-widgets/controls",
       "_model_module_version": "1.5.0",
       "_model_name": "HTMLModel",
       "_view_count": null,
       "_view_module": "@jupyter-widgets/controls",
       "_view_module_version": "1.5.0",
       "_view_name": "HTMLView",
       "description": "",
       "description_tooltip": null,
       "layout": "IPY_MODEL_183b28dbc59a4b9b987de9336f29cede",
       "placeholder": "​",
       "style": "IPY_MODEL_bcea72d6a36148668303430ffc1ca731",
       "value": "model-00001-of-00004.safetensors: 100%"
      }
     },
     "71ac9840be0149f6b6506eaf2f70f406": {
      "model_module": "@jupyter-widgets/base",
      "model_module_version": "1.2.0",
      "model_name": "LayoutModel",
      "state": {
       "_model_module": "@jupyter-widgets/base",
       "_model_module_version": "1.2.0",
       "_model_name": "LayoutModel",
       "_view_count": null,
       "_view_module": "@jupyter-widgets/base",
       "_view_module_version": "1.2.0",
       "_view_name": "LayoutView",
       "align_content": null,
       "align_items": null,
       "align_self": null,
       "border": null,
       "bottom": null,
       "display": null,
       "flex": null,
       "flex_flow": null,
       "grid_area": null,
       "grid_auto_columns": null,
       "grid_auto_flow": null,
       "grid_auto_rows": null,
       "grid_column": null,
       "grid_gap": null,
       "grid_row": null,
       "grid_template_areas": null,
       "grid_template_columns": null,
       "grid_template_rows": null,
       "height": null,
       "justify_content": null,
       "justify_items": null,
       "left": null,
       "margin": null,
       "max_height": null,
       "max_width": null,
       "min_height": null,
       "min_width": null,
       "object_fit": null,
       "object_position": null,
       "order": null,
       "overflow": null,
       "overflow_x": null,
       "overflow_y": null,
       "padding": null,
       "right": null,
       "top": null,
       "visibility": null,
       "width": null
      }
     },
     "7256c65c84e74657a1f60db3b84d63f5": {
      "model_module": "@jupyter-widgets/controls",
      "model_module_version": "1.5.0",
      "model_name": "FloatProgressModel",
      "state": {
       "_dom_classes": [],
       "_model_module": "@jupyter-widgets/controls",
       "_model_module_version": "1.5.0",
       "_model_name": "FloatProgressModel",
       "_view_count": null,
       "_view_module": "@jupyter-widgets/controls",
       "_view_module_version": "1.5.0",
       "_view_name": "ProgressView",
       "bar_style": "success",
       "description": "",
       "description_tooltip": null,
       "layout": "IPY_MODEL_fe6a803555cb48cab064f9d0b488e085",
       "max": 4.0,
       "min": 0.0,
       "orientation": "horizontal",
       "style": "IPY_MODEL_f9260f4a02f04556b95ec035e656abc8",
       "value": 4.0
      }
     },
     "7531b0891a9d41bcae0faf0f959e3002": {
      "model_module": "@jupyter-widgets/controls",
      "model_module_version": "1.5.0",
      "model_name": "HTMLModel",
      "state": {
       "_dom_classes": [],
       "_model_module": "@jupyter-widgets/controls",
       "_model_module_version": "1.5.0",
       "_model_name": "HTMLModel",
       "_view_count": null,
       "_view_module": "@jupyter-widgets/controls",
       "_view_module_version": "1.5.0",
       "_view_name": "HTMLView",
       "description": "",
       "description_tooltip": null,
       "layout": "IPY_MODEL_fb1ed8ff45d3463aac73e3c7da3fd3db",
       "placeholder": "​",
       "style": "IPY_MODEL_8ffa77a1b02c4904a2e6311beae31d11",
       "value": " 4.98G/4.98G [01:51&lt;00:00, 47.4MB/s]"
      }
     },
     "755f37775e944b649cf8ade884468c42": {
      "model_module": "@jupyter-widgets/base",
      "model_module_version": "1.2.0",
      "model_name": "LayoutModel",
      "state": {
       "_model_module": "@jupyter-widgets/base",
       "_model_module_version": "1.2.0",
       "_model_name": "LayoutModel",
       "_view_count": null,
       "_view_module": "@jupyter-widgets/base",
       "_view_module_version": "1.2.0",
       "_view_name": "LayoutView",
       "align_content": null,
       "align_items": null,
       "align_self": null,
       "border": null,
       "bottom": null,
       "display": null,
       "flex": null,
       "flex_flow": null,
       "grid_area": null,
       "grid_auto_columns": null,
       "grid_auto_flow": null,
       "grid_auto_rows": null,
       "grid_column": null,
       "grid_gap": null,
       "grid_row": null,
       "grid_template_areas": null,
       "grid_template_columns": null,
       "grid_template_rows": null,
       "height": null,
       "justify_content": null,
       "justify_items": null,
       "left": null,
       "margin": null,
       "max_height": null,
       "max_width": null,
       "min_height": null,
       "min_width": null,
       "object_fit": null,
       "object_position": null,
       "order": null,
       "overflow": null,
       "overflow_x": null,
       "overflow_y": null,
       "padding": null,
       "right": null,
       "top": null,
       "visibility": null,
       "width": null
      }
     },
     "8ffa77a1b02c4904a2e6311beae31d11": {
      "model_module": "@jupyter-widgets/controls",
      "model_module_version": "1.5.0",
      "model_name": "DescriptionStyleModel",
      "state": {
       "_model_module": "@jupyter-widgets/controls",
       "_model_module_version": "1.5.0",
       "_model_name": "DescriptionStyleModel",
       "_view_count": null,
       "_view_module": "@jupyter-widgets/base",
       "_view_module_version": "1.2.0",
       "_view_name": "StyleView",
       "description_width": ""
      }
     },
     "931f433fb314471a91afde64f9363478": {
      "model_module": "@jupyter-widgets/base",
      "model_module_version": "1.2.0",
      "model_name": "LayoutModel",
      "state": {
       "_model_module": "@jupyter-widgets/base",
       "_model_module_version": "1.2.0",
       "_model_name": "LayoutModel",
       "_view_count": null,
       "_view_module": "@jupyter-widgets/base",
       "_view_module_version": "1.2.0",
       "_view_name": "LayoutView",
       "align_content": null,
       "align_items": null,
       "align_self": null,
       "border": null,
       "bottom": null,
       "display": null,
       "flex": null,
       "flex_flow": null,
       "grid_area": null,
       "grid_auto_columns": null,
       "grid_auto_flow": null,
       "grid_auto_rows": null,
       "grid_column": null,
       "grid_gap": null,
       "grid_row": null,
       "grid_template_areas": null,
       "grid_template_columns": null,
       "grid_template_rows": null,
       "height": null,
       "justify_content": null,
       "justify_items": null,
       "left": null,
       "margin": null,
       "max_height": null,
       "max_width": null,
       "min_height": null,
       "min_width": null,
       "object_fit": null,
       "object_position": null,
       "order": null,
       "overflow": null,
       "overflow_x": null,
       "overflow_y": null,
       "padding": null,
       "right": null,
       "top": null,
       "visibility": null,
       "width": null
      }
     },
     "98d7924a613543fc952a0a0d0374fd41": {
      "model_module": "@jupyter-widgets/controls",
      "model_module_version": "1.5.0",
      "model_name": "DescriptionStyleModel",
      "state": {
       "_model_module": "@jupyter-widgets/controls",
       "_model_module_version": "1.5.0",
       "_model_name": "DescriptionStyleModel",
       "_view_count": null,
       "_view_module": "@jupyter-widgets/base",
       "_view_module_version": "1.2.0",
       "_view_name": "StyleView",
       "description_width": ""
      }
     },
     "9c36c214a6574bc4a8dbec617a2c35ae": {
      "model_module": "@jupyter-widgets/base",
      "model_module_version": "1.2.0",
      "model_name": "LayoutModel",
      "state": {
       "_model_module": "@jupyter-widgets/base",
       "_model_module_version": "1.2.0",
       "_model_name": "LayoutModel",
       "_view_count": null,
       "_view_module": "@jupyter-widgets/base",
       "_view_module_version": "1.2.0",
       "_view_name": "LayoutView",
       "align_content": null,
       "align_items": null,
       "align_self": null,
       "border": null,
       "bottom": null,
       "display": null,
       "flex": null,
       "flex_flow": null,
       "grid_area": null,
       "grid_auto_columns": null,
       "grid_auto_flow": null,
       "grid_auto_rows": null,
       "grid_column": null,
       "grid_gap": null,
       "grid_row": null,
       "grid_template_areas": null,
       "grid_template_columns": null,
       "grid_template_rows": null,
       "height": null,
       "justify_content": null,
       "justify_items": null,
       "left": null,
       "margin": null,
       "max_height": null,
       "max_width": null,
       "min_height": null,
       "min_width": null,
       "object_fit": null,
       "object_position": null,
       "order": null,
       "overflow": null,
       "overflow_x": null,
       "overflow_y": null,
       "padding": null,
       "right": null,
       "top": null,
       "visibility": null,
       "width": null
      }
     },
     "9d46d2b8768b48988548d62eaf0732c0": {
      "model_module": "@jupyter-widgets/controls",
      "model_module_version": "1.5.0",
      "model_name": "ProgressStyleModel",
      "state": {
       "_model_module": "@jupyter-widgets/controls",
       "_model_module_version": "1.5.0",
       "_model_name": "ProgressStyleModel",
       "_view_count": null,
       "_view_module": "@jupyter-widgets/base",
       "_view_module_version": "1.2.0",
       "_view_name": "StyleView",
       "bar_color": null,
       "description_width": ""
      }
     },
     "aa57b95095264172993a66bfdf52cc4b": {
      "model_module": "@jupyter-widgets/base",
      "model_module_version": "1.2.0",
      "model_name": "LayoutModel",
      "state": {
       "_model_module": "@jupyter-widgets/base",
       "_model_module_version": "1.2.0",
       "_model_name": "LayoutModel",
       "_view_count": null,
       "_view_module": "@jupyter-widgets/base",
       "_view_module_version": "1.2.0",
       "_view_name": "LayoutView",
       "align_content": null,
       "align_items": null,
       "align_self": null,
       "border": null,
       "bottom": null,
       "display": null,
       "flex": null,
       "flex_flow": null,
       "grid_area": null,
       "grid_auto_columns": null,
       "grid_auto_flow": null,
       "grid_auto_rows": null,
       "grid_column": null,
       "grid_gap": null,
       "grid_row": null,
       "grid_template_areas": null,
       "grid_template_columns": null,
       "grid_template_rows": null,
       "height": null,
       "justify_content": null,
       "justify_items": null,
       "left": null,
       "margin": null,
       "max_height": null,
       "max_width": null,
       "min_height": null,
       "min_width": null,
       "object_fit": null,
       "object_position": null,
       "order": null,
       "overflow": null,
       "overflow_x": null,
       "overflow_y": null,
       "padding": null,
       "right": null,
       "top": null,
       "visibility": null,
       "width": null
      }
     },
     "af6246ee4fb44523aaf11ace4a47cfed": {
      "model_module": "@jupyter-widgets/controls",
      "model_module_version": "1.5.0",
      "model_name": "HBoxModel",
      "state": {
       "_dom_classes": [],
       "_model_module": "@jupyter-widgets/controls",
       "_model_module_version": "1.5.0",
       "_model_name": "HBoxModel",
       "_view_count": null,
       "_view_module": "@jupyter-widgets/controls",
       "_view_module_version": "1.5.0",
       "_view_name": "HBoxView",
       "box_style": "",
       "children": [
        "IPY_MODEL_c4f7b9787729414b9a8aa4a90e55b168",
        "IPY_MODEL_4cabe6bba5d94b479e203c2ec53298f1",
        "IPY_MODEL_b96b126a6f6e4f888aee8a2affac9a55"
       ],
       "layout": "IPY_MODEL_c940756cf52846d9b41cf9262d7ed32f"
      }
     },
     "b96b126a6f6e4f888aee8a2affac9a55": {
      "model_module": "@jupyter-widgets/controls",
      "model_module_version": "1.5.0",
      "model_name": "HTMLModel",
      "state": {
       "_dom_classes": [],
       "_model_module": "@jupyter-widgets/controls",
       "_model_module_version": "1.5.0",
       "_model_name": "HTMLModel",
       "_view_count": null,
       "_view_module": "@jupyter-widgets/controls",
       "_view_module_version": "1.5.0",
       "_view_name": "HTMLView",
       "description": "",
       "description_tooltip": null,
       "layout": "IPY_MODEL_931f433fb314471a91afde64f9363478",
       "placeholder": "​",
       "style": "IPY_MODEL_dd46b54e8955440bb9af291d1835bcc9",
       "value": " 5.17k/5.17k [00:00&lt;00:00, 464kB/s]"
      }
     },
     "bcea72d6a36148668303430ffc1ca731": {
      "model_module": "@jupyter-widgets/controls",
      "model_module_version": "1.5.0",
      "model_name": "DescriptionStyleModel",
      "state": {
       "_model_module": "@jupyter-widgets/controls",
       "_model_module_version": "1.5.0",
       "_model_name": "DescriptionStyleModel",
       "_view_count": null,
       "_view_module": "@jupyter-widgets/base",
       "_view_module_version": "1.2.0",
       "_view_name": "StyleView",
       "description_width": ""
      }
     },
     "c2b39fae16aa4f85ad4b596b0439d203": {
      "model_module": "@jupyter-widgets/base",
      "model_module_version": "1.2.0",
      "model_name": "LayoutModel",
      "state": {
       "_model_module": "@jupyter-widgets/base",
       "_model_module_version": "1.2.0",
       "_model_name": "LayoutModel",
       "_view_count": null,
       "_view_module": "@jupyter-widgets/base",
       "_view_module_version": "1.2.0",
       "_view_name": "LayoutView",
       "align_content": null,
       "align_items": null,
       "align_self": null,
       "border": null,
       "bottom": null,
       "display": null,
       "flex": null,
       "flex_flow": null,
       "grid_area": null,
       "grid_auto_columns": null,
       "grid_auto_flow": null,
       "grid_auto_rows": null,
       "grid_column": null,
       "grid_gap": null,
       "grid_row": null,
       "grid_template_areas": null,
       "grid_template_columns": null,
       "grid_template_rows": null,
       "height": null,
       "justify_content": null,
       "justify_items": null,
       "left": null,
       "margin": null,
       "max_height": null,
       "max_width": null,
       "min_height": null,
       "min_width": null,
       "object_fit": null,
       "object_position": null,
       "order": null,
       "overflow": null,
       "overflow_x": null,
       "overflow_y": null,
       "padding": null,
       "right": null,
       "top": null,
       "visibility": null,
       "width": null
      }
     },
     "c4f7b9787729414b9a8aa4a90e55b168": {
      "model_module": "@jupyter-widgets/controls",
      "model_module_version": "1.5.0",
      "model_name": "HTMLModel",
      "state": {
       "_dom_classes": [],
       "_model_module": "@jupyter-widgets/controls",
       "_model_module_version": "1.5.0",
       "_model_name": "HTMLModel",
       "_view_count": null,
       "_view_module": "@jupyter-widgets/controls",
       "_view_module_version": "1.5.0",
       "_view_name": "HTMLView",
       "description": "",
       "description_tooltip": null,
       "layout": "IPY_MODEL_aa57b95095264172993a66bfdf52cc4b",
       "placeholder": "​",
       "style": "IPY_MODEL_5dd00030c4e54444898b6e3facb13f29",
       "value": "README.md: 100%"
      }
     },
     "c6f1d39f12b14311a169a3bafb252dd0": {
      "model_module": "@jupyter-widgets/controls",
      "model_module_version": "1.5.0",
      "model_name": "HTMLModel",
      "state": {
       "_dom_classes": [],
       "_model_module": "@jupyter-widgets/controls",
       "_model_module_version": "1.5.0",
       "_model_name": "HTMLModel",
       "_view_count": null,
       "_view_module": "@jupyter-widgets/controls",
       "_view_module_version": "1.5.0",
       "_view_name": "HTMLView",
       "description": "",
       "description_tooltip": null,
       "layout": "IPY_MODEL_9c36c214a6574bc4a8dbec617a2c35ae",
       "placeholder": "​",
       "style": "IPY_MODEL_61d9f09b1b4949aa8c64718a459faefe",
       "value": "model-00004-of-00004.safetensors: 100%"
      }
     },
     "c8fcaa66ca5b410993cba9c554958c3a": {
      "model_module": "@jupyter-widgets/base",
      "model_module_version": "1.2.0",
      "model_name": "LayoutModel",
      "state": {
       "_model_module": "@jupyter-widgets/base",
       "_model_module_version": "1.2.0",
       "_model_name": "LayoutModel",
       "_view_count": null,
       "_view_module": "@jupyter-widgets/base",
       "_view_module_version": "1.2.0",
       "_view_name": "LayoutView",
       "align_content": null,
       "align_items": null,
       "align_self": null,
       "border": null,
       "bottom": null,
       "display": null,
       "flex": null,
       "flex_flow": null,
       "grid_area": null,
       "grid_auto_columns": null,
       "grid_auto_flow": null,
       "grid_auto_rows": null,
       "grid_column": null,
       "grid_gap": null,
       "grid_row": null,
       "grid_template_areas": null,
       "grid_template_columns": null,
       "grid_template_rows": null,
       "height": null,
       "justify_content": null,
       "justify_items": null,
       "left": null,
       "margin": null,
       "max_height": null,
       "max_width": null,
       "min_height": null,
       "min_width": null,
       "object_fit": null,
       "object_position": null,
       "order": null,
       "overflow": null,
       "overflow_x": null,
       "overflow_y": null,
       "padding": null,
       "right": null,
       "top": null,
       "visibility": null,
       "width": null
      }
     },
     "c940756cf52846d9b41cf9262d7ed32f": {
      "model_module": "@jupyter-widgets/base",
      "model_module_version": "1.2.0",
      "model_name": "LayoutModel",
      "state": {
       "_model_module": "@jupyter-widgets/base",
       "_model_module_version": "1.2.0",
       "_model_name": "LayoutModel",
       "_view_count": null,
       "_view_module": "@jupyter-widgets/base",
       "_view_module_version": "1.2.0",
       "_view_name": "LayoutView",
       "align_content": null,
       "align_items": null,
       "align_self": null,
       "border": null,
       "bottom": null,
       "display": null,
       "flex": null,
       "flex_flow": null,
       "grid_area": null,
       "grid_auto_columns": null,
       "grid_auto_flow": null,
       "grid_auto_rows": null,
       "grid_column": null,
       "grid_gap": null,
       "grid_row": null,
       "grid_template_areas": null,
       "grid_template_columns": null,
       "grid_template_rows": null,
       "height": null,
       "justify_content": null,
       "justify_items": null,
       "left": null,
       "margin": null,
       "max_height": null,
       "max_width": null,
       "min_height": null,
       "min_width": null,
       "object_fit": null,
       "object_position": null,
       "order": null,
       "overflow": null,
       "overflow_x": null,
       "overflow_y": null,
       "padding": null,
       "right": null,
       "top": null,
       "visibility": null,
       "width": null
      }
     },
     "cb0fe2e75cd346229d0c0cf89bebeb1e": {
      "model_module": "@jupyter-widgets/base",
      "model_module_version": "1.2.0",
      "model_name": "LayoutModel",
      "state": {
       "_model_module": "@jupyter-widgets/base",
       "_model_module_version": "1.2.0",
       "_model_name": "LayoutModel",
       "_view_count": null,
       "_view_module": "@jupyter-widgets/base",
       "_view_module_version": "1.2.0",
       "_view_name": "LayoutView",
       "align_content": null,
       "align_items": null,
       "align_self": null,
       "border": null,
       "bottom": null,
       "display": null,
       "flex": null,
       "flex_flow": null,
       "grid_area": null,
       "grid_auto_columns": null,
       "grid_auto_flow": null,
       "grid_auto_rows": null,
       "grid_column": null,
       "grid_gap": null,
       "grid_row": null,
       "grid_template_areas": null,
       "grid_template_columns": null,
       "grid_template_rows": null,
       "height": null,
       "justify_content": null,
       "justify_items": null,
       "left": null,
       "margin": null,
       "max_height": null,
       "max_width": null,
       "min_height": null,
       "min_width": null,
       "object_fit": null,
       "object_position": null,
       "order": null,
       "overflow": null,
       "overflow_x": null,
       "overflow_y": null,
       "padding": null,
       "right": null,
       "top": null,
       "visibility": null,
       "width": null
      }
     },
     "cc63542d5703419293ac6ba3d0dfabfd": {
      "model_module": "@jupyter-widgets/controls",
      "model_module_version": "1.5.0",
      "model_name": "HBoxModel",
      "state": {
       "_dom_classes": [],
       "_model_module": "@jupyter-widgets/controls",
       "_model_module_version": "1.5.0",
       "_model_name": "HBoxModel",
       "_view_count": null,
       "_view_module": "@jupyter-widgets/controls",
       "_view_module_version": "1.5.0",
       "_view_name": "HBoxView",
       "box_style": "",
       "children": [
        "IPY_MODEL_c6f1d39f12b14311a169a3bafb252dd0",
        "IPY_MODEL_d8fbb48e55e84deab87c69fa82a6551e",
        "IPY_MODEL_045b39c05880427c8e52de02448d8fcd"
       ],
       "layout": "IPY_MODEL_4b48ac4473a44a15bc4fe165e4008102"
      }
     },
     "d3d190105b72464aba4e439e637a0db1": {
      "model_module": "@jupyter-widgets/controls",
      "model_module_version": "1.5.0",
      "model_name": "HBoxModel",
      "state": {
       "_dom_classes": [],
       "_model_module": "@jupyter-widgets/controls",
       "_model_module_version": "1.5.0",
       "_model_name": "HBoxModel",
       "_view_count": null,
       "_view_module": "@jupyter-widgets/controls",
       "_view_module_version": "1.5.0",
       "_view_name": "HBoxView",
       "box_style": "",
       "children": [
        "IPY_MODEL_6418f7f6e1704350be523a64c3c7a737",
        "IPY_MODEL_fef4354d72d7418fb645c018e3137e45",
        "IPY_MODEL_7531b0891a9d41bcae0faf0f959e3002"
       ],
       "layout": "IPY_MODEL_ff3e2213c51646f4804316443d0a10b5"
      }
     },
     "d646cebe6e6e4749bc6fe6b1c295a176": {
      "model_module": "@jupyter-widgets/base",
      "model_module_version": "1.2.0",
      "model_name": "LayoutModel",
      "state": {
       "_model_module": "@jupyter-widgets/base",
       "_model_module_version": "1.2.0",
       "_model_name": "LayoutModel",
       "_view_count": null,
       "_view_module": "@jupyter-widgets/base",
       "_view_module_version": "1.2.0",
       "_view_name": "LayoutView",
       "align_content": null,
       "align_items": null,
       "align_self": null,
       "border": null,
       "bottom": null,
       "display": null,
       "flex": null,
       "flex_flow": null,
       "grid_area": null,
       "grid_auto_columns": null,
       "grid_auto_flow": null,
       "grid_auto_rows": null,
       "grid_column": null,
       "grid_gap": null,
       "grid_row": null,
       "grid_template_areas": null,
       "grid_template_columns": null,
       "grid_template_rows": null,
       "height": null,
       "justify_content": null,
       "justify_items": null,
       "left": null,
       "margin": null,
       "max_height": null,
       "max_width": null,
       "min_height": null,
       "min_width": null,
       "object_fit": null,
       "object_position": null,
       "order": null,
       "overflow": null,
       "overflow_x": null,
       "overflow_y": null,
       "padding": null,
       "right": null,
       "top": null,
       "visibility": null,
       "width": null
      }
     },
     "d8fbb48e55e84deab87c69fa82a6551e": {
      "model_module": "@jupyter-widgets/controls",
      "model_module_version": "1.5.0",
      "model_name": "FloatProgressModel",
      "state": {
       "_dom_classes": [],
       "_model_module": "@jupyter-widgets/controls",
       "_model_module_version": "1.5.0",
       "_model_name": "FloatProgressModel",
       "_view_count": null,
       "_view_module": "@jupyter-widgets/controls",
       "_view_module_version": "1.5.0",
       "_view_name": "ProgressView",
       "bar_style": "success",
       "description": "",
       "description_tooltip": null,
       "layout": "IPY_MODEL_cb0fe2e75cd346229d0c0cf89bebeb1e",
       "max": 1168155192.0,
       "min": 0.0,
       "orientation": "horizontal",
       "style": "IPY_MODEL_fc63110113e04f4b8def3b8c4a2ef408",
       "value": 1168155192.0
      }
     },
     "dbb236b8b9f04c92aeeef54a74d207dc": {
      "model_module": "@jupyter-widgets/controls",
      "model_module_version": "1.5.0",
      "model_name": "ProgressStyleModel",
      "state": {
       "_model_module": "@jupyter-widgets/controls",
       "_model_module_version": "1.5.0",
       "_model_name": "ProgressStyleModel",
       "_view_count": null,
       "_view_module": "@jupyter-widgets/base",
       "_view_module_version": "1.2.0",
       "_view_name": "StyleView",
       "bar_color": null,
       "description_width": ""
      }
     },
     "dbc6544f252c4db78ea5a1e6e088c3ed": {
      "model_module": "@jupyter-widgets/controls",
      "model_module_version": "1.5.0",
      "model_name": "HBoxModel",
      "state": {
       "_dom_classes": [],
       "_model_module": "@jupyter-widgets/controls",
       "_model_module_version": "1.5.0",
       "_model_name": "HBoxModel",
       "_view_count": null,
       "_view_module": "@jupyter-widgets/controls",
       "_view_module_version": "1.5.0",
       "_view_name": "HBoxView",
       "box_style": "",
       "children": [
        "IPY_MODEL_417d576b44b642f088469dfad76b8e14",
        "IPY_MODEL_7256c65c84e74657a1f60db3b84d63f5",
        "IPY_MODEL_f435f9cb93a64e98833fbc9400ea23af"
       ],
       "layout": "IPY_MODEL_c2b39fae16aa4f85ad4b596b0439d203"
      }
     },
     "dbf325ce4d394a8197049c45816ce0ff": {
      "model_module": "@jupyter-widgets/controls",
      "model_module_version": "1.5.0",
      "model_name": "ProgressStyleModel",
      "state": {
       "_model_module": "@jupyter-widgets/controls",
       "_model_module_version": "1.5.0",
       "_model_name": "ProgressStyleModel",
       "_view_count": null,
       "_view_module": "@jupyter-widgets/base",
       "_view_module_version": "1.2.0",
       "_view_name": "StyleView",
       "bar_color": null,
       "description_width": ""
      }
     },
     "dd46b54e8955440bb9af291d1835bcc9": {
      "model_module": "@jupyter-widgets/controls",
      "model_module_version": "1.5.0",
      "model_name": "DescriptionStyleModel",
      "state": {
       "_model_module": "@jupyter-widgets/controls",
       "_model_module_version": "1.5.0",
       "_model_name": "DescriptionStyleModel",
       "_view_count": null,
       "_view_module": "@jupyter-widgets/base",
       "_view_module_version": "1.2.0",
       "_view_name": "StyleView",
       "description_width": ""
      }
     },
     "e9d1a7b68125475183fd880ce443499a": {
      "model_module": "@jupyter-widgets/controls",
      "model_module_version": "1.5.0",
      "model_name": "DescriptionStyleModel",
      "state": {
       "_model_module": "@jupyter-widgets/controls",
       "_model_module_version": "1.5.0",
       "_model_name": "DescriptionStyleModel",
       "_view_count": null,
       "_view_module": "@jupyter-widgets/base",
       "_view_module_version": "1.2.0",
       "_view_name": "StyleView",
       "description_width": ""
      }
     },
     "eb0de67c778e4d918b016e1a714beaa8": {
      "model_module": "@jupyter-widgets/base",
      "model_module_version": "1.2.0",
      "model_name": "LayoutModel",
      "state": {
       "_model_module": "@jupyter-widgets/base",
       "_model_module_version": "1.2.0",
       "_model_name": "LayoutModel",
       "_view_count": null,
       "_view_module": "@jupyter-widgets/base",
       "_view_module_version": "1.2.0",
       "_view_name": "LayoutView",
       "align_content": null,
       "align_items": null,
       "align_self": null,
       "border": null,
       "bottom": null,
       "display": null,
       "flex": null,
       "flex_flow": null,
       "grid_area": null,
       "grid_auto_columns": null,
       "grid_auto_flow": null,
       "grid_auto_rows": null,
       "grid_column": null,
       "grid_gap": null,
       "grid_row": null,
       "grid_template_areas": null,
       "grid_template_columns": null,
       "grid_template_rows": null,
       "height": null,
       "justify_content": null,
       "justify_items": null,
       "left": null,
       "margin": null,
       "max_height": null,
       "max_width": null,
       "min_height": null,
       "min_width": null,
       "object_fit": null,
       "object_position": null,
       "order": null,
       "overflow": null,
       "overflow_x": null,
       "overflow_y": null,
       "padding": null,
       "right": null,
       "top": null,
       "visibility": null,
       "width": null
      }
     },
     "f435f9cb93a64e98833fbc9400ea23af": {
      "model_module": "@jupyter-widgets/controls",
      "model_module_version": "1.5.0",
      "model_name": "HTMLModel",
      "state": {
       "_dom_classes": [],
       "_model_module": "@jupyter-widgets/controls",
       "_model_module_version": "1.5.0",
       "_model_name": "HTMLModel",
       "_view_count": null,
       "_view_module": "@jupyter-widgets/controls",
       "_view_module_version": "1.5.0",
       "_view_name": "HTMLView",
       "description": "",
       "description_tooltip": null,
       "layout": "IPY_MODEL_eb0de67c778e4d918b016e1a714beaa8",
       "placeholder": "​",
       "style": "IPY_MODEL_56ff8714a0d448c7ae9f69afab5c589c",
       "value": " 4/4 [01:34&lt;00:00, 20.19s/it]"
      }
     },
     "f9260f4a02f04556b95ec035e656abc8": {
      "model_module": "@jupyter-widgets/controls",
      "model_module_version": "1.5.0",
      "model_name": "ProgressStyleModel",
      "state": {
       "_model_module": "@jupyter-widgets/controls",
       "_model_module_version": "1.5.0",
       "_model_name": "ProgressStyleModel",
       "_view_count": null,
       "_view_module": "@jupyter-widgets/base",
       "_view_module_version": "1.2.0",
       "_view_name": "StyleView",
       "bar_color": null,
       "description_width": ""
      }
     },
     "fb1ed8ff45d3463aac73e3c7da3fd3db": {
      "model_module": "@jupyter-widgets/base",
      "model_module_version": "1.2.0",
      "model_name": "LayoutModel",
      "state": {
       "_model_module": "@jupyter-widgets/base",
       "_model_module_version": "1.2.0",
       "_model_name": "LayoutModel",
       "_view_count": null,
       "_view_module": "@jupyter-widgets/base",
       "_view_module_version": "1.2.0",
       "_view_name": "LayoutView",
       "align_content": null,
       "align_items": null,
       "align_self": null,
       "border": null,
       "bottom": null,
       "display": null,
       "flex": null,
       "flex_flow": null,
       "grid_area": null,
       "grid_auto_columns": null,
       "grid_auto_flow": null,
       "grid_auto_rows": null,
       "grid_column": null,
       "grid_gap": null,
       "grid_row": null,
       "grid_template_areas": null,
       "grid_template_columns": null,
       "grid_template_rows": null,
       "height": null,
       "justify_content": null,
       "justify_items": null,
       "left": null,
       "margin": null,
       "max_height": null,
       "max_width": null,
       "min_height": null,
       "min_width": null,
       "object_fit": null,
       "object_position": null,
       "order": null,
       "overflow": null,
       "overflow_x": null,
       "overflow_y": null,
       "padding": null,
       "right": null,
       "top": null,
       "visibility": null,
       "width": null
      }
     },
     "fc63110113e04f4b8def3b8c4a2ef408": {
      "model_module": "@jupyter-widgets/controls",
      "model_module_version": "1.5.0",
      "model_name": "ProgressStyleModel",
      "state": {
       "_model_module": "@jupyter-widgets/controls",
       "_model_module_version": "1.5.0",
       "_model_name": "ProgressStyleModel",
       "_view_count": null,
       "_view_module": "@jupyter-widgets/base",
       "_view_module_version": "1.2.0",
       "_view_name": "StyleView",
       "bar_color": null,
       "description_width": ""
      }
     },
     "fe6a803555cb48cab064f9d0b488e085": {
      "model_module": "@jupyter-widgets/base",
      "model_module_version": "1.2.0",
      "model_name": "LayoutModel",
      "state": {
       "_model_module": "@jupyter-widgets/base",
       "_model_module_version": "1.2.0",
       "_model_name": "LayoutModel",
       "_view_count": null,
       "_view_module": "@jupyter-widgets/base",
       "_view_module_version": "1.2.0",
       "_view_name": "LayoutView",
       "align_content": null,
       "align_items": null,
       "align_self": null,
       "border": null,
       "bottom": null,
       "display": null,
       "flex": null,
       "flex_flow": null,
       "grid_area": null,
       "grid_auto_columns": null,
       "grid_auto_flow": null,
       "grid_auto_rows": null,
       "grid_column": null,
       "grid_gap": null,
       "grid_row": null,
       "grid_template_areas": null,
       "grid_template_columns": null,
       "grid_template_rows": null,
       "height": null,
       "justify_content": null,
       "justify_items": null,
       "left": null,
       "margin": null,
       "max_height": null,
       "max_width": null,
       "min_height": null,
       "min_width": null,
       "object_fit": null,
       "object_position": null,
       "order": null,
       "overflow": null,
       "overflow_x": null,
       "overflow_y": null,
       "padding": null,
       "right": null,
       "top": null,
       "visibility": null,
       "width": null
      }
     },
     "fef4354d72d7418fb645c018e3137e45": {
      "model_module": "@jupyter-widgets/controls",
      "model_module_version": "1.5.0",
      "model_name": "FloatProgressModel",
      "state": {
       "_dom_classes": [],
       "_model_module": "@jupyter-widgets/controls",
       "_model_module_version": "1.5.0",
       "_model_name": "FloatProgressModel",
       "_view_count": null,
       "_view_module": "@jupyter-widgets/controls",
       "_view_module_version": "1.5.0",
       "_view_name": "ProgressView",
       "bar_style": "success",
       "description": "",
       "description_tooltip": null,
       "layout": "IPY_MODEL_4a5d96eabcc147c68daea39f408c1eb8",
       "max": 4976714976.0,
       "min": 0.0,
       "orientation": "horizontal",
       "style": "IPY_MODEL_9d46d2b8768b48988548d62eaf0732c0",
       "value": 4976714976.0
      }
     },
     "ff3e2213c51646f4804316443d0a10b5": {
      "model_module": "@jupyter-widgets/base",
      "model_module_version": "1.2.0",
      "model_name": "LayoutModel",
      "state": {
       "_model_module": "@jupyter-widgets/base",
       "_model_module_version": "1.2.0",
       "_model_name": "LayoutModel",
       "_view_count": null,
       "_view_module": "@jupyter-widgets/base",
       "_view_module_version": "1.2.0",
       "_view_name": "LayoutView",
       "align_content": null,
       "align_items": null,
       "align_self": null,
       "border": null,
       "bottom": null,
       "display": null,
       "flex": null,
       "flex_flow": null,
       "grid_area": null,
       "grid_auto_columns": null,
       "grid_auto_flow": null,
       "grid_auto_rows": null,
       "grid_column": null,
       "grid_gap": null,
       "grid_row": null,
       "grid_template_areas": null,
       "grid_template_columns": null,
       "grid_template_rows": null,
       "height": null,
       "justify_content": null,
       "justify_items": null,
       "left": null,
       "margin": null,
       "max_height": null,
       "max_width": null,
       "min_height": null,
       "min_width": null,
       "object_fit": null,
       "object_position": null,
       "order": null,
       "overflow": null,
       "overflow_x": null,
       "overflow_y": null,
       "padding": null,
       "right": null,
       "top": null,
       "visibility": null,
       "width": null
      }
     }
    },
    "version_major": 2,
    "version_minor": 0
   }
  }
 },
 "nbformat": 4,
 "nbformat_minor": 5
}
