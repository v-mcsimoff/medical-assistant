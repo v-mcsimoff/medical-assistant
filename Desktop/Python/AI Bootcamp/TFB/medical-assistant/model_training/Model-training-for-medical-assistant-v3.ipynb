{
 "cells": [
  {
   "cell_type": "markdown",
   "id": "ffd5d6bc",
   "metadata": {
    "papermill": {
     "duration": 0.00982,
     "end_time": "2024-07-30T18:23:11.670356",
     "exception": false,
     "start_time": "2024-07-30T18:23:11.660536",
     "status": "completed"
    },
    "tags": []
   },
   "source": [
    "### Model training v3\n",
    "This notebook contains training of the fine-tunned LlaMa3 model for medical assistant for final project of the Qualentum AI Solutions Development bootcamp.\n",
    "We have already trained the model using Llama3 and ruslanmv/ai-medical-chatbot dataset (5000 rows) and with a dataset containing 11800 rows of data about medicine supplies and their uses. Now the model will be trained with the final dataset with 467 rows containing medicine leaflets and their summaries which is the most relevant data for the project."
   ]
  },
  {
   "cell_type": "code",
   "execution_count": 1,
   "id": "22f79eb2",
   "metadata": {
    "_cell_guid": "b1076dfc-b9ad-4769-8c92-a6c4dae69d19",
    "_uuid": "8f2839f25d086af736a60e9eeb907d3b93b6e0e5",
    "execution": {
     "iopub.execute_input": "2024-07-30T18:23:11.690166Z",
     "iopub.status.busy": "2024-07-30T18:23:11.689797Z",
     "iopub.status.idle": "2024-07-30T18:23:12.421107Z",
     "shell.execute_reply": "2024-07-30T18:23:12.419689Z"
    },
    "papermill": {
     "duration": 0.743601,
     "end_time": "2024-07-30T18:23:12.423215",
     "exception": false,
     "start_time": "2024-07-30T18:23:11.679614",
     "status": "completed"
    },
    "tags": []
   },
   "outputs": [
    {
     "name": "stdout",
     "output_type": "stream",
     "text": [
      "/kaggle/input/llama-3-8b-medical-assistant-v2/transformers/ver2/1/llama-3-8b-medical-assistant-v2/model.safetensors.index.json\n",
      "/kaggle/input/llama-3-8b-medical-assistant-v2/transformers/ver2/1/llama-3-8b-medical-assistant-v2/model-00003-of-00004.safetensors\n",
      "/kaggle/input/llama-3-8b-medical-assistant-v2/transformers/ver2/1/llama-3-8b-medical-assistant-v2/config.json\n",
      "/kaggle/input/llama-3-8b-medical-assistant-v2/transformers/ver2/1/llama-3-8b-medical-assistant-v2/model-00001-of-00004.safetensors\n",
      "/kaggle/input/llama-3-8b-medical-assistant-v2/transformers/ver2/1/llama-3-8b-medical-assistant-v2/README.md\n",
      "/kaggle/input/llama-3-8b-medical-assistant-v2/transformers/ver2/1/llama-3-8b-medical-assistant-v2/tokenizer.json\n",
      "/kaggle/input/llama-3-8b-medical-assistant-v2/transformers/ver2/1/llama-3-8b-medical-assistant-v2/tokenizer_config.json\n",
      "/kaggle/input/llama-3-8b-medical-assistant-v2/transformers/ver2/1/llama-3-8b-medical-assistant-v2/model-00004-of-00004.safetensors\n",
      "/kaggle/input/llama-3-8b-medical-assistant-v2/transformers/ver2/1/llama-3-8b-medical-assistant-v2/special_tokens_map.json\n",
      "/kaggle/input/llama-3-8b-medical-assistant-v2/transformers/ver2/1/llama-3-8b-medical-assistant-v2/model-00002-of-00004.safetensors\n",
      "/kaggle/input/llama-3-8b-medical-assistant-v2/transformers/ver2/1/llama-3-8b-medical-assistant-v2/generation_config.json\n",
      "/kaggle/input/leaflets-with-answers/df_leaflets_with_answers.csv\n"
     ]
    }
   ],
   "source": [
    "# This Python 3 environment comes with many helpful analytics libraries installed\n",
    "# It is defined by the kaggle/python Docker image: https://github.com/kaggle/docker-python\n",
    "# For example, here's several helpful packages to load\n",
    "\n",
    "import numpy as np # linear algebra\n",
    "import pandas as pd # data processing, CSV file I/O (e.g. pd.read_csv)\n",
    "\n",
    "# Input data files are available in the read-only \"../input/\" directory\n",
    "# For example, running this (by clicking run or pressing Shift+Enter) will list all files under the input directory\n",
    "\n",
    "import os\n",
    "for dirname, _, filenames in os.walk('/kaggle/input'):\n",
    "    for filename in filenames:\n",
    "        print(os.path.join(dirname, filename))\n",
    "\n",
    "# You can write up to 20GB to the current directory (/kaggle/working/) that gets preserved as output when you create a version using \"Save & Run All\" \n",
    "# You can also write temporary files to /kaggle/temp/, but they won't be saved outside of the current session"
   ]
  },
  {
   "cell_type": "code",
   "execution_count": 2,
   "id": "3a5650a8",
   "metadata": {
    "execution": {
     "iopub.execute_input": "2024-07-30T18:23:12.443326Z",
     "iopub.status.busy": "2024-07-30T18:23:12.442884Z",
     "iopub.status.idle": "2024-07-30T18:25:10.795382Z",
     "shell.execute_reply": "2024-07-30T18:25:10.794041Z"
    },
    "papermill": {
     "duration": 118.365457,
     "end_time": "2024-07-30T18:25:10.798019",
     "exception": false,
     "start_time": "2024-07-30T18:23:12.432562",
     "status": "completed"
    },
    "tags": []
   },
   "outputs": [],
   "source": [
    "%%capture\n",
    "%pip install -U transformers \n",
    "%pip install -U datasets \n",
    "%pip install -U accelerate \n",
    "%pip install -U peft \n",
    "%pip install -U trl \n",
    "%pip install -U bitsandbytes \n",
    "%pip install -U wandb"
   ]
  },
  {
   "cell_type": "markdown",
   "id": "11947039",
   "metadata": {
    "papermill": {
     "duration": 0.00911,
     "end_time": "2024-07-30T18:25:10.816881",
     "exception": false,
     "start_time": "2024-07-30T18:25:10.807771",
     "status": "completed"
    },
    "tags": []
   },
   "source": [
    "Importing the necessary Python packages for loading the dataset, model, and tokenizer and fine-tuning."
   ]
  },
  {
   "cell_type": "code",
   "execution_count": 3,
   "id": "ebe98d96",
   "metadata": {
    "execution": {
     "iopub.execute_input": "2024-07-30T18:25:10.837498Z",
     "iopub.status.busy": "2024-07-30T18:25:10.837066Z",
     "iopub.status.idle": "2024-07-30T18:25:29.182228Z",
     "shell.execute_reply": "2024-07-30T18:25:29.181416Z"
    },
    "papermill": {
     "duration": 18.358387,
     "end_time": "2024-07-30T18:25:29.184491",
     "exception": false,
     "start_time": "2024-07-30T18:25:10.826104",
     "status": "completed"
    },
    "tags": []
   },
   "outputs": [
    {
     "name": "stderr",
     "output_type": "stream",
     "text": [
      "2024-07-30 18:25:17.631529: E external/local_xla/xla/stream_executor/cuda/cuda_dnn.cc:9261] Unable to register cuDNN factory: Attempting to register factory for plugin cuDNN when one has already been registered\n",
      "2024-07-30 18:25:17.631642: E external/local_xla/xla/stream_executor/cuda/cuda_fft.cc:607] Unable to register cuFFT factory: Attempting to register factory for plugin cuFFT when one has already been registered\n",
      "2024-07-30 18:25:17.746602: E external/local_xla/xla/stream_executor/cuda/cuda_blas.cc:1515] Unable to register cuBLAS factory: Attempting to register factory for plugin cuBLAS when one has already been registered\n"
     ]
    }
   ],
   "source": [
    "from transformers import (\n",
    "    AutoModelForCausalLM,\n",
    "    AutoTokenizer,\n",
    "    BitsAndBytesConfig,\n",
    "    HfArgumentParser,\n",
    "    TrainingArguments,\n",
    "    pipeline,\n",
    "    logging,\n",
    ")\n",
    "from peft import (\n",
    "    LoraConfig,\n",
    "    PeftModel,\n",
    "    prepare_model_for_kbit_training,\n",
    "    get_peft_model,\n",
    ")\n",
    "import os, torch, wandb\n",
    "from datasets import load_dataset\n",
    "from trl import SFTTrainer, setup_chat_format"
   ]
  },
  {
   "cell_type": "code",
   "execution_count": 4,
   "id": "d06a9b36",
   "metadata": {
    "execution": {
     "iopub.execute_input": "2024-07-30T18:25:29.206051Z",
     "iopub.status.busy": "2024-07-30T18:25:29.205401Z",
     "iopub.status.idle": "2024-07-30T18:25:48.638909Z",
     "shell.execute_reply": "2024-07-30T18:25:48.637666Z"
    },
    "papermill": {
     "duration": 19.446394,
     "end_time": "2024-07-30T18:25:48.641482",
     "exception": false,
     "start_time": "2024-07-30T18:25:29.195088",
     "status": "completed"
    },
    "tags": []
   },
   "outputs": [
    {
     "name": "stdout",
     "output_type": "stream",
     "text": [
      "Token is valid (permission: write).\n",
      "\u001b[1m\u001b[31mCannot authenticate through git-credential as no helper is defined on your machine.\n",
      "You might have to re-authenticate when pushing to the Hugging Face Hub.\n",
      "Run the following command in your terminal in case you want to set the 'store' credential helper as default.\n",
      "\n",
      "git config --global credential.helper store\n",
      "\n",
      "Read https://git-scm.com/book/en/v2/Git-Tools-Credential-Storage for more details.\u001b[0m\n",
      "Token has not been saved to git credential helper.\n",
      "Your token has been saved to /root/.cache/huggingface/token\n",
      "Login successful\n"
     ]
    },
    {
     "name": "stderr",
     "output_type": "stream",
     "text": [
      "\u001b[34m\u001b[1mwandb\u001b[0m: W&B API key is configured. Use \u001b[1m`wandb login --relogin`\u001b[0m to force relogin\n",
      "\u001b[34m\u001b[1mwandb\u001b[0m: \u001b[33mWARNING\u001b[0m If you're specifying your api key in code, ensure this code is not shared publicly.\n",
      "\u001b[34m\u001b[1mwandb\u001b[0m: \u001b[33mWARNING\u001b[0m Consider setting the WANDB_API_KEY environment variable, or running `wandb login` from the command line.\n",
      "\u001b[34m\u001b[1mwandb\u001b[0m: Appending key for api.wandb.ai to your netrc file: /root/.netrc\n",
      "\u001b[34m\u001b[1mwandb\u001b[0m: Currently logged in as: \u001b[33mv-mcsimov\u001b[0m (\u001b[33mv-mcsimov-universidad-de-la-rioja\u001b[0m). Use \u001b[1m`wandb login --relogin`\u001b[0m to force relogin\n",
      "\u001b[34m\u001b[1mwandb\u001b[0m: Tracking run with wandb version 0.17.5\n",
      "\u001b[34m\u001b[1mwandb\u001b[0m: Run data is saved locally in \u001b[35m\u001b[1m/kaggle/working/wandb/run-20240730_182531-rs0xlqwv\u001b[0m\n",
      "\u001b[34m\u001b[1mwandb\u001b[0m: Run \u001b[1m`wandb offline`\u001b[0m to turn off syncing.\n",
      "\u001b[34m\u001b[1mwandb\u001b[0m: Syncing run \u001b[33mdry-breeze-26\u001b[0m\n",
      "\u001b[34m\u001b[1mwandb\u001b[0m: ⭐️ View project at \u001b[34m\u001b[4mhttps://wandb.ai/v-mcsimov-universidad-de-la-rioja/Medical%20assistant.\u001b[0m\n",
      "\u001b[34m\u001b[1mwandb\u001b[0m: 🚀 View run at \u001b[34m\u001b[4mhttps://wandb.ai/v-mcsimov-universidad-de-la-rioja/Medical%20assistant./runs/rs0xlqwv\u001b[0m\n"
     ]
    }
   ],
   "source": [
    "from huggingface_hub import login\n",
    "from kaggle_secrets import UserSecretsClient\n",
    "user_secrets = UserSecretsClient()\n",
    "\n",
    "hf_token = user_secrets.get_secret(\"huggingface_token\")\n",
    "\n",
    "login(token = hf_token, add_to_git_credential=True)\n",
    "\n",
    "wb_token = user_secrets.get_secret(\"wandb\")\n",
    "\n",
    "wandb.login(key=wb_token)\n",
    "run = wandb.init(\n",
    "    project='Medical assistant.',\n",
    "    job_type=\"training\", \n",
    "    anonymous=\"allow\"\n",
    ")"
   ]
  },
  {
   "cell_type": "markdown",
   "id": "ad2c9dc5",
   "metadata": {
    "papermill": {
     "duration": 0.009986,
     "end_time": "2024-07-30T18:25:48.662124",
     "exception": false,
     "start_time": "2024-07-30T18:25:48.652138",
     "status": "completed"
    },
    "tags": []
   },
   "source": [
    "Setting the base model, dataset, and new model variables."
   ]
  },
  {
   "cell_type": "code",
   "execution_count": 5,
   "id": "038784ca",
   "metadata": {
    "execution": {
     "iopub.execute_input": "2024-07-30T18:25:48.684442Z",
     "iopub.status.busy": "2024-07-30T18:25:48.683605Z",
     "iopub.status.idle": "2024-07-30T18:25:48.688050Z",
     "shell.execute_reply": "2024-07-30T18:25:48.687171Z"
    },
    "papermill": {
     "duration": 0.017644,
     "end_time": "2024-07-30T18:25:48.690026",
     "exception": false,
     "start_time": "2024-07-30T18:25:48.672382",
     "status": "completed"
    },
    "tags": []
   },
   "outputs": [],
   "source": [
    "base_model = \"/kaggle/input/llama-3-8b-medical-assistant-v2/transformers/ver2/1/llama-3-8b-medical-assistant-v2\"\n",
    "dataset_name = \"/kaggle/input/leaflets-with-answers/df_leaflets_with_answers.csv\"\n",
    "new_model = \"llama-3-8b-medical-assistant-v3\""
   ]
  },
  {
   "cell_type": "markdown",
   "id": "f3df65cf",
   "metadata": {
    "papermill": {
     "duration": 0.010094,
     "end_time": "2024-07-30T18:25:48.710309",
     "exception": false,
     "start_time": "2024-07-30T18:25:48.700215",
     "status": "completed"
    },
    "tags": []
   },
   "source": [
    "Setting the data type and attention implementation."
   ]
  },
  {
   "cell_type": "code",
   "execution_count": 6,
   "id": "49d61062",
   "metadata": {
    "execution": {
     "iopub.execute_input": "2024-07-30T18:25:48.732625Z",
     "iopub.status.busy": "2024-07-30T18:25:48.731822Z",
     "iopub.status.idle": "2024-07-30T18:25:48.736143Z",
     "shell.execute_reply": "2024-07-30T18:25:48.735271Z"
    },
    "papermill": {
     "duration": 0.017598,
     "end_time": "2024-07-30T18:25:48.738168",
     "exception": false,
     "start_time": "2024-07-30T18:25:48.720570",
     "status": "completed"
    },
    "tags": []
   },
   "outputs": [],
   "source": [
    "torch_dtype = torch.float16\n",
    "attn_implementation = \"eager\""
   ]
  },
  {
   "cell_type": "markdown",
   "id": "402ba52c",
   "metadata": {
    "papermill": {
     "duration": 0.009803,
     "end_time": "2024-07-30T18:25:48.758126",
     "exception": false,
     "start_time": "2024-07-30T18:25:48.748323",
     "status": "completed"
    },
    "tags": []
   },
   "source": [
    "Loading the model using 4-bit precision to reduce memory usage and speed up the fine-tuning process."
   ]
  },
  {
   "cell_type": "code",
   "execution_count": 7,
   "id": "f8588ce1",
   "metadata": {
    "execution": {
     "iopub.execute_input": "2024-07-30T18:25:48.780045Z",
     "iopub.status.busy": "2024-07-30T18:25:48.779285Z",
     "iopub.status.idle": "2024-07-30T18:28:54.408712Z",
     "shell.execute_reply": "2024-07-30T18:28:54.407668Z"
    },
    "papermill": {
     "duration": 185.642971,
     "end_time": "2024-07-30T18:28:54.411219",
     "exception": false,
     "start_time": "2024-07-30T18:25:48.768248",
     "status": "completed"
    },
    "tags": []
   },
   "outputs": [
    {
     "data": {
      "application/vnd.jupyter.widget-view+json": {
       "model_id": "4090a9fef21f4f0db0311c0197331191",
       "version_major": 2,
       "version_minor": 0
      },
      "text/plain": [
       "Loading checkpoint shards:   0%|          | 0/4 [00:00<?, ?it/s]"
      ]
     },
     "metadata": {},
     "output_type": "display_data"
    }
   ],
   "source": [
    "# QLoRA config\n",
    "bnb_config = BitsAndBytesConfig(\n",
    "    load_in_4bit=True,\n",
    "    bnb_4bit_quant_type=\"nf4\",\n",
    "    bnb_4bit_compute_dtype=torch_dtype,\n",
    "    bnb_4bit_use_double_quant=True,\n",
    ")\n",
    "\n",
    "# Load model\n",
    "model = AutoModelForCausalLM.from_pretrained(\n",
    "    base_model,\n",
    "    quantization_config=bnb_config,\n",
    "    device_map=\"auto\",\n",
    "    attn_implementation=attn_implementation\n",
    ")"
   ]
  },
  {
   "cell_type": "markdown",
   "id": "444eb8fd",
   "metadata": {
    "papermill": {
     "duration": 0.010265,
     "end_time": "2024-07-30T18:28:54.432140",
     "exception": false,
     "start_time": "2024-07-30T18:28:54.421875",
     "status": "completed"
    },
    "tags": []
   },
   "source": [
    "Load tokenizer."
   ]
  },
  {
   "cell_type": "code",
   "execution_count": 8,
   "id": "3495f76e",
   "metadata": {
    "execution": {
     "iopub.execute_input": "2024-07-30T18:28:54.454805Z",
     "iopub.status.busy": "2024-07-30T18:28:54.453949Z",
     "iopub.status.idle": "2024-07-30T18:28:54.940525Z",
     "shell.execute_reply": "2024-07-30T18:28:54.939719Z"
    },
    "papermill": {
     "duration": 0.500584,
     "end_time": "2024-07-30T18:28:54.942949",
     "exception": false,
     "start_time": "2024-07-30T18:28:54.442365",
     "status": "completed"
    },
    "tags": []
   },
   "outputs": [],
   "source": [
    "tokenizer = AutoTokenizer.from_pretrained(base_model)\n",
    "model, tokenizer = setup_chat_format(model, tokenizer)"
   ]
  },
  {
   "cell_type": "markdown",
   "id": "fed39c53",
   "metadata": {
    "papermill": {
     "duration": 0.010323,
     "end_time": "2024-07-30T18:28:54.963846",
     "exception": false,
     "start_time": "2024-07-30T18:28:54.953523",
     "status": "completed"
    },
    "tags": []
   },
   "source": [
    "Adding the adapter to the layer to improve the training time and make the process more memory-efficient."
   ]
  },
  {
   "cell_type": "code",
   "execution_count": 9,
   "id": "6aa43240",
   "metadata": {
    "execution": {
     "iopub.execute_input": "2024-07-30T18:28:54.986504Z",
     "iopub.status.busy": "2024-07-30T18:28:54.985524Z",
     "iopub.status.idle": "2024-07-30T18:28:55.848116Z",
     "shell.execute_reply": "2024-07-30T18:28:55.847289Z"
    },
    "papermill": {
     "duration": 0.876336,
     "end_time": "2024-07-30T18:28:55.850478",
     "exception": false,
     "start_time": "2024-07-30T18:28:54.974142",
     "status": "completed"
    },
    "tags": []
   },
   "outputs": [],
   "source": [
    "# LoRA config\n",
    "peft_config = LoraConfig(\n",
    "    r=16,\n",
    "    lora_alpha=32,\n",
    "    lora_dropout=0.05,\n",
    "    bias=\"none\",\n",
    "    task_type=\"CAUSAL_LM\",\n",
    "    target_modules=['up_proj', 'down_proj', 'gate_proj', 'k_proj', 'q_proj', 'v_proj', 'o_proj']\n",
    ")\n",
    "model = get_peft_model(model, peft_config)"
   ]
  },
  {
   "cell_type": "markdown",
   "id": "df2468b3",
   "metadata": {
    "papermill": {
     "duration": 0.010356,
     "end_time": "2024-07-30T18:28:55.871465",
     "exception": false,
     "start_time": "2024-07-30T18:28:55.861109",
     "status": "completed"
    },
    "tags": []
   },
   "source": [
    "Model description function."
   ]
  },
  {
   "cell_type": "code",
   "execution_count": 10,
   "id": "0bf12273",
   "metadata": {
    "execution": {
     "iopub.execute_input": "2024-07-30T18:28:55.893674Z",
     "iopub.status.busy": "2024-07-30T18:28:55.893320Z",
     "iopub.status.idle": "2024-07-30T18:28:55.911226Z",
     "shell.execute_reply": "2024-07-30T18:28:55.910380Z"
    },
    "papermill": {
     "duration": 0.031629,
     "end_time": "2024-07-30T18:28:55.913418",
     "exception": false,
     "start_time": "2024-07-30T18:28:55.881789",
     "status": "completed"
    },
    "tags": []
   },
   "outputs": [
    {
     "name": "stdout",
     "output_type": "stream",
     "text": [
      " - The model has 8,072.2 millions parameters\n",
      " - Architecture: LlamaForCausalLM\n",
      " - Maximum context: 8,192 tokens\n",
      " - Parameters format: torch.float16\n",
      " - Vocabulary size: 128,258 tokens\n"
     ]
    }
   ],
   "source": [
    "def describe_model(model: AutoModelForCausalLM):\n",
    "    n_params = model.num_parameters()\n",
    "    print(f\" - The model has {n_params/1e6:,.1f} millions parameters\")\n",
    "    print(f\" - Architecture: {model.config.architectures[0]}\")\n",
    "    try:\n",
    "        ctx = model.config.max_position_embeddings\n",
    "    except:\n",
    "        ctx = model.config.seq_length\n",
    "    print(f\" - Maximum context: {ctx:,} tokens\")\n",
    "    print(f\" - Parameters format: {model.config.torch_dtype}\")\n",
    "    print(f\" - Vocabulary size: {model.config.vocab_size:,} tokens\")\n",
    "\n",
    "describe_model(model)"
   ]
  },
  {
   "cell_type": "markdown",
   "id": "eee3cc52",
   "metadata": {
    "papermill": {
     "duration": 0.010201,
     "end_time": "2024-07-30T18:28:55.934100",
     "exception": false,
     "start_time": "2024-07-30T18:28:55.923899",
     "status": "completed"
    },
    "tags": []
   },
   "source": [
    "### Loading the dataset."
   ]
  },
  {
   "cell_type": "code",
   "execution_count": 11,
   "id": "1d4388b8",
   "metadata": {
    "execution": {
     "iopub.execute_input": "2024-07-30T18:28:55.956327Z",
     "iopub.status.busy": "2024-07-30T18:28:55.956008Z",
     "iopub.status.idle": "2024-07-30T18:28:56.042070Z",
     "shell.execute_reply": "2024-07-30T18:28:56.041244Z"
    },
    "papermill": {
     "duration": 0.100347,
     "end_time": "2024-07-30T18:28:56.044546",
     "exception": false,
     "start_time": "2024-07-30T18:28:55.944199",
     "status": "completed"
    },
    "tags": []
   },
   "outputs": [],
   "source": [
    "#Importing the dataset\n",
    "dataset = pd.read_csv(dataset_name)"
   ]
  },
  {
   "cell_type": "code",
   "execution_count": 12,
   "id": "7d193757",
   "metadata": {
    "execution": {
     "iopub.execute_input": "2024-07-30T18:28:56.067438Z",
     "iopub.status.busy": "2024-07-30T18:28:56.067140Z",
     "iopub.status.idle": "2024-07-30T18:28:56.086512Z",
     "shell.execute_reply": "2024-07-30T18:28:56.085623Z"
    },
    "papermill": {
     "duration": 0.032821,
     "end_time": "2024-07-30T18:28:56.088441",
     "exception": false,
     "start_time": "2024-07-30T18:28:56.055620",
     "status": "completed"
    },
    "tags": []
   },
   "outputs": [
    {
     "data": {
      "text/html": [
       "<div>\n",
       "<style scoped>\n",
       "    .dataframe tbody tr th:only-of-type {\n",
       "        vertical-align: middle;\n",
       "    }\n",
       "\n",
       "    .dataframe tbody tr th {\n",
       "        vertical-align: top;\n",
       "    }\n",
       "\n",
       "    .dataframe thead th {\n",
       "        text-align: right;\n",
       "    }\n",
       "</style>\n",
       "<table border=\"1\" class=\"dataframe\">\n",
       "  <thead>\n",
       "    <tr style=\"text-align: right;\">\n",
       "      <th></th>\n",
       "      <th>Patient</th>\n",
       "      <th>Doctor</th>\n",
       "    </tr>\n",
       "  </thead>\n",
       "  <tbody>\n",
       "    <tr>\n",
       "      <th>0</th>\n",
       "      <td>WHAT YOU SHOULD KNOW ABOUT   PULMICORT (bu...</td>\n",
       "      <td>**Pulmicort Turbohaler (budesonide)**\\n\\n**Use...</td>\n",
       "    </tr>\n",
       "    <tr>\n",
       "      <th>1</th>\n",
       "      <td>INFORMATION FOR THE PATIENT   (each FRUMIL ...</td>\n",
       "      <td>### Summary for Patients on FRUMIL FORTE\\n\\n**...</td>\n",
       "    </tr>\n",
       "    <tr>\n",
       "      <th>2</th>\n",
       "      <td>Taxotere 20 mg    Docetaxel    Please re...</td>\n",
       "      <td>**Medicine Name**: Taxotere (Docetaxel) 20 mg\\...</td>\n",
       "    </tr>\n",
       "    <tr>\n",
       "      <th>3</th>\n",
       "      <td>Demser (metirosine, MSD)   PLEASE READ A...</td>\n",
       "      <td>**Medicine Name:** Demser (metirosine)\\n\\n**Us...</td>\n",
       "    </tr>\n",
       "    <tr>\n",
       "      <th>4</th>\n",
       "      <td>Patient Information Leaflet      tablets f...</td>\n",
       "      <td>### Patient Information Summary for Imigran Ta...</td>\n",
       "    </tr>\n",
       "    <tr>\n",
       "      <th>...</th>\n",
       "      <td>...</td>\n",
       "      <td>...</td>\n",
       "    </tr>\n",
       "    <tr>\n",
       "      <th>462</th>\n",
       "      <td>Patient Information Leaflet on Amoxil ...</td>\n",
       "      <td>### Amoxil Paediatric Suspension - Patient Inf...</td>\n",
       "    </tr>\n",
       "    <tr>\n",
       "      <th>463</th>\n",
       "      <td>WHAT YOU SHOULD KNOW ABOUT'ZESTORETIC' 10 ...</td>\n",
       "      <td>### Important Information About Zestoretic 10\\...</td>\n",
       "    </tr>\n",
       "    <tr>\n",
       "      <th>464</th>\n",
       "      <td>‘PALUDRINE’        Please read this leaf...</td>\n",
       "      <td>### Important Information about Paludrine\\n\\n*...</td>\n",
       "    </tr>\n",
       "    <tr>\n",
       "      <th>465</th>\n",
       "      <td>Antepsin Suspension (Sucralfate)    Plea...</td>\n",
       "      <td>### Summary of Antepsin Suspension (Sucralfate...</td>\n",
       "    </tr>\n",
       "    <tr>\n",
       "      <th>466</th>\n",
       "      <td>eye drops sodium cromoglycate BP 2% w/v a...</td>\n",
       "      <td>**Medicine Name:** Opticrom Aqueous Eye Drops ...</td>\n",
       "    </tr>\n",
       "  </tbody>\n",
       "</table>\n",
       "<p>467 rows × 2 columns</p>\n",
       "</div>"
      ],
      "text/plain": [
       "                                               Patient  \\\n",
       "0        WHAT YOU SHOULD KNOW ABOUT   PULMICORT (bu...   \n",
       "1       INFORMATION FOR THE PATIENT   (each FRUMIL ...   \n",
       "2          Taxotere 20 mg    Docetaxel    Please re...   \n",
       "3          Demser (metirosine, MSD)   PLEASE READ A...   \n",
       "4        Patient Information Leaflet      tablets f...   \n",
       "..                                                 ...   \n",
       "462          Patient Information Leaflet on Amoxil ...   \n",
       "463      WHAT YOU SHOULD KNOW ABOUT'ZESTORETIC' 10 ...   \n",
       "464        ‘PALUDRINE’        Please read this leaf...   \n",
       "465        Antepsin Suspension (Sucralfate)    Plea...   \n",
       "466       eye drops sodium cromoglycate BP 2% w/v a...   \n",
       "\n",
       "                                                Doctor  \n",
       "0    **Pulmicort Turbohaler (budesonide)**\\n\\n**Use...  \n",
       "1    ### Summary for Patients on FRUMIL FORTE\\n\\n**...  \n",
       "2    **Medicine Name**: Taxotere (Docetaxel) 20 mg\\...  \n",
       "3    **Medicine Name:** Demser (metirosine)\\n\\n**Us...  \n",
       "4    ### Patient Information Summary for Imigran Ta...  \n",
       "..                                                 ...  \n",
       "462  ### Amoxil Paediatric Suspension - Patient Inf...  \n",
       "463  ### Important Information About Zestoretic 10\\...  \n",
       "464  ### Important Information about Paludrine\\n\\n*...  \n",
       "465  ### Summary of Antepsin Suspension (Sucralfate...  \n",
       "466  **Medicine Name:** Opticrom Aqueous Eye Drops ...  \n",
       "\n",
       "[467 rows x 2 columns]"
      ]
     },
     "execution_count": 12,
     "metadata": {},
     "output_type": "execute_result"
    }
   ],
   "source": [
    "dataset"
   ]
  },
  {
   "cell_type": "markdown",
   "id": "c986fd54",
   "metadata": {
    "papermill": {
     "duration": 0.010483,
     "end_time": "2024-07-30T18:28:56.109595",
     "exception": false,
     "start_time": "2024-07-30T18:28:56.099112",
     "status": "completed"
    },
    "tags": []
   },
   "source": [
    "Converting Pandas Dataframe into HuggingFace Dataset."
   ]
  },
  {
   "cell_type": "code",
   "execution_count": 13,
   "id": "83a1aeb9",
   "metadata": {
    "execution": {
     "iopub.execute_input": "2024-07-30T18:28:56.132266Z",
     "iopub.status.busy": "2024-07-30T18:28:56.131707Z",
     "iopub.status.idle": "2024-07-30T18:28:56.999570Z",
     "shell.execute_reply": "2024-07-30T18:28:56.998447Z"
    },
    "papermill": {
     "duration": 0.881634,
     "end_time": "2024-07-30T18:28:57.001852",
     "exception": false,
     "start_time": "2024-07-30T18:28:56.120218",
     "status": "completed"
    },
    "tags": []
   },
   "outputs": [
    {
     "name": "stderr",
     "output_type": "stream",
     "text": [
      "/opt/conda/lib/python3.10/site-packages/multiprocess/popen_fork.py:66: RuntimeWarning: os.fork() was called. os.fork() is incompatible with multithreaded code, and JAX is multithreaded, so this will likely lead to a deadlock.\n",
      "  self.pid = os.fork()\n"
     ]
    },
    {
     "data": {
      "application/vnd.jupyter.widget-view+json": {
       "model_id": "b9bf3f504b8a4267b004e38982a9aef8",
       "version_major": 2,
       "version_minor": 0
      },
      "text/plain": [
       "Map (num_proc=4):   0%|          | 0/467 [00:00<?, ? examples/s]"
      ]
     },
     "metadata": {},
     "output_type": "display_data"
    },
    {
     "name": "stderr",
     "output_type": "stream",
     "text": [
      "/opt/conda/lib/python3.10/site-packages/multiprocess/popen_fork.py:66: RuntimeWarning: os.fork() was called. os.fork() is incompatible with multithreaded code, and JAX is multithreaded, so this will likely lead to a deadlock.\n",
      "  self.pid = os.fork()\n"
     ]
    },
    {
     "data": {
      "text/plain": [
       "\"<|im_start|>user\\n        What you should know about Distalgesic tabletsDistalgesic    Please read this leaflet carefully before you start to take your medicine.  It does not contain all the information about your medicine that you may need to know so if you have any questions, ask your doctor or pharmacist. This leaflet only applies to Distalgesic tablets.    What is in your medicine?   Your medicine is called Distalgesic, which is a brand of co-proxamol.  Its active ingredients are dextropropoxyphene hydrochloride and paracetamol.  Each white, pillow-shaped tablet contains 32.5mg dextropropoxyphene hydrochloride and 325mg paracetamol.  They are labelled DG.  The tablets also contain the inactive ingredients maize starch and magnesium stearate, and are coated with hydroxypropyl methyl cellulose 15, glycerine and titanium dioxide.  They come in blister packs of 100.   Distalgesic is one of a group of medicines called analgesics that help to ease pain.   Distalgesic is made by Eli Lilly and Company Limited, Kingsclere Road, Basingstoke, Hampshire, RG21 6XA.  The product licence is held by Dista Products Limited, Dextra Court, Chapel Hill, Basingstoke, Hampshire RG21 5SY     Why Distalgesic?   Distalgesic is given to help reduce mild to moderate pain.     Before taking your medicine    Make sure it is sate for you to take Distalgesic. It you answer YES to any of the following questions or you are not sure about the answer, tell your doctor or pharmacist.      Have you ever been allergic to this or any other pain-killing medicine?       Do you suffer from depression or any other psychiatric illness?     Have you ever been an alcoholic or drug addict?     Are you taking any other medicine, especially 'blood thinner' medicine (such as warfarin), antidepressants or drugs for epilepsy?     Are you pregnant or could you be?     Are you breast-feeding?       Have you ever had problems with your liver or kidneys?      Do not take more Distalgesic than your doctor tells you to  .    Do not drink alcohol while taking Distalgesic.    It can be very dangerous.  Discuss this with your doctor if you have any questions.   If you take drugs such as antihistamines, tranquillisers or sleeping tablets when you are taking Distalgesic, you may become extremely sleepy.   Distalgesic on its own makes some people very sleepy, especially when they first start taking it.   Do not drive or use dangerous machinery if you feel sleepy.   Do not give Distalgesic to children.      Please read the back of this leaflet          What you should know about Distalgesic tablets - continued         Taking your medicine     Follow your doctor’s instructions.  Check the label to see how many tablets to take and how often to take them.      Usual dose: take 2 tablets three or four times a day.       Do not take more than 8 tablets in 24 hours.    If you are elderly, you may need to take fewer.  If you are not sure how many tablets to take, ask your doctor or pharmacist     Swallow the tablets with a drink of water.     Do not take more tablets than your doctor tells you to.  You can become addicted to these tablets if you take too many for a long time.     If you miss a dose, take another dose as soon as you can.  Then go on as before.  Never double up on the next dose to make up for the one missed.      OVERDOSE: If you, or anyone else, ever take too many Distalgesic tablets, dial 999 for an ambulance straight away.  Then phone your doctor.    An overdose can damage your liver or cause coma, convulsions or death.       While taking your medicine     Distalgesic tablets may cause side-effects.  These include feeling dizzy or tired, feeling sick and vomiting.  They will often go away if you lie down.  Tell your doctor if they are troublesome.     Very occasionally, Distalgesic may give you a rash, headaches or stomach ache.  It might also make you constipated or moody, or give you problems with your sight, hallucinations or jaundice.  If you have these or any other ill-effects that are troublesome, tell your doctor.       How to store your medicine     Do not use Distalgesic after the 'Use Before' date.     Keep your tablets at room temperature, in a dry, safe place where children cannot see or reach them.  Your tablets could harm them.     When your treatment is over, we suggest that you take any tablets you have left back to the pharmacist who will dispose of them safely.     REMEMBER: This medicine is for you.  Only a doctor can prescribe it.  Never give it to others.  It may harm them, even if their symptoms are the same as yours.   'Distalgesic' is a registered trademark of Dista Products Limited.   Date of Leaflet Preparation: November 1995 © Dista Products Limited, 1995.      <|im_end|>\\n<|im_start|>assistant\\n**Medicine Name:** Distalgesic\\n\\n**Uses:**\\n- Distalgesic is an analgesic used to reduce mild to moderate pain.\\n\\n**Important Side Effects:**\\n1. Drowsiness or dizziness - May cause sleepiness, especially at the start.\\n2. Nausea and vomiting - Gastrointestinal discomfort that may occur.\\n3. Constipation or mood changes - May also cause headaches or skin rashes.\\n\\n**Recommendations for Taking the Medicine:**\\n- Follow your doctor’s instructions regarding dosage; typically, take 2 tablets three to four times a day, with a maximum of 8 tablets in 24 hours.\\n- Swallow tablets with a drink of water.\\n- Do not consume alcohol while taking Distalgesic, as it can be dangerous.\\n- Avoid driving or operating heavy machinery if you feel drowsy.\\n- Store tablets in a safe, dry place away from children and do not use after the 'Use Before' date.\\n- If you miss a dose, take it as soon as you remember, but do not double up on doses.\\n- In case of overdose, seek emergency assistance immediately, as it can lead to severe health risks, including liver damage.\\n\\nNote: Always consult your doctor or pharmacist if you have concerns or questions about taking Distalgesic.<|im_end|>\\n\""
      ]
     },
     "execution_count": 13,
     "metadata": {},
     "output_type": "execute_result"
    }
   ],
   "source": [
    "from datasets import Dataset\n",
    "\n",
    "dataset = Dataset.from_pandas(dataset)\n",
    "\n",
    "def format_chat_template(row):\n",
    "    row_json = [{\"role\": \"user\", \"content\": row[\"Patient\"]},\n",
    "               {\"role\": \"assistant\", \"content\": row[\"Doctor\"]}]\n",
    "    row[\"text\"] = tokenizer.apply_chat_template(row_json, tokenize=False)\n",
    "    return row\n",
    "\n",
    "dataset = dataset.map(\n",
    "    format_chat_template,\n",
    "    num_proc=4,\n",
    ")\n",
    "\n",
    "dataset['text'][42]"
   ]
  },
  {
   "cell_type": "markdown",
   "id": "ce68310e",
   "metadata": {
    "papermill": {
     "duration": 0.01114,
     "end_time": "2024-07-30T18:28:57.024460",
     "exception": false,
     "start_time": "2024-07-30T18:28:57.013320",
     "status": "completed"
    },
    "tags": []
   },
   "source": [
    "Splitting the dataset into a training and validation set."
   ]
  },
  {
   "cell_type": "code",
   "execution_count": 14,
   "id": "e72b2820",
   "metadata": {
    "execution": {
     "iopub.execute_input": "2024-07-30T18:28:57.049140Z",
     "iopub.status.busy": "2024-07-30T18:28:57.048347Z",
     "iopub.status.idle": "2024-07-30T18:28:57.061767Z",
     "shell.execute_reply": "2024-07-30T18:28:57.061003Z"
    },
    "papermill": {
     "duration": 0.028135,
     "end_time": "2024-07-30T18:28:57.063790",
     "exception": false,
     "start_time": "2024-07-30T18:28:57.035655",
     "status": "completed"
    },
    "tags": []
   },
   "outputs": [],
   "source": [
    "dataset = dataset.train_test_split(test_size=0.1)"
   ]
  },
  {
   "cell_type": "code",
   "execution_count": 15,
   "id": "a51deaf1",
   "metadata": {
    "execution": {
     "iopub.execute_input": "2024-07-30T18:28:57.089082Z",
     "iopub.status.busy": "2024-07-30T18:28:57.088364Z",
     "iopub.status.idle": "2024-07-30T18:28:57.094472Z",
     "shell.execute_reply": "2024-07-30T18:28:57.093643Z"
    },
    "papermill": {
     "duration": 0.02084,
     "end_time": "2024-07-30T18:28:57.096354",
     "exception": false,
     "start_time": "2024-07-30T18:28:57.075514",
     "status": "completed"
    },
    "tags": []
   },
   "outputs": [
    {
     "data": {
      "text/plain": [
       "DatasetDict({\n",
       "    train: Dataset({\n",
       "        features: ['Patient', 'Doctor', 'text'],\n",
       "        num_rows: 420\n",
       "    })\n",
       "    test: Dataset({\n",
       "        features: ['Patient', 'Doctor', 'text'],\n",
       "        num_rows: 47\n",
       "    })\n",
       "})"
      ]
     },
     "execution_count": 15,
     "metadata": {},
     "output_type": "execute_result"
    }
   ],
   "source": [
    "dataset"
   ]
  },
  {
   "cell_type": "markdown",
   "id": "70599c59",
   "metadata": {
    "papermill": {
     "duration": 0.012103,
     "end_time": "2024-07-30T18:28:57.119909",
     "exception": false,
     "start_time": "2024-07-30T18:28:57.107806",
     "status": "completed"
    },
    "tags": []
   },
   "source": [
    "### Complaining and training the model.\n",
    "Setting the model hyperparameters so that we can run it on the Kaggle.\n",
    "Fine-tuning the model for one epoch and logging the metrics using the Weights and Biases."
   ]
  },
  {
   "cell_type": "code",
   "execution_count": 16,
   "id": "fe4db4a7",
   "metadata": {
    "execution": {
     "iopub.execute_input": "2024-07-30T18:28:57.144716Z",
     "iopub.status.busy": "2024-07-30T18:28:57.144120Z",
     "iopub.status.idle": "2024-07-30T18:28:57.185260Z",
     "shell.execute_reply": "2024-07-30T18:28:57.184318Z"
    },
    "papermill": {
     "duration": 0.056162,
     "end_time": "2024-07-30T18:28:57.187592",
     "exception": false,
     "start_time": "2024-07-30T18:28:57.131430",
     "status": "completed"
    },
    "tags": []
   },
   "outputs": [
    {
     "name": "stderr",
     "output_type": "stream",
     "text": [
      "/opt/conda/lib/python3.10/site-packages/transformers/training_args.py:1525: FutureWarning: `evaluation_strategy` is deprecated and will be removed in version 4.46 of 🤗 Transformers. Use `eval_strategy` instead\n",
      "  warnings.warn(\n"
     ]
    }
   ],
   "source": [
    "training_arguments = TrainingArguments(\n",
    "    output_dir=new_model,\n",
    "    per_device_train_batch_size=1,\n",
    "    per_device_eval_batch_size=1,\n",
    "    gradient_accumulation_steps=2,\n",
    "    optim=\"paged_adamw_32bit\",\n",
    "    num_train_epochs=3,\n",
    "    evaluation_strategy=\"steps\",\n",
    "    eval_steps=0.2,\n",
    "    logging_steps=1,\n",
    "    warmup_steps=10,\n",
    "    logging_strategy=\"steps\",\n",
    "    learning_rate=2e-4,\n",
    "    fp16=False,\n",
    "    bf16=False,\n",
    "    group_by_length=True,\n",
    "    report_to=\"wandb\"\n",
    ")"
   ]
  },
  {
   "cell_type": "markdown",
   "id": "3bdd815c",
   "metadata": {
    "papermill": {
     "duration": 0.011141,
     "end_time": "2024-07-30T18:28:57.210411",
     "exception": false,
     "start_time": "2024-07-30T18:28:57.199270",
     "status": "completed"
    },
    "tags": []
   },
   "source": [
    "Setting up a supervised fine-tuning (SFT) trainer and provide a train and evaluation dataset, LoRA configuration, training argument, tokenizer, and model. We are keeping the max_seq_length to 512 to avoid exceeding GPU memory during training."
   ]
  },
  {
   "cell_type": "code",
   "execution_count": 17,
   "id": "1518209a",
   "metadata": {
    "execution": {
     "iopub.execute_input": "2024-07-30T18:28:57.234548Z",
     "iopub.status.busy": "2024-07-30T18:28:57.234239Z",
     "iopub.status.idle": "2024-07-30T18:28:59.768243Z",
     "shell.execute_reply": "2024-07-30T18:28:59.767190Z"
    },
    "papermill": {
     "duration": 2.548826,
     "end_time": "2024-07-30T18:28:59.770549",
     "exception": false,
     "start_time": "2024-07-30T18:28:57.221723",
     "status": "completed"
    },
    "tags": []
   },
   "outputs": [
    {
     "name": "stderr",
     "output_type": "stream",
     "text": [
      "/opt/conda/lib/python3.10/site-packages/huggingface_hub/utils/_deprecation.py:100: FutureWarning: Deprecated argument(s) used in '__init__': max_seq_length, dataset_text_field. Will not be supported from version '1.0.0'.\n",
      "\n",
      "Deprecated positional argument(s) used in SFTTrainer, please use the SFTConfig to set these arguments instead.\n",
      "  warnings.warn(message, FutureWarning)\n",
      "/opt/conda/lib/python3.10/site-packages/transformers/training_args.py:1525: FutureWarning: `evaluation_strategy` is deprecated and will be removed in version 4.46 of 🤗 Transformers. Use `eval_strategy` instead\n",
      "  warnings.warn(\n",
      "/opt/conda/lib/python3.10/site-packages/trl/trainer/sft_trainer.py:280: UserWarning: You passed a `max_seq_length` argument to the SFTTrainer, the value you passed will override the one in the `SFTConfig`.\n",
      "  warnings.warn(\n",
      "/opt/conda/lib/python3.10/site-packages/trl/trainer/sft_trainer.py:318: UserWarning: You passed a `dataset_text_field` argument to the SFTTrainer, the value you passed will override the one in the `SFTConfig`.\n",
      "  warnings.warn(\n"
     ]
    },
    {
     "data": {
      "application/vnd.jupyter.widget-view+json": {
       "model_id": "c9cb28e4702f4a43aa084d57d9ee5f8b",
       "version_major": 2,
       "version_minor": 0
      },
      "text/plain": [
       "Map:   0%|          | 0/420 [00:00<?, ? examples/s]"
      ]
     },
     "metadata": {},
     "output_type": "display_data"
    },
    {
     "data": {
      "application/vnd.jupyter.widget-view+json": {
       "model_id": "2531fd15272b4245aad32f380f4f2ddd",
       "version_major": 2,
       "version_minor": 0
      },
      "text/plain": [
       "Map:   0%|          | 0/47 [00:00<?, ? examples/s]"
      ]
     },
     "metadata": {},
     "output_type": "display_data"
    }
   ],
   "source": [
    "trainer = SFTTrainer(\n",
    "    model=model,\n",
    "    train_dataset=dataset[\"train\"],\n",
    "    eval_dataset=dataset[\"test\"],\n",
    "    peft_config=peft_config,\n",
    "    max_seq_length=512,\n",
    "    dataset_text_field=\"text\",\n",
    "    tokenizer=tokenizer,\n",
    "    args=training_arguments,\n",
    "    packing= False,\n",
    ")"
   ]
  },
  {
   "cell_type": "code",
   "execution_count": 18,
   "id": "dd2449f9",
   "metadata": {
    "execution": {
     "iopub.execute_input": "2024-07-30T18:28:59.796211Z",
     "iopub.status.busy": "2024-07-30T18:28:59.795869Z",
     "iopub.status.idle": "2024-07-30T19:33:25.083915Z",
     "shell.execute_reply": "2024-07-30T19:33:25.082887Z"
    },
    "papermill": {
     "duration": 3865.302951,
     "end_time": "2024-07-30T19:33:25.085898",
     "exception": false,
     "start_time": "2024-07-30T18:28:59.782947",
     "status": "completed"
    },
    "tags": []
   },
   "outputs": [
    {
     "name": "stderr",
     "output_type": "stream",
     "text": [
      "\u001b[34m\u001b[1mwandb\u001b[0m: \u001b[33mWARNING\u001b[0m The `run_name` is currently set to the same value as `TrainingArguments.output_dir`. If this was not intended, please specify a different run name by setting the `TrainingArguments.run_name` parameter.\n"
     ]
    },
    {
     "data": {
      "text/html": [
       "\n",
       "    <div>\n",
       "      \n",
       "      <progress value='630' max='630' style='width:300px; height:20px; vertical-align: middle;'></progress>\n",
       "      [630/630 1:04:18, Epoch 3/3]\n",
       "    </div>\n",
       "    <table border=\"1\" class=\"dataframe\">\n",
       "  <thead>\n",
       " <tr style=\"text-align: left;\">\n",
       "      <th>Step</th>\n",
       "      <th>Training Loss</th>\n",
       "      <th>Validation Loss</th>\n",
       "    </tr>\n",
       "  </thead>\n",
       "  <tbody>\n",
       "    <tr>\n",
       "      <td>126</td>\n",
       "      <td>0.974600</td>\n",
       "      <td>1.277874</td>\n",
       "    </tr>\n",
       "    <tr>\n",
       "      <td>252</td>\n",
       "      <td>0.612200</td>\n",
       "      <td>1.165228</td>\n",
       "    </tr>\n",
       "    <tr>\n",
       "      <td>378</td>\n",
       "      <td>0.750500</td>\n",
       "      <td>1.088164</td>\n",
       "    </tr>\n",
       "    <tr>\n",
       "      <td>504</td>\n",
       "      <td>0.610900</td>\n",
       "      <td>1.147485</td>\n",
       "    </tr>\n",
       "    <tr>\n",
       "      <td>630</td>\n",
       "      <td>0.354600</td>\n",
       "      <td>1.137054</td>\n",
       "    </tr>\n",
       "  </tbody>\n",
       "</table><p>"
      ],
      "text/plain": [
       "<IPython.core.display.HTML object>"
      ]
     },
     "metadata": {},
     "output_type": "display_data"
    },
    {
     "name": "stderr",
     "output_type": "stream",
     "text": [
      "We detected that you are passing `past_key_values` as a tuple and this is deprecated and will be removed in v4.43. Please use an appropriate `Cache` class (https://huggingface.co/docs/transformers/v4.41.3/en/internal/generation_utils#transformers.Cache)\n"
     ]
    },
    {
     "data": {
      "text/plain": [
       "TrainOutput(global_step=630, training_loss=0.9315947738904802, metrics={'train_runtime': 3864.4029, 'train_samples_per_second': 0.326, 'train_steps_per_second': 0.163, 'total_flos': 2.913577099001856e+16, 'train_loss': 0.9315947738904802, 'epoch': 3.0})"
      ]
     },
     "execution_count": 18,
     "metadata": {},
     "output_type": "execute_result"
    }
   ],
   "source": [
    "trainer.train()"
   ]
  },
  {
   "cell_type": "markdown",
   "id": "4285b90b",
   "metadata": {
    "papermill": {
     "duration": 0.012077,
     "end_time": "2024-07-30T19:33:25.110453",
     "exception": false,
     "start_time": "2024-07-30T19:33:25.098376",
     "status": "completed"
    },
    "tags": []
   },
   "source": [
    "#### Model evaluation."
   ]
  },
  {
   "cell_type": "markdown",
   "id": "b26e31d7",
   "metadata": {
    "papermill": {
     "duration": 0.013841,
     "end_time": "2024-07-30T19:33:25.138114",
     "exception": false,
     "start_time": "2024-07-30T19:33:25.124273",
     "status": "completed"
    },
    "tags": []
   },
   "source": [
    "The Weights & Biases generates the run history and summary."
   ]
  },
  {
   "cell_type": "code",
   "execution_count": 19,
   "id": "3fb493fa",
   "metadata": {
    "execution": {
     "iopub.execute_input": "2024-07-30T19:33:25.165677Z",
     "iopub.status.busy": "2024-07-30T19:33:25.164431Z",
     "iopub.status.idle": "2024-07-30T19:33:31.654631Z",
     "shell.execute_reply": "2024-07-30T19:33:31.653731Z"
    },
    "papermill": {
     "duration": 6.505506,
     "end_time": "2024-07-30T19:33:31.656593",
     "exception": false,
     "start_time": "2024-07-30T19:33:25.151087",
     "status": "completed"
    },
    "tags": []
   },
   "outputs": [
    {
     "name": "stderr",
     "output_type": "stream",
     "text": [
      "\u001b[34m\u001b[1mwandb\u001b[0m:                                                                                \n",
      "\u001b[34m\u001b[1mwandb\u001b[0m: \n",
      "\u001b[34m\u001b[1mwandb\u001b[0m: Run history:\n",
      "\u001b[34m\u001b[1mwandb\u001b[0m:               eval/loss █▄▁▃▃\n",
      "\u001b[34m\u001b[1mwandb\u001b[0m:            eval/runtime ▅▆▇█▁\n",
      "\u001b[34m\u001b[1mwandb\u001b[0m: eval/samples_per_second ███▁█\n",
      "\u001b[34m\u001b[1mwandb\u001b[0m:   eval/steps_per_second ███▁█\n",
      "\u001b[34m\u001b[1mwandb\u001b[0m:             train/epoch ▁▁▁▂▂▂▂▂▂▃▃▃▃▃▄▄▄▄▄▄▅▅▅▅▅▅▆▆▆▆▆▇▇▇▇▇▇███\n",
      "\u001b[34m\u001b[1mwandb\u001b[0m:       train/global_step ▁▁▁▂▂▂▂▂▂▃▃▃▃▃▄▄▄▄▄▄▅▅▅▅▅▅▆▆▆▆▆▇▇▇▇▇▇███\n",
      "\u001b[34m\u001b[1mwandb\u001b[0m:         train/grad_norm ▂▂▂▂▁▂▁▁▂▂▂▂▂▁▂▃▃▃▃▄▃▃▂▄▃▂▃▄▃▄▃▅▄█▄▄▄▃▂▆\n",
      "\u001b[34m\u001b[1mwandb\u001b[0m:     train/learning_rate ▇███▇▇▇▇▇▇▆▆▆▆▆▅▅▅▅▅▄▄▄▄▄▄▃▃▃▃▃▂▂▂▂▂▂▁▁▁\n",
      "\u001b[34m\u001b[1mwandb\u001b[0m:              train/loss ██▇▆▆▆▇▆▅▆▆▅▄▅▅▅▃▃▄▄▄▅▅▅▅▂▄▂▂▂▂▃▃▄▃▁▂▁▁▃\n",
      "\u001b[34m\u001b[1mwandb\u001b[0m: \n",
      "\u001b[34m\u001b[1mwandb\u001b[0m: Run summary:\n",
      "\u001b[34m\u001b[1mwandb\u001b[0m:                eval/loss 1.13705\n",
      "\u001b[34m\u001b[1mwandb\u001b[0m:             eval/runtime 64.5609\n",
      "\u001b[34m\u001b[1mwandb\u001b[0m:  eval/samples_per_second 0.728\n",
      "\u001b[34m\u001b[1mwandb\u001b[0m:    eval/steps_per_second 0.728\n",
      "\u001b[34m\u001b[1mwandb\u001b[0m:               total_flos 2.913577099001856e+16\n",
      "\u001b[34m\u001b[1mwandb\u001b[0m:              train/epoch 3.0\n",
      "\u001b[34m\u001b[1mwandb\u001b[0m:        train/global_step 630\n",
      "\u001b[34m\u001b[1mwandb\u001b[0m:          train/grad_norm 1.64639\n",
      "\u001b[34m\u001b[1mwandb\u001b[0m:      train/learning_rate 0.0\n",
      "\u001b[34m\u001b[1mwandb\u001b[0m:               train/loss 0.3546\n",
      "\u001b[34m\u001b[1mwandb\u001b[0m:               train_loss 0.93159\n",
      "\u001b[34m\u001b[1mwandb\u001b[0m:            train_runtime 3864.4029\n",
      "\u001b[34m\u001b[1mwandb\u001b[0m: train_samples_per_second 0.326\n",
      "\u001b[34m\u001b[1mwandb\u001b[0m:   train_steps_per_second 0.163\n",
      "\u001b[34m\u001b[1mwandb\u001b[0m: \n",
      "\u001b[34m\u001b[1mwandb\u001b[0m: 🚀 View run \u001b[33mdry-breeze-26\u001b[0m at: \u001b[34m\u001b[4mhttps://wandb.ai/v-mcsimov-universidad-de-la-rioja/Medical%20assistant./runs/rs0xlqwv\u001b[0m\n",
      "\u001b[34m\u001b[1mwandb\u001b[0m: ⭐️ View project at: \u001b[34m\u001b[4mhttps://wandb.ai/v-mcsimov-universidad-de-la-rioja/Medical%20assistant.\u001b[0m\n",
      "\u001b[34m\u001b[1mwandb\u001b[0m: Synced 5 W&B file(s), 0 media file(s), 0 artifact file(s) and 0 other file(s)\n",
      "\u001b[34m\u001b[1mwandb\u001b[0m: Find logs at: \u001b[35m\u001b[1m./wandb/run-20240730_182531-rs0xlqwv/logs\u001b[0m\n",
      "\u001b[34m\u001b[1mwandb\u001b[0m: \u001b[33mWARNING\u001b[0m The new W&B backend becomes opt-out in version 0.18.0; try it out with `wandb.require(\"core\")`! See https://wandb.me/wandb-core for more information.\n"
     ]
    }
   ],
   "source": [
    "wandb.finish()\n",
    "model.config.use_cache = True"
   ]
  },
  {
   "cell_type": "markdown",
   "id": "2fb3cb51",
   "metadata": {
    "papermill": {
     "duration": 0.012867,
     "end_time": "2024-07-30T19:33:31.682766",
     "exception": false,
     "start_time": "2024-07-30T19:33:31.669899",
     "status": "completed"
    },
    "tags": []
   },
   "source": [
    "Evaluating the model on a sample patient query to check if it’s properly fine-tuned."
   ]
  },
  {
   "cell_type": "code",
   "execution_count": 20,
   "id": "86fb6714",
   "metadata": {
    "execution": {
     "iopub.execute_input": "2024-07-30T19:33:31.710050Z",
     "iopub.status.busy": "2024-07-30T19:33:31.709558Z",
     "iopub.status.idle": "2024-07-30T19:34:21.048973Z",
     "shell.execute_reply": "2024-07-30T19:34:21.047987Z"
    },
    "papermill": {
     "duration": 49.368204,
     "end_time": "2024-07-30T19:34:21.063801",
     "exception": false,
     "start_time": "2024-07-30T19:33:31.695597",
     "status": "completed"
    },
    "tags": []
   },
   "outputs": [
    {
     "name": "stderr",
     "output_type": "stream",
     "text": [
      "Asking to truncate to max_length but no maximum length is provided and the model has no predefined maximum length. Default to no truncation.\n"
     ]
    },
    {
     "name": "stdout",
     "output_type": "stream",
     "text": [
      "\n",
      "**Medication Name:** Distalgesic\n",
      "\n",
      "**Uses:**   Distalgesic is given to help reduce mild to moderate pain.\n",
      "\n",
      "**Important Side Effects:**\n",
      "1. Dizziness\n",
      "2. Tiredness\n",
      "3. Feeling sick and vomiting\n",
      "4. Hallucinations\n",
      "5. Jaundice\n",
      "6. Rash\n",
      "7. Headaches\n",
      "8. Stomach ache\n",
      "9. Constipation\n",
      "10. Mood changes\n",
      "\n",
      "**Recommendations:**\n",
      "1. Do not take more than your doctor recommends.\n",
      "2. Do not drink alcohol while taking Distalgesic. It can be very dangerous.\n",
      "3. Do not take drugs such as antihistamines, tranquillisers or sleeping tablets when taking Distalgesic. It can be very dangerous.\n",
      "4. Do not drive or use dangerous machinery if you feel sleepy.\n",
      "5. Do not give Distalgesic to children. It can be dangerous for them.\n",
      "6. If you are pregnant or breast-feeding, tell your doctor before taking Distalgesic.\n",
      "7. If you take drugs such as antihistamines, tranquillisers or sleeping tablets when taking Distalgesic, you may become extremely sleepy. Do not drive or use dangerous machinery if you feel sleepy.\n",
      "8. Do not take more than 8 tablets in 24 hours. If you are elderly, you may need to take fewer.\n",
      "9. If you miss a dose, take another dose as soon as you can. Then go on as before. Never double up on the next dose to make up for the one missed.\n",
      "10. If you, or anyone else, ever take too many Distalgesic tablets, dial 999 for an ambulance straight away. Then phone\n"
     ]
    }
   ],
   "source": [
    "messages = [\n",
    "    {\n",
    "        \"role\": \"user\",\n",
    "        \"content\": \"\"\"\n",
    "        Hello Doctor, please provide me with a brief summary of this medicine leaflet, 3-6 side effects, \n",
    "        important information, and recommendations in 250 words maximum:\n",
    "        What you should know about Distalgesic tabletsDistalgesic    Please read this leaflet carefully before you start to take your medicine.  It does not contain all the information about your medicine that you may need to know so if you have any questions, ask your doctor or pharmacist. This leaflet only applies to Distalgesic tablets.    What is in your medicine?   Your medicine is called Distalgesic, which is a brand of co-proxamol.  Its active ingredients are dextropropoxyphene hydrochloride and paracetamol.  Each white, pillow-shaped tablet contains 32.5mg dextropropoxyphene hydrochloride and 325mg paracetamol.  They are labelled DG.  The tablets also contain the inactive ingredients maize starch and magnesium stearate, and are coated with hydroxypropyl methyl cellulose 15, glycerine and titanium dioxide.  They come in blister packs of 100.   Distalgesic is one of a group of medicines called analgesics that help to ease pain.   Distalgesic is made by Eli Lilly and Company Limited, Kingsclere Road, Basingstoke, Hampshire, RG21 6XA.  The product licence is held by Dista Products Limited, Dextra Court, Chapel Hill, Basingstoke, Hampshire RG21 5SY     Why Distalgesic?   Distalgesic is given to help reduce mild to moderate pain.     Before taking your medicine    Make sure it is sate for you to take Distalgesic. It you answer YES to any of the following questions or you are not sure about the answer, tell your doctor or pharmacist.      Have you ever been allergic to this or any other pain-killing medicine?       Do you suffer from depression or any other psychiatric illness?     Have you ever been an alcoholic or drug addict?     Are you taking any other medicine, especially 'blood thinner' medicine (such as warfarin), antidepressants or drugs for epilepsy?     Are you pregnant or could you be?     Are you breast-feeding?       Have you ever had problems with your liver or kidneys?      Do not take more Distalgesic than your doctor tells you to  .    Do not drink alcohol while taking Distalgesic.    It can be very dangerous.  Discuss this with your doctor if you have any questions.   If you take drugs such as antihistamines, tranquillisers or sleeping tablets when you are taking Distalgesic, you may become extremely sleepy.   Distalgesic on its own makes some people very sleepy, especially when they first start taking it.   Do not drive or use dangerous machinery if you feel sleepy.   Do not give Distalgesic to children.      Please read the back of this leaflet          What you should know about Distalgesic tablets - continued         Taking your medicine     Follow your doctor’s instructions.  Check the label to see how many tablets to take and how often to take them.      Usual dose: take 2 tablets three or four times a day.       Do not take more than 8 tablets in 24 hours.    If you are elderly, you may need to take fewer.  If you are not sure how many tablets to take, ask your doctor or pharmacist     Swallow the tablets with a drink of water.     Do not take more tablets than your doctor tells you to.  You can become addicted to these tablets if you take too many for a long time.     If you miss a dose, take another dose as soon as you can.  Then go on as before.  Never double up on the next dose to make up for the one missed.      OVERDOSE: If you, or anyone else, ever take too many Distalgesic tablets, dial 999 for an ambulance straight away.  Then phone your doctor.    An overdose can damage your liver or cause coma, convulsions or death.       While taking your medicine     Distalgesic tablets may cause side-effects.  These include feeling dizzy or tired, feeling sick and vomiting.  They will often go away if you lie down.  Tell your doctor if they are troublesome.     Very occasionally, Distalgesic may give you a rash, headaches or stomach ache.  It might also make you constipated or moody, or give you problems with your sight, hallucinations or jaundice.  If you have these or any other ill-effects that are troublesome, tell your doctor.       How to store your medicine     Do not use Distalgesic after the 'Use Before' date.     Keep your tablets at room temperature, in a dry, safe place where children cannot see or reach them.  Your tablets could harm them.     When your treatment is over, we suggest that you take any tablets you have left back to the pharmacist who will dispose of them safely.     REMEMBER: This medicine is for you.  Only a doctor can prescribe it.  Never give it to others.  It may harm them, even if their symptoms are the same as yours.   'Distalgesic' is a registered trademark of Dista Products Limited.   Date of Leaflet Preparation: November 1995 © Dista Products Limited, 1995.\n",
    "        \"\"\"\n",
    "    }\n",
    "]\n",
    "\n",
    "prompt = tokenizer.apply_chat_template(messages, tokenize=False, \n",
    "                                       add_generation_prompt=True)\n",
    "\n",
    "inputs = tokenizer(prompt, return_tensors='pt', padding=True, \n",
    "                   truncation=True).to(\"cuda\")\n",
    "\n",
    "outputs = model.generate(**inputs, max_new_tokens=350, \n",
    "                         num_return_sequences=1)\n",
    "\n",
    "text = tokenizer.decode(outputs[0], skip_special_tokens=True)\n",
    "\n",
    "print(text.split(\"assistant\")[1])"
   ]
  },
  {
   "cell_type": "markdown",
   "id": "3cff1367",
   "metadata": {
    "papermill": {
     "duration": 0.012852,
     "end_time": "2024-07-30T19:34:21.089753",
     "exception": false,
     "start_time": "2024-07-30T19:34:21.076901",
     "status": "completed"
    },
    "tags": []
   },
   "source": [
    "#### Saving the model file"
   ]
  },
  {
   "cell_type": "code",
   "execution_count": 21,
   "id": "4b7579e7",
   "metadata": {
    "execution": {
     "iopub.execute_input": "2024-07-30T19:34:21.117288Z",
     "iopub.status.busy": "2024-07-30T19:34:21.116993Z",
     "iopub.status.idle": "2024-07-30T19:34:45.547298Z",
     "shell.execute_reply": "2024-07-30T19:34:45.546384Z"
    },
    "papermill": {
     "duration": 24.446779,
     "end_time": "2024-07-30T19:34:45.549460",
     "exception": false,
     "start_time": "2024-07-30T19:34:21.102681",
     "status": "completed"
    },
    "tags": []
   },
   "outputs": [
    {
     "data": {
      "application/vnd.jupyter.widget-view+json": {
       "model_id": "8c16dc884059480bb3e9faf7b1723570",
       "version_major": 2,
       "version_minor": 0
      },
      "text/plain": [
       "README.md:   0%|          | 0.00/5.17k [00:00<?, ?B/s]"
      ]
     },
     "metadata": {},
     "output_type": "display_data"
    },
    {
     "data": {
      "application/vnd.jupyter.widget-view+json": {
       "model_id": "31b19d51523f425c8f3425b47ecdc16b",
       "version_major": 2,
       "version_minor": 0
      },
      "text/plain": [
       "adapter_model.safetensors:   0%|          | 0.00/168M [00:00<?, ?B/s]"
      ]
     },
     "metadata": {},
     "output_type": "display_data"
    },
    {
     "data": {
      "text/plain": [
       "CommitInfo(commit_url='https://huggingface.co/McSimoff/llama-3-8b-medical-assistant-v3/commit/52223b0a8b802e8b6a12d6b2fd6872367735bc78', commit_message='Upload model', commit_description='', oid='52223b0a8b802e8b6a12d6b2fd6872367735bc78', pr_url=None, pr_revision=None, pr_num=None)"
      ]
     },
     "execution_count": 21,
     "metadata": {},
     "output_type": "execute_result"
    }
   ],
   "source": [
    "trainer.model.save_pretrained(new_model)\n",
    "trainer.model.push_to_hub(new_model, use_temp_dir=False)"
   ]
  },
  {
   "cell_type": "code",
   "execution_count": null,
   "id": "ec6cb5d8",
   "metadata": {
    "papermill": {
     "duration": 0.013646,
     "end_time": "2024-07-30T19:34:45.577074",
     "exception": false,
     "start_time": "2024-07-30T19:34:45.563428",
     "status": "completed"
    },
    "tags": []
   },
   "outputs": [],
   "source": []
  }
 ],
 "metadata": {
  "kaggle": {
   "accelerator": "gpu",
   "dataSources": [
    {
     "datasetId": 5457168,
     "sourceId": 9050983,
     "sourceType": "datasetVersion"
    },
    {
     "modelId": 96246,
     "modelInstanceId": 71637,
     "sourceId": 85276,
     "sourceType": "modelInstanceVersion"
    }
   ],
   "dockerImageVersionId": 30747,
   "isGpuEnabled": true,
   "isInternetEnabled": true,
   "language": "python",
   "sourceType": "notebook"
  },
  "kernelspec": {
   "display_name": "Python 3",
   "language": "python",
   "name": "python3"
  },
  "language_info": {
   "codemirror_mode": {
    "name": "ipython",
    "version": 3
   },
   "file_extension": ".py",
   "mimetype": "text/x-python",
   "name": "python",
   "nbconvert_exporter": "python",
   "pygments_lexer": "ipython3",
   "version": "3.10.13"
  },
  "papermill": {
   "default_parameters": {},
   "duration": 4300.211175,
   "end_time": "2024-07-30T19:34:49.128561",
   "environment_variables": {},
   "exception": null,
   "input_path": "__notebook__.ipynb",
   "output_path": "__notebook__.ipynb",
   "parameters": {},
   "start_time": "2024-07-30T18:23:08.917386",
   "version": "2.5.0"
  },
  "widgets": {
   "application/vnd.jupyter.widget-state+json": {
    "state": {
     "017583e9e82947898ef9da988231fd2d": {
      "model_module": "@jupyter-widgets/controls",
      "model_module_version": "1.5.0",
      "model_name": "FloatProgressModel",
      "state": {
       "_dom_classes": [],
       "_model_module": "@jupyter-widgets/controls",
       "_model_module_version": "1.5.0",
       "_model_name": "FloatProgressModel",
       "_view_count": null,
       "_view_module": "@jupyter-widgets/controls",
       "_view_module_version": "1.5.0",
       "_view_name": "ProgressView",
       "bar_style": "success",
       "description": "",
       "description_tooltip": null,
       "layout": "IPY_MODEL_5cd48bd0f4204455b1281b33df4d1830",
       "max": 4.0,
       "min": 0.0,
       "orientation": "horizontal",
       "style": "IPY_MODEL_edb9bc40852d4ee5ab20e2c1d1e07b24",
       "value": 4.0
      }
     },
     "02d79082e5e84efa9d7356241bc0f63f": {
      "model_module": "@jupyter-widgets/controls",
      "model_module_version": "1.5.0",
      "model_name": "FloatProgressModel",
      "state": {
       "_dom_classes": [],
       "_model_module": "@jupyter-widgets/controls",
       "_model_module_version": "1.5.0",
       "_model_name": "FloatProgressModel",
       "_view_count": null,
       "_view_module": "@jupyter-widgets/controls",
       "_view_module_version": "1.5.0",
       "_view_name": "ProgressView",
       "bar_style": "success",
       "description": "",
       "description_tooltip": null,
       "layout": "IPY_MODEL_60726b64e87c4390b08ef58ae6e11845",
       "max": 5174.0,
       "min": 0.0,
       "orientation": "horizontal",
       "style": "IPY_MODEL_45284cdc7c374eb0a59a8c7423863995",
       "value": 5174.0
      }
     },
     "0683087744f541c4bf0adb68afbe3fda": {
      "model_module": "@jupyter-widgets/controls",
      "model_module_version": "1.5.0",
      "model_name": "DescriptionStyleModel",
      "state": {
       "_model_module": "@jupyter-widgets/controls",
       "_model_module_version": "1.5.0",
       "_model_name": "DescriptionStyleModel",
       "_view_count": null,
       "_view_module": "@jupyter-widgets/base",
       "_view_module_version": "1.2.0",
       "_view_name": "StyleView",
       "description_width": ""
      }
     },
     "0759dadf25e74bdab8c8dc944dcc3962": {
      "model_module": "@jupyter-widgets/controls",
      "model_module_version": "1.5.0",
      "model_name": "ProgressStyleModel",
      "state": {
       "_model_module": "@jupyter-widgets/controls",
       "_model_module_version": "1.5.0",
       "_model_name": "ProgressStyleModel",
       "_view_count": null,
       "_view_module": "@jupyter-widgets/base",
       "_view_module_version": "1.2.0",
       "_view_name": "StyleView",
       "bar_color": null,
       "description_width": ""
      }
     },
     "168a91d5f3eb4650a56c130f52b8e137": {
      "model_module": "@jupyter-widgets/base",
      "model_module_version": "1.2.0",
      "model_name": "LayoutModel",
      "state": {
       "_model_module": "@jupyter-widgets/base",
       "_model_module_version": "1.2.0",
       "_model_name": "LayoutModel",
       "_view_count": null,
       "_view_module": "@jupyter-widgets/base",
       "_view_module_version": "1.2.0",
       "_view_name": "LayoutView",
       "align_content": null,
       "align_items": null,
       "align_self": null,
       "border": null,
       "bottom": null,
       "display": null,
       "flex": null,
       "flex_flow": null,
       "grid_area": null,
       "grid_auto_columns": null,
       "grid_auto_flow": null,
       "grid_auto_rows": null,
       "grid_column": null,
       "grid_gap": null,
       "grid_row": null,
       "grid_template_areas": null,
       "grid_template_columns": null,
       "grid_template_rows": null,
       "height": null,
       "justify_content": null,
       "justify_items": null,
       "left": null,
       "margin": null,
       "max_height": null,
       "max_width": null,
       "min_height": null,
       "min_width": null,
       "object_fit": null,
       "object_position": null,
       "order": null,
       "overflow": null,
       "overflow_x": null,
       "overflow_y": null,
       "padding": null,
       "right": null,
       "top": null,
       "visibility": null,
       "width": null
      }
     },
     "18ff5624fd884a4b8c1516c3f4eb3d82": {
      "model_module": "@jupyter-widgets/controls",
      "model_module_version": "1.5.0",
      "model_name": "DescriptionStyleModel",
      "state": {
       "_model_module": "@jupyter-widgets/controls",
       "_model_module_version": "1.5.0",
       "_model_name": "DescriptionStyleModel",
       "_view_count": null,
       "_view_module": "@jupyter-widgets/base",
       "_view_module_version": "1.2.0",
       "_view_name": "StyleView",
       "description_width": ""
      }
     },
     "1caa6605dbea4803b9442b1bd0be09e4": {
      "model_module": "@jupyter-widgets/base",
      "model_module_version": "1.2.0",
      "model_name": "LayoutModel",
      "state": {
       "_model_module": "@jupyter-widgets/base",
       "_model_module_version": "1.2.0",
       "_model_name": "LayoutModel",
       "_view_count": null,
       "_view_module": "@jupyter-widgets/base",
       "_view_module_version": "1.2.0",
       "_view_name": "LayoutView",
       "align_content": null,
       "align_items": null,
       "align_self": null,
       "border": null,
       "bottom": null,
       "display": null,
       "flex": null,
       "flex_flow": null,
       "grid_area": null,
       "grid_auto_columns": null,
       "grid_auto_flow": null,
       "grid_auto_rows": null,
       "grid_column": null,
       "grid_gap": null,
       "grid_row": null,
       "grid_template_areas": null,
       "grid_template_columns": null,
       "grid_template_rows": null,
       "height": null,
       "justify_content": null,
       "justify_items": null,
       "left": null,
       "margin": null,
       "max_height": null,
       "max_width": null,
       "min_height": null,
       "min_width": null,
       "object_fit": null,
       "object_position": null,
       "order": null,
       "overflow": null,
       "overflow_x": null,
       "overflow_y": null,
       "padding": null,
       "right": null,
       "top": null,
       "visibility": null,
       "width": null
      }
     },
     "22f2db63126f4d13bbb6f4ce2619b9bd": {
      "model_module": "@jupyter-widgets/base",
      "model_module_version": "1.2.0",
      "model_name": "LayoutModel",
      "state": {
       "_model_module": "@jupyter-widgets/base",
       "_model_module_version": "1.2.0",
       "_model_name": "LayoutModel",
       "_view_count": null,
       "_view_module": "@jupyter-widgets/base",
       "_view_module_version": "1.2.0",
       "_view_name": "LayoutView",
       "align_content": null,
       "align_items": null,
       "align_self": null,
       "border": null,
       "bottom": null,
       "display": null,
       "flex": null,
       "flex_flow": null,
       "grid_area": null,
       "grid_auto_columns": null,
       "grid_auto_flow": null,
       "grid_auto_rows": null,
       "grid_column": null,
       "grid_gap": null,
       "grid_row": null,
       "grid_template_areas": null,
       "grid_template_columns": null,
       "grid_template_rows": null,
       "height": null,
       "justify_content": null,
       "justify_items": null,
       "left": null,
       "margin": null,
       "max_height": null,
       "max_width": null,
       "min_height": null,
       "min_width": null,
       "object_fit": null,
       "object_position": null,
       "order": null,
       "overflow": null,
       "overflow_x": null,
       "overflow_y": null,
       "padding": null,
       "right": null,
       "top": null,
       "visibility": null,
       "width": null
      }
     },
     "2531fd15272b4245aad32f380f4f2ddd": {
      "model_module": "@jupyter-widgets/controls",
      "model_module_version": "1.5.0",
      "model_name": "HBoxModel",
      "state": {
       "_dom_classes": [],
       "_model_module": "@jupyter-widgets/controls",
       "_model_module_version": "1.5.0",
       "_model_name": "HBoxModel",
       "_view_count": null,
       "_view_module": "@jupyter-widgets/controls",
       "_view_module_version": "1.5.0",
       "_view_name": "HBoxView",
       "box_style": "",
       "children": [
        "IPY_MODEL_a1463faa6fd54bb792f284a04950d4e4",
        "IPY_MODEL_8eeeffd8f432423d81e1764a42c28696",
        "IPY_MODEL_41d7c06eb11349948ab30d3e1498c89a"
       ],
       "layout": "IPY_MODEL_d8f44fb5da78495180bed3a458ee8901"
      }
     },
     "261f3d356b254feeb87bf79baf26874e": {
      "model_module": "@jupyter-widgets/controls",
      "model_module_version": "1.5.0",
      "model_name": "DescriptionStyleModel",
      "state": {
       "_model_module": "@jupyter-widgets/controls",
       "_model_module_version": "1.5.0",
       "_model_name": "DescriptionStyleModel",
       "_view_count": null,
       "_view_module": "@jupyter-widgets/base",
       "_view_module_version": "1.2.0",
       "_view_name": "StyleView",
       "description_width": ""
      }
     },
     "2770b42a61c74150bcb442eac81c2486": {
      "model_module": "@jupyter-widgets/controls",
      "model_module_version": "1.5.0",
      "model_name": "DescriptionStyleModel",
      "state": {
       "_model_module": "@jupyter-widgets/controls",
       "_model_module_version": "1.5.0",
       "_model_name": "DescriptionStyleModel",
       "_view_count": null,
       "_view_module": "@jupyter-widgets/base",
       "_view_module_version": "1.2.0",
       "_view_name": "StyleView",
       "description_width": ""
      }
     },
     "282b1b163807499d893fdce7c431c05a": {
      "model_module": "@jupyter-widgets/controls",
      "model_module_version": "1.5.0",
      "model_name": "ProgressStyleModel",
      "state": {
       "_model_module": "@jupyter-widgets/controls",
       "_model_module_version": "1.5.0",
       "_model_name": "ProgressStyleModel",
       "_view_count": null,
       "_view_module": "@jupyter-widgets/base",
       "_view_module_version": "1.2.0",
       "_view_name": "StyleView",
       "bar_color": null,
       "description_width": ""
      }
     },
     "2b6b20562b1545ed93265bd92c9bee05": {
      "model_module": "@jupyter-widgets/controls",
      "model_module_version": "1.5.0",
      "model_name": "ProgressStyleModel",
      "state": {
       "_model_module": "@jupyter-widgets/controls",
       "_model_module_version": "1.5.0",
       "_model_name": "ProgressStyleModel",
       "_view_count": null,
       "_view_module": "@jupyter-widgets/base",
       "_view_module_version": "1.2.0",
       "_view_name": "StyleView",
       "bar_color": null,
       "description_width": ""
      }
     },
     "3161acfef129497e9548682bd3821605": {
      "model_module": "@jupyter-widgets/base",
      "model_module_version": "1.2.0",
      "model_name": "LayoutModel",
      "state": {
       "_model_module": "@jupyter-widgets/base",
       "_model_module_version": "1.2.0",
       "_model_name": "LayoutModel",
       "_view_count": null,
       "_view_module": "@jupyter-widgets/base",
       "_view_module_version": "1.2.0",
       "_view_name": "LayoutView",
       "align_content": null,
       "align_items": null,
       "align_self": null,
       "border": null,
       "bottom": null,
       "display": null,
       "flex": null,
       "flex_flow": null,
       "grid_area": null,
       "grid_auto_columns": null,
       "grid_auto_flow": null,
       "grid_auto_rows": null,
       "grid_column": null,
       "grid_gap": null,
       "grid_row": null,
       "grid_template_areas": null,
       "grid_template_columns": null,
       "grid_template_rows": null,
       "height": null,
       "justify_content": null,
       "justify_items": null,
       "left": null,
       "margin": null,
       "max_height": null,
       "max_width": null,
       "min_height": null,
       "min_width": null,
       "object_fit": null,
       "object_position": null,
       "order": null,
       "overflow": null,
       "overflow_x": null,
       "overflow_y": null,
       "padding": null,
       "right": null,
       "top": null,
       "visibility": null,
       "width": null
      }
     },
     "31b19d51523f425c8f3425b47ecdc16b": {
      "model_module": "@jupyter-widgets/controls",
      "model_module_version": "1.5.0",
      "model_name": "HBoxModel",
      "state": {
       "_dom_classes": [],
       "_model_module": "@jupyter-widgets/controls",
       "_model_module_version": "1.5.0",
       "_model_name": "HBoxModel",
       "_view_count": null,
       "_view_module": "@jupyter-widgets/controls",
       "_view_module_version": "1.5.0",
       "_view_name": "HBoxView",
       "box_style": "",
       "children": [
        "IPY_MODEL_6217d785081d4ee1a4434255f8623dec",
        "IPY_MODEL_614cef3185bd4c94a92d37f0f2660c3f",
        "IPY_MODEL_99f0d2b8ace44e2aa63763eca4c0d7e6"
       ],
       "layout": "IPY_MODEL_55594918fe0b40c295ab12ca9362c51c"
      }
     },
     "4090a9fef21f4f0db0311c0197331191": {
      "model_module": "@jupyter-widgets/controls",
      "model_module_version": "1.5.0",
      "model_name": "HBoxModel",
      "state": {
       "_dom_classes": [],
       "_model_module": "@jupyter-widgets/controls",
       "_model_module_version": "1.5.0",
       "_model_name": "HBoxModel",
       "_view_count": null,
       "_view_module": "@jupyter-widgets/controls",
       "_view_module_version": "1.5.0",
       "_view_name": "HBoxView",
       "box_style": "",
       "children": [
        "IPY_MODEL_c91e6ae29b544dd798d43f64df21ab46",
        "IPY_MODEL_017583e9e82947898ef9da988231fd2d",
        "IPY_MODEL_80fdda1e06004b0a8d7e852b0503ec15"
       ],
       "layout": "IPY_MODEL_511583b382db44098c2ffae6ff0577b5"
      }
     },
     "41d7c06eb11349948ab30d3e1498c89a": {
      "model_module": "@jupyter-widgets/controls",
      "model_module_version": "1.5.0",
      "model_name": "HTMLModel",
      "state": {
       "_dom_classes": [],
       "_model_module": "@jupyter-widgets/controls",
       "_model_module_version": "1.5.0",
       "_model_name": "HTMLModel",
       "_view_count": null,
       "_view_module": "@jupyter-widgets/controls",
       "_view_module_version": "1.5.0",
       "_view_name": "HTMLView",
       "description": "",
       "description_tooltip": null,
       "layout": "IPY_MODEL_acd2d581aa9f434aab66ed4b75e4670c",
       "placeholder": "​",
       "style": "IPY_MODEL_4b07097da60549c2bace849602001002",
       "value": " 47/47 [00:00&lt;00:00, 191.90 examples/s]"
      }
     },
     "45284cdc7c374eb0a59a8c7423863995": {
      "model_module": "@jupyter-widgets/controls",
      "model_module_version": "1.5.0",
      "model_name": "ProgressStyleModel",
      "state": {
       "_model_module": "@jupyter-widgets/controls",
       "_model_module_version": "1.5.0",
       "_model_name": "ProgressStyleModel",
       "_view_count": null,
       "_view_module": "@jupyter-widgets/base",
       "_view_module_version": "1.2.0",
       "_view_name": "StyleView",
       "bar_color": null,
       "description_width": ""
      }
     },
     "4a175c27c4fe471c9c0cbea9b4ac0735": {
      "model_module": "@jupyter-widgets/controls",
      "model_module_version": "1.5.0",
      "model_name": "DescriptionStyleModel",
      "state": {
       "_model_module": "@jupyter-widgets/controls",
       "_model_module_version": "1.5.0",
       "_model_name": "DescriptionStyleModel",
       "_view_count": null,
       "_view_module": "@jupyter-widgets/base",
       "_view_module_version": "1.2.0",
       "_view_name": "StyleView",
       "description_width": ""
      }
     },
     "4b07097da60549c2bace849602001002": {
      "model_module": "@jupyter-widgets/controls",
      "model_module_version": "1.5.0",
      "model_name": "DescriptionStyleModel",
      "state": {
       "_model_module": "@jupyter-widgets/controls",
       "_model_module_version": "1.5.0",
       "_model_name": "DescriptionStyleModel",
       "_view_count": null,
       "_view_module": "@jupyter-widgets/base",
       "_view_module_version": "1.2.0",
       "_view_name": "StyleView",
       "description_width": ""
      }
     },
     "4be9e2152aeb4a9e93c8ea522292a9e4": {
      "model_module": "@jupyter-widgets/base",
      "model_module_version": "1.2.0",
      "model_name": "LayoutModel",
      "state": {
       "_model_module": "@jupyter-widgets/base",
       "_model_module_version": "1.2.0",
       "_model_name": "LayoutModel",
       "_view_count": null,
       "_view_module": "@jupyter-widgets/base",
       "_view_module_version": "1.2.0",
       "_view_name": "LayoutView",
       "align_content": null,
       "align_items": null,
       "align_self": null,
       "border": null,
       "bottom": null,
       "display": null,
       "flex": null,
       "flex_flow": null,
       "grid_area": null,
       "grid_auto_columns": null,
       "grid_auto_flow": null,
       "grid_auto_rows": null,
       "grid_column": null,
       "grid_gap": null,
       "grid_row": null,
       "grid_template_areas": null,
       "grid_template_columns": null,
       "grid_template_rows": null,
       "height": null,
       "justify_content": null,
       "justify_items": null,
       "left": null,
       "margin": null,
       "max_height": null,
       "max_width": null,
       "min_height": null,
       "min_width": null,
       "object_fit": null,
       "object_position": null,
       "order": null,
       "overflow": null,
       "overflow_x": null,
       "overflow_y": null,
       "padding": null,
       "right": null,
       "top": null,
       "visibility": null,
       "width": null
      }
     },
     "5047409c77f54535a27555466ace7af0": {
      "model_module": "@jupyter-widgets/controls",
      "model_module_version": "1.5.0",
      "model_name": "HTMLModel",
      "state": {
       "_dom_classes": [],
       "_model_module": "@jupyter-widgets/controls",
       "_model_module_version": "1.5.0",
       "_model_name": "HTMLModel",
       "_view_count": null,
       "_view_module": "@jupyter-widgets/controls",
       "_view_module_version": "1.5.0",
       "_view_name": "HTMLView",
       "description": "",
       "description_tooltip": null,
       "layout": "IPY_MODEL_dcfbf94b74954824861822eef76e01f7",
       "placeholder": "​",
       "style": "IPY_MODEL_5e3023dc7a8e45c79a59adf325cb7d72",
       "value": "README.md: 100%"
      }
     },
     "511583b382db44098c2ffae6ff0577b5": {
      "model_module": "@jupyter-widgets/base",
      "model_module_version": "1.2.0",
      "model_name": "LayoutModel",
      "state": {
       "_model_module": "@jupyter-widgets/base",
       "_model_module_version": "1.2.0",
       "_model_name": "LayoutModel",
       "_view_count": null,
       "_view_module": "@jupyter-widgets/base",
       "_view_module_version": "1.2.0",
       "_view_name": "LayoutView",
       "align_content": null,
       "align_items": null,
       "align_self": null,
       "border": null,
       "bottom": null,
       "display": null,
       "flex": null,
       "flex_flow": null,
       "grid_area": null,
       "grid_auto_columns": null,
       "grid_auto_flow": null,
       "grid_auto_rows": null,
       "grid_column": null,
       "grid_gap": null,
       "grid_row": null,
       "grid_template_areas": null,
       "grid_template_columns": null,
       "grid_template_rows": null,
       "height": null,
       "justify_content": null,
       "justify_items": null,
       "left": null,
       "margin": null,
       "max_height": null,
       "max_width": null,
       "min_height": null,
       "min_width": null,
       "object_fit": null,
       "object_position": null,
       "order": null,
       "overflow": null,
       "overflow_x": null,
       "overflow_y": null,
       "padding": null,
       "right": null,
       "top": null,
       "visibility": null,
       "width": null
      }
     },
     "55594918fe0b40c295ab12ca9362c51c": {
      "model_module": "@jupyter-widgets/base",
      "model_module_version": "1.2.0",
      "model_name": "LayoutModel",
      "state": {
       "_model_module": "@jupyter-widgets/base",
       "_model_module_version": "1.2.0",
       "_model_name": "LayoutModel",
       "_view_count": null,
       "_view_module": "@jupyter-widgets/base",
       "_view_module_version": "1.2.0",
       "_view_name": "LayoutView",
       "align_content": null,
       "align_items": null,
       "align_self": null,
       "border": null,
       "bottom": null,
       "display": null,
       "flex": null,
       "flex_flow": null,
       "grid_area": null,
       "grid_auto_columns": null,
       "grid_auto_flow": null,
       "grid_auto_rows": null,
       "grid_column": null,
       "grid_gap": null,
       "grid_row": null,
       "grid_template_areas": null,
       "grid_template_columns": null,
       "grid_template_rows": null,
       "height": null,
       "justify_content": null,
       "justify_items": null,
       "left": null,
       "margin": null,
       "max_height": null,
       "max_width": null,
       "min_height": null,
       "min_width": null,
       "object_fit": null,
       "object_position": null,
       "order": null,
       "overflow": null,
       "overflow_x": null,
       "overflow_y": null,
       "padding": null,
       "right": null,
       "top": null,
       "visibility": null,
       "width": null
      }
     },
     "5757e5cef382411ca375dcb78aeb82a5": {
      "model_module": "@jupyter-widgets/base",
      "model_module_version": "1.2.0",
      "model_name": "LayoutModel",
      "state": {
       "_model_module": "@jupyter-widgets/base",
       "_model_module_version": "1.2.0",
       "_model_name": "LayoutModel",
       "_view_count": null,
       "_view_module": "@jupyter-widgets/base",
       "_view_module_version": "1.2.0",
       "_view_name": "LayoutView",
       "align_content": null,
       "align_items": null,
       "align_self": null,
       "border": null,
       "bottom": null,
       "display": null,
       "flex": null,
       "flex_flow": null,
       "grid_area": null,
       "grid_auto_columns": null,
       "grid_auto_flow": null,
       "grid_auto_rows": null,
       "grid_column": null,
       "grid_gap": null,
       "grid_row": null,
       "grid_template_areas": null,
       "grid_template_columns": null,
       "grid_template_rows": null,
       "height": null,
       "justify_content": null,
       "justify_items": null,
       "left": null,
       "margin": null,
       "max_height": null,
       "max_width": null,
       "min_height": null,
       "min_width": null,
       "object_fit": null,
       "object_position": null,
       "order": null,
       "overflow": null,
       "overflow_x": null,
       "overflow_y": null,
       "padding": null,
       "right": null,
       "top": null,
       "visibility": null,
       "width": null
      }
     },
     "5a50af19964140d0b5b0d63c1c278fe7": {
      "model_module": "@jupyter-widgets/base",
      "model_module_version": "1.2.0",
      "model_name": "LayoutModel",
      "state": {
       "_model_module": "@jupyter-widgets/base",
       "_model_module_version": "1.2.0",
       "_model_name": "LayoutModel",
       "_view_count": null,
       "_view_module": "@jupyter-widgets/base",
       "_view_module_version": "1.2.0",
       "_view_name": "LayoutView",
       "align_content": null,
       "align_items": null,
       "align_self": null,
       "border": null,
       "bottom": null,
       "display": null,
       "flex": null,
       "flex_flow": null,
       "grid_area": null,
       "grid_auto_columns": null,
       "grid_auto_flow": null,
       "grid_auto_rows": null,
       "grid_column": null,
       "grid_gap": null,
       "grid_row": null,
       "grid_template_areas": null,
       "grid_template_columns": null,
       "grid_template_rows": null,
       "height": null,
       "justify_content": null,
       "justify_items": null,
       "left": null,
       "margin": null,
       "max_height": null,
       "max_width": null,
       "min_height": null,
       "min_width": null,
       "object_fit": null,
       "object_position": null,
       "order": null,
       "overflow": null,
       "overflow_x": null,
       "overflow_y": null,
       "padding": null,
       "right": null,
       "top": null,
       "visibility": null,
       "width": null
      }
     },
     "5cd48bd0f4204455b1281b33df4d1830": {
      "model_module": "@jupyter-widgets/base",
      "model_module_version": "1.2.0",
      "model_name": "LayoutModel",
      "state": {
       "_model_module": "@jupyter-widgets/base",
       "_model_module_version": "1.2.0",
       "_model_name": "LayoutModel",
       "_view_count": null,
       "_view_module": "@jupyter-widgets/base",
       "_view_module_version": "1.2.0",
       "_view_name": "LayoutView",
       "align_content": null,
       "align_items": null,
       "align_self": null,
       "border": null,
       "bottom": null,
       "display": null,
       "flex": null,
       "flex_flow": null,
       "grid_area": null,
       "grid_auto_columns": null,
       "grid_auto_flow": null,
       "grid_auto_rows": null,
       "grid_column": null,
       "grid_gap": null,
       "grid_row": null,
       "grid_template_areas": null,
       "grid_template_columns": null,
       "grid_template_rows": null,
       "height": null,
       "justify_content": null,
       "justify_items": null,
       "left": null,
       "margin": null,
       "max_height": null,
       "max_width": null,
       "min_height": null,
       "min_width": null,
       "object_fit": null,
       "object_position": null,
       "order": null,
       "overflow": null,
       "overflow_x": null,
       "overflow_y": null,
       "padding": null,
       "right": null,
       "top": null,
       "visibility": null,
       "width": null
      }
     },
     "5e3023dc7a8e45c79a59adf325cb7d72": {
      "model_module": "@jupyter-widgets/controls",
      "model_module_version": "1.5.0",
      "model_name": "DescriptionStyleModel",
      "state": {
       "_model_module": "@jupyter-widgets/controls",
       "_model_module_version": "1.5.0",
       "_model_name": "DescriptionStyleModel",
       "_view_count": null,
       "_view_module": "@jupyter-widgets/base",
       "_view_module_version": "1.2.0",
       "_view_name": "StyleView",
       "description_width": ""
      }
     },
     "60726b64e87c4390b08ef58ae6e11845": {
      "model_module": "@jupyter-widgets/base",
      "model_module_version": "1.2.0",
      "model_name": "LayoutModel",
      "state": {
       "_model_module": "@jupyter-widgets/base",
       "_model_module_version": "1.2.0",
       "_model_name": "LayoutModel",
       "_view_count": null,
       "_view_module": "@jupyter-widgets/base",
       "_view_module_version": "1.2.0",
       "_view_name": "LayoutView",
       "align_content": null,
       "align_items": null,
       "align_self": null,
       "border": null,
       "bottom": null,
       "display": null,
       "flex": null,
       "flex_flow": null,
       "grid_area": null,
       "grid_auto_columns": null,
       "grid_auto_flow": null,
       "grid_auto_rows": null,
       "grid_column": null,
       "grid_gap": null,
       "grid_row": null,
       "grid_template_areas": null,
       "grid_template_columns": null,
       "grid_template_rows": null,
       "height": null,
       "justify_content": null,
       "justify_items": null,
       "left": null,
       "margin": null,
       "max_height": null,
       "max_width": null,
       "min_height": null,
       "min_width": null,
       "object_fit": null,
       "object_position": null,
       "order": null,
       "overflow": null,
       "overflow_x": null,
       "overflow_y": null,
       "padding": null,
       "right": null,
       "top": null,
       "visibility": null,
       "width": null
      }
     },
     "614cef3185bd4c94a92d37f0f2660c3f": {
      "model_module": "@jupyter-widgets/controls",
      "model_module_version": "1.5.0",
      "model_name": "FloatProgressModel",
      "state": {
       "_dom_classes": [],
       "_model_module": "@jupyter-widgets/controls",
       "_model_module_version": "1.5.0",
       "_model_name": "FloatProgressModel",
       "_view_count": null,
       "_view_module": "@jupyter-widgets/controls",
       "_view_module_version": "1.5.0",
       "_view_name": "ProgressView",
       "bar_style": "success",
       "description": "",
       "description_tooltip": null,
       "layout": "IPY_MODEL_4be9e2152aeb4a9e93c8ea522292a9e4",
       "max": 167832240.0,
       "min": 0.0,
       "orientation": "horizontal",
       "style": "IPY_MODEL_0759dadf25e74bdab8c8dc944dcc3962",
       "value": 167832240.0
      }
     },
     "6217d785081d4ee1a4434255f8623dec": {
      "model_module": "@jupyter-widgets/controls",
      "model_module_version": "1.5.0",
      "model_name": "HTMLModel",
      "state": {
       "_dom_classes": [],
       "_model_module": "@jupyter-widgets/controls",
       "_model_module_version": "1.5.0",
       "_model_name": "HTMLModel",
       "_view_count": null,
       "_view_module": "@jupyter-widgets/controls",
       "_view_module_version": "1.5.0",
       "_view_name": "HTMLView",
       "description": "",
       "description_tooltip": null,
       "layout": "IPY_MODEL_5a50af19964140d0b5b0d63c1c278fe7",
       "placeholder": "​",
       "style": "IPY_MODEL_18ff5624fd884a4b8c1516c3f4eb3d82",
       "value": "adapter_model.safetensors: 100%"
      }
     },
     "69d54020b49d41f8b0f82b3a0ccc5b2f": {
      "model_module": "@jupyter-widgets/controls",
      "model_module_version": "1.5.0",
      "model_name": "DescriptionStyleModel",
      "state": {
       "_model_module": "@jupyter-widgets/controls",
       "_model_module_version": "1.5.0",
       "_model_name": "DescriptionStyleModel",
       "_view_count": null,
       "_view_module": "@jupyter-widgets/base",
       "_view_module_version": "1.2.0",
       "_view_name": "StyleView",
       "description_width": ""
      }
     },
     "6d813ff8e7b845828779ef1526383aa6": {
      "model_module": "@jupyter-widgets/controls",
      "model_module_version": "1.5.0",
      "model_name": "HTMLModel",
      "state": {
       "_dom_classes": [],
       "_model_module": "@jupyter-widgets/controls",
       "_model_module_version": "1.5.0",
       "_model_name": "HTMLModel",
       "_view_count": null,
       "_view_module": "@jupyter-widgets/controls",
       "_view_module_version": "1.5.0",
       "_view_name": "HTMLView",
       "description": "",
       "description_tooltip": null,
       "layout": "IPY_MODEL_a9110bbe2237494c90f82a0be7c2c68a",
       "placeholder": "​",
       "style": "IPY_MODEL_261f3d356b254feeb87bf79baf26874e",
       "value": " 467/467 [00:00&lt;00:00, 1182.17 examples/s]"
      }
     },
     "80fdda1e06004b0a8d7e852b0503ec15": {
      "model_module": "@jupyter-widgets/controls",
      "model_module_version": "1.5.0",
      "model_name": "HTMLModel",
      "state": {
       "_dom_classes": [],
       "_model_module": "@jupyter-widgets/controls",
       "_model_module_version": "1.5.0",
       "_model_name": "HTMLModel",
       "_view_count": null,
       "_view_module": "@jupyter-widgets/controls",
       "_view_module_version": "1.5.0",
       "_view_name": "HTMLView",
       "description": "",
       "description_tooltip": null,
       "layout": "IPY_MODEL_c0ee8e17a111408d93a1d90c9f3e973f",
       "placeholder": "​",
       "style": "IPY_MODEL_0683087744f541c4bf0adb68afbe3fda",
       "value": " 4/4 [03:04&lt;00:00, 39.78s/it]"
      }
     },
     "8c16dc884059480bb3e9faf7b1723570": {
      "model_module": "@jupyter-widgets/controls",
      "model_module_version": "1.5.0",
      "model_name": "HBoxModel",
      "state": {
       "_dom_classes": [],
       "_model_module": "@jupyter-widgets/controls",
       "_model_module_version": "1.5.0",
       "_model_name": "HBoxModel",
       "_view_count": null,
       "_view_module": "@jupyter-widgets/controls",
       "_view_module_version": "1.5.0",
       "_view_name": "HBoxView",
       "box_style": "",
       "children": [
        "IPY_MODEL_5047409c77f54535a27555466ace7af0",
        "IPY_MODEL_02d79082e5e84efa9d7356241bc0f63f",
        "IPY_MODEL_e68a97c33dd54c86be5b666f1fa800a6"
       ],
       "layout": "IPY_MODEL_f631b0c36f104a1dae742c305b10bb8b"
      }
     },
     "8eeeffd8f432423d81e1764a42c28696": {
      "model_module": "@jupyter-widgets/controls",
      "model_module_version": "1.5.0",
      "model_name": "FloatProgressModel",
      "state": {
       "_dom_classes": [],
       "_model_module": "@jupyter-widgets/controls",
       "_model_module_version": "1.5.0",
       "_model_name": "FloatProgressModel",
       "_view_count": null,
       "_view_module": "@jupyter-widgets/controls",
       "_view_module_version": "1.5.0",
       "_view_name": "ProgressView",
       "bar_style": "success",
       "description": "",
       "description_tooltip": null,
       "layout": "IPY_MODEL_5757e5cef382411ca375dcb78aeb82a5",
       "max": 47.0,
       "min": 0.0,
       "orientation": "horizontal",
       "style": "IPY_MODEL_fcf7ce42ca224145b4ea19bc23b293f3",
       "value": 47.0
      }
     },
     "91fcb6faaf4846adb6f0439c30c3709a": {
      "model_module": "@jupyter-widgets/base",
      "model_module_version": "1.2.0",
      "model_name": "LayoutModel",
      "state": {
       "_model_module": "@jupyter-widgets/base",
       "_model_module_version": "1.2.0",
       "_model_name": "LayoutModel",
       "_view_count": null,
       "_view_module": "@jupyter-widgets/base",
       "_view_module_version": "1.2.0",
       "_view_name": "LayoutView",
       "align_content": null,
       "align_items": null,
       "align_self": null,
       "border": null,
       "bottom": null,
       "display": null,
       "flex": null,
       "flex_flow": null,
       "grid_area": null,
       "grid_auto_columns": null,
       "grid_auto_flow": null,
       "grid_auto_rows": null,
       "grid_column": null,
       "grid_gap": null,
       "grid_row": null,
       "grid_template_areas": null,
       "grid_template_columns": null,
       "grid_template_rows": null,
       "height": null,
       "justify_content": null,
       "justify_items": null,
       "left": null,
       "margin": null,
       "max_height": null,
       "max_width": null,
       "min_height": null,
       "min_width": null,
       "object_fit": null,
       "object_position": null,
       "order": null,
       "overflow": null,
       "overflow_x": null,
       "overflow_y": null,
       "padding": null,
       "right": null,
       "top": null,
       "visibility": null,
       "width": null
      }
     },
     "956fab5cbbfd4475b5cb5e51f9a08583": {
      "model_module": "@jupyter-widgets/controls",
      "model_module_version": "1.5.0",
      "model_name": "DescriptionStyleModel",
      "state": {
       "_model_module": "@jupyter-widgets/controls",
       "_model_module_version": "1.5.0",
       "_model_name": "DescriptionStyleModel",
       "_view_count": null,
       "_view_module": "@jupyter-widgets/base",
       "_view_module_version": "1.2.0",
       "_view_name": "StyleView",
       "description_width": ""
      }
     },
     "99f0d2b8ace44e2aa63763eca4c0d7e6": {
      "model_module": "@jupyter-widgets/controls",
      "model_module_version": "1.5.0",
      "model_name": "HTMLModel",
      "state": {
       "_dom_classes": [],
       "_model_module": "@jupyter-widgets/controls",
       "_model_module_version": "1.5.0",
       "_model_name": "HTMLModel",
       "_view_count": null,
       "_view_module": "@jupyter-widgets/controls",
       "_view_module_version": "1.5.0",
       "_view_name": "HTMLView",
       "description": "",
       "description_tooltip": null,
       "layout": "IPY_MODEL_168a91d5f3eb4650a56c130f52b8e137",
       "placeholder": "​",
       "style": "IPY_MODEL_ac2e513851fc46e8a3e18f637e6be060",
       "value": " 168M/168M [00:20&lt;00:00, 7.26MB/s]"
      }
     },
     "9a5fe3b0572a4ef6bef11281ced0922c": {
      "model_module": "@jupyter-widgets/controls",
      "model_module_version": "1.5.0",
      "model_name": "HTMLModel",
      "state": {
       "_dom_classes": [],
       "_model_module": "@jupyter-widgets/controls",
       "_model_module_version": "1.5.0",
       "_model_name": "HTMLModel",
       "_view_count": null,
       "_view_module": "@jupyter-widgets/controls",
       "_view_module_version": "1.5.0",
       "_view_name": "HTMLView",
       "description": "",
       "description_tooltip": null,
       "layout": "IPY_MODEL_d6877c44b63a4df2aa13dc9c1f684711",
       "placeholder": "​",
       "style": "IPY_MODEL_956fab5cbbfd4475b5cb5e51f9a08583",
       "value": "Map: 100%"
      }
     },
     "a1463faa6fd54bb792f284a04950d4e4": {
      "model_module": "@jupyter-widgets/controls",
      "model_module_version": "1.5.0",
      "model_name": "HTMLModel",
      "state": {
       "_dom_classes": [],
       "_model_module": "@jupyter-widgets/controls",
       "_model_module_version": "1.5.0",
       "_model_name": "HTMLModel",
       "_view_count": null,
       "_view_module": "@jupyter-widgets/controls",
       "_view_module_version": "1.5.0",
       "_view_name": "HTMLView",
       "description": "",
       "description_tooltip": null,
       "layout": "IPY_MODEL_faf97e63782644639e1002bbedc845c2",
       "placeholder": "​",
       "style": "IPY_MODEL_d40b4edc6acb4a058c5197d6fd1e0229",
       "value": "Map: 100%"
      }
     },
     "a9110bbe2237494c90f82a0be7c2c68a": {
      "model_module": "@jupyter-widgets/base",
      "model_module_version": "1.2.0",
      "model_name": "LayoutModel",
      "state": {
       "_model_module": "@jupyter-widgets/base",
       "_model_module_version": "1.2.0",
       "_model_name": "LayoutModel",
       "_view_count": null,
       "_view_module": "@jupyter-widgets/base",
       "_view_module_version": "1.2.0",
       "_view_name": "LayoutView",
       "align_content": null,
       "align_items": null,
       "align_self": null,
       "border": null,
       "bottom": null,
       "display": null,
       "flex": null,
       "flex_flow": null,
       "grid_area": null,
       "grid_auto_columns": null,
       "grid_auto_flow": null,
       "grid_auto_rows": null,
       "grid_column": null,
       "grid_gap": null,
       "grid_row": null,
       "grid_template_areas": null,
       "grid_template_columns": null,
       "grid_template_rows": null,
       "height": null,
       "justify_content": null,
       "justify_items": null,
       "left": null,
       "margin": null,
       "max_height": null,
       "max_width": null,
       "min_height": null,
       "min_width": null,
       "object_fit": null,
       "object_position": null,
       "order": null,
       "overflow": null,
       "overflow_x": null,
       "overflow_y": null,
       "padding": null,
       "right": null,
       "top": null,
       "visibility": null,
       "width": null
      }
     },
     "ac2e513851fc46e8a3e18f637e6be060": {
      "model_module": "@jupyter-widgets/controls",
      "model_module_version": "1.5.0",
      "model_name": "DescriptionStyleModel",
      "state": {
       "_model_module": "@jupyter-widgets/controls",
       "_model_module_version": "1.5.0",
       "_model_name": "DescriptionStyleModel",
       "_view_count": null,
       "_view_module": "@jupyter-widgets/base",
       "_view_module_version": "1.2.0",
       "_view_name": "StyleView",
       "description_width": ""
      }
     },
     "acd2d581aa9f434aab66ed4b75e4670c": {
      "model_module": "@jupyter-widgets/base",
      "model_module_version": "1.2.0",
      "model_name": "LayoutModel",
      "state": {
       "_model_module": "@jupyter-widgets/base",
       "_model_module_version": "1.2.0",
       "_model_name": "LayoutModel",
       "_view_count": null,
       "_view_module": "@jupyter-widgets/base",
       "_view_module_version": "1.2.0",
       "_view_name": "LayoutView",
       "align_content": null,
       "align_items": null,
       "align_self": null,
       "border": null,
       "bottom": null,
       "display": null,
       "flex": null,
       "flex_flow": null,
       "grid_area": null,
       "grid_auto_columns": null,
       "grid_auto_flow": null,
       "grid_auto_rows": null,
       "grid_column": null,
       "grid_gap": null,
       "grid_row": null,
       "grid_template_areas": null,
       "grid_template_columns": null,
       "grid_template_rows": null,
       "height": null,
       "justify_content": null,
       "justify_items": null,
       "left": null,
       "margin": null,
       "max_height": null,
       "max_width": null,
       "min_height": null,
       "min_width": null,
       "object_fit": null,
       "object_position": null,
       "order": null,
       "overflow": null,
       "overflow_x": null,
       "overflow_y": null,
       "padding": null,
       "right": null,
       "top": null,
       "visibility": null,
       "width": null
      }
     },
     "b0f79ad4120b4970b62c380c6364099b": {
      "model_module": "@jupyter-widgets/base",
      "model_module_version": "1.2.0",
      "model_name": "LayoutModel",
      "state": {
       "_model_module": "@jupyter-widgets/base",
       "_model_module_version": "1.2.0",
       "_model_name": "LayoutModel",
       "_view_count": null,
       "_view_module": "@jupyter-widgets/base",
       "_view_module_version": "1.2.0",
       "_view_name": "LayoutView",
       "align_content": null,
       "align_items": null,
       "align_self": null,
       "border": null,
       "bottom": null,
       "display": null,
       "flex": null,
       "flex_flow": null,
       "grid_area": null,
       "grid_auto_columns": null,
       "grid_auto_flow": null,
       "grid_auto_rows": null,
       "grid_column": null,
       "grid_gap": null,
       "grid_row": null,
       "grid_template_areas": null,
       "grid_template_columns": null,
       "grid_template_rows": null,
       "height": null,
       "justify_content": null,
       "justify_items": null,
       "left": null,
       "margin": null,
       "max_height": null,
       "max_width": null,
       "min_height": null,
       "min_width": null,
       "object_fit": null,
       "object_position": null,
       "order": null,
       "overflow": null,
       "overflow_x": null,
       "overflow_y": null,
       "padding": null,
       "right": null,
       "top": null,
       "visibility": null,
       "width": null
      }
     },
     "b6649a7dd5ca48b79fe2ffd2107ef9e2": {
      "model_module": "@jupyter-widgets/controls",
      "model_module_version": "1.5.0",
      "model_name": "HTMLModel",
      "state": {
       "_dom_classes": [],
       "_model_module": "@jupyter-widgets/controls",
       "_model_module_version": "1.5.0",
       "_model_name": "HTMLModel",
       "_view_count": null,
       "_view_module": "@jupyter-widgets/controls",
       "_view_module_version": "1.5.0",
       "_view_name": "HTMLView",
       "description": "",
       "description_tooltip": null,
       "layout": "IPY_MODEL_c66a6ff701ce4bb1b0c030f716856fe9",
       "placeholder": "​",
       "style": "IPY_MODEL_f5d97e9f3cbf4489a31f71b66d51e3bf",
       "value": " 420/420 [00:01&lt;00:00, 229.17 examples/s]"
      }
     },
     "b9bf3f504b8a4267b004e38982a9aef8": {
      "model_module": "@jupyter-widgets/controls",
      "model_module_version": "1.5.0",
      "model_name": "HBoxModel",
      "state": {
       "_dom_classes": [],
       "_model_module": "@jupyter-widgets/controls",
       "_model_module_version": "1.5.0",
       "_model_name": "HBoxModel",
       "_view_count": null,
       "_view_module": "@jupyter-widgets/controls",
       "_view_module_version": "1.5.0",
       "_view_name": "HBoxView",
       "box_style": "",
       "children": [
        "IPY_MODEL_ea6e280a12b7431a974dc0919233fde2",
        "IPY_MODEL_efc4a9c632c74031861b1b9eec035d42",
        "IPY_MODEL_6d813ff8e7b845828779ef1526383aa6"
       ],
       "layout": "IPY_MODEL_b0f79ad4120b4970b62c380c6364099b"
      }
     },
     "c0ee8e17a111408d93a1d90c9f3e973f": {
      "model_module": "@jupyter-widgets/base",
      "model_module_version": "1.2.0",
      "model_name": "LayoutModel",
      "state": {
       "_model_module": "@jupyter-widgets/base",
       "_model_module_version": "1.2.0",
       "_model_name": "LayoutModel",
       "_view_count": null,
       "_view_module": "@jupyter-widgets/base",
       "_view_module_version": "1.2.0",
       "_view_name": "LayoutView",
       "align_content": null,
       "align_items": null,
       "align_self": null,
       "border": null,
       "bottom": null,
       "display": null,
       "flex": null,
       "flex_flow": null,
       "grid_area": null,
       "grid_auto_columns": null,
       "grid_auto_flow": null,
       "grid_auto_rows": null,
       "grid_column": null,
       "grid_gap": null,
       "grid_row": null,
       "grid_template_areas": null,
       "grid_template_columns": null,
       "grid_template_rows": null,
       "height": null,
       "justify_content": null,
       "justify_items": null,
       "left": null,
       "margin": null,
       "max_height": null,
       "max_width": null,
       "min_height": null,
       "min_width": null,
       "object_fit": null,
       "object_position": null,
       "order": null,
       "overflow": null,
       "overflow_x": null,
       "overflow_y": null,
       "padding": null,
       "right": null,
       "top": null,
       "visibility": null,
       "width": null
      }
     },
     "c66a6ff701ce4bb1b0c030f716856fe9": {
      "model_module": "@jupyter-widgets/base",
      "model_module_version": "1.2.0",
      "model_name": "LayoutModel",
      "state": {
       "_model_module": "@jupyter-widgets/base",
       "_model_module_version": "1.2.0",
       "_model_name": "LayoutModel",
       "_view_count": null,
       "_view_module": "@jupyter-widgets/base",
       "_view_module_version": "1.2.0",
       "_view_name": "LayoutView",
       "align_content": null,
       "align_items": null,
       "align_self": null,
       "border": null,
       "bottom": null,
       "display": null,
       "flex": null,
       "flex_flow": null,
       "grid_area": null,
       "grid_auto_columns": null,
       "grid_auto_flow": null,
       "grid_auto_rows": null,
       "grid_column": null,
       "grid_gap": null,
       "grid_row": null,
       "grid_template_areas": null,
       "grid_template_columns": null,
       "grid_template_rows": null,
       "height": null,
       "justify_content": null,
       "justify_items": null,
       "left": null,
       "margin": null,
       "max_height": null,
       "max_width": null,
       "min_height": null,
       "min_width": null,
       "object_fit": null,
       "object_position": null,
       "order": null,
       "overflow": null,
       "overflow_x": null,
       "overflow_y": null,
       "padding": null,
       "right": null,
       "top": null,
       "visibility": null,
       "width": null
      }
     },
     "c91e6ae29b544dd798d43f64df21ab46": {
      "model_module": "@jupyter-widgets/controls",
      "model_module_version": "1.5.0",
      "model_name": "HTMLModel",
      "state": {
       "_dom_classes": [],
       "_model_module": "@jupyter-widgets/controls",
       "_model_module_version": "1.5.0",
       "_model_name": "HTMLModel",
       "_view_count": null,
       "_view_module": "@jupyter-widgets/controls",
       "_view_module_version": "1.5.0",
       "_view_name": "HTMLView",
       "description": "",
       "description_tooltip": null,
       "layout": "IPY_MODEL_91fcb6faaf4846adb6f0439c30c3709a",
       "placeholder": "​",
       "style": "IPY_MODEL_4a175c27c4fe471c9c0cbea9b4ac0735",
       "value": "Loading checkpoint shards: 100%"
      }
     },
     "c9cb28e4702f4a43aa084d57d9ee5f8b": {
      "model_module": "@jupyter-widgets/controls",
      "model_module_version": "1.5.0",
      "model_name": "HBoxModel",
      "state": {
       "_dom_classes": [],
       "_model_module": "@jupyter-widgets/controls",
       "_model_module_version": "1.5.0",
       "_model_name": "HBoxModel",
       "_view_count": null,
       "_view_module": "@jupyter-widgets/controls",
       "_view_module_version": "1.5.0",
       "_view_name": "HBoxView",
       "box_style": "",
       "children": [
        "IPY_MODEL_9a5fe3b0572a4ef6bef11281ced0922c",
        "IPY_MODEL_f017fc47bb944df39bc41b0f4d64b2a6",
        "IPY_MODEL_b6649a7dd5ca48b79fe2ffd2107ef9e2"
       ],
       "layout": "IPY_MODEL_3161acfef129497e9548682bd3821605"
      }
     },
     "cbb14f7b75b345899dc9538ff2d047fc": {
      "model_module": "@jupyter-widgets/base",
      "model_module_version": "1.2.0",
      "model_name": "LayoutModel",
      "state": {
       "_model_module": "@jupyter-widgets/base",
       "_model_module_version": "1.2.0",
       "_model_name": "LayoutModel",
       "_view_count": null,
       "_view_module": "@jupyter-widgets/base",
       "_view_module_version": "1.2.0",
       "_view_name": "LayoutView",
       "align_content": null,
       "align_items": null,
       "align_self": null,
       "border": null,
       "bottom": null,
       "display": null,
       "flex": null,
       "flex_flow": null,
       "grid_area": null,
       "grid_auto_columns": null,
       "grid_auto_flow": null,
       "grid_auto_rows": null,
       "grid_column": null,
       "grid_gap": null,
       "grid_row": null,
       "grid_template_areas": null,
       "grid_template_columns": null,
       "grid_template_rows": null,
       "height": null,
       "justify_content": null,
       "justify_items": null,
       "left": null,
       "margin": null,
       "max_height": null,
       "max_width": null,
       "min_height": null,
       "min_width": null,
       "object_fit": null,
       "object_position": null,
       "order": null,
       "overflow": null,
       "overflow_x": null,
       "overflow_y": null,
       "padding": null,
       "right": null,
       "top": null,
       "visibility": null,
       "width": null
      }
     },
     "d40b4edc6acb4a058c5197d6fd1e0229": {
      "model_module": "@jupyter-widgets/controls",
      "model_module_version": "1.5.0",
      "model_name": "DescriptionStyleModel",
      "state": {
       "_model_module": "@jupyter-widgets/controls",
       "_model_module_version": "1.5.0",
       "_model_name": "DescriptionStyleModel",
       "_view_count": null,
       "_view_module": "@jupyter-widgets/base",
       "_view_module_version": "1.2.0",
       "_view_name": "StyleView",
       "description_width": ""
      }
     },
     "d6877c44b63a4df2aa13dc9c1f684711": {
      "model_module": "@jupyter-widgets/base",
      "model_module_version": "1.2.0",
      "model_name": "LayoutModel",
      "state": {
       "_model_module": "@jupyter-widgets/base",
       "_model_module_version": "1.2.0",
       "_model_name": "LayoutModel",
       "_view_count": null,
       "_view_module": "@jupyter-widgets/base",
       "_view_module_version": "1.2.0",
       "_view_name": "LayoutView",
       "align_content": null,
       "align_items": null,
       "align_self": null,
       "border": null,
       "bottom": null,
       "display": null,
       "flex": null,
       "flex_flow": null,
       "grid_area": null,
       "grid_auto_columns": null,
       "grid_auto_flow": null,
       "grid_auto_rows": null,
       "grid_column": null,
       "grid_gap": null,
       "grid_row": null,
       "grid_template_areas": null,
       "grid_template_columns": null,
       "grid_template_rows": null,
       "height": null,
       "justify_content": null,
       "justify_items": null,
       "left": null,
       "margin": null,
       "max_height": null,
       "max_width": null,
       "min_height": null,
       "min_width": null,
       "object_fit": null,
       "object_position": null,
       "order": null,
       "overflow": null,
       "overflow_x": null,
       "overflow_y": null,
       "padding": null,
       "right": null,
       "top": null,
       "visibility": null,
       "width": null
      }
     },
     "d8f44fb5da78495180bed3a458ee8901": {
      "model_module": "@jupyter-widgets/base",
      "model_module_version": "1.2.0",
      "model_name": "LayoutModel",
      "state": {
       "_model_module": "@jupyter-widgets/base",
       "_model_module_version": "1.2.0",
       "_model_name": "LayoutModel",
       "_view_count": null,
       "_view_module": "@jupyter-widgets/base",
       "_view_module_version": "1.2.0",
       "_view_name": "LayoutView",
       "align_content": null,
       "align_items": null,
       "align_self": null,
       "border": null,
       "bottom": null,
       "display": null,
       "flex": null,
       "flex_flow": null,
       "grid_area": null,
       "grid_auto_columns": null,
       "grid_auto_flow": null,
       "grid_auto_rows": null,
       "grid_column": null,
       "grid_gap": null,
       "grid_row": null,
       "grid_template_areas": null,
       "grid_template_columns": null,
       "grid_template_rows": null,
       "height": null,
       "justify_content": null,
       "justify_items": null,
       "left": null,
       "margin": null,
       "max_height": null,
       "max_width": null,
       "min_height": null,
       "min_width": null,
       "object_fit": null,
       "object_position": null,
       "order": null,
       "overflow": null,
       "overflow_x": null,
       "overflow_y": null,
       "padding": null,
       "right": null,
       "top": null,
       "visibility": null,
       "width": null
      }
     },
     "dcfbf94b74954824861822eef76e01f7": {
      "model_module": "@jupyter-widgets/base",
      "model_module_version": "1.2.0",
      "model_name": "LayoutModel",
      "state": {
       "_model_module": "@jupyter-widgets/base",
       "_model_module_version": "1.2.0",
       "_model_name": "LayoutModel",
       "_view_count": null,
       "_view_module": "@jupyter-widgets/base",
       "_view_module_version": "1.2.0",
       "_view_name": "LayoutView",
       "align_content": null,
       "align_items": null,
       "align_self": null,
       "border": null,
       "bottom": null,
       "display": null,
       "flex": null,
       "flex_flow": null,
       "grid_area": null,
       "grid_auto_columns": null,
       "grid_auto_flow": null,
       "grid_auto_rows": null,
       "grid_column": null,
       "grid_gap": null,
       "grid_row": null,
       "grid_template_areas": null,
       "grid_template_columns": null,
       "grid_template_rows": null,
       "height": null,
       "justify_content": null,
       "justify_items": null,
       "left": null,
       "margin": null,
       "max_height": null,
       "max_width": null,
       "min_height": null,
       "min_width": null,
       "object_fit": null,
       "object_position": null,
       "order": null,
       "overflow": null,
       "overflow_x": null,
       "overflow_y": null,
       "padding": null,
       "right": null,
       "top": null,
       "visibility": null,
       "width": null
      }
     },
     "e68a97c33dd54c86be5b666f1fa800a6": {
      "model_module": "@jupyter-widgets/controls",
      "model_module_version": "1.5.0",
      "model_name": "HTMLModel",
      "state": {
       "_dom_classes": [],
       "_model_module": "@jupyter-widgets/controls",
       "_model_module_version": "1.5.0",
       "_model_name": "HTMLModel",
       "_view_count": null,
       "_view_module": "@jupyter-widgets/controls",
       "_view_module_version": "1.5.0",
       "_view_name": "HTMLView",
       "description": "",
       "description_tooltip": null,
       "layout": "IPY_MODEL_f68ea26f6d90412facdcef50c7e7804e",
       "placeholder": "​",
       "style": "IPY_MODEL_69d54020b49d41f8b0f82b3a0ccc5b2f",
       "value": " 5.17k/5.17k [00:00&lt;00:00, 455kB/s]"
      }
     },
     "ea6e280a12b7431a974dc0919233fde2": {
      "model_module": "@jupyter-widgets/controls",
      "model_module_version": "1.5.0",
      "model_name": "HTMLModel",
      "state": {
       "_dom_classes": [],
       "_model_module": "@jupyter-widgets/controls",
       "_model_module_version": "1.5.0",
       "_model_name": "HTMLModel",
       "_view_count": null,
       "_view_module": "@jupyter-widgets/controls",
       "_view_module_version": "1.5.0",
       "_view_name": "HTMLView",
       "description": "",
       "description_tooltip": null,
       "layout": "IPY_MODEL_22f2db63126f4d13bbb6f4ce2619b9bd",
       "placeholder": "​",
       "style": "IPY_MODEL_2770b42a61c74150bcb442eac81c2486",
       "value": "Map (num_proc=4): 100%"
      }
     },
     "edb9bc40852d4ee5ab20e2c1d1e07b24": {
      "model_module": "@jupyter-widgets/controls",
      "model_module_version": "1.5.0",
      "model_name": "ProgressStyleModel",
      "state": {
       "_model_module": "@jupyter-widgets/controls",
       "_model_module_version": "1.5.0",
       "_model_name": "ProgressStyleModel",
       "_view_count": null,
       "_view_module": "@jupyter-widgets/base",
       "_view_module_version": "1.2.0",
       "_view_name": "StyleView",
       "bar_color": null,
       "description_width": ""
      }
     },
     "efc4a9c632c74031861b1b9eec035d42": {
      "model_module": "@jupyter-widgets/controls",
      "model_module_version": "1.5.0",
      "model_name": "FloatProgressModel",
      "state": {
       "_dom_classes": [],
       "_model_module": "@jupyter-widgets/controls",
       "_model_module_version": "1.5.0",
       "_model_name": "FloatProgressModel",
       "_view_count": null,
       "_view_module": "@jupyter-widgets/controls",
       "_view_module_version": "1.5.0",
       "_view_name": "ProgressView",
       "bar_style": "success",
       "description": "",
       "description_tooltip": null,
       "layout": "IPY_MODEL_1caa6605dbea4803b9442b1bd0be09e4",
       "max": 467.0,
       "min": 0.0,
       "orientation": "horizontal",
       "style": "IPY_MODEL_282b1b163807499d893fdce7c431c05a",
       "value": 467.0
      }
     },
     "f017fc47bb944df39bc41b0f4d64b2a6": {
      "model_module": "@jupyter-widgets/controls",
      "model_module_version": "1.5.0",
      "model_name": "FloatProgressModel",
      "state": {
       "_dom_classes": [],
       "_model_module": "@jupyter-widgets/controls",
       "_model_module_version": "1.5.0",
       "_model_name": "FloatProgressModel",
       "_view_count": null,
       "_view_module": "@jupyter-widgets/controls",
       "_view_module_version": "1.5.0",
       "_view_name": "ProgressView",
       "bar_style": "success",
       "description": "",
       "description_tooltip": null,
       "layout": "IPY_MODEL_cbb14f7b75b345899dc9538ff2d047fc",
       "max": 420.0,
       "min": 0.0,
       "orientation": "horizontal",
       "style": "IPY_MODEL_2b6b20562b1545ed93265bd92c9bee05",
       "value": 420.0
      }
     },
     "f5d97e9f3cbf4489a31f71b66d51e3bf": {
      "model_module": "@jupyter-widgets/controls",
      "model_module_version": "1.5.0",
      "model_name": "DescriptionStyleModel",
      "state": {
       "_model_module": "@jupyter-widgets/controls",
       "_model_module_version": "1.5.0",
       "_model_name": "DescriptionStyleModel",
       "_view_count": null,
       "_view_module": "@jupyter-widgets/base",
       "_view_module_version": "1.2.0",
       "_view_name": "StyleView",
       "description_width": ""
      }
     },
     "f631b0c36f104a1dae742c305b10bb8b": {
      "model_module": "@jupyter-widgets/base",
      "model_module_version": "1.2.0",
      "model_name": "LayoutModel",
      "state": {
       "_model_module": "@jupyter-widgets/base",
       "_model_module_version": "1.2.0",
       "_model_name": "LayoutModel",
       "_view_count": null,
       "_view_module": "@jupyter-widgets/base",
       "_view_module_version": "1.2.0",
       "_view_name": "LayoutView",
       "align_content": null,
       "align_items": null,
       "align_self": null,
       "border": null,
       "bottom": null,
       "display": null,
       "flex": null,
       "flex_flow": null,
       "grid_area": null,
       "grid_auto_columns": null,
       "grid_auto_flow": null,
       "grid_auto_rows": null,
       "grid_column": null,
       "grid_gap": null,
       "grid_row": null,
       "grid_template_areas": null,
       "grid_template_columns": null,
       "grid_template_rows": null,
       "height": null,
       "justify_content": null,
       "justify_items": null,
       "left": null,
       "margin": null,
       "max_height": null,
       "max_width": null,
       "min_height": null,
       "min_width": null,
       "object_fit": null,
       "object_position": null,
       "order": null,
       "overflow": null,
       "overflow_x": null,
       "overflow_y": null,
       "padding": null,
       "right": null,
       "top": null,
       "visibility": null,
       "width": null
      }
     },
     "f68ea26f6d90412facdcef50c7e7804e": {
      "model_module": "@jupyter-widgets/base",
      "model_module_version": "1.2.0",
      "model_name": "LayoutModel",
      "state": {
       "_model_module": "@jupyter-widgets/base",
       "_model_module_version": "1.2.0",
       "_model_name": "LayoutModel",
       "_view_count": null,
       "_view_module": "@jupyter-widgets/base",
       "_view_module_version": "1.2.0",
       "_view_name": "LayoutView",
       "align_content": null,
       "align_items": null,
       "align_self": null,
       "border": null,
       "bottom": null,
       "display": null,
       "flex": null,
       "flex_flow": null,
       "grid_area": null,
       "grid_auto_columns": null,
       "grid_auto_flow": null,
       "grid_auto_rows": null,
       "grid_column": null,
       "grid_gap": null,
       "grid_row": null,
       "grid_template_areas": null,
       "grid_template_columns": null,
       "grid_template_rows": null,
       "height": null,
       "justify_content": null,
       "justify_items": null,
       "left": null,
       "margin": null,
       "max_height": null,
       "max_width": null,
       "min_height": null,
       "min_width": null,
       "object_fit": null,
       "object_position": null,
       "order": null,
       "overflow": null,
       "overflow_x": null,
       "overflow_y": null,
       "padding": null,
       "right": null,
       "top": null,
       "visibility": null,
       "width": null
      }
     },
     "faf97e63782644639e1002bbedc845c2": {
      "model_module": "@jupyter-widgets/base",
      "model_module_version": "1.2.0",
      "model_name": "LayoutModel",
      "state": {
       "_model_module": "@jupyter-widgets/base",
       "_model_module_version": "1.2.0",
       "_model_name": "LayoutModel",
       "_view_count": null,
       "_view_module": "@jupyter-widgets/base",
       "_view_module_version": "1.2.0",
       "_view_name": "LayoutView",
       "align_content": null,
       "align_items": null,
       "align_self": null,
       "border": null,
       "bottom": null,
       "display": null,
       "flex": null,
       "flex_flow": null,
       "grid_area": null,
       "grid_auto_columns": null,
       "grid_auto_flow": null,
       "grid_auto_rows": null,
       "grid_column": null,
       "grid_gap": null,
       "grid_row": null,
       "grid_template_areas": null,
       "grid_template_columns": null,
       "grid_template_rows": null,
       "height": null,
       "justify_content": null,
       "justify_items": null,
       "left": null,
       "margin": null,
       "max_height": null,
       "max_width": null,
       "min_height": null,
       "min_width": null,
       "object_fit": null,
       "object_position": null,
       "order": null,
       "overflow": null,
       "overflow_x": null,
       "overflow_y": null,
       "padding": null,
       "right": null,
       "top": null,
       "visibility": null,
       "width": null
      }
     },
     "fcf7ce42ca224145b4ea19bc23b293f3": {
      "model_module": "@jupyter-widgets/controls",
      "model_module_version": "1.5.0",
      "model_name": "ProgressStyleModel",
      "state": {
       "_model_module": "@jupyter-widgets/controls",
       "_model_module_version": "1.5.0",
       "_model_name": "ProgressStyleModel",
       "_view_count": null,
       "_view_module": "@jupyter-widgets/base",
       "_view_module_version": "1.2.0",
       "_view_name": "StyleView",
       "bar_color": null,
       "description_width": ""
      }
     }
    },
    "version_major": 2,
    "version_minor": 0
   }
  }
 },
 "nbformat": 4,
 "nbformat_minor": 5
}
