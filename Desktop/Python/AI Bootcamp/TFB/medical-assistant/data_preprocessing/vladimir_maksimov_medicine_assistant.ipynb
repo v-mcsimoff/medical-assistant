{
 "cells": [
  {
   "cell_type": "markdown",
   "id": "5e08bda2-4d8a-4629-a310-f883ff1b3e0c",
   "metadata": {},
   "source": [
    "## Vladimir Maksimov\n",
    "Este proyecto propone desarrollar un asistente basado en modelos de IA generativa que ayude a un paciente a entender de una manera más sencilla y directa la información relevante de un prospecto médico. La idea de negocio es tomar una foto de un prospecto médico y, mediante el uso de modelos de IA generativa, poder ofrecer un resumen, puntos importantes o la respuesta a una pregunta específica del usuario a partir de la información de la imagen.\n",
    "\n",
    "Objetivos:\n",
    "- Desarrollo y justificación de la solución respecto a la parte de modelado.\n",
    "- Evaluación del modelo para analizar su impacto y posibles sesgos o alucinaciones.\n",
    "- Desarrollo de los componentes necesarios tanto para el desarrollo de los modelos como para la inferencia en producción.\n",
    "### Work Plan:\n",
    "1. Data preparation.\n",
    "- There will be several different datasets - one contains medicine leaflets, another consists of patients' questions and answers, and the third one contains images of written text.\n",
    "- The data should be pre-processed and cleaned.\n",
    "2. Model training. The idea is to train a model to process images and extract texts first, then summarize these texts following a detailed prompt to provide a patient with important information from the drug leaflets."
   ]
  },
  {
   "cell_type": "markdown",
   "id": "1757ad6d-409f-4dde-8acf-9cdfbeb8c2af",
   "metadata": {},
   "source": [
    "#### Processing the medicine leaflet images"
   ]
  },
  {
   "cell_type": "code",
   "execution_count": 1,
   "id": "e98426d3-e2df-4b05-afdf-02cf66e14f4e",
   "metadata": {
    "scrolled": true
   },
   "outputs": [
    {
     "name": "stdout",
     "output_type": "stream",
     "text": [
      "Requirement already satisfied: openai in /opt/anaconda3/lib/python3.11/site-packages (1.36.1)\n",
      "Requirement already satisfied: anyio<5,>=3.5.0 in /opt/anaconda3/lib/python3.11/site-packages (from openai) (4.2.0)\n",
      "Requirement already satisfied: distro<2,>=1.7.0 in /opt/anaconda3/lib/python3.11/site-packages (from openai) (1.9.0)\n",
      "Requirement already satisfied: httpx<1,>=0.23.0 in /opt/anaconda3/lib/python3.11/site-packages (from openai) (0.27.0)\n",
      "Requirement already satisfied: pydantic<3,>=1.9.0 in /opt/anaconda3/lib/python3.11/site-packages (from openai) (2.5.3)\n",
      "Requirement already satisfied: sniffio in /opt/anaconda3/lib/python3.11/site-packages (from openai) (1.3.0)\n",
      "Requirement already satisfied: tqdm>4 in /opt/anaconda3/lib/python3.11/site-packages (from openai) (4.66.2)\n",
      "Requirement already satisfied: typing-extensions<5,>=4.7 in /opt/anaconda3/lib/python3.11/site-packages (from openai) (4.11.0)\n",
      "Requirement already satisfied: idna>=2.8 in /opt/anaconda3/lib/python3.11/site-packages (from anyio<5,>=3.5.0->openai) (3.7)\n",
      "Requirement already satisfied: certifi in /opt/anaconda3/lib/python3.11/site-packages (from httpx<1,>=0.23.0->openai) (2024.2.2)\n",
      "Requirement already satisfied: httpcore==1.* in /opt/anaconda3/lib/python3.11/site-packages (from httpx<1,>=0.23.0->openai) (1.0.5)\n",
      "Requirement already satisfied: h11<0.15,>=0.13 in /opt/anaconda3/lib/python3.11/site-packages (from httpcore==1.*->httpx<1,>=0.23.0->openai) (0.14.0)\n",
      "Requirement already satisfied: annotated-types>=0.4.0 in /opt/anaconda3/lib/python3.11/site-packages (from pydantic<3,>=1.9.0->openai) (0.6.0)\n",
      "Requirement already satisfied: pydantic-core==2.14.6 in /opt/anaconda3/lib/python3.11/site-packages (from pydantic<3,>=1.9.0->openai) (2.14.6)\n",
      "Collecting os_sys\n",
      "  Using cached os_sys-2.1.4-py3-none-any.whl.metadata (9.9 kB)\n",
      "Collecting pygubu (from os_sys)\n",
      "  Using cached pygubu-0.35.4-py3-none-any.whl.metadata (7.3 kB)\n",
      "Requirement already satisfied: pytz in /opt/anaconda3/lib/python3.11/site-packages (from os_sys) (2024.1)\n",
      "Collecting sqlparse (from os_sys)\n",
      "  Using cached sqlparse-0.5.1-py3-none-any.whl.metadata (3.9 kB)\n",
      "Collecting progress (from os_sys)\n",
      "  Using cached progress-1.6.tar.gz (7.8 kB)\n",
      "  Preparing metadata (setup.py) ... \u001b[?25ldone\n",
      "\u001b[?25hRequirement already satisfied: tqdm in /opt/anaconda3/lib/python3.11/site-packages (from os_sys) (4.66.2)\n",
      "Collecting progressbar (from os_sys)\n",
      "  Using cached progressbar-2.5.tar.gz (10 kB)\n",
      "  Preparing metadata (setup.py) ... \u001b[?25ldone\n",
      "\u001b[?25hRequirement already satisfied: matplotlib in /opt/anaconda3/lib/python3.11/site-packages (from os_sys) (3.8.4)\n",
      "Requirement already satisfied: numpy in /opt/anaconda3/lib/python3.11/site-packages (from os_sys) (1.24.4)\n",
      "Requirement already satisfied: six in /opt/anaconda3/lib/python3.11/site-packages (from os_sys) (1.16.0)\n",
      "Requirement already satisfied: jupyter in /opt/anaconda3/lib/python3.11/site-packages (from os_sys) (1.0.0)\n",
      "Requirement already satisfied: pandas in /opt/anaconda3/lib/python3.11/site-packages (from os_sys) (1.5.3)\n",
      "Requirement already satisfied: beautifulsoup4 in /opt/anaconda3/lib/python3.11/site-packages (from os_sys) (4.12.2)\n",
      "Collecting Eel (from os_sys)\n",
      "  Using cached eel-0.17.0.tar.gz (24 kB)\n",
      "  Preparing metadata (setup.py) ... \u001b[?25ldone\n",
      "\u001b[?25hCollecting extract-zip (from os_sys)\n",
      "  Using cached extract_zip-1.0.0-py3-none-any.whl.metadata (403 bytes)\n",
      "INFO: pip is looking at multiple versions of os-sys to determine which version is compatible with other requirements. This could take a while.\n",
      "Collecting os_sys\n",
      "  Using cached os_sys-2.1.3-py3-none-any.whl.metadata (9.9 kB)\n",
      "  Using cached os_sys-2.1.2-py3-none-any.whl.metadata (9.9 kB)\n",
      "  Using cached os_sys-2.1.1-py3-none-any.whl.metadata (9.9 kB)\n",
      "  Using cached os_sys-2.1.0-py3-none-any.whl.metadata (9.9 kB)\n",
      "  Using cached os_sys-2.0.9-py3-none-any.whl.metadata (9.9 kB)\n",
      "  Using cached os_sys-2.0.8-py3-none-any.whl.metadata (9.9 kB)\n",
      "  Using cached os_sys-2.0.7-py3-none-any.whl.metadata (9.9 kB)\n",
      "INFO: pip is still looking at multiple versions of os-sys to determine which version is compatible with other requirements. This could take a while.\n",
      "  Using cached os_sys-2.0.6-py3-none-any.whl.metadata (9.5 kB)\n",
      "  Using cached os_sys-2.0.5-py3-none-any.whl.metadata (9.5 kB)\n",
      "  Using cached os_sys-2.0.4-py3-none-any.whl.metadata (9.5 kB)\n",
      "Collecting webview (from os_sys)\n",
      "  Using cached webview-0.1.5.tar.gz (18 kB)\n",
      "  Preparing metadata (setup.py) ... \u001b[?25ldone\n",
      "\u001b[?25hCollecting os_sys\n",
      "  Using cached os_sys-2.0.3-py3-none-any.whl.metadata (9.2 kB)\n",
      "  Using cached os_sys-2.0.2-py3-none-any.whl.metadata (9.0 kB)\n",
      "INFO: This is taking longer than usual. You might need to provide the dependency resolver with stricter constraints to reduce runtime. See https://pip.pypa.io/warnings/backtracking for guidance. If you want to abort this run, press Ctrl + C.\n",
      "  Using cached os_sys-2.0.1-py3-none-any.whl.metadata (9.0 kB)\n",
      "  Using cached os_sys-2.0.0-py3-none-any.whl.metadata (9.0 kB)\n",
      "  Using cached os_sys-1.9.9-py3-none-any.whl.metadata (9.0 kB)\n",
      "  Using cached os_sys-1.9.8-py3-none-any.whl.metadata (9.0 kB)\n",
      "  Using cached os_sys-1.9.7-py3-none-any.whl.metadata (9.0 kB)\n",
      "  Using cached os_sys-1.9.6-py3-none-any.whl.metadata (9.0 kB)\n",
      "  Using cached os_sys-1.9.5-py3-none-any.whl.metadata (9.0 kB)\n",
      "  Using cached os_sys-1.9.4-py3-none-any.whl.metadata (9.0 kB)\n",
      "  Using cached os_sys-1.9.3-py3-none-any.whl (60.4 MB)\n",
      "\u001b[31mERROR: os-sys has an invalid wheel, os-sys has an invalid wheel, could not read 'os_sys-1.9.3.dist-info/WHEEL' file: KeyError(\"There is no item named 'os_sys-1.9.3.dist-info/WHEEL' in the archive\")\u001b[0m\u001b[31m\n",
      "\u001b[0m"
     ]
    }
   ],
   "source": [
    "!pip install openai\n",
    "!pip install --upgrade os_sys"
   ]
  },
  {
   "cell_type": "code",
   "execution_count": 2,
   "id": "99403c92-fc62-46cd-808c-2d8d987d033b",
   "metadata": {},
   "outputs": [],
   "source": [
    "from openai import OpenAI\n",
    "import json\n",
    "import os\n",
    "import base64"
   ]
  },
  {
   "cell_type": "code",
   "execution_count": 6,
   "id": "5b67710c-361e-4039-8bd6-cf3012766660",
   "metadata": {},
   "outputs": [
    {
     "data": {
      "text/plain": [
       "True"
      ]
     },
     "execution_count": 6,
     "metadata": {},
     "output_type": "execute_result"
    }
   ],
   "source": [
    "from dotenv import load_dotenv\n",
    "\n",
    "load_dotenv()"
   ]
  },
  {
   "cell_type": "code",
   "execution_count": 13,
   "id": "84a7aa00-2398-4fd1-8731-e9adef84cc55",
   "metadata": {},
   "outputs": [],
   "source": [
    "client = OpenAI()"
   ]
  },
  {
   "cell_type": "code",
   "execution_count": 14,
   "id": "c9f0e522-5477-4f88-a929-e4e11f8a6452",
   "metadata": {},
   "outputs": [],
   "source": [
    "api_key=os.getenv('OPENAI_API_KEY')"
   ]
  },
  {
   "cell_type": "code",
   "execution_count": 15,
   "id": "eb8ea1e7-045d-4fd8-adfa-e719f5823c2d",
   "metadata": {},
   "outputs": [],
   "source": [
    "def load_json_schema(schema_file: str) -> dict:\n",
    "    with open(schema_file, 'r') as file:\n",
    "        return json.load(file)"
   ]
  },
  {
   "cell_type": "code",
   "execution_count": 16,
   "id": "a1b7df92-a873-4e03-8f54-e0348fdeaccc",
   "metadata": {},
   "outputs": [],
   "source": [
    "image_path = '/Users/vladimirmaksimov/Desktop/Python/AI Bootcamp/TFB/leaflets/2024-07-17 11.46.59.jpg'"
   ]
  },
  {
   "cell_type": "code",
   "execution_count": 21,
   "id": "6bceeba2-a6c7-4545-9a82-91f146ad2165",
   "metadata": {},
   "outputs": [],
   "source": [
    "# Load the JSON schema\n",
    "leaflet_schema = load_json_schema('leaflet_schema.json')"
   ]
  },
  {
   "cell_type": "code",
   "execution_count": 22,
   "id": "94945c6d-ca08-46b0-9c9b-bb0c74175751",
   "metadata": {},
   "outputs": [],
   "source": [
    "# Open the local image file in binary mode\n",
    "with open(image_path, 'rb') as image_file:\n",
    "    image_base64 = base64.b64encode(image_file.read()).decode('utf-8')"
   ]
  },
  {
   "cell_type": "code",
   "execution_count": 25,
   "id": "995187d3-0c49-4c5b-9343-8df78072dce3",
   "metadata": {},
   "outputs": [
    {
     "name": "stdout",
     "output_type": "stream",
     "text": [
      "{\"$schema\": \"http://json-schema.org/draft/2020-12/schema\", \"title\": \"Leaflet\", \"description\": \"A simple leaflet format\", \"type\": \"object\", \"properties\": {\"medicineName\": \"Almax 500 mg chewable tablets\", \"medicineComposition\": \"Almagate\", \"leafletText\": \"Package leaflet: Information for the user\\n\\nAlmax 500 mg chewable tablets\\nAlmagate\\n\\nRead all of this leaflet carefully before you start taking this medicine because it contains important information for you:\\nAlways take this medicine exactly as described in this leaflet or your doctor, pharmacist or nurse has told you.\\nKeep this leaflet. You may need to read it again.\\nAsk your pharmacist if you need more information.\\nIf you get any side effects, talk to your doctor or pharmacist or nurse. This includes any possible side effects not listed in this leaflet. See section 6.\\nYou must see a doctor if you do not feel better or if you feel worse after 14 days.\\n\\nWhat is in this leaflet:\\n1. What Almax is and what it is used for\\n2. What you need to know before you take Almax\\n3. How to take Almax\\n4. Possible side effects\\n5. How to store Almax\\n6. Contents of the pack and other information\\n\\n1. What Almax is and what it is used for\\nAlmax belongs to a group of medicinal products called antacids. It works by neutralizing excess stomach acid.\\nAlmax is used to relieve heartburn and indigestion in adults and children over 12 years old.\\n\\nYou must talk to a doctor if you do not feel better.\\n\\n2. What you need to know before you take Almax\\nDo not take Almax:\\n- If you are allergic to almagate or to any of the other ingredients of this medicine (listed in section 6).\\n- If you have Alzheimer’s disease.\\n- If you have unbalanced levels of magnesium in the blood.\\n- If you are suffering from stomach or bowel obstruction (ileus).\\n- If you have severe kidney disease.\\n\\nWarnings and precautions\\nTalk to your doctor, pharmacist or nurse before taking Almax:\\n- If you have a mild or moderate kidney disease.\\n- If you have aluminum and magnesium diets, since the aluminum and magnesium in Almax accumulate in the long term in the body. It is especially important that you talk to your doctor when considering the long-term use of this medicine.\\n\\nChildren and adolescents\\nAlmax should not be given to children under the age of 12 years, since other dosing guidelines may be more appropriate for them.\\n\\nOther medicines and Almax\\nTell your doctor or pharmacist if you are using, have recently used or might use any other medicines whereby the absorption of numerous medicines would be generally affected. \\n\\nYou should allow to elapse (2-3 hours) between Almax and taking of any other medicine.\\n\\nIt is particularly important that you inform your doctor if you are taking any of the following medications:\\n- Non-steroidal anti-inflammatory medicines (such as ibuprofen, diclofenac)\\n- Adalimunab and similar treatments, among others\\n- Cholestyramine (medicine for lowering cholesterol)\\n\\n3. How to take Almax\\nAlways take this medicine exactly as described in this leaflet or your doctor, pharmacist or nurse has told you.\\nThe recommended dose is 2 tablets (1 g of almagate).\\n\\nUse in adults and children over 12 years of age.\\n\\nPregnancy, breast-feeding and fertility\\nIf you are pregnant or breast-feeding, think you may be pregnant or are planning to be, ask your doctor or pharmacist for advice before taking this medicine.\\nThe chronic or excessive use of Almax should be avoided during pregnancy unless necessary.\\n\\nDriving and using machines\\nDriving and using machines should not affect the ability to drive and use machines.\\n\\n4. Possible side effects\\nLike all medicines, this medicine can cause side effects, although not everybody gets them.\\n\\nIf you experience the following serious side effects, stop taking Almax and get medical help immediately:\\n- Symptoms of allergic reactions such as skin rash, itching, difficulty breathing, swelling of the face, lips, tongue or throat.\\n- If you experience other symptoms, tell your doctor or pharmacist.\\n\\n5. How to store Almax\\nKeep this medicine out of the sight and reach of children.\\nStore in the original package.\\nDo not use this medicine after the expiry date which is stated on the carton and blister after 'EXP'. The expiry date refers to the last day of that month.\\n\\n6. Contents of the pack and other information\\nWhat Almax contains\\nThe active substance is: Almagate 500 mg.\\nThe other ingredients are: Sucrose, sorbitol, sodium lauryl sulfate, flavorings.\\n\\nWhat Almax looks like and contents of the pack\\nWhite to pale yellowish-green colored circular chewable tablets, with a cherry flavor.\\nThey are supplied in a blister.\\n\\nMarketing Authorisation Holder\\nDate of the leaflet\\n\", \"medicineUses\": \"Relieves heartburn and indigestion\", \"medicineSideEffects\": \"Possible allergic reactions, gastrointestinal issues\", \"recommendations\": \"Take 2 tablets (1 g of almagate) before meals or as directed by a doctor.\"}  }\n"
     ]
    }
   ],
   "source": [
    "response = client.chat.completions.create(\n",
    "    model='gpt-4o-mini',\n",
    "    response_format={\"type\": \"json_object\"},\n",
    "    messages=[\n",
    "        {\n",
    "            \"role\": \"user\",\n",
    "            \"content\": [\n",
    "                {\"type\": \"text\", \"text\": \"provide JSON file that represents this document. In the 'leafletText' part provide the whole text of the leaflet. Use this JSON Schema: \" +\n",
    "                    json.dumps(leaflet_schema)},\n",
    "                {\n",
    "                    \"type\": \"image_url\",\n",
    "                    \"image_url\": {\n",
    "                        \"url\": f\"data:image/jpeg;base64,{image_base64}\"\n",
    "                    }\n",
    "                }\n",
    "            ]\n",
    "        }\n",
    "    ],\n",
    "    max_tokens=15000,\n",
    ")\n",
    "\n",
    "print(response.choices[0].message.content)\n",
    "json_data = json.loads(response.choices[0].message.content)\n",
    "filename_without_extension = os.path.splitext(os.path.basename(image_path))[0]\n",
    "json_filename = f\"{filename_without_extension}.json\""
   ]
  },
  {
   "cell_type": "code",
   "execution_count": 26,
   "id": "f1823ecf-0156-458b-b20b-d9f6041a57af",
   "metadata": {},
   "outputs": [],
   "source": [
    "with open(json_filename, 'w') as file:\n",
    "    json.dump(json_data, file, indent=4)"
   ]
  },
  {
   "cell_type": "code",
   "execution_count": 27,
   "id": "34a84dcf-1486-466e-98da-d014d6766aa0",
   "metadata": {},
   "outputs": [
    {
     "name": "stdout",
     "output_type": "stream",
     "text": [
      "JSON data saved to 2024-07-17 11.46.59.json\n"
     ]
    }
   ],
   "source": [
    "print(f\"JSON data saved to {json_filename}\")"
   ]
  },
  {
   "cell_type": "code",
   "execution_count": null,
   "id": "22168c2b-5fee-4329-92b0-ea66b28416e1",
   "metadata": {},
   "outputs": [],
   "source": []
  }
 ],
 "metadata": {
  "kernelspec": {
   "display_name": "Python 3 (ipykernel)",
   "language": "python",
   "name": "python3"
  },
  "language_info": {
   "codemirror_mode": {
    "name": "ipython",
    "version": 3
   },
   "file_extension": ".py",
   "mimetype": "text/x-python",
   "name": "python",
   "nbconvert_exporter": "python",
   "pygments_lexer": "ipython3",
   "version": "3.11.5"
  }
 },
 "nbformat": 4,
 "nbformat_minor": 5
}
