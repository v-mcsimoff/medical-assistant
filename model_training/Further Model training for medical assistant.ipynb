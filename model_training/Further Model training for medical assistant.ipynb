{
 "cells": [
  {
   "cell_type": "markdown",
   "id": "b70175e1",
   "metadata": {
    "papermill": {
     "duration": 0.011833,
     "end_time": "2024-07-27T10:01:13.595605",
     "exception": false,
     "start_time": "2024-07-27T10:01:13.583772",
     "status": "completed"
    },
    "tags": []
   },
   "source": [
    "### Further model training\n",
    "This notebook contains training of the fine-tunned LlaMa3 model for medical assistant for final project of the Qualentum AI Solutions Development bootcamp.\n",
    "We have already trained the model using Llama3 and ruslanmv/ai-medical-chatbot dataset (5000 rows). Now this model will be tunned with another dataset of medical supplies and their uses which is relevant for the project purpose."
   ]
  },
  {
   "cell_type": "code",
   "execution_count": 1,
   "id": "a7aeae07",
   "metadata": {
    "_cell_guid": "b1076dfc-b9ad-4769-8c92-a6c4dae69d19",
    "_uuid": "8f2839f25d086af736a60e9eeb907d3b93b6e0e5",
    "execution": {
     "iopub.execute_input": "2024-07-27T10:01:13.619514Z",
     "iopub.status.busy": "2024-07-27T10:01:13.619178Z",
     "iopub.status.idle": "2024-07-27T10:01:14.415720Z",
     "shell.execute_reply": "2024-07-27T10:01:14.414700Z"
    },
    "papermill": {
     "duration": 0.811029,
     "end_time": "2024-07-27T10:01:14.418044",
     "exception": false,
     "start_time": "2024-07-27T10:01:13.607015",
     "status": "completed"
    },
    "tags": []
   },
   "outputs": [
    {
     "name": "stdout",
     "output_type": "stream",
     "text": [
      "/kaggle/input/llama-3-8b-medical-assistant/transformers/default/1/llama-3-8b-medical-assistant/model.safetensors.index.json\n",
      "/kaggle/input/llama-3-8b-medical-assistant/transformers/default/1/llama-3-8b-medical-assistant/model-00003-of-00004.safetensors\n",
      "/kaggle/input/llama-3-8b-medical-assistant/transformers/default/1/llama-3-8b-medical-assistant/config.json\n",
      "/kaggle/input/llama-3-8b-medical-assistant/transformers/default/1/llama-3-8b-medical-assistant/model-00001-of-00004.safetensors\n",
      "/kaggle/input/llama-3-8b-medical-assistant/transformers/default/1/llama-3-8b-medical-assistant/README.md\n",
      "/kaggle/input/llama-3-8b-medical-assistant/transformers/default/1/llama-3-8b-medical-assistant/tokenizer.json\n",
      "/kaggle/input/llama-3-8b-medical-assistant/transformers/default/1/llama-3-8b-medical-assistant/tokenizer_config.json\n",
      "/kaggle/input/llama-3-8b-medical-assistant/transformers/default/1/llama-3-8b-medical-assistant/model-00004-of-00004.safetensors\n",
      "/kaggle/input/llama-3-8b-medical-assistant/transformers/default/1/llama-3-8b-medical-assistant/special_tokens_map.json\n",
      "/kaggle/input/llama-3-8b-medical-assistant/transformers/default/1/llama-3-8b-medical-assistant/model-00002-of-00004.safetensors\n",
      "/kaggle/input/llama-3-8b-medical-assistant/transformers/default/1/llama-3-8b-medical-assistant/generation_config.json\n",
      "/kaggle/input/medicine-clean/df_medicine_clean.csv\n"
     ]
    }
   ],
   "source": [
    "# This Python 3 environment comes with many helpful analytics libraries installed\n",
    "# It is defined by the kaggle/python Docker image: https://github.com/kaggle/docker-python\n",
    "# For example, here's several helpful packages to load\n",
    "\n",
    "import numpy as np # linear algebra\n",
    "import pandas as pd # data processing, CSV file I/O (e.g. pd.read_csv)\n",
    "\n",
    "# Input data files are available in the read-only \"../input/\" directory\n",
    "# For example, running this (by clicking run or pressing Shift+Enter) will list all files under the input directory\n",
    "\n",
    "import os\n",
    "for dirname, _, filenames in os.walk('/kaggle/input'):\n",
    "    for filename in filenames:\n",
    "        print(os.path.join(dirname, filename))\n",
    "\n",
    "# You can write up to 20GB to the current directory (/kaggle/working/) that gets preserved as output when you create a version using \"Save & Run All\" \n",
    "# You can also write temporary files to /kaggle/temp/, but they won't be saved outside of the current session"
   ]
  },
  {
   "cell_type": "code",
   "execution_count": 2,
   "id": "35e989c7",
   "metadata": {
    "execution": {
     "iopub.execute_input": "2024-07-27T10:01:14.443143Z",
     "iopub.status.busy": "2024-07-27T10:01:14.442747Z",
     "iopub.status.idle": "2024-07-27T10:03:12.570152Z",
     "shell.execute_reply": "2024-07-27T10:03:12.568918Z"
    },
    "papermill": {
     "duration": 118.142557,
     "end_time": "2024-07-27T10:03:12.572567",
     "exception": false,
     "start_time": "2024-07-27T10:01:14.430010",
     "status": "completed"
    },
    "tags": []
   },
   "outputs": [
    {
     "name": "stdout",
     "output_type": "stream",
     "text": [
      "Requirement already satisfied: transformers in /opt/conda/lib/python3.10/site-packages (4.42.3)\r\n",
      "Collecting transformers\r\n",
      "  Downloading transformers-4.43.3-py3-none-any.whl.metadata (43 kB)\r\n",
      "\u001b[2K     \u001b[90m━━━━━━━━━━━━━━━━━━━━━━━━━━━━━━━━━━━━━━━━\u001b[0m \u001b[32m43.7/43.7 kB\u001b[0m \u001b[31m3.0 MB/s\u001b[0m eta \u001b[36m0:00:00\u001b[0m\r\n",
      "\u001b[?25hRequirement already satisfied: filelock in /opt/conda/lib/python3.10/site-packages (from transformers) (3.13.1)\r\n",
      "Requirement already satisfied: huggingface-hub<1.0,>=0.23.2 in /opt/conda/lib/python3.10/site-packages (from transformers) (0.23.4)\r\n",
      "Requirement already satisfied: numpy>=1.17 in /opt/conda/lib/python3.10/site-packages (from transformers) (1.26.4)\r\n",
      "Requirement already satisfied: packaging>=20.0 in /opt/conda/lib/python3.10/site-packages (from transformers) (21.3)\r\n",
      "Requirement already satisfied: pyyaml>=5.1 in /opt/conda/lib/python3.10/site-packages (from transformers) (6.0.1)\r\n",
      "Requirement already satisfied: regex!=2019.12.17 in /opt/conda/lib/python3.10/site-packages (from transformers) (2023.12.25)\r\n",
      "Requirement already satisfied: requests in /opt/conda/lib/python3.10/site-packages (from transformers) (2.32.3)\r\n",
      "Requirement already satisfied: safetensors>=0.4.1 in /opt/conda/lib/python3.10/site-packages (from transformers) (0.4.3)\r\n",
      "Requirement already satisfied: tokenizers<0.20,>=0.19 in /opt/conda/lib/python3.10/site-packages (from transformers) (0.19.1)\r\n",
      "Requirement already satisfied: tqdm>=4.27 in /opt/conda/lib/python3.10/site-packages (from transformers) (4.66.4)\r\n",
      "Requirement already satisfied: fsspec>=2023.5.0 in /opt/conda/lib/python3.10/site-packages (from huggingface-hub<1.0,>=0.23.2->transformers) (2024.5.0)\r\n",
      "Requirement already satisfied: typing-extensions>=3.7.4.3 in /opt/conda/lib/python3.10/site-packages (from huggingface-hub<1.0,>=0.23.2->transformers) (4.9.0)\r\n",
      "Requirement already satisfied: pyparsing!=3.0.5,>=2.0.2 in /opt/conda/lib/python3.10/site-packages (from packaging>=20.0->transformers) (3.1.1)\r\n",
      "Requirement already satisfied: charset-normalizer<4,>=2 in /opt/conda/lib/python3.10/site-packages (from requests->transformers) (3.3.2)\r\n",
      "Requirement already satisfied: idna<4,>=2.5 in /opt/conda/lib/python3.10/site-packages (from requests->transformers) (3.6)\r\n",
      "Requirement already satisfied: urllib3<3,>=1.21.1 in /opt/conda/lib/python3.10/site-packages (from requests->transformers) (1.26.18)\r\n",
      "Requirement already satisfied: certifi>=2017.4.17 in /opt/conda/lib/python3.10/site-packages (from requests->transformers) (2024.7.4)\r\n",
      "Downloading transformers-4.43.3-py3-none-any.whl (9.4 MB)\r\n",
      "\u001b[2K   \u001b[90m━━━━━━━━━━━━━━━━━━━━━━━━━━━━━━━━━━━━━━━━\u001b[0m \u001b[32m9.4/9.4 MB\u001b[0m \u001b[31m41.6 MB/s\u001b[0m eta \u001b[36m0:00:00\u001b[0m\r\n",
      "\u001b[?25hInstalling collected packages: transformers\r\n",
      "  Attempting uninstall: transformers\r\n",
      "    Found existing installation: transformers 4.42.3\r\n",
      "    Uninstalling transformers-4.42.3:\r\n",
      "      Successfully uninstalled transformers-4.42.3\r\n",
      "Successfully installed transformers-4.43.3\r\n",
      "Note: you may need to restart the kernel to use updated packages.\n",
      "Requirement already satisfied: datasets in /opt/conda/lib/python3.10/site-packages (2.20.0)\r\n",
      "Requirement already satisfied: filelock in /opt/conda/lib/python3.10/site-packages (from datasets) (3.13.1)\r\n",
      "Requirement already satisfied: numpy>=1.17 in /opt/conda/lib/python3.10/site-packages (from datasets) (1.26.4)\r\n",
      "Requirement already satisfied: pyarrow>=15.0.0 in /opt/conda/lib/python3.10/site-packages (from datasets) (16.1.0)\r\n",
      "Requirement already satisfied: pyarrow-hotfix in /opt/conda/lib/python3.10/site-packages (from datasets) (0.6)\r\n",
      "Requirement already satisfied: dill<0.3.9,>=0.3.0 in /opt/conda/lib/python3.10/site-packages (from datasets) (0.3.8)\r\n",
      "Requirement already satisfied: pandas in /opt/conda/lib/python3.10/site-packages (from datasets) (2.2.2)\r\n",
      "Requirement already satisfied: requests>=2.32.2 in /opt/conda/lib/python3.10/site-packages (from datasets) (2.32.3)\r\n",
      "Requirement already satisfied: tqdm>=4.66.3 in /opt/conda/lib/python3.10/site-packages (from datasets) (4.66.4)\r\n",
      "Requirement already satisfied: xxhash in /opt/conda/lib/python3.10/site-packages (from datasets) (3.4.1)\r\n",
      "Requirement already satisfied: multiprocess in /opt/conda/lib/python3.10/site-packages (from datasets) (0.70.16)\r\n",
      "Requirement already satisfied: fsspec<=2024.5.0,>=2023.1.0 in /opt/conda/lib/python3.10/site-packages (from fsspec[http]<=2024.5.0,>=2023.1.0->datasets) (2024.5.0)\r\n",
      "Requirement already satisfied: aiohttp in /opt/conda/lib/python3.10/site-packages (from datasets) (3.9.1)\r\n",
      "Requirement already satisfied: huggingface-hub>=0.21.2 in /opt/conda/lib/python3.10/site-packages (from datasets) (0.23.4)\r\n",
      "Requirement already satisfied: packaging in /opt/conda/lib/python3.10/site-packages (from datasets) (21.3)\r\n",
      "Requirement already satisfied: pyyaml>=5.1 in /opt/conda/lib/python3.10/site-packages (from datasets) (6.0.1)\r\n",
      "Requirement already satisfied: attrs>=17.3.0 in /opt/conda/lib/python3.10/site-packages (from aiohttp->datasets) (23.2.0)\r\n",
      "Requirement already satisfied: multidict<7.0,>=4.5 in /opt/conda/lib/python3.10/site-packages (from aiohttp->datasets) (6.0.4)\r\n",
      "Requirement already satisfied: yarl<2.0,>=1.0 in /opt/conda/lib/python3.10/site-packages (from aiohttp->datasets) (1.9.3)\r\n",
      "Requirement already satisfied: frozenlist>=1.1.1 in /opt/conda/lib/python3.10/site-packages (from aiohttp->datasets) (1.4.1)\r\n",
      "Requirement already satisfied: aiosignal>=1.1.2 in /opt/conda/lib/python3.10/site-packages (from aiohttp->datasets) (1.3.1)\r\n",
      "Requirement already satisfied: async-timeout<5.0,>=4.0 in /opt/conda/lib/python3.10/site-packages (from aiohttp->datasets) (4.0.3)\r\n",
      "Requirement already satisfied: typing-extensions>=3.7.4.3 in /opt/conda/lib/python3.10/site-packages (from huggingface-hub>=0.21.2->datasets) (4.9.0)\r\n",
      "Requirement already satisfied: pyparsing!=3.0.5,>=2.0.2 in /opt/conda/lib/python3.10/site-packages (from packaging->datasets) (3.1.1)\r\n",
      "Requirement already satisfied: charset-normalizer<4,>=2 in /opt/conda/lib/python3.10/site-packages (from requests>=2.32.2->datasets) (3.3.2)\r\n",
      "Requirement already satisfied: idna<4,>=2.5 in /opt/conda/lib/python3.10/site-packages (from requests>=2.32.2->datasets) (3.6)\r\n",
      "Requirement already satisfied: urllib3<3,>=1.21.1 in /opt/conda/lib/python3.10/site-packages (from requests>=2.32.2->datasets) (1.26.18)\r\n",
      "Requirement already satisfied: certifi>=2017.4.17 in /opt/conda/lib/python3.10/site-packages (from requests>=2.32.2->datasets) (2024.7.4)\r\n",
      "Requirement already satisfied: python-dateutil>=2.8.2 in /opt/conda/lib/python3.10/site-packages (from pandas->datasets) (2.9.0.post0)\r\n",
      "Requirement already satisfied: pytz>=2020.1 in /opt/conda/lib/python3.10/site-packages (from pandas->datasets) (2023.3.post1)\r\n",
      "Requirement already satisfied: tzdata>=2022.7 in /opt/conda/lib/python3.10/site-packages (from pandas->datasets) (2023.4)\r\n",
      "Requirement already satisfied: six>=1.5 in /opt/conda/lib/python3.10/site-packages (from python-dateutil>=2.8.2->pandas->datasets) (1.16.0)\r\n",
      "Note: you may need to restart the kernel to use updated packages.\n",
      "Requirement already satisfied: accelerate in /opt/conda/lib/python3.10/site-packages (0.32.1)\r\n",
      "Collecting accelerate\r\n",
      "  Downloading accelerate-0.33.0-py3-none-any.whl.metadata (18 kB)\r\n",
      "Requirement already satisfied: numpy<2.0.0,>=1.17 in /opt/conda/lib/python3.10/site-packages (from accelerate) (1.26.4)\r\n",
      "Requirement already satisfied: packaging>=20.0 in /opt/conda/lib/python3.10/site-packages (from accelerate) (21.3)\r\n",
      "Requirement already satisfied: psutil in /opt/conda/lib/python3.10/site-packages (from accelerate) (5.9.3)\r\n",
      "Requirement already satisfied: pyyaml in /opt/conda/lib/python3.10/site-packages (from accelerate) (6.0.1)\r\n",
      "Requirement already satisfied: torch>=1.10.0 in /opt/conda/lib/python3.10/site-packages (from accelerate) (2.1.2)\r\n",
      "Requirement already satisfied: huggingface-hub>=0.21.0 in /opt/conda/lib/python3.10/site-packages (from accelerate) (0.23.4)\r\n",
      "Requirement already satisfied: safetensors>=0.3.1 in /opt/conda/lib/python3.10/site-packages (from accelerate) (0.4.3)\r\n",
      "Requirement already satisfied: filelock in /opt/conda/lib/python3.10/site-packages (from huggingface-hub>=0.21.0->accelerate) (3.13.1)\r\n",
      "Requirement already satisfied: fsspec>=2023.5.0 in /opt/conda/lib/python3.10/site-packages (from huggingface-hub>=0.21.0->accelerate) (2024.5.0)\r\n",
      "Requirement already satisfied: requests in /opt/conda/lib/python3.10/site-packages (from huggingface-hub>=0.21.0->accelerate) (2.32.3)\r\n",
      "Requirement already satisfied: tqdm>=4.42.1 in /opt/conda/lib/python3.10/site-packages (from huggingface-hub>=0.21.0->accelerate) (4.66.4)\r\n",
      "Requirement already satisfied: typing-extensions>=3.7.4.3 in /opt/conda/lib/python3.10/site-packages (from huggingface-hub>=0.21.0->accelerate) (4.9.0)\r\n",
      "Requirement already satisfied: pyparsing!=3.0.5,>=2.0.2 in /opt/conda/lib/python3.10/site-packages (from packaging>=20.0->accelerate) (3.1.1)\r\n",
      "Requirement already satisfied: sympy in /opt/conda/lib/python3.10/site-packages (from torch>=1.10.0->accelerate) (1.13.0)\r\n",
      "Requirement already satisfied: networkx in /opt/conda/lib/python3.10/site-packages (from torch>=1.10.0->accelerate) (3.2.1)\r\n",
      "Requirement already satisfied: jinja2 in /opt/conda/lib/python3.10/site-packages (from torch>=1.10.0->accelerate) (3.1.2)\r\n",
      "Requirement already satisfied: MarkupSafe>=2.0 in /opt/conda/lib/python3.10/site-packages (from jinja2->torch>=1.10.0->accelerate) (2.1.3)\r\n",
      "Requirement already satisfied: charset-normalizer<4,>=2 in /opt/conda/lib/python3.10/site-packages (from requests->huggingface-hub>=0.21.0->accelerate) (3.3.2)\r\n",
      "Requirement already satisfied: idna<4,>=2.5 in /opt/conda/lib/python3.10/site-packages (from requests->huggingface-hub>=0.21.0->accelerate) (3.6)\r\n",
      "Requirement already satisfied: urllib3<3,>=1.21.1 in /opt/conda/lib/python3.10/site-packages (from requests->huggingface-hub>=0.21.0->accelerate) (1.26.18)\r\n",
      "Requirement already satisfied: certifi>=2017.4.17 in /opt/conda/lib/python3.10/site-packages (from requests->huggingface-hub>=0.21.0->accelerate) (2024.7.4)\r\n",
      "Requirement already satisfied: mpmath<1.4,>=1.1.0 in /opt/conda/lib/python3.10/site-packages (from sympy->torch>=1.10.0->accelerate) (1.3.0)\r\n",
      "Downloading accelerate-0.33.0-py3-none-any.whl (315 kB)\r\n",
      "\u001b[2K   \u001b[90m━━━━━━━━━━━━━━━━━━━━━━━━━━━━━━━━━━━━━━━━\u001b[0m \u001b[32m315.1/315.1 kB\u001b[0m \u001b[31m16.7 MB/s\u001b[0m eta \u001b[36m0:00:00\u001b[0m\r\n",
      "\u001b[?25hInstalling collected packages: accelerate\r\n",
      "  Attempting uninstall: accelerate\r\n",
      "    Found existing installation: accelerate 0.32.1\r\n",
      "    Uninstalling accelerate-0.32.1:\r\n",
      "      Successfully uninstalled accelerate-0.32.1\r\n",
      "Successfully installed accelerate-0.33.0\r\n",
      "Note: you may need to restart the kernel to use updated packages.\n",
      "Collecting peft\r\n",
      "  Downloading peft-0.12.0-py3-none-any.whl.metadata (13 kB)\r\n",
      "Requirement already satisfied: numpy>=1.17 in /opt/conda/lib/python3.10/site-packages (from peft) (1.26.4)\r\n",
      "Requirement already satisfied: packaging>=20.0 in /opt/conda/lib/python3.10/site-packages (from peft) (21.3)\r\n",
      "Requirement already satisfied: psutil in /opt/conda/lib/python3.10/site-packages (from peft) (5.9.3)\r\n",
      "Requirement already satisfied: pyyaml in /opt/conda/lib/python3.10/site-packages (from peft) (6.0.1)\r\n",
      "Requirement already satisfied: torch>=1.13.0 in /opt/conda/lib/python3.10/site-packages (from peft) (2.1.2)\r\n",
      "Requirement already satisfied: transformers in /opt/conda/lib/python3.10/site-packages (from peft) (4.43.3)\r\n",
      "Requirement already satisfied: tqdm in /opt/conda/lib/python3.10/site-packages (from peft) (4.66.4)\r\n",
      "Requirement already satisfied: accelerate>=0.21.0 in /opt/conda/lib/python3.10/site-packages (from peft) (0.33.0)\r\n",
      "Requirement already satisfied: safetensors in /opt/conda/lib/python3.10/site-packages (from peft) (0.4.3)\r\n",
      "Requirement already satisfied: huggingface-hub>=0.17.0 in /opt/conda/lib/python3.10/site-packages (from peft) (0.23.4)\r\n",
      "Requirement already satisfied: filelock in /opt/conda/lib/python3.10/site-packages (from huggingface-hub>=0.17.0->peft) (3.13.1)\r\n",
      "Requirement already satisfied: fsspec>=2023.5.0 in /opt/conda/lib/python3.10/site-packages (from huggingface-hub>=0.17.0->peft) (2024.5.0)\r\n",
      "Requirement already satisfied: requests in /opt/conda/lib/python3.10/site-packages (from huggingface-hub>=0.17.0->peft) (2.32.3)\r\n",
      "Requirement already satisfied: typing-extensions>=3.7.4.3 in /opt/conda/lib/python3.10/site-packages (from huggingface-hub>=0.17.0->peft) (4.9.0)\r\n",
      "Requirement already satisfied: pyparsing!=3.0.5,>=2.0.2 in /opt/conda/lib/python3.10/site-packages (from packaging>=20.0->peft) (3.1.1)\r\n",
      "Requirement already satisfied: sympy in /opt/conda/lib/python3.10/site-packages (from torch>=1.13.0->peft) (1.13.0)\r\n",
      "Requirement already satisfied: networkx in /opt/conda/lib/python3.10/site-packages (from torch>=1.13.0->peft) (3.2.1)\r\n",
      "Requirement already satisfied: jinja2 in /opt/conda/lib/python3.10/site-packages (from torch>=1.13.0->peft) (3.1.2)\r\n",
      "Requirement already satisfied: regex!=2019.12.17 in /opt/conda/lib/python3.10/site-packages (from transformers->peft) (2023.12.25)\r\n",
      "Requirement already satisfied: tokenizers<0.20,>=0.19 in /opt/conda/lib/python3.10/site-packages (from transformers->peft) (0.19.1)\r\n",
      "Requirement already satisfied: MarkupSafe>=2.0 in /opt/conda/lib/python3.10/site-packages (from jinja2->torch>=1.13.0->peft) (2.1.3)\r\n",
      "Requirement already satisfied: charset-normalizer<4,>=2 in /opt/conda/lib/python3.10/site-packages (from requests->huggingface-hub>=0.17.0->peft) (3.3.2)\r\n",
      "Requirement already satisfied: idna<4,>=2.5 in /opt/conda/lib/python3.10/site-packages (from requests->huggingface-hub>=0.17.0->peft) (3.6)\r\n",
      "Requirement already satisfied: urllib3<3,>=1.21.1 in /opt/conda/lib/python3.10/site-packages (from requests->huggingface-hub>=0.17.0->peft) (1.26.18)\r\n",
      "Requirement already satisfied: certifi>=2017.4.17 in /opt/conda/lib/python3.10/site-packages (from requests->huggingface-hub>=0.17.0->peft) (2024.7.4)\r\n",
      "Requirement already satisfied: mpmath<1.4,>=1.1.0 in /opt/conda/lib/python3.10/site-packages (from sympy->torch>=1.13.0->peft) (1.3.0)\r\n",
      "Downloading peft-0.12.0-py3-none-any.whl (296 kB)\r\n",
      "\u001b[2K   \u001b[90m━━━━━━━━━━━━━━━━━━━━━━━━━━━━━━━━━━━━━━━━\u001b[0m \u001b[32m296.4/296.4 kB\u001b[0m \u001b[31m17.4 MB/s\u001b[0m eta \u001b[36m0:00:00\u001b[0m\r\n",
      "\u001b[?25hInstalling collected packages: peft\r\n",
      "Successfully installed peft-0.12.0\r\n",
      "Note: you may need to restart the kernel to use updated packages.\n",
      "Collecting trl\r\n",
      "  Downloading trl-0.9.6-py3-none-any.whl.metadata (12 kB)\r\n",
      "Requirement already satisfied: torch>=1.4.0 in /opt/conda/lib/python3.10/site-packages (from trl) (2.1.2)\r\n",
      "Requirement already satisfied: transformers>=4.31.0 in /opt/conda/lib/python3.10/site-packages (from trl) (4.43.3)\r\n",
      "Requirement already satisfied: numpy<2.0.0,>=1.18.2 in /opt/conda/lib/python3.10/site-packages (from trl) (1.26.4)\r\n",
      "Requirement already satisfied: accelerate in /opt/conda/lib/python3.10/site-packages (from trl) (0.33.0)\r\n",
      "Requirement already satisfied: datasets in /opt/conda/lib/python3.10/site-packages (from trl) (2.20.0)\r\n",
      "Collecting tyro>=0.5.11 (from trl)\r\n",
      "  Downloading tyro-0.8.5-py3-none-any.whl.metadata (8.2 kB)\r\n",
      "Requirement already satisfied: filelock in /opt/conda/lib/python3.10/site-packages (from torch>=1.4.0->trl) (3.13.1)\r\n",
      "Requirement already satisfied: typing-extensions in /opt/conda/lib/python3.10/site-packages (from torch>=1.4.0->trl) (4.9.0)\r\n",
      "Requirement already satisfied: sympy in /opt/conda/lib/python3.10/site-packages (from torch>=1.4.0->trl) (1.13.0)\r\n",
      "Requirement already satisfied: networkx in /opt/conda/lib/python3.10/site-packages (from torch>=1.4.0->trl) (3.2.1)\r\n",
      "Requirement already satisfied: jinja2 in /opt/conda/lib/python3.10/site-packages (from torch>=1.4.0->trl) (3.1.2)\r\n",
      "Requirement already satisfied: fsspec in /opt/conda/lib/python3.10/site-packages (from torch>=1.4.0->trl) (2024.5.0)\r\n",
      "Requirement already satisfied: huggingface-hub<1.0,>=0.23.2 in /opt/conda/lib/python3.10/site-packages (from transformers>=4.31.0->trl) (0.23.4)\r\n",
      "Requirement already satisfied: packaging>=20.0 in /opt/conda/lib/python3.10/site-packages (from transformers>=4.31.0->trl) (21.3)\r\n",
      "Requirement already satisfied: pyyaml>=5.1 in /opt/conda/lib/python3.10/site-packages (from transformers>=4.31.0->trl) (6.0.1)\r\n",
      "Requirement already satisfied: regex!=2019.12.17 in /opt/conda/lib/python3.10/site-packages (from transformers>=4.31.0->trl) (2023.12.25)\r\n",
      "Requirement already satisfied: requests in /opt/conda/lib/python3.10/site-packages (from transformers>=4.31.0->trl) (2.32.3)\r\n",
      "Requirement already satisfied: safetensors>=0.4.1 in /opt/conda/lib/python3.10/site-packages (from transformers>=4.31.0->trl) (0.4.3)\r\n",
      "Requirement already satisfied: tokenizers<0.20,>=0.19 in /opt/conda/lib/python3.10/site-packages (from transformers>=4.31.0->trl) (0.19.1)\r\n",
      "Requirement already satisfied: tqdm>=4.27 in /opt/conda/lib/python3.10/site-packages (from transformers>=4.31.0->trl) (4.66.4)\r\n",
      "Collecting docstring-parser>=0.16 (from tyro>=0.5.11->trl)\r\n",
      "  Downloading docstring_parser-0.16-py3-none-any.whl.metadata (3.0 kB)\r\n",
      "Requirement already satisfied: rich>=11.1.0 in /opt/conda/lib/python3.10/site-packages (from tyro>=0.5.11->trl) (13.7.0)\r\n",
      "Collecting shtab>=1.5.6 (from tyro>=0.5.11->trl)\r\n",
      "  Downloading shtab-1.7.1-py3-none-any.whl.metadata (7.3 kB)\r\n",
      "Requirement already satisfied: psutil in /opt/conda/lib/python3.10/site-packages (from accelerate->trl) (5.9.3)\r\n",
      "Requirement already satisfied: pyarrow>=15.0.0 in /opt/conda/lib/python3.10/site-packages (from datasets->trl) (16.1.0)\r\n",
      "Requirement already satisfied: pyarrow-hotfix in /opt/conda/lib/python3.10/site-packages (from datasets->trl) (0.6)\r\n",
      "Requirement already satisfied: dill<0.3.9,>=0.3.0 in /opt/conda/lib/python3.10/site-packages (from datasets->trl) (0.3.8)\r\n",
      "Requirement already satisfied: pandas in /opt/conda/lib/python3.10/site-packages (from datasets->trl) (2.2.2)\r\n",
      "Requirement already satisfied: xxhash in /opt/conda/lib/python3.10/site-packages (from datasets->trl) (3.4.1)\r\n",
      "Requirement already satisfied: multiprocess in /opt/conda/lib/python3.10/site-packages (from datasets->trl) (0.70.16)\r\n",
      "Requirement already satisfied: aiohttp in /opt/conda/lib/python3.10/site-packages (from datasets->trl) (3.9.1)\r\n",
      "Requirement already satisfied: attrs>=17.3.0 in /opt/conda/lib/python3.10/site-packages (from aiohttp->datasets->trl) (23.2.0)\r\n",
      "Requirement already satisfied: multidict<7.0,>=4.5 in /opt/conda/lib/python3.10/site-packages (from aiohttp->datasets->trl) (6.0.4)\r\n",
      "Requirement already satisfied: yarl<2.0,>=1.0 in /opt/conda/lib/python3.10/site-packages (from aiohttp->datasets->trl) (1.9.3)\r\n",
      "Requirement already satisfied: frozenlist>=1.1.1 in /opt/conda/lib/python3.10/site-packages (from aiohttp->datasets->trl) (1.4.1)\r\n",
      "Requirement already satisfied: aiosignal>=1.1.2 in /opt/conda/lib/python3.10/site-packages (from aiohttp->datasets->trl) (1.3.1)\r\n",
      "Requirement already satisfied: async-timeout<5.0,>=4.0 in /opt/conda/lib/python3.10/site-packages (from aiohttp->datasets->trl) (4.0.3)\r\n",
      "Requirement already satisfied: pyparsing!=3.0.5,>=2.0.2 in /opt/conda/lib/python3.10/site-packages (from packaging>=20.0->transformers>=4.31.0->trl) (3.1.1)\r\n",
      "Requirement already satisfied: charset-normalizer<4,>=2 in /opt/conda/lib/python3.10/site-packages (from requests->transformers>=4.31.0->trl) (3.3.2)\r\n",
      "Requirement already satisfied: idna<4,>=2.5 in /opt/conda/lib/python3.10/site-packages (from requests->transformers>=4.31.0->trl) (3.6)\r\n",
      "Requirement already satisfied: urllib3<3,>=1.21.1 in /opt/conda/lib/python3.10/site-packages (from requests->transformers>=4.31.0->trl) (1.26.18)\r\n",
      "Requirement already satisfied: certifi>=2017.4.17 in /opt/conda/lib/python3.10/site-packages (from requests->transformers>=4.31.0->trl) (2024.7.4)\r\n",
      "Requirement already satisfied: markdown-it-py>=2.2.0 in /opt/conda/lib/python3.10/site-packages (from rich>=11.1.0->tyro>=0.5.11->trl) (3.0.0)\r\n",
      "Requirement already satisfied: pygments<3.0.0,>=2.13.0 in /opt/conda/lib/python3.10/site-packages (from rich>=11.1.0->tyro>=0.5.11->trl) (2.17.2)\r\n",
      "Requirement already satisfied: MarkupSafe>=2.0 in /opt/conda/lib/python3.10/site-packages (from jinja2->torch>=1.4.0->trl) (2.1.3)\r\n",
      "Requirement already satisfied: python-dateutil>=2.8.2 in /opt/conda/lib/python3.10/site-packages (from pandas->datasets->trl) (2.9.0.post0)\r\n",
      "Requirement already satisfied: pytz>=2020.1 in /opt/conda/lib/python3.10/site-packages (from pandas->datasets->trl) (2023.3.post1)\r\n",
      "Requirement already satisfied: tzdata>=2022.7 in /opt/conda/lib/python3.10/site-packages (from pandas->datasets->trl) (2023.4)\r\n",
      "Requirement already satisfied: mpmath<1.4,>=1.1.0 in /opt/conda/lib/python3.10/site-packages (from sympy->torch>=1.4.0->trl) (1.3.0)\r\n",
      "Requirement already satisfied: mdurl~=0.1 in /opt/conda/lib/python3.10/site-packages (from markdown-it-py>=2.2.0->rich>=11.1.0->tyro>=0.5.11->trl) (0.1.2)\r\n",
      "Requirement already satisfied: six>=1.5 in /opt/conda/lib/python3.10/site-packages (from python-dateutil>=2.8.2->pandas->datasets->trl) (1.16.0)\r\n",
      "Downloading trl-0.9.6-py3-none-any.whl (245 kB)\r\n",
      "\u001b[2K   \u001b[90m━━━━━━━━━━━━━━━━━━━━━━━━━━━━━━━━━━━━━━━━\u001b[0m \u001b[32m245.8/245.8 kB\u001b[0m \u001b[31m14.3 MB/s\u001b[0m eta \u001b[36m0:00:00\u001b[0m\r\n",
      "\u001b[?25hDownloading tyro-0.8.5-py3-none-any.whl (103 kB)\r\n",
      "\u001b[2K   \u001b[90m━━━━━━━━━━━━━━━━━━━━━━━━━━━━━━━━━━━━━━━━\u001b[0m \u001b[32m103.4/103.4 kB\u001b[0m \u001b[31m9.5 MB/s\u001b[0m eta \u001b[36m0:00:00\u001b[0m\r\n",
      "\u001b[?25hDownloading docstring_parser-0.16-py3-none-any.whl (36 kB)\r\n",
      "Downloading shtab-1.7.1-py3-none-any.whl (14 kB)\r\n",
      "Installing collected packages: shtab, docstring-parser, tyro, trl\r\n",
      "  Attempting uninstall: docstring-parser\r\n",
      "    Found existing installation: docstring-parser 0.15\r\n",
      "    Uninstalling docstring-parser-0.15:\r\n",
      "      Successfully uninstalled docstring-parser-0.15\r\n",
      "\u001b[31mERROR: pip's dependency resolver does not currently take into account all the packages that are installed. This behaviour is the source of the following dependency conflicts.\r\n",
      "kfp 2.5.0 requires google-cloud-storage<3,>=2.2.1, but you have google-cloud-storage 1.44.0 which is incompatible.\u001b[0m\u001b[31m\r\n",
      "\u001b[0mSuccessfully installed docstring-parser-0.16 shtab-1.7.1 trl-0.9.6 tyro-0.8.5\r\n",
      "Note: you may need to restart the kernel to use updated packages.\n",
      "Collecting bitsandbytes\r\n",
      "  Downloading bitsandbytes-0.43.2-py3-none-manylinux_2_24_x86_64.whl.metadata (3.5 kB)\r\n",
      "Requirement already satisfied: torch in /opt/conda/lib/python3.10/site-packages (from bitsandbytes) (2.1.2)\r\n",
      "Requirement already satisfied: numpy in /opt/conda/lib/python3.10/site-packages (from bitsandbytes) (1.26.4)\r\n",
      "Requirement already satisfied: filelock in /opt/conda/lib/python3.10/site-packages (from torch->bitsandbytes) (3.13.1)\r\n",
      "Requirement already satisfied: typing-extensions in /opt/conda/lib/python3.10/site-packages (from torch->bitsandbytes) (4.9.0)\r\n",
      "Requirement already satisfied: sympy in /opt/conda/lib/python3.10/site-packages (from torch->bitsandbytes) (1.13.0)\r\n",
      "Requirement already satisfied: networkx in /opt/conda/lib/python3.10/site-packages (from torch->bitsandbytes) (3.2.1)\r\n",
      "Requirement already satisfied: jinja2 in /opt/conda/lib/python3.10/site-packages (from torch->bitsandbytes) (3.1.2)\r\n",
      "Requirement already satisfied: fsspec in /opt/conda/lib/python3.10/site-packages (from torch->bitsandbytes) (2024.5.0)\r\n",
      "Requirement already satisfied: MarkupSafe>=2.0 in /opt/conda/lib/python3.10/site-packages (from jinja2->torch->bitsandbytes) (2.1.3)\r\n",
      "Requirement already satisfied: mpmath<1.4,>=1.1.0 in /opt/conda/lib/python3.10/site-packages (from sympy->torch->bitsandbytes) (1.3.0)\r\n",
      "Downloading bitsandbytes-0.43.2-py3-none-manylinux_2_24_x86_64.whl (137.5 MB)\r\n",
      "\u001b[2K   \u001b[90m━━━━━━━━━━━━━━━━━━━━━━━━━━━━━━━━━━━━━━━━\u001b[0m \u001b[32m137.5/137.5 MB\u001b[0m \u001b[31m11.4 MB/s\u001b[0m eta \u001b[36m0:00:00\u001b[0m\r\n",
      "\u001b[?25hInstalling collected packages: bitsandbytes\r\n",
      "Successfully installed bitsandbytes-0.43.2\r\n",
      "Note: you may need to restart the kernel to use updated packages.\n",
      "Requirement already satisfied: wandb in /opt/conda/lib/python3.10/site-packages (0.17.4)\r\n",
      "Collecting wandb\r\n",
      "  Downloading wandb-0.17.5-py3-none-manylinux_2_5_x86_64.manylinux1_x86_64.manylinux_2_17_x86_64.manylinux2014_x86_64.whl.metadata (10 kB)\r\n",
      "Requirement already satisfied: click!=8.0.0,>=7.1 in /opt/conda/lib/python3.10/site-packages (from wandb) (8.1.7)\r\n",
      "Requirement already satisfied: docker-pycreds>=0.4.0 in /opt/conda/lib/python3.10/site-packages (from wandb) (0.4.0)\r\n",
      "Requirement already satisfied: gitpython!=3.1.29,>=1.0.0 in /opt/conda/lib/python3.10/site-packages (from wandb) (3.1.41)\r\n",
      "Requirement already satisfied: platformdirs in /opt/conda/lib/python3.10/site-packages (from wandb) (3.11.0)\r\n",
      "Requirement already satisfied: protobuf!=4.21.0,<6,>=3.19.0 in /opt/conda/lib/python3.10/site-packages (from wandb) (3.20.3)\r\n",
      "Requirement already satisfied: psutil>=5.0.0 in /opt/conda/lib/python3.10/site-packages (from wandb) (5.9.3)\r\n",
      "Requirement already satisfied: pyyaml in /opt/conda/lib/python3.10/site-packages (from wandb) (6.0.1)\r\n",
      "Requirement already satisfied: requests<3,>=2.0.0 in /opt/conda/lib/python3.10/site-packages (from wandb) (2.32.3)\r\n",
      "Requirement already satisfied: sentry-sdk>=1.0.0 in /opt/conda/lib/python3.10/site-packages (from wandb) (2.8.0)\r\n",
      "Requirement already satisfied: setproctitle in /opt/conda/lib/python3.10/site-packages (from wandb) (1.3.3)\r\n",
      "Requirement already satisfied: setuptools in /opt/conda/lib/python3.10/site-packages (from wandb) (69.0.3)\r\n",
      "Requirement already satisfied: six>=1.4.0 in /opt/conda/lib/python3.10/site-packages (from docker-pycreds>=0.4.0->wandb) (1.16.0)\r\n",
      "Requirement already satisfied: gitdb<5,>=4.0.1 in /opt/conda/lib/python3.10/site-packages (from gitpython!=3.1.29,>=1.0.0->wandb) (4.0.11)\r\n",
      "Requirement already satisfied: charset-normalizer<4,>=2 in /opt/conda/lib/python3.10/site-packages (from requests<3,>=2.0.0->wandb) (3.3.2)\r\n",
      "Requirement already satisfied: idna<4,>=2.5 in /opt/conda/lib/python3.10/site-packages (from requests<3,>=2.0.0->wandb) (3.6)\r\n",
      "Requirement already satisfied: urllib3<3,>=1.21.1 in /opt/conda/lib/python3.10/site-packages (from requests<3,>=2.0.0->wandb) (1.26.18)\r\n",
      "Requirement already satisfied: certifi>=2017.4.17 in /opt/conda/lib/python3.10/site-packages (from requests<3,>=2.0.0->wandb) (2024.7.4)\r\n",
      "Requirement already satisfied: smmap<6,>=3.0.1 in /opt/conda/lib/python3.10/site-packages (from gitdb<5,>=4.0.1->gitpython!=3.1.29,>=1.0.0->wandb) (5.0.1)\r\n",
      "Downloading wandb-0.17.5-py3-none-manylinux_2_5_x86_64.manylinux1_x86_64.manylinux_2_17_x86_64.manylinux2014_x86_64.whl (6.8 MB)\r\n",
      "\u001b[2K   \u001b[90m━━━━━━━━━━━━━━━━━━━━━━━━━━━━━━━━━━━━━━━━\u001b[0m \u001b[32m6.8/6.8 MB\u001b[0m \u001b[31m83.2 MB/s\u001b[0m eta \u001b[36m0:00:00\u001b[0m\r\n",
      "\u001b[?25hInstalling collected packages: wandb\r\n",
      "  Attempting uninstall: wandb\r\n",
      "    Found existing installation: wandb 0.17.4\r\n",
      "    Uninstalling wandb-0.17.4:\r\n",
      "      Successfully uninstalled wandb-0.17.4\r\n",
      "Successfully installed wandb-0.17.5\r\n",
      "Note: you may need to restart the kernel to use updated packages.\n"
     ]
    }
   ],
   "source": [
    "%pip install -U transformers \n",
    "%pip install -U datasets \n",
    "%pip install -U accelerate \n",
    "%pip install -U peft \n",
    "%pip install -U trl \n",
    "%pip install -U bitsandbytes \n",
    "%pip install -U wandb"
   ]
  },
  {
   "cell_type": "markdown",
   "id": "d72afcd3",
   "metadata": {
    "papermill": {
     "duration": 0.022636,
     "end_time": "2024-07-27T10:03:12.618500",
     "exception": false,
     "start_time": "2024-07-27T10:03:12.595864",
     "status": "completed"
    },
    "tags": []
   },
   "source": [
    "Importing the necessary Python packages for loading the dataset, model, and tokenizer and fine-tuning."
   ]
  },
  {
   "cell_type": "code",
   "execution_count": 3,
   "id": "38c1e7d3",
   "metadata": {
    "execution": {
     "iopub.execute_input": "2024-07-27T10:03:12.665735Z",
     "iopub.status.busy": "2024-07-27T10:03:12.665337Z",
     "iopub.status.idle": "2024-07-27T10:03:30.314193Z",
     "shell.execute_reply": "2024-07-27T10:03:30.313443Z"
    },
    "papermill": {
     "duration": 17.675257,
     "end_time": "2024-07-27T10:03:30.316530",
     "exception": false,
     "start_time": "2024-07-27T10:03:12.641273",
     "status": "completed"
    },
    "tags": []
   },
   "outputs": [
    {
     "name": "stderr",
     "output_type": "stream",
     "text": [
      "2024-07-27 10:03:19.222316: E external/local_xla/xla/stream_executor/cuda/cuda_dnn.cc:9261] Unable to register cuDNN factory: Attempting to register factory for plugin cuDNN when one has already been registered\n",
      "2024-07-27 10:03:19.222461: E external/local_xla/xla/stream_executor/cuda/cuda_fft.cc:607] Unable to register cuFFT factory: Attempting to register factory for plugin cuFFT when one has already been registered\n",
      "2024-07-27 10:03:19.346822: E external/local_xla/xla/stream_executor/cuda/cuda_blas.cc:1515] Unable to register cuBLAS factory: Attempting to register factory for plugin cuBLAS when one has already been registered\n"
     ]
    }
   ],
   "source": [
    "from transformers import (\n",
    "    AutoModelForCausalLM,\n",
    "    AutoTokenizer,\n",
    "    BitsAndBytesConfig,\n",
    "    HfArgumentParser,\n",
    "    TrainingArguments,\n",
    "    pipeline,\n",
    "    logging,\n",
    ")\n",
    "from peft import (\n",
    "    LoraConfig,\n",
    "    PeftModel,\n",
    "    prepare_model_for_kbit_training,\n",
    "    get_peft_model,\n",
    ")\n",
    "import os, torch, wandb\n",
    "from datasets import load_dataset\n",
    "from trl import SFTTrainer, setup_chat_format"
   ]
  },
  {
   "cell_type": "code",
   "execution_count": 4,
   "id": "8cfb4261",
   "metadata": {
    "execution": {
     "iopub.execute_input": "2024-07-27T10:03:30.364002Z",
     "iopub.status.busy": "2024-07-27T10:03:30.363198Z",
     "iopub.status.idle": "2024-07-27T10:03:49.474614Z",
     "shell.execute_reply": "2024-07-27T10:03:49.473723Z"
    },
    "papermill": {
     "duration": 19.137303,
     "end_time": "2024-07-27T10:03:49.476984",
     "exception": false,
     "start_time": "2024-07-27T10:03:30.339681",
     "status": "completed"
    },
    "tags": []
   },
   "outputs": [
    {
     "name": "stdout",
     "output_type": "stream",
     "text": [
      "Token is valid (permission: write).\n",
      "\u001b[1m\u001b[31mCannot authenticate through git-credential as no helper is defined on your machine.\n",
      "You might have to re-authenticate when pushing to the Hugging Face Hub.\n",
      "Run the following command in your terminal in case you want to set the 'store' credential helper as default.\n",
      "\n",
      "git config --global credential.helper store\n",
      "\n",
      "Read https://git-scm.com/book/en/v2/Git-Tools-Credential-Storage for more details.\u001b[0m\n",
      "Token has not been saved to git credential helper.\n",
      "Your token has been saved to /root/.cache/huggingface/token\n",
      "Login successful\n"
     ]
    },
    {
     "name": "stderr",
     "output_type": "stream",
     "text": [
      "\u001b[34m\u001b[1mwandb\u001b[0m: W&B API key is configured. Use \u001b[1m`wandb login --relogin`\u001b[0m to force relogin\n",
      "\u001b[34m\u001b[1mwandb\u001b[0m: \u001b[33mWARNING\u001b[0m If you're specifying your api key in code, ensure this code is not shared publicly.\n",
      "\u001b[34m\u001b[1mwandb\u001b[0m: \u001b[33mWARNING\u001b[0m Consider setting the WANDB_API_KEY environment variable, or running `wandb login` from the command line.\n",
      "\u001b[34m\u001b[1mwandb\u001b[0m: Appending key for api.wandb.ai to your netrc file: /root/.netrc\n",
      "\u001b[34m\u001b[1mwandb\u001b[0m: Currently logged in as: \u001b[33mv-mcsimov\u001b[0m (\u001b[33mv-mcsimov-universidad-de-la-rioja\u001b[0m). Use \u001b[1m`wandb login --relogin`\u001b[0m to force relogin\n",
      "\u001b[34m\u001b[1mwandb\u001b[0m: Tracking run with wandb version 0.17.5\n",
      "\u001b[34m\u001b[1mwandb\u001b[0m: Run data is saved locally in \u001b[35m\u001b[1m/kaggle/working/wandb/run-20240727_100332-t880bsw9\u001b[0m\n",
      "\u001b[34m\u001b[1mwandb\u001b[0m: Run \u001b[1m`wandb offline`\u001b[0m to turn off syncing.\n",
      "\u001b[34m\u001b[1mwandb\u001b[0m: Syncing run \u001b[33mkind-cosmos-16\u001b[0m\n",
      "\u001b[34m\u001b[1mwandb\u001b[0m: ⭐️ View project at \u001b[34m\u001b[4mhttps://wandb.ai/v-mcsimov-universidad-de-la-rioja/Medical%20assistant.\u001b[0m\n",
      "\u001b[34m\u001b[1mwandb\u001b[0m: 🚀 View run at \u001b[34m\u001b[4mhttps://wandb.ai/v-mcsimov-universidad-de-la-rioja/Medical%20assistant./runs/t880bsw9\u001b[0m\n"
     ]
    }
   ],
   "source": [
    "from huggingface_hub import login\n",
    "from kaggle_secrets import UserSecretsClient\n",
    "user_secrets = UserSecretsClient()\n",
    "\n",
    "hf_token = user_secrets.get_secret(\"huggingface_token\")\n",
    "\n",
    "login(token = hf_token, add_to_git_credential=True)\n",
    "\n",
    "wb_token = user_secrets.get_secret(\"wandb\")\n",
    "\n",
    "wandb.login(key=wb_token)\n",
    "run = wandb.init(\n",
    "    project='Medical assistant.',\n",
    "    job_type=\"training\", \n",
    "    anonymous=\"allow\"\n",
    ")"
   ]
  },
  {
   "cell_type": "markdown",
   "id": "82466567",
   "metadata": {
    "papermill": {
     "duration": 0.023117,
     "end_time": "2024-07-27T10:03:49.524956",
     "exception": false,
     "start_time": "2024-07-27T10:03:49.501839",
     "status": "completed"
    },
    "tags": []
   },
   "source": [
    "Setting the base model, dataset, and new model variables."
   ]
  },
  {
   "cell_type": "code",
   "execution_count": 5,
   "id": "dd6c4b53",
   "metadata": {
    "execution": {
     "iopub.execute_input": "2024-07-27T10:03:49.573204Z",
     "iopub.status.busy": "2024-07-27T10:03:49.572479Z",
     "iopub.status.idle": "2024-07-27T10:03:49.576641Z",
     "shell.execute_reply": "2024-07-27T10:03:49.575800Z"
    },
    "papermill": {
     "duration": 0.030479,
     "end_time": "2024-07-27T10:03:49.578623",
     "exception": false,
     "start_time": "2024-07-27T10:03:49.548144",
     "status": "completed"
    },
    "tags": []
   },
   "outputs": [],
   "source": [
    "base_model = \"/kaggle/input/llama-3-8b-medical-assistant/transformers/default/1/llama-3-8b-medical-assistant\"\n",
    "dataset_name = \"/kaggle/input/medicine-clean/df_medicine_clean.csv\"\n",
    "new_model = \"llama-3-8b-medical-assistant-v2\""
   ]
  },
  {
   "cell_type": "markdown",
   "id": "d07583a0",
   "metadata": {
    "papermill": {
     "duration": 0.023013,
     "end_time": "2024-07-27T10:03:49.625016",
     "exception": false,
     "start_time": "2024-07-27T10:03:49.602003",
     "status": "completed"
    },
    "tags": []
   },
   "source": [
    "Setting the data type and attention implementation."
   ]
  },
  {
   "cell_type": "code",
   "execution_count": 6,
   "id": "3550e783",
   "metadata": {
    "execution": {
     "iopub.execute_input": "2024-07-27T10:03:49.672234Z",
     "iopub.status.busy": "2024-07-27T10:03:49.671988Z",
     "iopub.status.idle": "2024-07-27T10:03:49.675602Z",
     "shell.execute_reply": "2024-07-27T10:03:49.674901Z"
    },
    "papermill": {
     "duration": 0.029329,
     "end_time": "2024-07-27T10:03:49.677495",
     "exception": false,
     "start_time": "2024-07-27T10:03:49.648166",
     "status": "completed"
    },
    "tags": []
   },
   "outputs": [],
   "source": [
    "torch_dtype = torch.float16\n",
    "attn_implementation = \"eager\""
   ]
  },
  {
   "cell_type": "markdown",
   "id": "98a7016c",
   "metadata": {
    "papermill": {
     "duration": 0.023172,
     "end_time": "2024-07-27T10:03:49.724251",
     "exception": false,
     "start_time": "2024-07-27T10:03:49.701079",
     "status": "completed"
    },
    "tags": []
   },
   "source": [
    "Loading the model using 4-bit precision to reduce memory usage and speed up the fine-tuning process."
   ]
  },
  {
   "cell_type": "code",
   "execution_count": 7,
   "id": "59c0172f",
   "metadata": {
    "execution": {
     "iopub.execute_input": "2024-07-27T10:03:49.771720Z",
     "iopub.status.busy": "2024-07-27T10:03:49.771466Z",
     "iopub.status.idle": "2024-07-27T10:07:13.439433Z",
     "shell.execute_reply": "2024-07-27T10:07:13.438667Z"
    },
    "papermill": {
     "duration": 203.694338,
     "end_time": "2024-07-27T10:07:13.441668",
     "exception": false,
     "start_time": "2024-07-27T10:03:49.747330",
     "status": "completed"
    },
    "tags": []
   },
   "outputs": [
    {
     "data": {
      "application/vnd.jupyter.widget-view+json": {
       "model_id": "5a14f9fc0dd0477093d4ccdf397725c5",
       "version_major": 2,
       "version_minor": 0
      },
      "text/plain": [
       "Loading checkpoint shards:   0%|          | 0/4 [00:00<?, ?it/s]"
      ]
     },
     "metadata": {},
     "output_type": "display_data"
    }
   ],
   "source": [
    "# QLoRA config\n",
    "bnb_config = BitsAndBytesConfig(\n",
    "    load_in_4bit=True,\n",
    "    bnb_4bit_quant_type=\"nf4\",\n",
    "    bnb_4bit_compute_dtype=torch_dtype,\n",
    "    bnb_4bit_use_double_quant=True,\n",
    ")\n",
    "\n",
    "# Load model\n",
    "model = AutoModelForCausalLM.from_pretrained(\n",
    "    base_model,\n",
    "    quantization_config=bnb_config,\n",
    "    device_map=\"auto\",\n",
    "    attn_implementation=attn_implementation\n",
    ")"
   ]
  },
  {
   "cell_type": "markdown",
   "id": "a85626c0",
   "metadata": {
    "papermill": {
     "duration": 0.023671,
     "end_time": "2024-07-27T10:07:13.489896",
     "exception": false,
     "start_time": "2024-07-27T10:07:13.466225",
     "status": "completed"
    },
    "tags": []
   },
   "source": [
    "Load tokenizer."
   ]
  },
  {
   "cell_type": "code",
   "execution_count": 8,
   "id": "8bddb3cc",
   "metadata": {
    "execution": {
     "iopub.execute_input": "2024-07-27T10:07:13.539283Z",
     "iopub.status.busy": "2024-07-27T10:07:13.538345Z",
     "iopub.status.idle": "2024-07-27T10:07:14.088912Z",
     "shell.execute_reply": "2024-07-27T10:07:14.088039Z"
    },
    "papermill": {
     "duration": 0.5776,
     "end_time": "2024-07-27T10:07:14.091206",
     "exception": false,
     "start_time": "2024-07-27T10:07:13.513606",
     "status": "completed"
    },
    "tags": []
   },
   "outputs": [],
   "source": [
    "tokenizer = AutoTokenizer.from_pretrained(base_model)\n",
    "model, tokenizer = setup_chat_format(model, tokenizer)"
   ]
  },
  {
   "cell_type": "markdown",
   "id": "a074a105",
   "metadata": {
    "papermill": {
     "duration": 0.023653,
     "end_time": "2024-07-27T10:07:14.139213",
     "exception": false,
     "start_time": "2024-07-27T10:07:14.115560",
     "status": "completed"
    },
    "tags": []
   },
   "source": [
    "Adding the adapter to the layer to improve the training time and make the process more memory-efficient."
   ]
  },
  {
   "cell_type": "code",
   "execution_count": 9,
   "id": "d7af2208",
   "metadata": {
    "execution": {
     "iopub.execute_input": "2024-07-27T10:07:14.187332Z",
     "iopub.status.busy": "2024-07-27T10:07:14.187005Z",
     "iopub.status.idle": "2024-07-27T10:07:15.048514Z",
     "shell.execute_reply": "2024-07-27T10:07:15.047654Z"
    },
    "papermill": {
     "duration": 0.888197,
     "end_time": "2024-07-27T10:07:15.050828",
     "exception": false,
     "start_time": "2024-07-27T10:07:14.162631",
     "status": "completed"
    },
    "tags": []
   },
   "outputs": [],
   "source": [
    "# LoRA config\n",
    "peft_config = LoraConfig(\n",
    "    r=16,\n",
    "    lora_alpha=32,\n",
    "    lora_dropout=0.05,\n",
    "    bias=\"none\",\n",
    "    task_type=\"CAUSAL_LM\",\n",
    "    target_modules=['up_proj', 'down_proj', 'gate_proj', 'k_proj', 'q_proj', 'v_proj', 'o_proj']\n",
    ")\n",
    "model = get_peft_model(model, peft_config)"
   ]
  },
  {
   "cell_type": "markdown",
   "id": "50e745b8",
   "metadata": {
    "papermill": {
     "duration": 0.067127,
     "end_time": "2024-07-27T10:07:15.142012",
     "exception": false,
     "start_time": "2024-07-27T10:07:15.074885",
     "status": "completed"
    },
    "tags": []
   },
   "source": [
    "Model description function."
   ]
  },
  {
   "cell_type": "code",
   "execution_count": 10,
   "id": "26e3946f",
   "metadata": {
    "execution": {
     "iopub.execute_input": "2024-07-27T10:07:15.191869Z",
     "iopub.status.busy": "2024-07-27T10:07:15.191121Z",
     "iopub.status.idle": "2024-07-27T10:07:15.210181Z",
     "shell.execute_reply": "2024-07-27T10:07:15.209091Z"
    },
    "papermill": {
     "duration": 0.046432,
     "end_time": "2024-07-27T10:07:15.212243",
     "exception": false,
     "start_time": "2024-07-27T10:07:15.165811",
     "status": "completed"
    },
    "tags": []
   },
   "outputs": [
    {
     "name": "stdout",
     "output_type": "stream",
     "text": [
      " - The model has 8,072.2 millions parameters\n",
      " - Architecture: LlamaForCausalLM\n",
      " - Maximum context: 8,192 tokens\n",
      " - Parameters format: torch.float16\n",
      " - Vocabulary size: 128,258 tokens\n"
     ]
    }
   ],
   "source": [
    "def describe_model(model: AutoModelForCausalLM):\n",
    "    n_params = model.num_parameters()\n",
    "    print(f\" - The model has {n_params/1e6:,.1f} millions parameters\")\n",
    "    print(f\" - Architecture: {model.config.architectures[0]}\")\n",
    "    try:\n",
    "        ctx = model.config.max_position_embeddings\n",
    "    except:\n",
    "        ctx = model.config.seq_length\n",
    "    print(f\" - Maximum context: {ctx:,} tokens\")\n",
    "    print(f\" - Parameters format: {model.config.torch_dtype}\")\n",
    "    print(f\" - Vocabulary size: {model.config.vocab_size:,} tokens\")\n",
    "\n",
    "describe_model(model)"
   ]
  },
  {
   "cell_type": "markdown",
   "id": "ddcda6c1",
   "metadata": {
    "papermill": {
     "duration": 0.024477,
     "end_time": "2024-07-27T10:07:15.260949",
     "exception": false,
     "start_time": "2024-07-27T10:07:15.236472",
     "status": "completed"
    },
    "tags": []
   },
   "source": [
    "### Loading the dataset."
   ]
  },
  {
   "cell_type": "code",
   "execution_count": 11,
   "id": "c0125663",
   "metadata": {
    "execution": {
     "iopub.execute_input": "2024-07-27T10:07:15.310835Z",
     "iopub.status.busy": "2024-07-27T10:07:15.310503Z",
     "iopub.status.idle": "2024-07-27T10:07:15.392658Z",
     "shell.execute_reply": "2024-07-27T10:07:15.391587Z"
    },
    "papermill": {
     "duration": 0.110319,
     "end_time": "2024-07-27T10:07:15.395214",
     "exception": false,
     "start_time": "2024-07-27T10:07:15.284895",
     "status": "completed"
    },
    "tags": []
   },
   "outputs": [],
   "source": [
    "#Importing the dataset\n",
    "dataset = pd.read_csv(dataset_name)"
   ]
  },
  {
   "cell_type": "code",
   "execution_count": 12,
   "id": "87c5c0b0",
   "metadata": {
    "execution": {
     "iopub.execute_input": "2024-07-27T10:07:15.444999Z",
     "iopub.status.busy": "2024-07-27T10:07:15.444673Z",
     "iopub.status.idle": "2024-07-27T10:07:15.469375Z",
     "shell.execute_reply": "2024-07-27T10:07:15.468459Z"
    },
    "papermill": {
     "duration": 0.051471,
     "end_time": "2024-07-27T10:07:15.471327",
     "exception": false,
     "start_time": "2024-07-27T10:07:15.419856",
     "status": "completed"
    },
    "tags": []
   },
   "outputs": [
    {
     "data": {
      "text/html": [
       "<div>\n",
       "<style scoped>\n",
       "    .dataframe tbody tr th:only-of-type {\n",
       "        vertical-align: middle;\n",
       "    }\n",
       "\n",
       "    .dataframe tbody tr th {\n",
       "        vertical-align: top;\n",
       "    }\n",
       "\n",
       "    .dataframe thead th {\n",
       "        text-align: right;\n",
       "    }\n",
       "</style>\n",
       "<table border=\"1\" class=\"dataframe\">\n",
       "  <thead>\n",
       "    <tr style=\"text-align: right;\">\n",
       "      <th></th>\n",
       "      <th>Medicine Name</th>\n",
       "      <th>Composition</th>\n",
       "      <th>Uses</th>\n",
       "      <th>Side_effects</th>\n",
       "      <th>Excellent Review %</th>\n",
       "      <th>Average Review %</th>\n",
       "      <th>Poor Review %</th>\n",
       "    </tr>\n",
       "  </thead>\n",
       "  <tbody>\n",
       "    <tr>\n",
       "      <th>0</th>\n",
       "      <td>Avastin 400mg Injection</td>\n",
       "      <td>Bevacizumab (400mg)</td>\n",
       "      <td>Cancer of colon and rectum Non-small cell lun...</td>\n",
       "      <td>Rectal bleeding Taste change Headache Noseblee...</td>\n",
       "      <td>22</td>\n",
       "      <td>56</td>\n",
       "      <td>22</td>\n",
       "    </tr>\n",
       "    <tr>\n",
       "      <th>1</th>\n",
       "      <td>Augmentin 625 Duo Tablet</td>\n",
       "      <td>Amoxycillin  (500mg) +  Clavulanic Acid (125mg)</td>\n",
       "      <td>Treatment of Bacterial infections</td>\n",
       "      <td>Vomiting Nausea Diarrhea Mucocutaneous candidi...</td>\n",
       "      <td>47</td>\n",
       "      <td>35</td>\n",
       "      <td>18</td>\n",
       "    </tr>\n",
       "    <tr>\n",
       "      <th>2</th>\n",
       "      <td>Azithral 500 Tablet</td>\n",
       "      <td>Azithromycin (500mg)</td>\n",
       "      <td>Treatment of Bacterial infections</td>\n",
       "      <td>Nausea Abdominal pain Diarrhea</td>\n",
       "      <td>39</td>\n",
       "      <td>40</td>\n",
       "      <td>21</td>\n",
       "    </tr>\n",
       "    <tr>\n",
       "      <th>3</th>\n",
       "      <td>Ascoril LS Syrup</td>\n",
       "      <td>Ambroxol (30mg/5ml) + Levosalbutamol (1mg/5ml)...</td>\n",
       "      <td>Treatment of Cough with mucus</td>\n",
       "      <td>Nausea Vomiting Diarrhea Upset stomach Stomach...</td>\n",
       "      <td>24</td>\n",
       "      <td>41</td>\n",
       "      <td>35</td>\n",
       "    </tr>\n",
       "    <tr>\n",
       "      <th>4</th>\n",
       "      <td>Aciloc 150 Tablet</td>\n",
       "      <td>Ranitidine (150mg)</td>\n",
       "      <td>Treatment of Gastroesophageal reflux disease (...</td>\n",
       "      <td>Headache Diarrhea Gastrointestinal disturbance</td>\n",
       "      <td>34</td>\n",
       "      <td>37</td>\n",
       "      <td>29</td>\n",
       "    </tr>\n",
       "    <tr>\n",
       "      <th>...</th>\n",
       "      <td>...</td>\n",
       "      <td>...</td>\n",
       "      <td>...</td>\n",
       "      <td>...</td>\n",
       "      <td>...</td>\n",
       "      <td>...</td>\n",
       "      <td>...</td>\n",
       "    </tr>\n",
       "    <tr>\n",
       "      <th>11820</th>\n",
       "      <td>Zilarta-CT 40/6.25 Tablet</td>\n",
       "      <td>Azilsartan medoxomil (40mg) + Chlorthalidone (...</td>\n",
       "      <td>Hypertension (high blood pressure)</td>\n",
       "      <td>Dizziness Tiredness Decreased potassium level ...</td>\n",
       "      <td>67</td>\n",
       "      <td>33</td>\n",
       "      <td>0</td>\n",
       "    </tr>\n",
       "    <tr>\n",
       "      <th>11821</th>\n",
       "      <td>Zipcoz Tablet</td>\n",
       "      <td>Chromium Picolinate (100mcg) + D-Chiro Inosito...</td>\n",
       "      <td>Polycystic ovarian syndrome (PCOS)</td>\n",
       "      <td>Rash Nausea Paresthesia tingling or pricking s...</td>\n",
       "      <td>0</td>\n",
       "      <td>80</td>\n",
       "      <td>20</td>\n",
       "    </tr>\n",
       "    <tr>\n",
       "      <th>11822</th>\n",
       "      <td>Zestasil 100 Tablet</td>\n",
       "      <td>Sildenafil (100mg)</td>\n",
       "      <td>Treatment of Erectile dysfunction</td>\n",
       "      <td>Flushing sense of warmth in the face ears neck...</td>\n",
       "      <td>25</td>\n",
       "      <td>75</td>\n",
       "      <td>0</td>\n",
       "    </tr>\n",
       "    <tr>\n",
       "      <th>11823</th>\n",
       "      <td>Zedruff Shampoo</td>\n",
       "      <td>Ketoconazole (2% w/v) + Zinc pyrithione (1% w/v)</td>\n",
       "      <td>Treatment of Dandruff</td>\n",
       "      <td>Application site reactions burning irritation ...</td>\n",
       "      <td>0</td>\n",
       "      <td>0</td>\n",
       "      <td>100</td>\n",
       "    </tr>\n",
       "    <tr>\n",
       "      <th>11824</th>\n",
       "      <td>Zedruff Shampoo</td>\n",
       "      <td>Ketoconazole (2% w/v) + Zinc pyrithione (1% w/v)</td>\n",
       "      <td>Treatment of Dandruff</td>\n",
       "      <td>Application site reactions burning irritation ...</td>\n",
       "      <td>0</td>\n",
       "      <td>0</td>\n",
       "      <td>100</td>\n",
       "    </tr>\n",
       "  </tbody>\n",
       "</table>\n",
       "<p>11825 rows × 7 columns</p>\n",
       "</div>"
      ],
      "text/plain": [
       "                   Medicine Name  \\\n",
       "0        Avastin 400mg Injection   \n",
       "1       Augmentin 625 Duo Tablet   \n",
       "2            Azithral 500 Tablet   \n",
       "3               Ascoril LS Syrup   \n",
       "4              Aciloc 150 Tablet   \n",
       "...                          ...   \n",
       "11820  Zilarta-CT 40/6.25 Tablet   \n",
       "11821              Zipcoz Tablet   \n",
       "11822        Zestasil 100 Tablet   \n",
       "11823            Zedruff Shampoo   \n",
       "11824            Zedruff Shampoo   \n",
       "\n",
       "                                             Composition  \\\n",
       "0                                    Bevacizumab (400mg)   \n",
       "1        Amoxycillin  (500mg) +  Clavulanic Acid (125mg)   \n",
       "2                                   Azithromycin (500mg)   \n",
       "3      Ambroxol (30mg/5ml) + Levosalbutamol (1mg/5ml)...   \n",
       "4                                     Ranitidine (150mg)   \n",
       "...                                                  ...   \n",
       "11820  Azilsartan medoxomil (40mg) + Chlorthalidone (...   \n",
       "11821  Chromium Picolinate (100mcg) + D-Chiro Inosito...   \n",
       "11822                                 Sildenafil (100mg)   \n",
       "11823   Ketoconazole (2% w/v) + Zinc pyrithione (1% w/v)   \n",
       "11824   Ketoconazole (2% w/v) + Zinc pyrithione (1% w/v)   \n",
       "\n",
       "                                                    Uses  \\\n",
       "0       Cancer of colon and rectum Non-small cell lun...   \n",
       "1                      Treatment of Bacterial infections   \n",
       "2                      Treatment of Bacterial infections   \n",
       "3                          Treatment of Cough with mucus   \n",
       "4      Treatment of Gastroesophageal reflux disease (...   \n",
       "...                                                  ...   \n",
       "11820                 Hypertension (high blood pressure)   \n",
       "11821                 Polycystic ovarian syndrome (PCOS)   \n",
       "11822                  Treatment of Erectile dysfunction   \n",
       "11823                              Treatment of Dandruff   \n",
       "11824                              Treatment of Dandruff   \n",
       "\n",
       "                                            Side_effects  Excellent Review %  \\\n",
       "0      Rectal bleeding Taste change Headache Noseblee...                  22   \n",
       "1      Vomiting Nausea Diarrhea Mucocutaneous candidi...                  47   \n",
       "2                         Nausea Abdominal pain Diarrhea                  39   \n",
       "3      Nausea Vomiting Diarrhea Upset stomach Stomach...                  24   \n",
       "4         Headache Diarrhea Gastrointestinal disturbance                  34   \n",
       "...                                                  ...                 ...   \n",
       "11820  Dizziness Tiredness Decreased potassium level ...                  67   \n",
       "11821  Rash Nausea Paresthesia tingling or pricking s...                   0   \n",
       "11822  Flushing sense of warmth in the face ears neck...                  25   \n",
       "11823  Application site reactions burning irritation ...                   0   \n",
       "11824  Application site reactions burning irritation ...                   0   \n",
       "\n",
       "       Average Review %  Poor Review %  \n",
       "0                    56             22  \n",
       "1                    35             18  \n",
       "2                    40             21  \n",
       "3                    41             35  \n",
       "4                    37             29  \n",
       "...                 ...            ...  \n",
       "11820                33              0  \n",
       "11821                80             20  \n",
       "11822                75              0  \n",
       "11823                 0            100  \n",
       "11824                 0            100  \n",
       "\n",
       "[11825 rows x 7 columns]"
      ]
     },
     "execution_count": 12,
     "metadata": {},
     "output_type": "execute_result"
    }
   ],
   "source": [
    "dataset"
   ]
  },
  {
   "cell_type": "markdown",
   "id": "ec363626",
   "metadata": {
    "papermill": {
     "duration": 0.023937,
     "end_time": "2024-07-27T10:07:15.520999",
     "exception": false,
     "start_time": "2024-07-27T10:07:15.497062",
     "status": "completed"
    },
    "tags": []
   },
   "source": [
    "Creating the unique column with text, because it is needed for model training."
   ]
  },
  {
   "cell_type": "code",
   "execution_count": 13,
   "id": "6931c42a",
   "metadata": {
    "execution": {
     "iopub.execute_input": "2024-07-27T10:07:15.571276Z",
     "iopub.status.busy": "2024-07-27T10:07:15.570963Z",
     "iopub.status.idle": "2024-07-27T10:07:19.074898Z",
     "shell.execute_reply": "2024-07-27T10:07:19.074094Z"
    },
    "papermill": {
     "duration": 3.531712,
     "end_time": "2024-07-27T10:07:19.077350",
     "exception": false,
     "start_time": "2024-07-27T10:07:15.545638",
     "status": "completed"
    },
    "tags": []
   },
   "outputs": [],
   "source": [
    "for i in range(len(dataset)):\n",
    "    dataset.iloc[i,0] = \"Medicine Name: \" + str(dataset.iloc[i,0])"
   ]
  },
  {
   "cell_type": "code",
   "execution_count": 14,
   "id": "618630be",
   "metadata": {
    "execution": {
     "iopub.execute_input": "2024-07-27T10:07:19.130977Z",
     "iopub.status.busy": "2024-07-27T10:07:19.130671Z",
     "iopub.status.idle": "2024-07-27T10:07:22.623697Z",
     "shell.execute_reply": "2024-07-27T10:07:22.622943Z"
    },
    "papermill": {
     "duration": 3.521574,
     "end_time": "2024-07-27T10:07:22.626041",
     "exception": false,
     "start_time": "2024-07-27T10:07:19.104467",
     "status": "completed"
    },
    "tags": []
   },
   "outputs": [],
   "source": [
    "for i in range(len(dataset)):\n",
    "    dataset.iloc[i,1] = \"Composition: \" + str(dataset.iloc[i,1])"
   ]
  },
  {
   "cell_type": "code",
   "execution_count": 15,
   "id": "aaac2d24",
   "metadata": {
    "execution": {
     "iopub.execute_input": "2024-07-27T10:07:22.676354Z",
     "iopub.status.busy": "2024-07-27T10:07:22.675826Z",
     "iopub.status.idle": "2024-07-27T10:07:25.923223Z",
     "shell.execute_reply": "2024-07-27T10:07:25.922458Z"
    },
    "papermill": {
     "duration": 3.274927,
     "end_time": "2024-07-27T10:07:25.925660",
     "exception": false,
     "start_time": "2024-07-27T10:07:22.650733",
     "status": "completed"
    },
    "tags": []
   },
   "outputs": [],
   "source": [
    "for i in range(len(dataset)):\n",
    "    dataset.iloc[i,2] = \"Uses: \" + str(dataset.iloc[i,2])"
   ]
  },
  {
   "cell_type": "code",
   "execution_count": 16,
   "id": "8829c385",
   "metadata": {
    "execution": {
     "iopub.execute_input": "2024-07-27T10:07:25.976760Z",
     "iopub.status.busy": "2024-07-27T10:07:25.975981Z",
     "iopub.status.idle": "2024-07-27T10:07:29.270758Z",
     "shell.execute_reply": "2024-07-27T10:07:29.269724Z"
    },
    "papermill": {
     "duration": 3.322595,
     "end_time": "2024-07-27T10:07:29.273342",
     "exception": false,
     "start_time": "2024-07-27T10:07:25.950747",
     "status": "completed"
    },
    "tags": []
   },
   "outputs": [],
   "source": [
    "for i in range(len(dataset)):\n",
    "    dataset.iloc[i,3] = \"Side effects: \" + str(dataset.iloc[i,3])"
   ]
  },
  {
   "cell_type": "code",
   "execution_count": 17,
   "id": "4216a445",
   "metadata": {
    "execution": {
     "iopub.execute_input": "2024-07-27T10:07:29.324639Z",
     "iopub.status.busy": "2024-07-27T10:07:29.324034Z",
     "iopub.status.idle": "2024-07-27T10:07:29.337258Z",
     "shell.execute_reply": "2024-07-27T10:07:29.336419Z"
    },
    "papermill": {
     "duration": 0.04139,
     "end_time": "2024-07-27T10:07:29.339442",
     "exception": false,
     "start_time": "2024-07-27T10:07:29.298052",
     "status": "completed"
    },
    "tags": []
   },
   "outputs": [
    {
     "data": {
      "text/html": [
       "<div>\n",
       "<style scoped>\n",
       "    .dataframe tbody tr th:only-of-type {\n",
       "        vertical-align: middle;\n",
       "    }\n",
       "\n",
       "    .dataframe tbody tr th {\n",
       "        vertical-align: top;\n",
       "    }\n",
       "\n",
       "    .dataframe thead th {\n",
       "        text-align: right;\n",
       "    }\n",
       "</style>\n",
       "<table border=\"1\" class=\"dataframe\">\n",
       "  <thead>\n",
       "    <tr style=\"text-align: right;\">\n",
       "      <th></th>\n",
       "      <th>Medicine Name</th>\n",
       "      <th>Composition</th>\n",
       "      <th>Uses</th>\n",
       "      <th>Side_effects</th>\n",
       "      <th>Excellent Review %</th>\n",
       "      <th>Average Review %</th>\n",
       "      <th>Poor Review %</th>\n",
       "    </tr>\n",
       "  </thead>\n",
       "  <tbody>\n",
       "    <tr>\n",
       "      <th>0</th>\n",
       "      <td>Medicine Name: Avastin 400mg Injection</td>\n",
       "      <td>Composition: Bevacizumab (400mg)</td>\n",
       "      <td>Uses:  Cancer of colon and rectum Non-small ce...</td>\n",
       "      <td>Side effects: Rectal bleeding Taste change Hea...</td>\n",
       "      <td>22</td>\n",
       "      <td>56</td>\n",
       "      <td>22</td>\n",
       "    </tr>\n",
       "    <tr>\n",
       "      <th>1</th>\n",
       "      <td>Medicine Name: Augmentin 625 Duo Tablet</td>\n",
       "      <td>Composition: Amoxycillin  (500mg) +  Clavulani...</td>\n",
       "      <td>Uses: Treatment of Bacterial infections</td>\n",
       "      <td>Side effects: Vomiting Nausea Diarrhea Mucocut...</td>\n",
       "      <td>47</td>\n",
       "      <td>35</td>\n",
       "      <td>18</td>\n",
       "    </tr>\n",
       "    <tr>\n",
       "      <th>2</th>\n",
       "      <td>Medicine Name: Azithral 500 Tablet</td>\n",
       "      <td>Composition: Azithromycin (500mg)</td>\n",
       "      <td>Uses: Treatment of Bacterial infections</td>\n",
       "      <td>Side effects: Nausea Abdominal pain Diarrhea</td>\n",
       "      <td>39</td>\n",
       "      <td>40</td>\n",
       "      <td>21</td>\n",
       "    </tr>\n",
       "    <tr>\n",
       "      <th>3</th>\n",
       "      <td>Medicine Name: Ascoril LS Syrup</td>\n",
       "      <td>Composition: Ambroxol (30mg/5ml) + Levosalbuta...</td>\n",
       "      <td>Uses: Treatment of Cough with mucus</td>\n",
       "      <td>Side effects: Nausea Vomiting Diarrhea Upset s...</td>\n",
       "      <td>24</td>\n",
       "      <td>41</td>\n",
       "      <td>35</td>\n",
       "    </tr>\n",
       "    <tr>\n",
       "      <th>4</th>\n",
       "      <td>Medicine Name: Aciloc 150 Tablet</td>\n",
       "      <td>Composition: Ranitidine (150mg)</td>\n",
       "      <td>Uses: Treatment of Gastroesophageal reflux dis...</td>\n",
       "      <td>Side effects: Headache Diarrhea Gastrointestin...</td>\n",
       "      <td>34</td>\n",
       "      <td>37</td>\n",
       "      <td>29</td>\n",
       "    </tr>\n",
       "    <tr>\n",
       "      <th>...</th>\n",
       "      <td>...</td>\n",
       "      <td>...</td>\n",
       "      <td>...</td>\n",
       "      <td>...</td>\n",
       "      <td>...</td>\n",
       "      <td>...</td>\n",
       "      <td>...</td>\n",
       "    </tr>\n",
       "    <tr>\n",
       "      <th>11820</th>\n",
       "      <td>Medicine Name: Zilarta-CT 40/6.25 Tablet</td>\n",
       "      <td>Composition: Azilsartan medoxomil (40mg) + Chl...</td>\n",
       "      <td>Uses:  Hypertension (high blood pressure)</td>\n",
       "      <td>Side effects: Dizziness Tiredness Decreased po...</td>\n",
       "      <td>67</td>\n",
       "      <td>33</td>\n",
       "      <td>0</td>\n",
       "    </tr>\n",
       "    <tr>\n",
       "      <th>11821</th>\n",
       "      <td>Medicine Name: Zipcoz Tablet</td>\n",
       "      <td>Composition: Chromium Picolinate (100mcg) + D-...</td>\n",
       "      <td>Uses:  Polycystic ovarian syndrome (PCOS)</td>\n",
       "      <td>Side effects: Rash Nausea Paresthesia tingling...</td>\n",
       "      <td>0</td>\n",
       "      <td>80</td>\n",
       "      <td>20</td>\n",
       "    </tr>\n",
       "    <tr>\n",
       "      <th>11822</th>\n",
       "      <td>Medicine Name: Zestasil 100 Tablet</td>\n",
       "      <td>Composition: Sildenafil (100mg)</td>\n",
       "      <td>Uses: Treatment of Erectile dysfunction</td>\n",
       "      <td>Side effects: Flushing sense of warmth in the ...</td>\n",
       "      <td>25</td>\n",
       "      <td>75</td>\n",
       "      <td>0</td>\n",
       "    </tr>\n",
       "    <tr>\n",
       "      <th>11823</th>\n",
       "      <td>Medicine Name: Zedruff Shampoo</td>\n",
       "      <td>Composition: Ketoconazole (2% w/v) + Zinc pyri...</td>\n",
       "      <td>Uses: Treatment of Dandruff</td>\n",
       "      <td>Side effects: Application site reactions burni...</td>\n",
       "      <td>0</td>\n",
       "      <td>0</td>\n",
       "      <td>100</td>\n",
       "    </tr>\n",
       "    <tr>\n",
       "      <th>11824</th>\n",
       "      <td>Medicine Name: Zedruff Shampoo</td>\n",
       "      <td>Composition: Ketoconazole (2% w/v) + Zinc pyri...</td>\n",
       "      <td>Uses: Treatment of Dandruff</td>\n",
       "      <td>Side effects: Application site reactions burni...</td>\n",
       "      <td>0</td>\n",
       "      <td>0</td>\n",
       "      <td>100</td>\n",
       "    </tr>\n",
       "  </tbody>\n",
       "</table>\n",
       "<p>11825 rows × 7 columns</p>\n",
       "</div>"
      ],
      "text/plain": [
       "                                  Medicine Name  \\\n",
       "0        Medicine Name: Avastin 400mg Injection   \n",
       "1       Medicine Name: Augmentin 625 Duo Tablet   \n",
       "2            Medicine Name: Azithral 500 Tablet   \n",
       "3               Medicine Name: Ascoril LS Syrup   \n",
       "4              Medicine Name: Aciloc 150 Tablet   \n",
       "...                                         ...   \n",
       "11820  Medicine Name: Zilarta-CT 40/6.25 Tablet   \n",
       "11821              Medicine Name: Zipcoz Tablet   \n",
       "11822        Medicine Name: Zestasil 100 Tablet   \n",
       "11823            Medicine Name: Zedruff Shampoo   \n",
       "11824            Medicine Name: Zedruff Shampoo   \n",
       "\n",
       "                                             Composition  \\\n",
       "0                       Composition: Bevacizumab (400mg)   \n",
       "1      Composition: Amoxycillin  (500mg) +  Clavulani...   \n",
       "2                      Composition: Azithromycin (500mg)   \n",
       "3      Composition: Ambroxol (30mg/5ml) + Levosalbuta...   \n",
       "4                        Composition: Ranitidine (150mg)   \n",
       "...                                                  ...   \n",
       "11820  Composition: Azilsartan medoxomil (40mg) + Chl...   \n",
       "11821  Composition: Chromium Picolinate (100mcg) + D-...   \n",
       "11822                    Composition: Sildenafil (100mg)   \n",
       "11823  Composition: Ketoconazole (2% w/v) + Zinc pyri...   \n",
       "11824  Composition: Ketoconazole (2% w/v) + Zinc pyri...   \n",
       "\n",
       "                                                    Uses  \\\n",
       "0      Uses:  Cancer of colon and rectum Non-small ce...   \n",
       "1                Uses: Treatment of Bacterial infections   \n",
       "2                Uses: Treatment of Bacterial infections   \n",
       "3                    Uses: Treatment of Cough with mucus   \n",
       "4      Uses: Treatment of Gastroesophageal reflux dis...   \n",
       "...                                                  ...   \n",
       "11820          Uses:  Hypertension (high blood pressure)   \n",
       "11821          Uses:  Polycystic ovarian syndrome (PCOS)   \n",
       "11822            Uses: Treatment of Erectile dysfunction   \n",
       "11823                        Uses: Treatment of Dandruff   \n",
       "11824                        Uses: Treatment of Dandruff   \n",
       "\n",
       "                                            Side_effects  Excellent Review %  \\\n",
       "0      Side effects: Rectal bleeding Taste change Hea...                  22   \n",
       "1      Side effects: Vomiting Nausea Diarrhea Mucocut...                  47   \n",
       "2           Side effects: Nausea Abdominal pain Diarrhea                  39   \n",
       "3      Side effects: Nausea Vomiting Diarrhea Upset s...                  24   \n",
       "4      Side effects: Headache Diarrhea Gastrointestin...                  34   \n",
       "...                                                  ...                 ...   \n",
       "11820  Side effects: Dizziness Tiredness Decreased po...                  67   \n",
       "11821  Side effects: Rash Nausea Paresthesia tingling...                   0   \n",
       "11822  Side effects: Flushing sense of warmth in the ...                  25   \n",
       "11823  Side effects: Application site reactions burni...                   0   \n",
       "11824  Side effects: Application site reactions burni...                   0   \n",
       "\n",
       "       Average Review %  Poor Review %  \n",
       "0                    56             22  \n",
       "1                    35             18  \n",
       "2                    40             21  \n",
       "3                    41             35  \n",
       "4                    37             29  \n",
       "...                 ...            ...  \n",
       "11820                33              0  \n",
       "11821                80             20  \n",
       "11822                75              0  \n",
       "11823                 0            100  \n",
       "11824                 0            100  \n",
       "\n",
       "[11825 rows x 7 columns]"
      ]
     },
     "execution_count": 17,
     "metadata": {},
     "output_type": "execute_result"
    }
   ],
   "source": [
    "dataset"
   ]
  },
  {
   "cell_type": "code",
   "execution_count": 18,
   "id": "04826fa9",
   "metadata": {
    "execution": {
     "iopub.execute_input": "2024-07-27T10:07:29.389892Z",
     "iopub.status.busy": "2024-07-27T10:07:29.389606Z",
     "iopub.status.idle": "2024-07-27T10:07:29.506475Z",
     "shell.execute_reply": "2024-07-27T10:07:29.505768Z"
    },
    "papermill": {
     "duration": 0.14439,
     "end_time": "2024-07-27T10:07:29.508532",
     "exception": false,
     "start_time": "2024-07-27T10:07:29.364142",
     "status": "completed"
    },
    "tags": []
   },
   "outputs": [],
   "source": [
    "dataset['Doctor'] = dataset[['Medicine Name', 'Composition', 'Uses', 'Side_effects']].agg('. '.join, axis=1)"
   ]
  },
  {
   "cell_type": "code",
   "execution_count": 19,
   "id": "5cc1e0f8",
   "metadata": {
    "execution": {
     "iopub.execute_input": "2024-07-27T10:07:29.561589Z",
     "iopub.status.busy": "2024-07-27T10:07:29.561028Z",
     "iopub.status.idle": "2024-07-27T10:07:29.575351Z",
     "shell.execute_reply": "2024-07-27T10:07:29.574581Z"
    },
    "papermill": {
     "duration": 0.042552,
     "end_time": "2024-07-27T10:07:29.577296",
     "exception": false,
     "start_time": "2024-07-27T10:07:29.534744",
     "status": "completed"
    },
    "tags": []
   },
   "outputs": [
    {
     "data": {
      "text/html": [
       "<div>\n",
       "<style scoped>\n",
       "    .dataframe tbody tr th:only-of-type {\n",
       "        vertical-align: middle;\n",
       "    }\n",
       "\n",
       "    .dataframe tbody tr th {\n",
       "        vertical-align: top;\n",
       "    }\n",
       "\n",
       "    .dataframe thead th {\n",
       "        text-align: right;\n",
       "    }\n",
       "</style>\n",
       "<table border=\"1\" class=\"dataframe\">\n",
       "  <thead>\n",
       "    <tr style=\"text-align: right;\">\n",
       "      <th></th>\n",
       "      <th>Medicine Name</th>\n",
       "      <th>Composition</th>\n",
       "      <th>Uses</th>\n",
       "      <th>Side_effects</th>\n",
       "      <th>Excellent Review %</th>\n",
       "      <th>Average Review %</th>\n",
       "      <th>Poor Review %</th>\n",
       "      <th>Doctor</th>\n",
       "    </tr>\n",
       "  </thead>\n",
       "  <tbody>\n",
       "    <tr>\n",
       "      <th>0</th>\n",
       "      <td>Medicine Name: Avastin 400mg Injection</td>\n",
       "      <td>Composition: Bevacizumab (400mg)</td>\n",
       "      <td>Uses:  Cancer of colon and rectum Non-small ce...</td>\n",
       "      <td>Side effects: Rectal bleeding Taste change Hea...</td>\n",
       "      <td>22</td>\n",
       "      <td>56</td>\n",
       "      <td>22</td>\n",
       "      <td>Medicine Name: Avastin 400mg Injection. Compos...</td>\n",
       "    </tr>\n",
       "    <tr>\n",
       "      <th>1</th>\n",
       "      <td>Medicine Name: Augmentin 625 Duo Tablet</td>\n",
       "      <td>Composition: Amoxycillin  (500mg) +  Clavulani...</td>\n",
       "      <td>Uses: Treatment of Bacterial infections</td>\n",
       "      <td>Side effects: Vomiting Nausea Diarrhea Mucocut...</td>\n",
       "      <td>47</td>\n",
       "      <td>35</td>\n",
       "      <td>18</td>\n",
       "      <td>Medicine Name: Augmentin 625 Duo Tablet. Compo...</td>\n",
       "    </tr>\n",
       "    <tr>\n",
       "      <th>2</th>\n",
       "      <td>Medicine Name: Azithral 500 Tablet</td>\n",
       "      <td>Composition: Azithromycin (500mg)</td>\n",
       "      <td>Uses: Treatment of Bacterial infections</td>\n",
       "      <td>Side effects: Nausea Abdominal pain Diarrhea</td>\n",
       "      <td>39</td>\n",
       "      <td>40</td>\n",
       "      <td>21</td>\n",
       "      <td>Medicine Name: Azithral 500 Tablet. Compositio...</td>\n",
       "    </tr>\n",
       "    <tr>\n",
       "      <th>3</th>\n",
       "      <td>Medicine Name: Ascoril LS Syrup</td>\n",
       "      <td>Composition: Ambroxol (30mg/5ml) + Levosalbuta...</td>\n",
       "      <td>Uses: Treatment of Cough with mucus</td>\n",
       "      <td>Side effects: Nausea Vomiting Diarrhea Upset s...</td>\n",
       "      <td>24</td>\n",
       "      <td>41</td>\n",
       "      <td>35</td>\n",
       "      <td>Medicine Name: Ascoril LS Syrup. Composition: ...</td>\n",
       "    </tr>\n",
       "    <tr>\n",
       "      <th>4</th>\n",
       "      <td>Medicine Name: Aciloc 150 Tablet</td>\n",
       "      <td>Composition: Ranitidine (150mg)</td>\n",
       "      <td>Uses: Treatment of Gastroesophageal reflux dis...</td>\n",
       "      <td>Side effects: Headache Diarrhea Gastrointestin...</td>\n",
       "      <td>34</td>\n",
       "      <td>37</td>\n",
       "      <td>29</td>\n",
       "      <td>Medicine Name: Aciloc 150 Tablet. Composition:...</td>\n",
       "    </tr>\n",
       "    <tr>\n",
       "      <th>...</th>\n",
       "      <td>...</td>\n",
       "      <td>...</td>\n",
       "      <td>...</td>\n",
       "      <td>...</td>\n",
       "      <td>...</td>\n",
       "      <td>...</td>\n",
       "      <td>...</td>\n",
       "      <td>...</td>\n",
       "    </tr>\n",
       "    <tr>\n",
       "      <th>11820</th>\n",
       "      <td>Medicine Name: Zilarta-CT 40/6.25 Tablet</td>\n",
       "      <td>Composition: Azilsartan medoxomil (40mg) + Chl...</td>\n",
       "      <td>Uses:  Hypertension (high blood pressure)</td>\n",
       "      <td>Side effects: Dizziness Tiredness Decreased po...</td>\n",
       "      <td>67</td>\n",
       "      <td>33</td>\n",
       "      <td>0</td>\n",
       "      <td>Medicine Name: Zilarta-CT 40/6.25 Tablet. Comp...</td>\n",
       "    </tr>\n",
       "    <tr>\n",
       "      <th>11821</th>\n",
       "      <td>Medicine Name: Zipcoz Tablet</td>\n",
       "      <td>Composition: Chromium Picolinate (100mcg) + D-...</td>\n",
       "      <td>Uses:  Polycystic ovarian syndrome (PCOS)</td>\n",
       "      <td>Side effects: Rash Nausea Paresthesia tingling...</td>\n",
       "      <td>0</td>\n",
       "      <td>80</td>\n",
       "      <td>20</td>\n",
       "      <td>Medicine Name: Zipcoz Tablet. Composition: Chr...</td>\n",
       "    </tr>\n",
       "    <tr>\n",
       "      <th>11822</th>\n",
       "      <td>Medicine Name: Zestasil 100 Tablet</td>\n",
       "      <td>Composition: Sildenafil (100mg)</td>\n",
       "      <td>Uses: Treatment of Erectile dysfunction</td>\n",
       "      <td>Side effects: Flushing sense of warmth in the ...</td>\n",
       "      <td>25</td>\n",
       "      <td>75</td>\n",
       "      <td>0</td>\n",
       "      <td>Medicine Name: Zestasil 100 Tablet. Compositio...</td>\n",
       "    </tr>\n",
       "    <tr>\n",
       "      <th>11823</th>\n",
       "      <td>Medicine Name: Zedruff Shampoo</td>\n",
       "      <td>Composition: Ketoconazole (2% w/v) + Zinc pyri...</td>\n",
       "      <td>Uses: Treatment of Dandruff</td>\n",
       "      <td>Side effects: Application site reactions burni...</td>\n",
       "      <td>0</td>\n",
       "      <td>0</td>\n",
       "      <td>100</td>\n",
       "      <td>Medicine Name: Zedruff Shampoo. Composition: K...</td>\n",
       "    </tr>\n",
       "    <tr>\n",
       "      <th>11824</th>\n",
       "      <td>Medicine Name: Zedruff Shampoo</td>\n",
       "      <td>Composition: Ketoconazole (2% w/v) + Zinc pyri...</td>\n",
       "      <td>Uses: Treatment of Dandruff</td>\n",
       "      <td>Side effects: Application site reactions burni...</td>\n",
       "      <td>0</td>\n",
       "      <td>0</td>\n",
       "      <td>100</td>\n",
       "      <td>Medicine Name: Zedruff Shampoo. Composition: K...</td>\n",
       "    </tr>\n",
       "  </tbody>\n",
       "</table>\n",
       "<p>11825 rows × 8 columns</p>\n",
       "</div>"
      ],
      "text/plain": [
       "                                  Medicine Name  \\\n",
       "0        Medicine Name: Avastin 400mg Injection   \n",
       "1       Medicine Name: Augmentin 625 Duo Tablet   \n",
       "2            Medicine Name: Azithral 500 Tablet   \n",
       "3               Medicine Name: Ascoril LS Syrup   \n",
       "4              Medicine Name: Aciloc 150 Tablet   \n",
       "...                                         ...   \n",
       "11820  Medicine Name: Zilarta-CT 40/6.25 Tablet   \n",
       "11821              Medicine Name: Zipcoz Tablet   \n",
       "11822        Medicine Name: Zestasil 100 Tablet   \n",
       "11823            Medicine Name: Zedruff Shampoo   \n",
       "11824            Medicine Name: Zedruff Shampoo   \n",
       "\n",
       "                                             Composition  \\\n",
       "0                       Composition: Bevacizumab (400mg)   \n",
       "1      Composition: Amoxycillin  (500mg) +  Clavulani...   \n",
       "2                      Composition: Azithromycin (500mg)   \n",
       "3      Composition: Ambroxol (30mg/5ml) + Levosalbuta...   \n",
       "4                        Composition: Ranitidine (150mg)   \n",
       "...                                                  ...   \n",
       "11820  Composition: Azilsartan medoxomil (40mg) + Chl...   \n",
       "11821  Composition: Chromium Picolinate (100mcg) + D-...   \n",
       "11822                    Composition: Sildenafil (100mg)   \n",
       "11823  Composition: Ketoconazole (2% w/v) + Zinc pyri...   \n",
       "11824  Composition: Ketoconazole (2% w/v) + Zinc pyri...   \n",
       "\n",
       "                                                    Uses  \\\n",
       "0      Uses:  Cancer of colon and rectum Non-small ce...   \n",
       "1                Uses: Treatment of Bacterial infections   \n",
       "2                Uses: Treatment of Bacterial infections   \n",
       "3                    Uses: Treatment of Cough with mucus   \n",
       "4      Uses: Treatment of Gastroesophageal reflux dis...   \n",
       "...                                                  ...   \n",
       "11820          Uses:  Hypertension (high blood pressure)   \n",
       "11821          Uses:  Polycystic ovarian syndrome (PCOS)   \n",
       "11822            Uses: Treatment of Erectile dysfunction   \n",
       "11823                        Uses: Treatment of Dandruff   \n",
       "11824                        Uses: Treatment of Dandruff   \n",
       "\n",
       "                                            Side_effects  Excellent Review %  \\\n",
       "0      Side effects: Rectal bleeding Taste change Hea...                  22   \n",
       "1      Side effects: Vomiting Nausea Diarrhea Mucocut...                  47   \n",
       "2           Side effects: Nausea Abdominal pain Diarrhea                  39   \n",
       "3      Side effects: Nausea Vomiting Diarrhea Upset s...                  24   \n",
       "4      Side effects: Headache Diarrhea Gastrointestin...                  34   \n",
       "...                                                  ...                 ...   \n",
       "11820  Side effects: Dizziness Tiredness Decreased po...                  67   \n",
       "11821  Side effects: Rash Nausea Paresthesia tingling...                   0   \n",
       "11822  Side effects: Flushing sense of warmth in the ...                  25   \n",
       "11823  Side effects: Application site reactions burni...                   0   \n",
       "11824  Side effects: Application site reactions burni...                   0   \n",
       "\n",
       "       Average Review %  Poor Review %  \\\n",
       "0                    56             22   \n",
       "1                    35             18   \n",
       "2                    40             21   \n",
       "3                    41             35   \n",
       "4                    37             29   \n",
       "...                 ...            ...   \n",
       "11820                33              0   \n",
       "11821                80             20   \n",
       "11822                75              0   \n",
       "11823                 0            100   \n",
       "11824                 0            100   \n",
       "\n",
       "                                                  Doctor  \n",
       "0      Medicine Name: Avastin 400mg Injection. Compos...  \n",
       "1      Medicine Name: Augmentin 625 Duo Tablet. Compo...  \n",
       "2      Medicine Name: Azithral 500 Tablet. Compositio...  \n",
       "3      Medicine Name: Ascoril LS Syrup. Composition: ...  \n",
       "4      Medicine Name: Aciloc 150 Tablet. Composition:...  \n",
       "...                                                  ...  \n",
       "11820  Medicine Name: Zilarta-CT 40/6.25 Tablet. Comp...  \n",
       "11821  Medicine Name: Zipcoz Tablet. Composition: Chr...  \n",
       "11822  Medicine Name: Zestasil 100 Tablet. Compositio...  \n",
       "11823  Medicine Name: Zedruff Shampoo. Composition: K...  \n",
       "11824  Medicine Name: Zedruff Shampoo. Composition: K...  \n",
       "\n",
       "[11825 rows x 8 columns]"
      ]
     },
     "execution_count": 19,
     "metadata": {},
     "output_type": "execute_result"
    }
   ],
   "source": [
    "dataset"
   ]
  },
  {
   "cell_type": "code",
   "execution_count": 20,
   "id": "a51ce8c9",
   "metadata": {
    "execution": {
     "iopub.execute_input": "2024-07-27T10:07:29.629497Z",
     "iopub.status.busy": "2024-07-27T10:07:29.628828Z",
     "iopub.status.idle": "2024-07-27T10:07:29.634308Z",
     "shell.execute_reply": "2024-07-27T10:07:29.633583Z"
    },
    "papermill": {
     "duration": 0.033459,
     "end_time": "2024-07-27T10:07:29.636261",
     "exception": false,
     "start_time": "2024-07-27T10:07:29.602802",
     "status": "completed"
    },
    "tags": []
   },
   "outputs": [
    {
     "data": {
      "text/plain": [
       "\"Medicine Name: Avil Injection. Composition: Pheniramine (22.75mg). Uses: Treatment of Allergic conditionsTreatment of Respiratory disease with excessive mucusTreatment of Skin conditions with inflammation & itchingTreatment and prevention of Meniere's disease. Side effects: Sedation\""
      ]
     },
     "execution_count": 20,
     "metadata": {},
     "output_type": "execute_result"
    }
   ],
   "source": [
    "dataset['Doctor'][42]"
   ]
  },
  {
   "cell_type": "code",
   "execution_count": 21,
   "id": "f130a262",
   "metadata": {
    "execution": {
     "iopub.execute_input": "2024-07-27T10:07:29.688236Z",
     "iopub.status.busy": "2024-07-27T10:07:29.687488Z",
     "iopub.status.idle": "2024-07-27T10:07:29.693110Z",
     "shell.execute_reply": "2024-07-27T10:07:29.692238Z"
    },
    "papermill": {
     "duration": 0.03354,
     "end_time": "2024-07-27T10:07:29.695082",
     "exception": false,
     "start_time": "2024-07-27T10:07:29.661542",
     "status": "completed"
    },
    "tags": []
   },
   "outputs": [],
   "source": [
    "dataset = dataset.drop(['Medicine Name', 'Composition', 'Uses', 'Side_effects'], axis = 1)"
   ]
  },
  {
   "cell_type": "code",
   "execution_count": 22,
   "id": "e022735b",
   "metadata": {
    "execution": {
     "iopub.execute_input": "2024-07-27T10:07:29.746529Z",
     "iopub.status.busy": "2024-07-27T10:07:29.745840Z",
     "iopub.status.idle": "2024-07-27T10:07:29.758249Z",
     "shell.execute_reply": "2024-07-27T10:07:29.757434Z"
    },
    "papermill": {
     "duration": 0.04003,
     "end_time": "2024-07-27T10:07:29.760032",
     "exception": false,
     "start_time": "2024-07-27T10:07:29.720002",
     "status": "completed"
    },
    "tags": []
   },
   "outputs": [
    {
     "data": {
      "text/html": [
       "<div>\n",
       "<style scoped>\n",
       "    .dataframe tbody tr th:only-of-type {\n",
       "        vertical-align: middle;\n",
       "    }\n",
       "\n",
       "    .dataframe tbody tr th {\n",
       "        vertical-align: top;\n",
       "    }\n",
       "\n",
       "    .dataframe thead th {\n",
       "        text-align: right;\n",
       "    }\n",
       "</style>\n",
       "<table border=\"1\" class=\"dataframe\">\n",
       "  <thead>\n",
       "    <tr style=\"text-align: right;\">\n",
       "      <th></th>\n",
       "      <th>Excellent Review %</th>\n",
       "      <th>Average Review %</th>\n",
       "      <th>Poor Review %</th>\n",
       "      <th>Doctor</th>\n",
       "      <th>Patient</th>\n",
       "    </tr>\n",
       "  </thead>\n",
       "  <tbody>\n",
       "    <tr>\n",
       "      <th>0</th>\n",
       "      <td>22</td>\n",
       "      <td>56</td>\n",
       "      <td>22</td>\n",
       "      <td>Medicine Name: Avastin 400mg Injection. Compos...</td>\n",
       "      <td>What is this medicine? How is it used?</td>\n",
       "    </tr>\n",
       "    <tr>\n",
       "      <th>1</th>\n",
       "      <td>47</td>\n",
       "      <td>35</td>\n",
       "      <td>18</td>\n",
       "      <td>Medicine Name: Augmentin 625 Duo Tablet. Compo...</td>\n",
       "      <td>What is this medicine? How is it used?</td>\n",
       "    </tr>\n",
       "    <tr>\n",
       "      <th>2</th>\n",
       "      <td>39</td>\n",
       "      <td>40</td>\n",
       "      <td>21</td>\n",
       "      <td>Medicine Name: Azithral 500 Tablet. Compositio...</td>\n",
       "      <td>What is this medicine? How is it used?</td>\n",
       "    </tr>\n",
       "    <tr>\n",
       "      <th>3</th>\n",
       "      <td>24</td>\n",
       "      <td>41</td>\n",
       "      <td>35</td>\n",
       "      <td>Medicine Name: Ascoril LS Syrup. Composition: ...</td>\n",
       "      <td>What is this medicine? How is it used?</td>\n",
       "    </tr>\n",
       "    <tr>\n",
       "      <th>4</th>\n",
       "      <td>34</td>\n",
       "      <td>37</td>\n",
       "      <td>29</td>\n",
       "      <td>Medicine Name: Aciloc 150 Tablet. Composition:...</td>\n",
       "      <td>What is this medicine? How is it used?</td>\n",
       "    </tr>\n",
       "    <tr>\n",
       "      <th>...</th>\n",
       "      <td>...</td>\n",
       "      <td>...</td>\n",
       "      <td>...</td>\n",
       "      <td>...</td>\n",
       "      <td>...</td>\n",
       "    </tr>\n",
       "    <tr>\n",
       "      <th>11820</th>\n",
       "      <td>67</td>\n",
       "      <td>33</td>\n",
       "      <td>0</td>\n",
       "      <td>Medicine Name: Zilarta-CT 40/6.25 Tablet. Comp...</td>\n",
       "      <td>What is this medicine? How is it used?</td>\n",
       "    </tr>\n",
       "    <tr>\n",
       "      <th>11821</th>\n",
       "      <td>0</td>\n",
       "      <td>80</td>\n",
       "      <td>20</td>\n",
       "      <td>Medicine Name: Zipcoz Tablet. Composition: Chr...</td>\n",
       "      <td>What is this medicine? How is it used?</td>\n",
       "    </tr>\n",
       "    <tr>\n",
       "      <th>11822</th>\n",
       "      <td>25</td>\n",
       "      <td>75</td>\n",
       "      <td>0</td>\n",
       "      <td>Medicine Name: Zestasil 100 Tablet. Compositio...</td>\n",
       "      <td>What is this medicine? How is it used?</td>\n",
       "    </tr>\n",
       "    <tr>\n",
       "      <th>11823</th>\n",
       "      <td>0</td>\n",
       "      <td>0</td>\n",
       "      <td>100</td>\n",
       "      <td>Medicine Name: Zedruff Shampoo. Composition: K...</td>\n",
       "      <td>What is this medicine? How is it used?</td>\n",
       "    </tr>\n",
       "    <tr>\n",
       "      <th>11824</th>\n",
       "      <td>0</td>\n",
       "      <td>0</td>\n",
       "      <td>100</td>\n",
       "      <td>Medicine Name: Zedruff Shampoo. Composition: K...</td>\n",
       "      <td>What is this medicine? How is it used?</td>\n",
       "    </tr>\n",
       "  </tbody>\n",
       "</table>\n",
       "<p>11825 rows × 5 columns</p>\n",
       "</div>"
      ],
      "text/plain": [
       "       Excellent Review %  Average Review %  Poor Review %  \\\n",
       "0                      22                56             22   \n",
       "1                      47                35             18   \n",
       "2                      39                40             21   \n",
       "3                      24                41             35   \n",
       "4                      34                37             29   \n",
       "...                   ...               ...            ...   \n",
       "11820                  67                33              0   \n",
       "11821                   0                80             20   \n",
       "11822                  25                75              0   \n",
       "11823                   0                 0            100   \n",
       "11824                   0                 0            100   \n",
       "\n",
       "                                                  Doctor  \\\n",
       "0      Medicine Name: Avastin 400mg Injection. Compos...   \n",
       "1      Medicine Name: Augmentin 625 Duo Tablet. Compo...   \n",
       "2      Medicine Name: Azithral 500 Tablet. Compositio...   \n",
       "3      Medicine Name: Ascoril LS Syrup. Composition: ...   \n",
       "4      Medicine Name: Aciloc 150 Tablet. Composition:...   \n",
       "...                                                  ...   \n",
       "11820  Medicine Name: Zilarta-CT 40/6.25 Tablet. Comp...   \n",
       "11821  Medicine Name: Zipcoz Tablet. Composition: Chr...   \n",
       "11822  Medicine Name: Zestasil 100 Tablet. Compositio...   \n",
       "11823  Medicine Name: Zedruff Shampoo. Composition: K...   \n",
       "11824  Medicine Name: Zedruff Shampoo. Composition: K...   \n",
       "\n",
       "                                      Patient  \n",
       "0      What is this medicine? How is it used?  \n",
       "1      What is this medicine? How is it used?  \n",
       "2      What is this medicine? How is it used?  \n",
       "3      What is this medicine? How is it used?  \n",
       "4      What is this medicine? How is it used?  \n",
       "...                                       ...  \n",
       "11820  What is this medicine? How is it used?  \n",
       "11821  What is this medicine? How is it used?  \n",
       "11822  What is this medicine? How is it used?  \n",
       "11823  What is this medicine? How is it used?  \n",
       "11824  What is this medicine? How is it used?  \n",
       "\n",
       "[11825 rows x 5 columns]"
      ]
     },
     "execution_count": 22,
     "metadata": {},
     "output_type": "execute_result"
    }
   ],
   "source": [
    "# Adding Patient question to use this dataset as a dialog for chat model training.\n",
    "dataset['Patient'] = 'What is this medicine? How is it used?'\n",
    "dataset"
   ]
  },
  {
   "cell_type": "markdown",
   "id": "6d687f51",
   "metadata": {
    "papermill": {
     "duration": 0.025158,
     "end_time": "2024-07-27T10:07:29.810478",
     "exception": false,
     "start_time": "2024-07-27T10:07:29.785320",
     "status": "completed"
    },
    "tags": []
   },
   "source": [
    "Converting Pandas Dataframe into HuggingFace Dataset."
   ]
  },
  {
   "cell_type": "code",
   "execution_count": 23,
   "id": "b2b613e1",
   "metadata": {
    "execution": {
     "iopub.execute_input": "2024-07-27T10:07:29.863646Z",
     "iopub.status.busy": "2024-07-27T10:07:29.863315Z",
     "iopub.status.idle": "2024-07-27T10:07:31.649268Z",
     "shell.execute_reply": "2024-07-27T10:07:31.647931Z"
    },
    "papermill": {
     "duration": 1.815073,
     "end_time": "2024-07-27T10:07:31.651953",
     "exception": false,
     "start_time": "2024-07-27T10:07:29.836880",
     "status": "completed"
    },
    "tags": []
   },
   "outputs": [
    {
     "name": "stderr",
     "output_type": "stream",
     "text": [
      "/opt/conda/lib/python3.10/site-packages/multiprocess/popen_fork.py:66: RuntimeWarning: os.fork() was called. os.fork() is incompatible with multithreaded code, and JAX is multithreaded, so this will likely lead to a deadlock.\n",
      "  self.pid = os.fork()\n"
     ]
    },
    {
     "data": {
      "application/vnd.jupyter.widget-view+json": {
       "model_id": "6b2b319314a04bad9151ea57fc1e4dc5",
       "version_major": 2,
       "version_minor": 0
      },
      "text/plain": [
       "Map (num_proc=4):   0%|          | 0/11825 [00:00<?, ? examples/s]"
      ]
     },
     "metadata": {},
     "output_type": "display_data"
    },
    {
     "name": "stderr",
     "output_type": "stream",
     "text": [
      "/opt/conda/lib/python3.10/site-packages/multiprocess/popen_fork.py:66: RuntimeWarning: os.fork() was called. os.fork() is incompatible with multithreaded code, and JAX is multithreaded, so this will likely lead to a deadlock.\n",
      "  self.pid = os.fork()\n"
     ]
    },
    {
     "data": {
      "text/plain": [
       "\"<|im_start|>user\\nWhat is this medicine? How is it used?<|im_end|>\\n<|im_start|>assistant\\nMedicine Name: Avil Injection. Composition: Pheniramine (22.75mg). Uses: Treatment of Allergic conditionsTreatment of Respiratory disease with excessive mucusTreatment of Skin conditions with inflammation & itchingTreatment and prevention of Meniere's disease. Side effects: Sedation<|im_end|>\\n\""
      ]
     },
     "execution_count": 23,
     "metadata": {},
     "output_type": "execute_result"
    }
   ],
   "source": [
    "from datasets import Dataset\n",
    "\n",
    "dataset = Dataset.from_pandas(dataset)\n",
    "\n",
    "def format_chat_template(row):\n",
    "    row_json = [{\"role\": \"user\", \"content\": row[\"Patient\"]},\n",
    "               {\"role\": \"assistant\", \"content\": row[\"Doctor\"]}]\n",
    "    row[\"text\"] = tokenizer.apply_chat_template(row_json, tokenize=False)\n",
    "    return row\n",
    "\n",
    "dataset = dataset.map(\n",
    "    format_chat_template,\n",
    "    num_proc=4,\n",
    ")\n",
    "\n",
    "dataset['text'][42]"
   ]
  },
  {
   "cell_type": "markdown",
   "id": "a92b6b57",
   "metadata": {
    "papermill": {
     "duration": 0.030804,
     "end_time": "2024-07-27T10:07:31.716450",
     "exception": false,
     "start_time": "2024-07-27T10:07:31.685646",
     "status": "completed"
    },
    "tags": []
   },
   "source": [
    "Splitting the dataset into a training and validation set."
   ]
  },
  {
   "cell_type": "code",
   "execution_count": 24,
   "id": "fb6def73",
   "metadata": {
    "execution": {
     "iopub.execute_input": "2024-07-27T10:07:31.772789Z",
     "iopub.status.busy": "2024-07-27T10:07:31.772010Z",
     "iopub.status.idle": "2024-07-27T10:07:31.795226Z",
     "shell.execute_reply": "2024-07-27T10:07:31.794407Z"
    },
    "papermill": {
     "duration": 0.053619,
     "end_time": "2024-07-27T10:07:31.797211",
     "exception": false,
     "start_time": "2024-07-27T10:07:31.743592",
     "status": "completed"
    },
    "tags": []
   },
   "outputs": [],
   "source": [
    "dataset = dataset.train_test_split(test_size=0.1)"
   ]
  },
  {
   "cell_type": "code",
   "execution_count": 25,
   "id": "e9ad9028",
   "metadata": {
    "execution": {
     "iopub.execute_input": "2024-07-27T10:07:31.853642Z",
     "iopub.status.busy": "2024-07-27T10:07:31.852828Z",
     "iopub.status.idle": "2024-07-27T10:07:31.860131Z",
     "shell.execute_reply": "2024-07-27T10:07:31.859262Z"
    },
    "papermill": {
     "duration": 0.038616,
     "end_time": "2024-07-27T10:07:31.862222",
     "exception": false,
     "start_time": "2024-07-27T10:07:31.823606",
     "status": "completed"
    },
    "tags": []
   },
   "outputs": [
    {
     "data": {
      "text/plain": [
       "DatasetDict({\n",
       "    train: Dataset({\n",
       "        features: ['Excellent Review %', 'Average Review %', 'Poor Review %', 'Doctor', 'Patient', 'text'],\n",
       "        num_rows: 10642\n",
       "    })\n",
       "    test: Dataset({\n",
       "        features: ['Excellent Review %', 'Average Review %', 'Poor Review %', 'Doctor', 'Patient', 'text'],\n",
       "        num_rows: 1183\n",
       "    })\n",
       "})"
      ]
     },
     "execution_count": 25,
     "metadata": {},
     "output_type": "execute_result"
    }
   ],
   "source": [
    "dataset"
   ]
  },
  {
   "cell_type": "markdown",
   "id": "d1c46bc8",
   "metadata": {
    "papermill": {
     "duration": 0.025807,
     "end_time": "2024-07-27T10:07:31.914484",
     "exception": false,
     "start_time": "2024-07-27T10:07:31.888677",
     "status": "completed"
    },
    "tags": []
   },
   "source": [
    "### Complaining and training the model.\n",
    "Setting the model hyperparameters so that we can run it on the Kaggle.\n",
    "Fine-tuning the model for one epoch and logging the metrics using the Weights and Biases."
   ]
  },
  {
   "cell_type": "code",
   "execution_count": 26,
   "id": "b515d70a",
   "metadata": {
    "execution": {
     "iopub.execute_input": "2024-07-27T10:07:31.986102Z",
     "iopub.status.busy": "2024-07-27T10:07:31.985729Z",
     "iopub.status.idle": "2024-07-27T10:07:32.022892Z",
     "shell.execute_reply": "2024-07-27T10:07:32.021892Z"
    },
    "papermill": {
     "duration": 0.079826,
     "end_time": "2024-07-27T10:07:32.025019",
     "exception": false,
     "start_time": "2024-07-27T10:07:31.945193",
     "status": "completed"
    },
    "tags": []
   },
   "outputs": [
    {
     "name": "stderr",
     "output_type": "stream",
     "text": [
      "/opt/conda/lib/python3.10/site-packages/transformers/training_args.py:1525: FutureWarning: `evaluation_strategy` is deprecated and will be removed in version 4.46 of 🤗 Transformers. Use `eval_strategy` instead\n",
      "  warnings.warn(\n"
     ]
    }
   ],
   "source": [
    "training_arguments = TrainingArguments(\n",
    "    output_dir=new_model,\n",
    "    per_device_train_batch_size=1,\n",
    "    per_device_eval_batch_size=1,\n",
    "    gradient_accumulation_steps=2,\n",
    "    optim=\"paged_adamw_32bit\",\n",
    "    num_train_epochs=1,\n",
    "    evaluation_strategy=\"steps\",\n",
    "    eval_steps=0.2,\n",
    "    logging_steps=1,\n",
    "    warmup_steps=10,\n",
    "    logging_strategy=\"steps\",\n",
    "    learning_rate=2e-4,\n",
    "    fp16=False,\n",
    "    bf16=False,\n",
    "    group_by_length=True,\n",
    "    report_to=\"wandb\"\n",
    ")"
   ]
  },
  {
   "cell_type": "markdown",
   "id": "5205bee8",
   "metadata": {
    "papermill": {
     "duration": 0.02608,
     "end_time": "2024-07-27T10:07:32.078177",
     "exception": false,
     "start_time": "2024-07-27T10:07:32.052097",
     "status": "completed"
    },
    "tags": []
   },
   "source": [
    "Setting up a supervised fine-tuning (SFT) trainer and provide a train and evaluation dataset, LoRA configuration, training argument, tokenizer, and model. We are keeping the max_seq_length to 512 to avoid exceeding GPU memory during training."
   ]
  },
  {
   "cell_type": "code",
   "execution_count": 27,
   "id": "88e0d167",
   "metadata": {
    "execution": {
     "iopub.execute_input": "2024-07-27T10:07:32.135894Z",
     "iopub.status.busy": "2024-07-27T10:07:32.135040Z",
     "iopub.status.idle": "2024-07-27T10:07:35.744978Z",
     "shell.execute_reply": "2024-07-27T10:07:35.744101Z"
    },
    "papermill": {
     "duration": 3.642627,
     "end_time": "2024-07-27T10:07:35.747009",
     "exception": false,
     "start_time": "2024-07-27T10:07:32.104382",
     "status": "completed"
    },
    "tags": []
   },
   "outputs": [
    {
     "name": "stderr",
     "output_type": "stream",
     "text": [
      "/opt/conda/lib/python3.10/site-packages/huggingface_hub/utils/_deprecation.py:100: FutureWarning: Deprecated argument(s) used in '__init__': max_seq_length, dataset_text_field. Will not be supported from version '1.0.0'.\n",
      "\n",
      "Deprecated positional argument(s) used in SFTTrainer, please use the SFTConfig to set these arguments instead.\n",
      "  warnings.warn(message, FutureWarning)\n",
      "/opt/conda/lib/python3.10/site-packages/transformers/training_args.py:1525: FutureWarning: `evaluation_strategy` is deprecated and will be removed in version 4.46 of 🤗 Transformers. Use `eval_strategy` instead\n",
      "  warnings.warn(\n",
      "/opt/conda/lib/python3.10/site-packages/trl/trainer/sft_trainer.py:280: UserWarning: You passed a `max_seq_length` argument to the SFTTrainer, the value you passed will override the one in the `SFTConfig`.\n",
      "  warnings.warn(\n",
      "/opt/conda/lib/python3.10/site-packages/trl/trainer/sft_trainer.py:318: UserWarning: You passed a `dataset_text_field` argument to the SFTTrainer, the value you passed will override the one in the `SFTConfig`.\n",
      "  warnings.warn(\n"
     ]
    },
    {
     "data": {
      "application/vnd.jupyter.widget-view+json": {
       "model_id": "5f31d01b66994b9cbd7fead637dc7f1f",
       "version_major": 2,
       "version_minor": 0
      },
      "text/plain": [
       "Map:   0%|          | 0/10642 [00:00<?, ? examples/s]"
      ]
     },
     "metadata": {},
     "output_type": "display_data"
    },
    {
     "data": {
      "application/vnd.jupyter.widget-view+json": {
       "model_id": "e0ed447f4cad4c6395cee092669fe488",
       "version_major": 2,
       "version_minor": 0
      },
      "text/plain": [
       "Map:   0%|          | 0/1183 [00:00<?, ? examples/s]"
      ]
     },
     "metadata": {},
     "output_type": "display_data"
    }
   ],
   "source": [
    "trainer = SFTTrainer(\n",
    "    model=model,\n",
    "    train_dataset=dataset[\"train\"],\n",
    "    eval_dataset=dataset[\"test\"],\n",
    "    peft_config=peft_config,\n",
    "    max_seq_length=512,\n",
    "    dataset_text_field=\"text\",\n",
    "    tokenizer=tokenizer,\n",
    "    args=training_arguments,\n",
    "    packing= False,\n",
    ")"
   ]
  },
  {
   "cell_type": "code",
   "execution_count": 28,
   "id": "23220282",
   "metadata": {
    "execution": {
     "iopub.execute_input": "2024-07-27T10:07:35.803085Z",
     "iopub.status.busy": "2024-07-27T10:07:35.802367Z",
     "iopub.status.idle": "2024-07-27T13:18:32.173073Z",
     "shell.execute_reply": "2024-07-27T13:18:32.172120Z"
    },
    "papermill": {
     "duration": 11456.400828,
     "end_time": "2024-07-27T13:18:32.175165",
     "exception": false,
     "start_time": "2024-07-27T10:07:35.774337",
     "status": "completed"
    },
    "tags": []
   },
   "outputs": [
    {
     "name": "stderr",
     "output_type": "stream",
     "text": [
      "\u001b[34m\u001b[1mwandb\u001b[0m: \u001b[33mWARNING\u001b[0m The `run_name` is currently set to the same value as `TrainingArguments.output_dir`. If this was not intended, please specify a different run name by setting the `TrainingArguments.run_name` parameter.\n"
     ]
    },
    {
     "data": {
      "text/html": [
       "\n",
       "    <div>\n",
       "      \n",
       "      <progress value='5321' max='5321' style='width:300px; height:20px; vertical-align: middle;'></progress>\n",
       "      [5321/5321 3:10:51, Epoch 1/1]\n",
       "    </div>\n",
       "    <table border=\"1\" class=\"dataframe\">\n",
       "  <thead>\n",
       " <tr style=\"text-align: left;\">\n",
       "      <th>Step</th>\n",
       "      <th>Training Loss</th>\n",
       "      <th>Validation Loss</th>\n",
       "    </tr>\n",
       "  </thead>\n",
       "  <tbody>\n",
       "    <tr>\n",
       "      <td>1065</td>\n",
       "      <td>0.408900</td>\n",
       "      <td>0.575221</td>\n",
       "    </tr>\n",
       "    <tr>\n",
       "      <td>2130</td>\n",
       "      <td>0.608300</td>\n",
       "      <td>0.466595</td>\n",
       "    </tr>\n",
       "    <tr>\n",
       "      <td>3195</td>\n",
       "      <td>0.589500</td>\n",
       "      <td>0.387919</td>\n",
       "    </tr>\n",
       "    <tr>\n",
       "      <td>4260</td>\n",
       "      <td>0.289400</td>\n",
       "      <td>0.351831</td>\n",
       "    </tr>\n",
       "  </tbody>\n",
       "</table><p>"
      ],
      "text/plain": [
       "<IPython.core.display.HTML object>"
      ]
     },
     "metadata": {},
     "output_type": "display_data"
    },
    {
     "name": "stderr",
     "output_type": "stream",
     "text": [
      "We detected that you are passing `past_key_values` as a tuple and this is deprecated and will be removed in v4.43. Please use an appropriate `Cache` class (https://huggingface.co/docs/transformers/v4.41.3/en/internal/generation_utils#transformers.Cache)\n"
     ]
    },
    {
     "data": {
      "text/plain": [
       "TrainOutput(global_step=5321, training_loss=0.4960337923704917, metrics={'train_runtime': 11454.2292, 'train_samples_per_second': 0.929, 'train_steps_per_second': 0.465, 'total_flos': 4.159010860685722e+16, 'train_loss': 0.4960337923704917, 'epoch': 1.0})"
      ]
     },
     "execution_count": 28,
     "metadata": {},
     "output_type": "execute_result"
    }
   ],
   "source": [
    "trainer.train()"
   ]
  },
  {
   "cell_type": "markdown",
   "id": "49149296",
   "metadata": {
    "papermill": {
     "duration": 0.02919,
     "end_time": "2024-07-27T13:18:32.232691",
     "exception": false,
     "start_time": "2024-07-27T13:18:32.203501",
     "status": "completed"
    },
    "tags": []
   },
   "source": [
    "#### Model evaluation."
   ]
  },
  {
   "cell_type": "markdown",
   "id": "c738f605",
   "metadata": {
    "papermill": {
     "duration": 0.026563,
     "end_time": "2024-07-27T13:18:32.286075",
     "exception": false,
     "start_time": "2024-07-27T13:18:32.259512",
     "status": "completed"
    },
    "tags": []
   },
   "source": [
    "The Weights & Biases generates the run history and summary."
   ]
  },
  {
   "cell_type": "code",
   "execution_count": 29,
   "id": "a07cbb00",
   "metadata": {
    "execution": {
     "iopub.execute_input": "2024-07-27T13:18:32.342173Z",
     "iopub.status.busy": "2024-07-27T13:18:32.341146Z",
     "iopub.status.idle": "2024-07-27T13:18:37.623434Z",
     "shell.execute_reply": "2024-07-27T13:18:37.622737Z"
    },
    "papermill": {
     "duration": 5.312321,
     "end_time": "2024-07-27T13:18:37.625310",
     "exception": false,
     "start_time": "2024-07-27T13:18:32.312989",
     "status": "completed"
    },
    "tags": []
   },
   "outputs": [
    {
     "name": "stderr",
     "output_type": "stream",
     "text": [
      "\u001b[34m\u001b[1mwandb\u001b[0m:                                                                                \n",
      "\u001b[34m\u001b[1mwandb\u001b[0m: \n",
      "\u001b[34m\u001b[1mwandb\u001b[0m: Run history:\n",
      "\u001b[34m\u001b[1mwandb\u001b[0m:               eval/loss █▅▂▁\n",
      "\u001b[34m\u001b[1mwandb\u001b[0m:            eval/runtime ▁▅▅█\n",
      "\u001b[34m\u001b[1mwandb\u001b[0m: eval/samples_per_second █▃▃▁\n",
      "\u001b[34m\u001b[1mwandb\u001b[0m:   eval/steps_per_second █▃▃▁\n",
      "\u001b[34m\u001b[1mwandb\u001b[0m:             train/epoch ▁▁▁▂▂▂▂▂▂▃▃▃▃▃▃▄▄▄▄▄▅▅▅▅▅▅▆▆▆▆▆▇▇▇▇▇▇███\n",
      "\u001b[34m\u001b[1mwandb\u001b[0m:       train/global_step ▁▁▁▂▂▂▂▂▂▃▃▃▃▃▃▄▄▄▄▄▅▅▅▅▅▅▆▆▆▆▆▇▇▇▇▇▇███\n",
      "\u001b[34m\u001b[1mwandb\u001b[0m:         train/grad_norm ▆▄▅▆▃▄▂▃▄▄▄█▃▄▂▂▆▅▄▃▃▅▅▄▂▇▂▂▃▁▃▂▂▃▃▁▂▃▂▃\n",
      "\u001b[34m\u001b[1mwandb\u001b[0m:     train/learning_rate ███▇▇▇▇▇▇▆▆▆▆▆▆▅▅▅▅▅▄▄▄▄▄▄▃▃▃▃▃▂▂▂▂▂▂▁▁▁\n",
      "\u001b[34m\u001b[1mwandb\u001b[0m:              train/loss █▅▂▅▃▃▂▂▂▄▂▄▂▂▁▂▃▇▂▂▃▄▃▂▁▂▂▂▂▁▃▂▂▁▂▁▁▂▁▂\n",
      "\u001b[34m\u001b[1mwandb\u001b[0m: \n",
      "\u001b[34m\u001b[1mwandb\u001b[0m: Run summary:\n",
      "\u001b[34m\u001b[1mwandb\u001b[0m:                eval/loss 0.35183\n",
      "\u001b[34m\u001b[1mwandb\u001b[0m:             eval/runtime 490.5228\n",
      "\u001b[34m\u001b[1mwandb\u001b[0m:  eval/samples_per_second 2.412\n",
      "\u001b[34m\u001b[1mwandb\u001b[0m:    eval/steps_per_second 2.412\n",
      "\u001b[34m\u001b[1mwandb\u001b[0m:               total_flos 4.159010860685722e+16\n",
      "\u001b[34m\u001b[1mwandb\u001b[0m:              train/epoch 1.0\n",
      "\u001b[34m\u001b[1mwandb\u001b[0m:        train/global_step 5321\n",
      "\u001b[34m\u001b[1mwandb\u001b[0m:          train/grad_norm 1.46323\n",
      "\u001b[34m\u001b[1mwandb\u001b[0m:      train/learning_rate 0.0\n",
      "\u001b[34m\u001b[1mwandb\u001b[0m:               train/loss 0.3961\n",
      "\u001b[34m\u001b[1mwandb\u001b[0m:               train_loss 0.49603\n",
      "\u001b[34m\u001b[1mwandb\u001b[0m:            train_runtime 11454.2292\n",
      "\u001b[34m\u001b[1mwandb\u001b[0m: train_samples_per_second 0.929\n",
      "\u001b[34m\u001b[1mwandb\u001b[0m:   train_steps_per_second 0.465\n",
      "\u001b[34m\u001b[1mwandb\u001b[0m: \n",
      "\u001b[34m\u001b[1mwandb\u001b[0m: 🚀 View run \u001b[33mkind-cosmos-16\u001b[0m at: \u001b[34m\u001b[4mhttps://wandb.ai/v-mcsimov-universidad-de-la-rioja/Medical%20assistant./runs/t880bsw9\u001b[0m\n",
      "\u001b[34m\u001b[1mwandb\u001b[0m: ⭐️ View project at: \u001b[34m\u001b[4mhttps://wandb.ai/v-mcsimov-universidad-de-la-rioja/Medical%20assistant.\u001b[0m\n",
      "\u001b[34m\u001b[1mwandb\u001b[0m: Synced 5 W&B file(s), 0 media file(s), 0 artifact file(s) and 0 other file(s)\n",
      "\u001b[34m\u001b[1mwandb\u001b[0m: Find logs at: \u001b[35m\u001b[1m./wandb/run-20240727_100332-t880bsw9/logs\u001b[0m\n",
      "\u001b[34m\u001b[1mwandb\u001b[0m: \u001b[33mWARNING\u001b[0m The new W&B backend becomes opt-out in version 0.18.0; try it out with `wandb.require(\"core\")`! See https://wandb.me/wandb-core for more information.\n"
     ]
    }
   ],
   "source": [
    "wandb.finish()\n",
    "model.config.use_cache = True"
   ]
  },
  {
   "cell_type": "code",
   "execution_count": 30,
   "id": "fbaede54",
   "metadata": {
    "execution": {
     "iopub.execute_input": "2024-07-27T13:18:37.682466Z",
     "iopub.status.busy": "2024-07-27T13:18:37.681771Z",
     "iopub.status.idle": "2024-07-27T13:18:56.102431Z",
     "shell.execute_reply": "2024-07-27T13:18:56.100993Z"
    },
    "papermill": {
     "duration": 18.452351,
     "end_time": "2024-07-27T13:18:56.105744",
     "exception": false,
     "start_time": "2024-07-27T13:18:37.653393",
     "status": "completed"
    },
    "tags": []
   },
   "outputs": [
    {
     "name": "stderr",
     "output_type": "stream",
     "text": [
      "Asking to truncate to max_length but no maximum length is provided and the model has no predefined maximum length. Default to no truncation.\n"
     ]
    },
    {
     "name": "stdout",
     "output_type": "stream",
     "text": [
      "\n",
      "Medicine Name: Acnesol 20% Gel. Composition: Clindamycin (1% w/w) + Nicotinamide (20% w/w). Uses: Treatment of Acne. Side effects: Skin peeling Dry skin Erythema skin redness Burning sensation at the site of application Itching Stinging sensation at the site of application Thinning of skin Burning sensation at the site of infection Erythema skin redness Edema swelling Nausea Vomiting Diarrhea Abdominal pain Fatigue Vertigo Dizziness Headache Decreased appetite Dermatitis Hypersensitivity Skin irritation\n"
     ]
    }
   ],
   "source": [
    "messages = [\n",
    "    {\n",
    "        \"role\": \"user\",\n",
    "        \"content\": \"Hello doctor, I have bad acne. How do I get rid of it?\"\n",
    "    }\n",
    "]\n",
    "\n",
    "prompt = tokenizer.apply_chat_template(messages, tokenize=False, \n",
    "                                       add_generation_prompt=True)\n",
    "\n",
    "inputs = tokenizer(prompt, return_tensors='pt', padding=True, \n",
    "                   truncation=True).to(\"cuda\")\n",
    "\n",
    "outputs = model.generate(**inputs, max_length=150, \n",
    "                         num_return_sequences=1)\n",
    "\n",
    "text = tokenizer.decode(outputs[0], skip_special_tokens=True)\n",
    "\n",
    "print(text.split(\"assistant\")[1])"
   ]
  },
  {
   "cell_type": "markdown",
   "id": "0bb6c8a8",
   "metadata": {
    "papermill": {
     "duration": 0.027733,
     "end_time": "2024-07-27T13:18:56.171438",
     "exception": false,
     "start_time": "2024-07-27T13:18:56.143705",
     "status": "completed"
    },
    "tags": []
   },
   "source": [
    "#### Saving the model file"
   ]
  },
  {
   "cell_type": "code",
   "execution_count": 31,
   "id": "dc9d5bcb",
   "metadata": {
    "execution": {
     "iopub.execute_input": "2024-07-27T13:18:56.230748Z",
     "iopub.status.busy": "2024-07-27T13:18:56.229868Z",
     "iopub.status.idle": "2024-07-27T13:19:15.888557Z",
     "shell.execute_reply": "2024-07-27T13:19:15.887659Z"
    },
    "papermill": {
     "duration": 19.69153,
     "end_time": "2024-07-27T13:19:15.890779",
     "exception": false,
     "start_time": "2024-07-27T13:18:56.199249",
     "status": "completed"
    },
    "tags": []
   },
   "outputs": [
    {
     "data": {
      "application/vnd.jupyter.widget-view+json": {
       "model_id": "e2acc25f8a2a4cacbe09db73ed59143a",
       "version_major": 2,
       "version_minor": 0
      },
      "text/plain": [
       "README.md:   0%|          | 0.00/5.17k [00:00<?, ?B/s]"
      ]
     },
     "metadata": {},
     "output_type": "display_data"
    },
    {
     "data": {
      "application/vnd.jupyter.widget-view+json": {
       "model_id": "f60ecb53a67f4aef812b24fac0f67544",
       "version_major": 2,
       "version_minor": 0
      },
      "text/plain": [
       "adapter_model.safetensors:   0%|          | 0.00/168M [00:00<?, ?B/s]"
      ]
     },
     "metadata": {},
     "output_type": "display_data"
    },
    {
     "data": {
      "text/plain": [
       "CommitInfo(commit_url='https://huggingface.co/McSimoff/llama-3-8b-medical-assistant-v2/commit/c28a5a99cee1d8149d6e222162973bcc83740b18', commit_message='Upload model', commit_description='', oid='c28a5a99cee1d8149d6e222162973bcc83740b18', pr_url=None, pr_revision=None, pr_num=None)"
      ]
     },
     "execution_count": 31,
     "metadata": {},
     "output_type": "execute_result"
    }
   ],
   "source": [
    "trainer.model.save_pretrained(new_model)\n",
    "trainer.model.push_to_hub(new_model, use_temp_dir=False)"
   ]
  },
  {
   "cell_type": "code",
   "execution_count": null,
   "id": "bed11edd",
   "metadata": {
    "papermill": {
     "duration": 0.028379,
     "end_time": "2024-07-27T13:19:15.948340",
     "exception": false,
     "start_time": "2024-07-27T13:19:15.919961",
     "status": "completed"
    },
    "tags": []
   },
   "outputs": [],
   "source": []
  }
 ],
 "metadata": {
  "kaggle": {
   "accelerator": "gpu",
   "dataSources": [
    {
     "datasetId": 5419067,
     "sourceId": 8996562,
     "sourceType": "datasetVersion"
    },
    {
     "modelId": 92078,
     "modelInstanceId": 67052,
     "sourceId": 79798,
     "sourceType": "modelInstanceVersion"
    }
   ],
   "dockerImageVersionId": 30747,
   "isGpuEnabled": true,
   "isInternetEnabled": true,
   "language": "python",
   "sourceType": "notebook"
  },
  "kernelspec": {
   "display_name": "Python 3",
   "language": "python",
   "name": "python3"
  },
  "language_info": {
   "codemirror_mode": {
    "name": "ipython",
    "version": 3
   },
   "file_extension": ".py",
   "mimetype": "text/x-python",
   "name": "python",
   "nbconvert_exporter": "python",
   "pygments_lexer": "ipython3",
   "version": "3.10.13"
  },
  "papermill": {
   "default_parameters": {},
   "duration": 11888.410533,
   "end_time": "2024-07-27T13:19:19.361374",
   "environment_variables": {},
   "exception": null,
   "input_path": "__notebook__.ipynb",
   "output_path": "__notebook__.ipynb",
   "parameters": {},
   "start_time": "2024-07-27T10:01:10.950841",
   "version": "2.5.0"
  },
  "widgets": {
   "application/vnd.jupyter.widget-state+json": {
    "state": {
     "05ed95ecf6e44ea88005a514a4a61ad5": {
      "model_module": "@jupyter-widgets/controls",
      "model_module_version": "1.5.0",
      "model_name": "FloatProgressModel",
      "state": {
       "_dom_classes": [],
       "_model_module": "@jupyter-widgets/controls",
       "_model_module_version": "1.5.0",
       "_model_name": "FloatProgressModel",
       "_view_count": null,
       "_view_module": "@jupyter-widgets/controls",
       "_view_module_version": "1.5.0",
       "_view_name": "ProgressView",
       "bar_style": "success",
       "description": "",
       "description_tooltip": null,
       "layout": "IPY_MODEL_97486d2a20014c4a8d4a8c2c730e3e8d",
       "max": 5174.0,
       "min": 0.0,
       "orientation": "horizontal",
       "style": "IPY_MODEL_9a3347f6db0a46689f621f4b69b89b96",
       "value": 5174.0
      }
     },
     "0853ff8c974241ac998b4e88429c2ea3": {
      "model_module": "@jupyter-widgets/controls",
      "model_module_version": "1.5.0",
      "model_name": "HTMLModel",
      "state": {
       "_dom_classes": [],
       "_model_module": "@jupyter-widgets/controls",
       "_model_module_version": "1.5.0",
       "_model_name": "HTMLModel",
       "_view_count": null,
       "_view_module": "@jupyter-widgets/controls",
       "_view_module_version": "1.5.0",
       "_view_name": "HTMLView",
       "description": "",
       "description_tooltip": null,
       "layout": "IPY_MODEL_356f2e2184c141ac89ae00bfdbd331d8",
       "placeholder": "​",
       "style": "IPY_MODEL_1d86ed6b1ad9490da8a2c19adf85edcb",
       "value": "adapter_model.safetensors: 100%"
      }
     },
     "12ff8871d0064ae9bb567e99d635542d": {
      "model_module": "@jupyter-widgets/controls",
      "model_module_version": "1.5.0",
      "model_name": "DescriptionStyleModel",
      "state": {
       "_model_module": "@jupyter-widgets/controls",
       "_model_module_version": "1.5.0",
       "_model_name": "DescriptionStyleModel",
       "_view_count": null,
       "_view_module": "@jupyter-widgets/base",
       "_view_module_version": "1.2.0",
       "_view_name": "StyleView",
       "description_width": ""
      }
     },
     "1d86ed6b1ad9490da8a2c19adf85edcb": {
      "model_module": "@jupyter-widgets/controls",
      "model_module_version": "1.5.0",
      "model_name": "DescriptionStyleModel",
      "state": {
       "_model_module": "@jupyter-widgets/controls",
       "_model_module_version": "1.5.0",
       "_model_name": "DescriptionStyleModel",
       "_view_count": null,
       "_view_module": "@jupyter-widgets/base",
       "_view_module_version": "1.2.0",
       "_view_name": "StyleView",
       "description_width": ""
      }
     },
     "21b0330c4f904f068d3f4fe297ee1e7e": {
      "model_module": "@jupyter-widgets/controls",
      "model_module_version": "1.5.0",
      "model_name": "HTMLModel",
      "state": {
       "_dom_classes": [],
       "_model_module": "@jupyter-widgets/controls",
       "_model_module_version": "1.5.0",
       "_model_name": "HTMLModel",
       "_view_count": null,
       "_view_module": "@jupyter-widgets/controls",
       "_view_module_version": "1.5.0",
       "_view_name": "HTMLView",
       "description": "",
       "description_tooltip": null,
       "layout": "IPY_MODEL_5ed9217690b1452fb7da7097f13ec131",
       "placeholder": "​",
       "style": "IPY_MODEL_ca506f37a0af4d7e8564959ec419e2a5",
       "value": " 11825/11825 [00:01&lt;00:00, 13171.55 examples/s]"
      }
     },
     "22f2bf798ec844d294583250949a8d3e": {
      "model_module": "@jupyter-widgets/controls",
      "model_module_version": "1.5.0",
      "model_name": "FloatProgressModel",
      "state": {
       "_dom_classes": [],
       "_model_module": "@jupyter-widgets/controls",
       "_model_module_version": "1.5.0",
       "_model_name": "FloatProgressModel",
       "_view_count": null,
       "_view_module": "@jupyter-widgets/controls",
       "_view_module_version": "1.5.0",
       "_view_name": "ProgressView",
       "bar_style": "success",
       "description": "",
       "description_tooltip": null,
       "layout": "IPY_MODEL_dcdd16306f714aecacd2d1d7778a7923",
       "max": 10642.0,
       "min": 0.0,
       "orientation": "horizontal",
       "style": "IPY_MODEL_e6123f9c8e0140879bf2a46be9507d3d",
       "value": 10642.0
      }
     },
     "298f4f839fd34558ab8c8557fde2b8b2": {
      "model_module": "@jupyter-widgets/base",
      "model_module_version": "1.2.0",
      "model_name": "LayoutModel",
      "state": {
       "_model_module": "@jupyter-widgets/base",
       "_model_module_version": "1.2.0",
       "_model_name": "LayoutModel",
       "_view_count": null,
       "_view_module": "@jupyter-widgets/base",
       "_view_module_version": "1.2.0",
       "_view_name": "LayoutView",
       "align_content": null,
       "align_items": null,
       "align_self": null,
       "border": null,
       "bottom": null,
       "display": null,
       "flex": null,
       "flex_flow": null,
       "grid_area": null,
       "grid_auto_columns": null,
       "grid_auto_flow": null,
       "grid_auto_rows": null,
       "grid_column": null,
       "grid_gap": null,
       "grid_row": null,
       "grid_template_areas": null,
       "grid_template_columns": null,
       "grid_template_rows": null,
       "height": null,
       "justify_content": null,
       "justify_items": null,
       "left": null,
       "margin": null,
       "max_height": null,
       "max_width": null,
       "min_height": null,
       "min_width": null,
       "object_fit": null,
       "object_position": null,
       "order": null,
       "overflow": null,
       "overflow_x": null,
       "overflow_y": null,
       "padding": null,
       "right": null,
       "top": null,
       "visibility": null,
       "width": null
      }
     },
     "2d4c7c0966d7466b8f12d0f56aa58486": {
      "model_module": "@jupyter-widgets/base",
      "model_module_version": "1.2.0",
      "model_name": "LayoutModel",
      "state": {
       "_model_module": "@jupyter-widgets/base",
       "_model_module_version": "1.2.0",
       "_model_name": "LayoutModel",
       "_view_count": null,
       "_view_module": "@jupyter-widgets/base",
       "_view_module_version": "1.2.0",
       "_view_name": "LayoutView",
       "align_content": null,
       "align_items": null,
       "align_self": null,
       "border": null,
       "bottom": null,
       "display": null,
       "flex": null,
       "flex_flow": null,
       "grid_area": null,
       "grid_auto_columns": null,
       "grid_auto_flow": null,
       "grid_auto_rows": null,
       "grid_column": null,
       "grid_gap": null,
       "grid_row": null,
       "grid_template_areas": null,
       "grid_template_columns": null,
       "grid_template_rows": null,
       "height": null,
       "justify_content": null,
       "justify_items": null,
       "left": null,
       "margin": null,
       "max_height": null,
       "max_width": null,
       "min_height": null,
       "min_width": null,
       "object_fit": null,
       "object_position": null,
       "order": null,
       "overflow": null,
       "overflow_x": null,
       "overflow_y": null,
       "padding": null,
       "right": null,
       "top": null,
       "visibility": null,
       "width": null
      }
     },
     "2e799a72a9ca405598508ba30690f3f2": {
      "model_module": "@jupyter-widgets/base",
      "model_module_version": "1.2.0",
      "model_name": "LayoutModel",
      "state": {
       "_model_module": "@jupyter-widgets/base",
       "_model_module_version": "1.2.0",
       "_model_name": "LayoutModel",
       "_view_count": null,
       "_view_module": "@jupyter-widgets/base",
       "_view_module_version": "1.2.0",
       "_view_name": "LayoutView",
       "align_content": null,
       "align_items": null,
       "align_self": null,
       "border": null,
       "bottom": null,
       "display": null,
       "flex": null,
       "flex_flow": null,
       "grid_area": null,
       "grid_auto_columns": null,
       "grid_auto_flow": null,
       "grid_auto_rows": null,
       "grid_column": null,
       "grid_gap": null,
       "grid_row": null,
       "grid_template_areas": null,
       "grid_template_columns": null,
       "grid_template_rows": null,
       "height": null,
       "justify_content": null,
       "justify_items": null,
       "left": null,
       "margin": null,
       "max_height": null,
       "max_width": null,
       "min_height": null,
       "min_width": null,
       "object_fit": null,
       "object_position": null,
       "order": null,
       "overflow": null,
       "overflow_x": null,
       "overflow_y": null,
       "padding": null,
       "right": null,
       "top": null,
       "visibility": null,
       "width": null
      }
     },
     "356f2e2184c141ac89ae00bfdbd331d8": {
      "model_module": "@jupyter-widgets/base",
      "model_module_version": "1.2.0",
      "model_name": "LayoutModel",
      "state": {
       "_model_module": "@jupyter-widgets/base",
       "_model_module_version": "1.2.0",
       "_model_name": "LayoutModel",
       "_view_count": null,
       "_view_module": "@jupyter-widgets/base",
       "_view_module_version": "1.2.0",
       "_view_name": "LayoutView",
       "align_content": null,
       "align_items": null,
       "align_self": null,
       "border": null,
       "bottom": null,
       "display": null,
       "flex": null,
       "flex_flow": null,
       "grid_area": null,
       "grid_auto_columns": null,
       "grid_auto_flow": null,
       "grid_auto_rows": null,
       "grid_column": null,
       "grid_gap": null,
       "grid_row": null,
       "grid_template_areas": null,
       "grid_template_columns": null,
       "grid_template_rows": null,
       "height": null,
       "justify_content": null,
       "justify_items": null,
       "left": null,
       "margin": null,
       "max_height": null,
       "max_width": null,
       "min_height": null,
       "min_width": null,
       "object_fit": null,
       "object_position": null,
       "order": null,
       "overflow": null,
       "overflow_x": null,
       "overflow_y": null,
       "padding": null,
       "right": null,
       "top": null,
       "visibility": null,
       "width": null
      }
     },
     "4122c4b32dad460cbba2fd9ab1670c3e": {
      "model_module": "@jupyter-widgets/controls",
      "model_module_version": "1.5.0",
      "model_name": "DescriptionStyleModel",
      "state": {
       "_model_module": "@jupyter-widgets/controls",
       "_model_module_version": "1.5.0",
       "_model_name": "DescriptionStyleModel",
       "_view_count": null,
       "_view_module": "@jupyter-widgets/base",
       "_view_module_version": "1.2.0",
       "_view_name": "StyleView",
       "description_width": ""
      }
     },
     "4cf42c9ea1f54947a1dbd2110cb38e85": {
      "model_module": "@jupyter-widgets/controls",
      "model_module_version": "1.5.0",
      "model_name": "HTMLModel",
      "state": {
       "_dom_classes": [],
       "_model_module": "@jupyter-widgets/controls",
       "_model_module_version": "1.5.0",
       "_model_name": "HTMLModel",
       "_view_count": null,
       "_view_module": "@jupyter-widgets/controls",
       "_view_module_version": "1.5.0",
       "_view_name": "HTMLView",
       "description": "",
       "description_tooltip": null,
       "layout": "IPY_MODEL_2e799a72a9ca405598508ba30690f3f2",
       "placeholder": "​",
       "style": "IPY_MODEL_12ff8871d0064ae9bb567e99d635542d",
       "value": " 168M/168M [00:16&lt;00:00, 23.0MB/s]"
      }
     },
     "521e0f5a3b1b4affa10a7ffa64caa23c": {
      "model_module": "@jupyter-widgets/base",
      "model_module_version": "1.2.0",
      "model_name": "LayoutModel",
      "state": {
       "_model_module": "@jupyter-widgets/base",
       "_model_module_version": "1.2.0",
       "_model_name": "LayoutModel",
       "_view_count": null,
       "_view_module": "@jupyter-widgets/base",
       "_view_module_version": "1.2.0",
       "_view_name": "LayoutView",
       "align_content": null,
       "align_items": null,
       "align_self": null,
       "border": null,
       "bottom": null,
       "display": null,
       "flex": null,
       "flex_flow": null,
       "grid_area": null,
       "grid_auto_columns": null,
       "grid_auto_flow": null,
       "grid_auto_rows": null,
       "grid_column": null,
       "grid_gap": null,
       "grid_row": null,
       "grid_template_areas": null,
       "grid_template_columns": null,
       "grid_template_rows": null,
       "height": null,
       "justify_content": null,
       "justify_items": null,
       "left": null,
       "margin": null,
       "max_height": null,
       "max_width": null,
       "min_height": null,
       "min_width": null,
       "object_fit": null,
       "object_position": null,
       "order": null,
       "overflow": null,
       "overflow_x": null,
       "overflow_y": null,
       "padding": null,
       "right": null,
       "top": null,
       "visibility": null,
       "width": null
      }
     },
     "52ec77c0739341e192c57f1bf8f581aa": {
      "model_module": "@jupyter-widgets/controls",
      "model_module_version": "1.5.0",
      "model_name": "HTMLModel",
      "state": {
       "_dom_classes": [],
       "_model_module": "@jupyter-widgets/controls",
       "_model_module_version": "1.5.0",
       "_model_name": "HTMLModel",
       "_view_count": null,
       "_view_module": "@jupyter-widgets/controls",
       "_view_module_version": "1.5.0",
       "_view_name": "HTMLView",
       "description": "",
       "description_tooltip": null,
       "layout": "IPY_MODEL_7779ce11d476412fb4eeda1791817f3c",
       "placeholder": "​",
       "style": "IPY_MODEL_a8de3b51ea9d46bbad58b0850aa3afa3",
       "value": "README.md: 100%"
      }
     },
     "56acd877199c420ba5f0ddb3ba3e380a": {
      "model_module": "@jupyter-widgets/base",
      "model_module_version": "1.2.0",
      "model_name": "LayoutModel",
      "state": {
       "_model_module": "@jupyter-widgets/base",
       "_model_module_version": "1.2.0",
       "_model_name": "LayoutModel",
       "_view_count": null,
       "_view_module": "@jupyter-widgets/base",
       "_view_module_version": "1.2.0",
       "_view_name": "LayoutView",
       "align_content": null,
       "align_items": null,
       "align_self": null,
       "border": null,
       "bottom": null,
       "display": null,
       "flex": null,
       "flex_flow": null,
       "grid_area": null,
       "grid_auto_columns": null,
       "grid_auto_flow": null,
       "grid_auto_rows": null,
       "grid_column": null,
       "grid_gap": null,
       "grid_row": null,
       "grid_template_areas": null,
       "grid_template_columns": null,
       "grid_template_rows": null,
       "height": null,
       "justify_content": null,
       "justify_items": null,
       "left": null,
       "margin": null,
       "max_height": null,
       "max_width": null,
       "min_height": null,
       "min_width": null,
       "object_fit": null,
       "object_position": null,
       "order": null,
       "overflow": null,
       "overflow_x": null,
       "overflow_y": null,
       "padding": null,
       "right": null,
       "top": null,
       "visibility": null,
       "width": null
      }
     },
     "59602c7eb217470492e92fa511a26a0c": {
      "model_module": "@jupyter-widgets/controls",
      "model_module_version": "1.5.0",
      "model_name": "ProgressStyleModel",
      "state": {
       "_model_module": "@jupyter-widgets/controls",
       "_model_module_version": "1.5.0",
       "_model_name": "ProgressStyleModel",
       "_view_count": null,
       "_view_module": "@jupyter-widgets/base",
       "_view_module_version": "1.2.0",
       "_view_name": "StyleView",
       "bar_color": null,
       "description_width": ""
      }
     },
     "5a14f9fc0dd0477093d4ccdf397725c5": {
      "model_module": "@jupyter-widgets/controls",
      "model_module_version": "1.5.0",
      "model_name": "HBoxModel",
      "state": {
       "_dom_classes": [],
       "_model_module": "@jupyter-widgets/controls",
       "_model_module_version": "1.5.0",
       "_model_name": "HBoxModel",
       "_view_count": null,
       "_view_module": "@jupyter-widgets/controls",
       "_view_module_version": "1.5.0",
       "_view_name": "HBoxView",
       "box_style": "",
       "children": [
        "IPY_MODEL_e135d512b87d479981261fb58238196a",
        "IPY_MODEL_bb92b72b04a94604b7a45ba8f486ba8d",
        "IPY_MODEL_fb621d934b2343c8a6a3e2fdea91eb92"
       ],
       "layout": "IPY_MODEL_f6fefdb926734a54a8d4616aa4bc3100"
      }
     },
     "5ed9217690b1452fb7da7097f13ec131": {
      "model_module": "@jupyter-widgets/base",
      "model_module_version": "1.2.0",
      "model_name": "LayoutModel",
      "state": {
       "_model_module": "@jupyter-widgets/base",
       "_model_module_version": "1.2.0",
       "_model_name": "LayoutModel",
       "_view_count": null,
       "_view_module": "@jupyter-widgets/base",
       "_view_module_version": "1.2.0",
       "_view_name": "LayoutView",
       "align_content": null,
       "align_items": null,
       "align_self": null,
       "border": null,
       "bottom": null,
       "display": null,
       "flex": null,
       "flex_flow": null,
       "grid_area": null,
       "grid_auto_columns": null,
       "grid_auto_flow": null,
       "grid_auto_rows": null,
       "grid_column": null,
       "grid_gap": null,
       "grid_row": null,
       "grid_template_areas": null,
       "grid_template_columns": null,
       "grid_template_rows": null,
       "height": null,
       "justify_content": null,
       "justify_items": null,
       "left": null,
       "margin": null,
       "max_height": null,
       "max_width": null,
       "min_height": null,
       "min_width": null,
       "object_fit": null,
       "object_position": null,
       "order": null,
       "overflow": null,
       "overflow_x": null,
       "overflow_y": null,
       "padding": null,
       "right": null,
       "top": null,
       "visibility": null,
       "width": null
      }
     },
     "5f31d01b66994b9cbd7fead637dc7f1f": {
      "model_module": "@jupyter-widgets/controls",
      "model_module_version": "1.5.0",
      "model_name": "HBoxModel",
      "state": {
       "_dom_classes": [],
       "_model_module": "@jupyter-widgets/controls",
       "_model_module_version": "1.5.0",
       "_model_name": "HBoxModel",
       "_view_count": null,
       "_view_module": "@jupyter-widgets/controls",
       "_view_module_version": "1.5.0",
       "_view_name": "HBoxView",
       "box_style": "",
       "children": [
        "IPY_MODEL_dd15eb2e4da349edb24c7a0b434ba287",
        "IPY_MODEL_22f2bf798ec844d294583250949a8d3e",
        "IPY_MODEL_aa237f42446944b2b2a1347c5d7bc19d"
       ],
       "layout": "IPY_MODEL_b6e197f53012407daac5fadb001b989a"
      }
     },
     "6b2b319314a04bad9151ea57fc1e4dc5": {
      "model_module": "@jupyter-widgets/controls",
      "model_module_version": "1.5.0",
      "model_name": "HBoxModel",
      "state": {
       "_dom_classes": [],
       "_model_module": "@jupyter-widgets/controls",
       "_model_module_version": "1.5.0",
       "_model_name": "HBoxModel",
       "_view_count": null,
       "_view_module": "@jupyter-widgets/controls",
       "_view_module_version": "1.5.0",
       "_view_name": "HBoxView",
       "box_style": "",
       "children": [
        "IPY_MODEL_bf79007719b14054b8082321eac740cc",
        "IPY_MODEL_8cee2992a19643ba87769b78d7b1a5c8",
        "IPY_MODEL_21b0330c4f904f068d3f4fe297ee1e7e"
       ],
       "layout": "IPY_MODEL_c0aafafeddb546c089eae4c43efddf15"
      }
     },
     "6b7e05e18635420eaf6978e1f57231b1": {
      "model_module": "@jupyter-widgets/base",
      "model_module_version": "1.2.0",
      "model_name": "LayoutModel",
      "state": {
       "_model_module": "@jupyter-widgets/base",
       "_model_module_version": "1.2.0",
       "_model_name": "LayoutModel",
       "_view_count": null,
       "_view_module": "@jupyter-widgets/base",
       "_view_module_version": "1.2.0",
       "_view_name": "LayoutView",
       "align_content": null,
       "align_items": null,
       "align_self": null,
       "border": null,
       "bottom": null,
       "display": null,
       "flex": null,
       "flex_flow": null,
       "grid_area": null,
       "grid_auto_columns": null,
       "grid_auto_flow": null,
       "grid_auto_rows": null,
       "grid_column": null,
       "grid_gap": null,
       "grid_row": null,
       "grid_template_areas": null,
       "grid_template_columns": null,
       "grid_template_rows": null,
       "height": null,
       "justify_content": null,
       "justify_items": null,
       "left": null,
       "margin": null,
       "max_height": null,
       "max_width": null,
       "min_height": null,
       "min_width": null,
       "object_fit": null,
       "object_position": null,
       "order": null,
       "overflow": null,
       "overflow_x": null,
       "overflow_y": null,
       "padding": null,
       "right": null,
       "top": null,
       "visibility": null,
       "width": null
      }
     },
     "6ce9a77827f24af78488c2ca32ed19cc": {
      "model_module": "@jupyter-widgets/controls",
      "model_module_version": "1.5.0",
      "model_name": "DescriptionStyleModel",
      "state": {
       "_model_module": "@jupyter-widgets/controls",
       "_model_module_version": "1.5.0",
       "_model_name": "DescriptionStyleModel",
       "_view_count": null,
       "_view_module": "@jupyter-widgets/base",
       "_view_module_version": "1.2.0",
       "_view_name": "StyleView",
       "description_width": ""
      }
     },
     "7455d04a877c48838a35895ebb352626": {
      "model_module": "@jupyter-widgets/controls",
      "model_module_version": "1.5.0",
      "model_name": "DescriptionStyleModel",
      "state": {
       "_model_module": "@jupyter-widgets/controls",
       "_model_module_version": "1.5.0",
       "_model_name": "DescriptionStyleModel",
       "_view_count": null,
       "_view_module": "@jupyter-widgets/base",
       "_view_module_version": "1.2.0",
       "_view_name": "StyleView",
       "description_width": ""
      }
     },
     "7779ce11d476412fb4eeda1791817f3c": {
      "model_module": "@jupyter-widgets/base",
      "model_module_version": "1.2.0",
      "model_name": "LayoutModel",
      "state": {
       "_model_module": "@jupyter-widgets/base",
       "_model_module_version": "1.2.0",
       "_model_name": "LayoutModel",
       "_view_count": null,
       "_view_module": "@jupyter-widgets/base",
       "_view_module_version": "1.2.0",
       "_view_name": "LayoutView",
       "align_content": null,
       "align_items": null,
       "align_self": null,
       "border": null,
       "bottom": null,
       "display": null,
       "flex": null,
       "flex_flow": null,
       "grid_area": null,
       "grid_auto_columns": null,
       "grid_auto_flow": null,
       "grid_auto_rows": null,
       "grid_column": null,
       "grid_gap": null,
       "grid_row": null,
       "grid_template_areas": null,
       "grid_template_columns": null,
       "grid_template_rows": null,
       "height": null,
       "justify_content": null,
       "justify_items": null,
       "left": null,
       "margin": null,
       "max_height": null,
       "max_width": null,
       "min_height": null,
       "min_width": null,
       "object_fit": null,
       "object_position": null,
       "order": null,
       "overflow": null,
       "overflow_x": null,
       "overflow_y": null,
       "padding": null,
       "right": null,
       "top": null,
       "visibility": null,
       "width": null
      }
     },
     "7ce7d6a5f1f5470693641ad100d9c3cf": {
      "model_module": "@jupyter-widgets/controls",
      "model_module_version": "1.5.0",
      "model_name": "DescriptionStyleModel",
      "state": {
       "_model_module": "@jupyter-widgets/controls",
       "_model_module_version": "1.5.0",
       "_model_name": "DescriptionStyleModel",
       "_view_count": null,
       "_view_module": "@jupyter-widgets/base",
       "_view_module_version": "1.2.0",
       "_view_name": "StyleView",
       "description_width": ""
      }
     },
     "8156c1fd525d4e74a9ab4c6d497b7833": {
      "model_module": "@jupyter-widgets/controls",
      "model_module_version": "1.5.0",
      "model_name": "DescriptionStyleModel",
      "state": {
       "_model_module": "@jupyter-widgets/controls",
       "_model_module_version": "1.5.0",
       "_model_name": "DescriptionStyleModel",
       "_view_count": null,
       "_view_module": "@jupyter-widgets/base",
       "_view_module_version": "1.2.0",
       "_view_name": "StyleView",
       "description_width": ""
      }
     },
     "8ac9c042beca42a39be931a1d018f265": {
      "model_module": "@jupyter-widgets/base",
      "model_module_version": "1.2.0",
      "model_name": "LayoutModel",
      "state": {
       "_model_module": "@jupyter-widgets/base",
       "_model_module_version": "1.2.0",
       "_model_name": "LayoutModel",
       "_view_count": null,
       "_view_module": "@jupyter-widgets/base",
       "_view_module_version": "1.2.0",
       "_view_name": "LayoutView",
       "align_content": null,
       "align_items": null,
       "align_self": null,
       "border": null,
       "bottom": null,
       "display": null,
       "flex": null,
       "flex_flow": null,
       "grid_area": null,
       "grid_auto_columns": null,
       "grid_auto_flow": null,
       "grid_auto_rows": null,
       "grid_column": null,
       "grid_gap": null,
       "grid_row": null,
       "grid_template_areas": null,
       "grid_template_columns": null,
       "grid_template_rows": null,
       "height": null,
       "justify_content": null,
       "justify_items": null,
       "left": null,
       "margin": null,
       "max_height": null,
       "max_width": null,
       "min_height": null,
       "min_width": null,
       "object_fit": null,
       "object_position": null,
       "order": null,
       "overflow": null,
       "overflow_x": null,
       "overflow_y": null,
       "padding": null,
       "right": null,
       "top": null,
       "visibility": null,
       "width": null
      }
     },
     "8cee2992a19643ba87769b78d7b1a5c8": {
      "model_module": "@jupyter-widgets/controls",
      "model_module_version": "1.5.0",
      "model_name": "FloatProgressModel",
      "state": {
       "_dom_classes": [],
       "_model_module": "@jupyter-widgets/controls",
       "_model_module_version": "1.5.0",
       "_model_name": "FloatProgressModel",
       "_view_count": null,
       "_view_module": "@jupyter-widgets/controls",
       "_view_module_version": "1.5.0",
       "_view_name": "ProgressView",
       "bar_style": "success",
       "description": "",
       "description_tooltip": null,
       "layout": "IPY_MODEL_6b7e05e18635420eaf6978e1f57231b1",
       "max": 11825.0,
       "min": 0.0,
       "orientation": "horizontal",
       "style": "IPY_MODEL_df828f1b6a3c4df787b70f0006bcba3b",
       "value": 11825.0
      }
     },
     "8e2b7202e6e247a48a8c4f73080289a1": {
      "model_module": "@jupyter-widgets/base",
      "model_module_version": "1.2.0",
      "model_name": "LayoutModel",
      "state": {
       "_model_module": "@jupyter-widgets/base",
       "_model_module_version": "1.2.0",
       "_model_name": "LayoutModel",
       "_view_count": null,
       "_view_module": "@jupyter-widgets/base",
       "_view_module_version": "1.2.0",
       "_view_name": "LayoutView",
       "align_content": null,
       "align_items": null,
       "align_self": null,
       "border": null,
       "bottom": null,
       "display": null,
       "flex": null,
       "flex_flow": null,
       "grid_area": null,
       "grid_auto_columns": null,
       "grid_auto_flow": null,
       "grid_auto_rows": null,
       "grid_column": null,
       "grid_gap": null,
       "grid_row": null,
       "grid_template_areas": null,
       "grid_template_columns": null,
       "grid_template_rows": null,
       "height": null,
       "justify_content": null,
       "justify_items": null,
       "left": null,
       "margin": null,
       "max_height": null,
       "max_width": null,
       "min_height": null,
       "min_width": null,
       "object_fit": null,
       "object_position": null,
       "order": null,
       "overflow": null,
       "overflow_x": null,
       "overflow_y": null,
       "padding": null,
       "right": null,
       "top": null,
       "visibility": null,
       "width": null
      }
     },
     "962c60c0503a4f11856fcb693029c5f5": {
      "model_module": "@jupyter-widgets/base",
      "model_module_version": "1.2.0",
      "model_name": "LayoutModel",
      "state": {
       "_model_module": "@jupyter-widgets/base",
       "_model_module_version": "1.2.0",
       "_model_name": "LayoutModel",
       "_view_count": null,
       "_view_module": "@jupyter-widgets/base",
       "_view_module_version": "1.2.0",
       "_view_name": "LayoutView",
       "align_content": null,
       "align_items": null,
       "align_self": null,
       "border": null,
       "bottom": null,
       "display": null,
       "flex": null,
       "flex_flow": null,
       "grid_area": null,
       "grid_auto_columns": null,
       "grid_auto_flow": null,
       "grid_auto_rows": null,
       "grid_column": null,
       "grid_gap": null,
       "grid_row": null,
       "grid_template_areas": null,
       "grid_template_columns": null,
       "grid_template_rows": null,
       "height": null,
       "justify_content": null,
       "justify_items": null,
       "left": null,
       "margin": null,
       "max_height": null,
       "max_width": null,
       "min_height": null,
       "min_width": null,
       "object_fit": null,
       "object_position": null,
       "order": null,
       "overflow": null,
       "overflow_x": null,
       "overflow_y": null,
       "padding": null,
       "right": null,
       "top": null,
       "visibility": null,
       "width": null
      }
     },
     "97486d2a20014c4a8d4a8c2c730e3e8d": {
      "model_module": "@jupyter-widgets/base",
      "model_module_version": "1.2.0",
      "model_name": "LayoutModel",
      "state": {
       "_model_module": "@jupyter-widgets/base",
       "_model_module_version": "1.2.0",
       "_model_name": "LayoutModel",
       "_view_count": null,
       "_view_module": "@jupyter-widgets/base",
       "_view_module_version": "1.2.0",
       "_view_name": "LayoutView",
       "align_content": null,
       "align_items": null,
       "align_self": null,
       "border": null,
       "bottom": null,
       "display": null,
       "flex": null,
       "flex_flow": null,
       "grid_area": null,
       "grid_auto_columns": null,
       "grid_auto_flow": null,
       "grid_auto_rows": null,
       "grid_column": null,
       "grid_gap": null,
       "grid_row": null,
       "grid_template_areas": null,
       "grid_template_columns": null,
       "grid_template_rows": null,
       "height": null,
       "justify_content": null,
       "justify_items": null,
       "left": null,
       "margin": null,
       "max_height": null,
       "max_width": null,
       "min_height": null,
       "min_width": null,
       "object_fit": null,
       "object_position": null,
       "order": null,
       "overflow": null,
       "overflow_x": null,
       "overflow_y": null,
       "padding": null,
       "right": null,
       "top": null,
       "visibility": null,
       "width": null
      }
     },
     "998acd309a7e487ba8906c7492956cb2": {
      "model_module": "@jupyter-widgets/base",
      "model_module_version": "1.2.0",
      "model_name": "LayoutModel",
      "state": {
       "_model_module": "@jupyter-widgets/base",
       "_model_module_version": "1.2.0",
       "_model_name": "LayoutModel",
       "_view_count": null,
       "_view_module": "@jupyter-widgets/base",
       "_view_module_version": "1.2.0",
       "_view_name": "LayoutView",
       "align_content": null,
       "align_items": null,
       "align_self": null,
       "border": null,
       "bottom": null,
       "display": null,
       "flex": null,
       "flex_flow": null,
       "grid_area": null,
       "grid_auto_columns": null,
       "grid_auto_flow": null,
       "grid_auto_rows": null,
       "grid_column": null,
       "grid_gap": null,
       "grid_row": null,
       "grid_template_areas": null,
       "grid_template_columns": null,
       "grid_template_rows": null,
       "height": null,
       "justify_content": null,
       "justify_items": null,
       "left": null,
       "margin": null,
       "max_height": null,
       "max_width": null,
       "min_height": null,
       "min_width": null,
       "object_fit": null,
       "object_position": null,
       "order": null,
       "overflow": null,
       "overflow_x": null,
       "overflow_y": null,
       "padding": null,
       "right": null,
       "top": null,
       "visibility": null,
       "width": null
      }
     },
     "9a3347f6db0a46689f621f4b69b89b96": {
      "model_module": "@jupyter-widgets/controls",
      "model_module_version": "1.5.0",
      "model_name": "ProgressStyleModel",
      "state": {
       "_model_module": "@jupyter-widgets/controls",
       "_model_module_version": "1.5.0",
       "_model_name": "ProgressStyleModel",
       "_view_count": null,
       "_view_module": "@jupyter-widgets/base",
       "_view_module_version": "1.2.0",
       "_view_name": "StyleView",
       "bar_color": null,
       "description_width": ""
      }
     },
     "9b2d07b3b1bc429ebf049f0b9058a58f": {
      "model_module": "@jupyter-widgets/controls",
      "model_module_version": "1.5.0",
      "model_name": "DescriptionStyleModel",
      "state": {
       "_model_module": "@jupyter-widgets/controls",
       "_model_module_version": "1.5.0",
       "_model_name": "DescriptionStyleModel",
       "_view_count": null,
       "_view_module": "@jupyter-widgets/base",
       "_view_module_version": "1.2.0",
       "_view_name": "StyleView",
       "description_width": ""
      }
     },
     "a44222b1661346c88c96aaef386e15ce": {
      "model_module": "@jupyter-widgets/controls",
      "model_module_version": "1.5.0",
      "model_name": "HTMLModel",
      "state": {
       "_dom_classes": [],
       "_model_module": "@jupyter-widgets/controls",
       "_model_module_version": "1.5.0",
       "_model_name": "HTMLModel",
       "_view_count": null,
       "_view_module": "@jupyter-widgets/controls",
       "_view_module_version": "1.5.0",
       "_view_name": "HTMLView",
       "description": "",
       "description_tooltip": null,
       "layout": "IPY_MODEL_962c60c0503a4f11856fcb693029c5f5",
       "placeholder": "​",
       "style": "IPY_MODEL_7455d04a877c48838a35895ebb352626",
       "value": "Map: 100%"
      }
     },
     "a742a06006374be4999c54fe960730c3": {
      "model_module": "@jupyter-widgets/controls",
      "model_module_version": "1.5.0",
      "model_name": "FloatProgressModel",
      "state": {
       "_dom_classes": [],
       "_model_module": "@jupyter-widgets/controls",
       "_model_module_version": "1.5.0",
       "_model_name": "FloatProgressModel",
       "_view_count": null,
       "_view_module": "@jupyter-widgets/controls",
       "_view_module_version": "1.5.0",
       "_view_name": "ProgressView",
       "bar_style": "success",
       "description": "",
       "description_tooltip": null,
       "layout": "IPY_MODEL_2d4c7c0966d7466b8f12d0f56aa58486",
       "max": 1183.0,
       "min": 0.0,
       "orientation": "horizontal",
       "style": "IPY_MODEL_d553d6b7a02c40c6a8f58f9da2c8faf2",
       "value": 1183.0
      }
     },
     "a8de3b51ea9d46bbad58b0850aa3afa3": {
      "model_module": "@jupyter-widgets/controls",
      "model_module_version": "1.5.0",
      "model_name": "DescriptionStyleModel",
      "state": {
       "_model_module": "@jupyter-widgets/controls",
       "_model_module_version": "1.5.0",
       "_model_name": "DescriptionStyleModel",
       "_view_count": null,
       "_view_module": "@jupyter-widgets/base",
       "_view_module_version": "1.2.0",
       "_view_name": "StyleView",
       "description_width": ""
      }
     },
     "aa237f42446944b2b2a1347c5d7bc19d": {
      "model_module": "@jupyter-widgets/controls",
      "model_module_version": "1.5.0",
      "model_name": "HTMLModel",
      "state": {
       "_dom_classes": [],
       "_model_module": "@jupyter-widgets/controls",
       "_model_module_version": "1.5.0",
       "_model_name": "HTMLModel",
       "_view_count": null,
       "_view_module": "@jupyter-widgets/controls",
       "_view_module_version": "1.5.0",
       "_view_name": "HTMLView",
       "description": "",
       "description_tooltip": null,
       "layout": "IPY_MODEL_ac36a53496864ba0bb41e32e655c628d",
       "placeholder": "​",
       "style": "IPY_MODEL_9b2d07b3b1bc429ebf049f0b9058a58f",
       "value": " 10642/10642 [00:02&lt;00:00, 3781.03 examples/s]"
      }
     },
     "ac36a53496864ba0bb41e32e655c628d": {
      "model_module": "@jupyter-widgets/base",
      "model_module_version": "1.2.0",
      "model_name": "LayoutModel",
      "state": {
       "_model_module": "@jupyter-widgets/base",
       "_model_module_version": "1.2.0",
       "_model_name": "LayoutModel",
       "_view_count": null,
       "_view_module": "@jupyter-widgets/base",
       "_view_module_version": "1.2.0",
       "_view_name": "LayoutView",
       "align_content": null,
       "align_items": null,
       "align_self": null,
       "border": null,
       "bottom": null,
       "display": null,
       "flex": null,
       "flex_flow": null,
       "grid_area": null,
       "grid_auto_columns": null,
       "grid_auto_flow": null,
       "grid_auto_rows": null,
       "grid_column": null,
       "grid_gap": null,
       "grid_row": null,
       "grid_template_areas": null,
       "grid_template_columns": null,
       "grid_template_rows": null,
       "height": null,
       "justify_content": null,
       "justify_items": null,
       "left": null,
       "margin": null,
       "max_height": null,
       "max_width": null,
       "min_height": null,
       "min_width": null,
       "object_fit": null,
       "object_position": null,
       "order": null,
       "overflow": null,
       "overflow_x": null,
       "overflow_y": null,
       "padding": null,
       "right": null,
       "top": null,
       "visibility": null,
       "width": null
      }
     },
     "ada89071832d4357af4a3e57ea6e2a42": {
      "model_module": "@jupyter-widgets/base",
      "model_module_version": "1.2.0",
      "model_name": "LayoutModel",
      "state": {
       "_model_module": "@jupyter-widgets/base",
       "_model_module_version": "1.2.0",
       "_model_name": "LayoutModel",
       "_view_count": null,
       "_view_module": "@jupyter-widgets/base",
       "_view_module_version": "1.2.0",
       "_view_name": "LayoutView",
       "align_content": null,
       "align_items": null,
       "align_self": null,
       "border": null,
       "bottom": null,
       "display": null,
       "flex": null,
       "flex_flow": null,
       "grid_area": null,
       "grid_auto_columns": null,
       "grid_auto_flow": null,
       "grid_auto_rows": null,
       "grid_column": null,
       "grid_gap": null,
       "grid_row": null,
       "grid_template_areas": null,
       "grid_template_columns": null,
       "grid_template_rows": null,
       "height": null,
       "justify_content": null,
       "justify_items": null,
       "left": null,
       "margin": null,
       "max_height": null,
       "max_width": null,
       "min_height": null,
       "min_width": null,
       "object_fit": null,
       "object_position": null,
       "order": null,
       "overflow": null,
       "overflow_x": null,
       "overflow_y": null,
       "padding": null,
       "right": null,
       "top": null,
       "visibility": null,
       "width": null
      }
     },
     "b37b0b7c019e4461a231a29ba2f9b86a": {
      "model_module": "@jupyter-widgets/controls",
      "model_module_version": "1.5.0",
      "model_name": "DescriptionStyleModel",
      "state": {
       "_model_module": "@jupyter-widgets/controls",
       "_model_module_version": "1.5.0",
       "_model_name": "DescriptionStyleModel",
       "_view_count": null,
       "_view_module": "@jupyter-widgets/base",
       "_view_module_version": "1.2.0",
       "_view_name": "StyleView",
       "description_width": ""
      }
     },
     "b6e197f53012407daac5fadb001b989a": {
      "model_module": "@jupyter-widgets/base",
      "model_module_version": "1.2.0",
      "model_name": "LayoutModel",
      "state": {
       "_model_module": "@jupyter-widgets/base",
       "_model_module_version": "1.2.0",
       "_model_name": "LayoutModel",
       "_view_count": null,
       "_view_module": "@jupyter-widgets/base",
       "_view_module_version": "1.2.0",
       "_view_name": "LayoutView",
       "align_content": null,
       "align_items": null,
       "align_self": null,
       "border": null,
       "bottom": null,
       "display": null,
       "flex": null,
       "flex_flow": null,
       "grid_area": null,
       "grid_auto_columns": null,
       "grid_auto_flow": null,
       "grid_auto_rows": null,
       "grid_column": null,
       "grid_gap": null,
       "grid_row": null,
       "grid_template_areas": null,
       "grid_template_columns": null,
       "grid_template_rows": null,
       "height": null,
       "justify_content": null,
       "justify_items": null,
       "left": null,
       "margin": null,
       "max_height": null,
       "max_width": null,
       "min_height": null,
       "min_width": null,
       "object_fit": null,
       "object_position": null,
       "order": null,
       "overflow": null,
       "overflow_x": null,
       "overflow_y": null,
       "padding": null,
       "right": null,
       "top": null,
       "visibility": null,
       "width": null
      }
     },
     "bb92b72b04a94604b7a45ba8f486ba8d": {
      "model_module": "@jupyter-widgets/controls",
      "model_module_version": "1.5.0",
      "model_name": "FloatProgressModel",
      "state": {
       "_dom_classes": [],
       "_model_module": "@jupyter-widgets/controls",
       "_model_module_version": "1.5.0",
       "_model_name": "FloatProgressModel",
       "_view_count": null,
       "_view_module": "@jupyter-widgets/controls",
       "_view_module_version": "1.5.0",
       "_view_name": "ProgressView",
       "bar_style": "success",
       "description": "",
       "description_tooltip": null,
       "layout": "IPY_MODEL_c154c066a28243a2b6cedaa5e7167dc6",
       "max": 4.0,
       "min": 0.0,
       "orientation": "horizontal",
       "style": "IPY_MODEL_e4b575834d004bfcb4c0b2846b594799",
       "value": 4.0
      }
     },
     "bf79007719b14054b8082321eac740cc": {
      "model_module": "@jupyter-widgets/controls",
      "model_module_version": "1.5.0",
      "model_name": "HTMLModel",
      "state": {
       "_dom_classes": [],
       "_model_module": "@jupyter-widgets/controls",
       "_model_module_version": "1.5.0",
       "_model_name": "HTMLModel",
       "_view_count": null,
       "_view_module": "@jupyter-widgets/controls",
       "_view_module_version": "1.5.0",
       "_view_name": "HTMLView",
       "description": "",
       "description_tooltip": null,
       "layout": "IPY_MODEL_56acd877199c420ba5f0ddb3ba3e380a",
       "placeholder": "​",
       "style": "IPY_MODEL_4122c4b32dad460cbba2fd9ab1670c3e",
       "value": "Map (num_proc=4): 100%"
      }
     },
     "c0aafafeddb546c089eae4c43efddf15": {
      "model_module": "@jupyter-widgets/base",
      "model_module_version": "1.2.0",
      "model_name": "LayoutModel",
      "state": {
       "_model_module": "@jupyter-widgets/base",
       "_model_module_version": "1.2.0",
       "_model_name": "LayoutModel",
       "_view_count": null,
       "_view_module": "@jupyter-widgets/base",
       "_view_module_version": "1.2.0",
       "_view_name": "LayoutView",
       "align_content": null,
       "align_items": null,
       "align_self": null,
       "border": null,
       "bottom": null,
       "display": null,
       "flex": null,
       "flex_flow": null,
       "grid_area": null,
       "grid_auto_columns": null,
       "grid_auto_flow": null,
       "grid_auto_rows": null,
       "grid_column": null,
       "grid_gap": null,
       "grid_row": null,
       "grid_template_areas": null,
       "grid_template_columns": null,
       "grid_template_rows": null,
       "height": null,
       "justify_content": null,
       "justify_items": null,
       "left": null,
       "margin": null,
       "max_height": null,
       "max_width": null,
       "min_height": null,
       "min_width": null,
       "object_fit": null,
       "object_position": null,
       "order": null,
       "overflow": null,
       "overflow_x": null,
       "overflow_y": null,
       "padding": null,
       "right": null,
       "top": null,
       "visibility": null,
       "width": null
      }
     },
     "c154c066a28243a2b6cedaa5e7167dc6": {
      "model_module": "@jupyter-widgets/base",
      "model_module_version": "1.2.0",
      "model_name": "LayoutModel",
      "state": {
       "_model_module": "@jupyter-widgets/base",
       "_model_module_version": "1.2.0",
       "_model_name": "LayoutModel",
       "_view_count": null,
       "_view_module": "@jupyter-widgets/base",
       "_view_module_version": "1.2.0",
       "_view_name": "LayoutView",
       "align_content": null,
       "align_items": null,
       "align_self": null,
       "border": null,
       "bottom": null,
       "display": null,
       "flex": null,
       "flex_flow": null,
       "grid_area": null,
       "grid_auto_columns": null,
       "grid_auto_flow": null,
       "grid_auto_rows": null,
       "grid_column": null,
       "grid_gap": null,
       "grid_row": null,
       "grid_template_areas": null,
       "grid_template_columns": null,
       "grid_template_rows": null,
       "height": null,
       "justify_content": null,
       "justify_items": null,
       "left": null,
       "margin": null,
       "max_height": null,
       "max_width": null,
       "min_height": null,
       "min_width": null,
       "object_fit": null,
       "object_position": null,
       "order": null,
       "overflow": null,
       "overflow_x": null,
       "overflow_y": null,
       "padding": null,
       "right": null,
       "top": null,
       "visibility": null,
       "width": null
      }
     },
     "ca506f37a0af4d7e8564959ec419e2a5": {
      "model_module": "@jupyter-widgets/controls",
      "model_module_version": "1.5.0",
      "model_name": "DescriptionStyleModel",
      "state": {
       "_model_module": "@jupyter-widgets/controls",
       "_model_module_version": "1.5.0",
       "_model_name": "DescriptionStyleModel",
       "_view_count": null,
       "_view_module": "@jupyter-widgets/base",
       "_view_module_version": "1.2.0",
       "_view_name": "StyleView",
       "description_width": ""
      }
     },
     "d553d6b7a02c40c6a8f58f9da2c8faf2": {
      "model_module": "@jupyter-widgets/controls",
      "model_module_version": "1.5.0",
      "model_name": "ProgressStyleModel",
      "state": {
       "_model_module": "@jupyter-widgets/controls",
       "_model_module_version": "1.5.0",
       "_model_name": "ProgressStyleModel",
       "_view_count": null,
       "_view_module": "@jupyter-widgets/base",
       "_view_module_version": "1.2.0",
       "_view_name": "StyleView",
       "bar_color": null,
       "description_width": ""
      }
     },
     "d76f9305ff83439982e7f07cb581b83d": {
      "model_module": "@jupyter-widgets/base",
      "model_module_version": "1.2.0",
      "model_name": "LayoutModel",
      "state": {
       "_model_module": "@jupyter-widgets/base",
       "_model_module_version": "1.2.0",
       "_model_name": "LayoutModel",
       "_view_count": null,
       "_view_module": "@jupyter-widgets/base",
       "_view_module_version": "1.2.0",
       "_view_name": "LayoutView",
       "align_content": null,
       "align_items": null,
       "align_self": null,
       "border": null,
       "bottom": null,
       "display": null,
       "flex": null,
       "flex_flow": null,
       "grid_area": null,
       "grid_auto_columns": null,
       "grid_auto_flow": null,
       "grid_auto_rows": null,
       "grid_column": null,
       "grid_gap": null,
       "grid_row": null,
       "grid_template_areas": null,
       "grid_template_columns": null,
       "grid_template_rows": null,
       "height": null,
       "justify_content": null,
       "justify_items": null,
       "left": null,
       "margin": null,
       "max_height": null,
       "max_width": null,
       "min_height": null,
       "min_width": null,
       "object_fit": null,
       "object_position": null,
       "order": null,
       "overflow": null,
       "overflow_x": null,
       "overflow_y": null,
       "padding": null,
       "right": null,
       "top": null,
       "visibility": null,
       "width": null
      }
     },
     "d8b1f6f7ac9b4db395fa4e1fee87c663": {
      "model_module": "@jupyter-widgets/controls",
      "model_module_version": "1.5.0",
      "model_name": "DescriptionStyleModel",
      "state": {
       "_model_module": "@jupyter-widgets/controls",
       "_model_module_version": "1.5.0",
       "_model_name": "DescriptionStyleModel",
       "_view_count": null,
       "_view_module": "@jupyter-widgets/base",
       "_view_module_version": "1.2.0",
       "_view_name": "StyleView",
       "description_width": ""
      }
     },
     "dcdd16306f714aecacd2d1d7778a7923": {
      "model_module": "@jupyter-widgets/base",
      "model_module_version": "1.2.0",
      "model_name": "LayoutModel",
      "state": {
       "_model_module": "@jupyter-widgets/base",
       "_model_module_version": "1.2.0",
       "_model_name": "LayoutModel",
       "_view_count": null,
       "_view_module": "@jupyter-widgets/base",
       "_view_module_version": "1.2.0",
       "_view_name": "LayoutView",
       "align_content": null,
       "align_items": null,
       "align_self": null,
       "border": null,
       "bottom": null,
       "display": null,
       "flex": null,
       "flex_flow": null,
       "grid_area": null,
       "grid_auto_columns": null,
       "grid_auto_flow": null,
       "grid_auto_rows": null,
       "grid_column": null,
       "grid_gap": null,
       "grid_row": null,
       "grid_template_areas": null,
       "grid_template_columns": null,
       "grid_template_rows": null,
       "height": null,
       "justify_content": null,
       "justify_items": null,
       "left": null,
       "margin": null,
       "max_height": null,
       "max_width": null,
       "min_height": null,
       "min_width": null,
       "object_fit": null,
       "object_position": null,
       "order": null,
       "overflow": null,
       "overflow_x": null,
       "overflow_y": null,
       "padding": null,
       "right": null,
       "top": null,
       "visibility": null,
       "width": null
      }
     },
     "dd15eb2e4da349edb24c7a0b434ba287": {
      "model_module": "@jupyter-widgets/controls",
      "model_module_version": "1.5.0",
      "model_name": "HTMLModel",
      "state": {
       "_dom_classes": [],
       "_model_module": "@jupyter-widgets/controls",
       "_model_module_version": "1.5.0",
       "_model_name": "HTMLModel",
       "_view_count": null,
       "_view_module": "@jupyter-widgets/controls",
       "_view_module_version": "1.5.0",
       "_view_name": "HTMLView",
       "description": "",
       "description_tooltip": null,
       "layout": "IPY_MODEL_521e0f5a3b1b4affa10a7ffa64caa23c",
       "placeholder": "​",
       "style": "IPY_MODEL_7ce7d6a5f1f5470693641ad100d9c3cf",
       "value": "Map: 100%"
      }
     },
     "df828f1b6a3c4df787b70f0006bcba3b": {
      "model_module": "@jupyter-widgets/controls",
      "model_module_version": "1.5.0",
      "model_name": "ProgressStyleModel",
      "state": {
       "_model_module": "@jupyter-widgets/controls",
       "_model_module_version": "1.5.0",
       "_model_name": "ProgressStyleModel",
       "_view_count": null,
       "_view_module": "@jupyter-widgets/base",
       "_view_module_version": "1.2.0",
       "_view_name": "StyleView",
       "bar_color": null,
       "description_width": ""
      }
     },
     "e0ed447f4cad4c6395cee092669fe488": {
      "model_module": "@jupyter-widgets/controls",
      "model_module_version": "1.5.0",
      "model_name": "HBoxModel",
      "state": {
       "_dom_classes": [],
       "_model_module": "@jupyter-widgets/controls",
       "_model_module_version": "1.5.0",
       "_model_name": "HBoxModel",
       "_view_count": null,
       "_view_module": "@jupyter-widgets/controls",
       "_view_module_version": "1.5.0",
       "_view_name": "HBoxView",
       "box_style": "",
       "children": [
        "IPY_MODEL_a44222b1661346c88c96aaef386e15ce",
        "IPY_MODEL_a742a06006374be4999c54fe960730c3",
        "IPY_MODEL_e96d61ac41414ab28c150346bf23a823"
       ],
       "layout": "IPY_MODEL_fe6035a99d3b4dc8a33621772a6c2c32"
      }
     },
     "e135d512b87d479981261fb58238196a": {
      "model_module": "@jupyter-widgets/controls",
      "model_module_version": "1.5.0",
      "model_name": "HTMLModel",
      "state": {
       "_dom_classes": [],
       "_model_module": "@jupyter-widgets/controls",
       "_model_module_version": "1.5.0",
       "_model_name": "HTMLModel",
       "_view_count": null,
       "_view_module": "@jupyter-widgets/controls",
       "_view_module_version": "1.5.0",
       "_view_name": "HTMLView",
       "description": "",
       "description_tooltip": null,
       "layout": "IPY_MODEL_ada89071832d4357af4a3e57ea6e2a42",
       "placeholder": "​",
       "style": "IPY_MODEL_d8b1f6f7ac9b4db395fa4e1fee87c663",
       "value": "Loading checkpoint shards: 100%"
      }
     },
     "e2acc25f8a2a4cacbe09db73ed59143a": {
      "model_module": "@jupyter-widgets/controls",
      "model_module_version": "1.5.0",
      "model_name": "HBoxModel",
      "state": {
       "_dom_classes": [],
       "_model_module": "@jupyter-widgets/controls",
       "_model_module_version": "1.5.0",
       "_model_name": "HBoxModel",
       "_view_count": null,
       "_view_module": "@jupyter-widgets/controls",
       "_view_module_version": "1.5.0",
       "_view_name": "HBoxView",
       "box_style": "",
       "children": [
        "IPY_MODEL_52ec77c0739341e192c57f1bf8f581aa",
        "IPY_MODEL_05ed95ecf6e44ea88005a514a4a61ad5",
        "IPY_MODEL_eb86b61decc8468783159bc3cfa8e66a"
       ],
       "layout": "IPY_MODEL_ebf6f1a1c15745c4b62b050a8245ba31"
      }
     },
     "e4b575834d004bfcb4c0b2846b594799": {
      "model_module": "@jupyter-widgets/controls",
      "model_module_version": "1.5.0",
      "model_name": "ProgressStyleModel",
      "state": {
       "_model_module": "@jupyter-widgets/controls",
       "_model_module_version": "1.5.0",
       "_model_name": "ProgressStyleModel",
       "_view_count": null,
       "_view_module": "@jupyter-widgets/base",
       "_view_module_version": "1.2.0",
       "_view_name": "StyleView",
       "bar_color": null,
       "description_width": ""
      }
     },
     "e6123f9c8e0140879bf2a46be9507d3d": {
      "model_module": "@jupyter-widgets/controls",
      "model_module_version": "1.5.0",
      "model_name": "ProgressStyleModel",
      "state": {
       "_model_module": "@jupyter-widgets/controls",
       "_model_module_version": "1.5.0",
       "_model_name": "ProgressStyleModel",
       "_view_count": null,
       "_view_module": "@jupyter-widgets/base",
       "_view_module_version": "1.2.0",
       "_view_name": "StyleView",
       "bar_color": null,
       "description_width": ""
      }
     },
     "e96d61ac41414ab28c150346bf23a823": {
      "model_module": "@jupyter-widgets/controls",
      "model_module_version": "1.5.0",
      "model_name": "HTMLModel",
      "state": {
       "_dom_classes": [],
       "_model_module": "@jupyter-widgets/controls",
       "_model_module_version": "1.5.0",
       "_model_name": "HTMLModel",
       "_view_count": null,
       "_view_module": "@jupyter-widgets/controls",
       "_view_module_version": "1.5.0",
       "_view_name": "HTMLView",
       "description": "",
       "description_tooltip": null,
       "layout": "IPY_MODEL_298f4f839fd34558ab8c8557fde2b8b2",
       "placeholder": "​",
       "style": "IPY_MODEL_6ce9a77827f24af78488c2ca32ed19cc",
       "value": " 1183/1183 [00:00&lt;00:00, 3746.62 examples/s]"
      }
     },
     "eb86b61decc8468783159bc3cfa8e66a": {
      "model_module": "@jupyter-widgets/controls",
      "model_module_version": "1.5.0",
      "model_name": "HTMLModel",
      "state": {
       "_dom_classes": [],
       "_model_module": "@jupyter-widgets/controls",
       "_model_module_version": "1.5.0",
       "_model_name": "HTMLModel",
       "_view_count": null,
       "_view_module": "@jupyter-widgets/controls",
       "_view_module_version": "1.5.0",
       "_view_name": "HTMLView",
       "description": "",
       "description_tooltip": null,
       "layout": "IPY_MODEL_d76f9305ff83439982e7f07cb581b83d",
       "placeholder": "​",
       "style": "IPY_MODEL_8156c1fd525d4e74a9ab4c6d497b7833",
       "value": " 5.17k/5.17k [00:00&lt;00:00, 455kB/s]"
      }
     },
     "ebf6f1a1c15745c4b62b050a8245ba31": {
      "model_module": "@jupyter-widgets/base",
      "model_module_version": "1.2.0",
      "model_name": "LayoutModel",
      "state": {
       "_model_module": "@jupyter-widgets/base",
       "_model_module_version": "1.2.0",
       "_model_name": "LayoutModel",
       "_view_count": null,
       "_view_module": "@jupyter-widgets/base",
       "_view_module_version": "1.2.0",
       "_view_name": "LayoutView",
       "align_content": null,
       "align_items": null,
       "align_self": null,
       "border": null,
       "bottom": null,
       "display": null,
       "flex": null,
       "flex_flow": null,
       "grid_area": null,
       "grid_auto_columns": null,
       "grid_auto_flow": null,
       "grid_auto_rows": null,
       "grid_column": null,
       "grid_gap": null,
       "grid_row": null,
       "grid_template_areas": null,
       "grid_template_columns": null,
       "grid_template_rows": null,
       "height": null,
       "justify_content": null,
       "justify_items": null,
       "left": null,
       "margin": null,
       "max_height": null,
       "max_width": null,
       "min_height": null,
       "min_width": null,
       "object_fit": null,
       "object_position": null,
       "order": null,
       "overflow": null,
       "overflow_x": null,
       "overflow_y": null,
       "padding": null,
       "right": null,
       "top": null,
       "visibility": null,
       "width": null
      }
     },
     "f431926599fd4a22a848decee39b8171": {
      "model_module": "@jupyter-widgets/controls",
      "model_module_version": "1.5.0",
      "model_name": "FloatProgressModel",
      "state": {
       "_dom_classes": [],
       "_model_module": "@jupyter-widgets/controls",
       "_model_module_version": "1.5.0",
       "_model_name": "FloatProgressModel",
       "_view_count": null,
       "_view_module": "@jupyter-widgets/controls",
       "_view_module_version": "1.5.0",
       "_view_name": "ProgressView",
       "bar_style": "success",
       "description": "",
       "description_tooltip": null,
       "layout": "IPY_MODEL_8ac9c042beca42a39be931a1d018f265",
       "max": 167832240.0,
       "min": 0.0,
       "orientation": "horizontal",
       "style": "IPY_MODEL_59602c7eb217470492e92fa511a26a0c",
       "value": 167832240.0
      }
     },
     "f60ecb53a67f4aef812b24fac0f67544": {
      "model_module": "@jupyter-widgets/controls",
      "model_module_version": "1.5.0",
      "model_name": "HBoxModel",
      "state": {
       "_dom_classes": [],
       "_model_module": "@jupyter-widgets/controls",
       "_model_module_version": "1.5.0",
       "_model_name": "HBoxModel",
       "_view_count": null,
       "_view_module": "@jupyter-widgets/controls",
       "_view_module_version": "1.5.0",
       "_view_name": "HBoxView",
       "box_style": "",
       "children": [
        "IPY_MODEL_0853ff8c974241ac998b4e88429c2ea3",
        "IPY_MODEL_f431926599fd4a22a848decee39b8171",
        "IPY_MODEL_4cf42c9ea1f54947a1dbd2110cb38e85"
       ],
       "layout": "IPY_MODEL_8e2b7202e6e247a48a8c4f73080289a1"
      }
     },
     "f6fefdb926734a54a8d4616aa4bc3100": {
      "model_module": "@jupyter-widgets/base",
      "model_module_version": "1.2.0",
      "model_name": "LayoutModel",
      "state": {
       "_model_module": "@jupyter-widgets/base",
       "_model_module_version": "1.2.0",
       "_model_name": "LayoutModel",
       "_view_count": null,
       "_view_module": "@jupyter-widgets/base",
       "_view_module_version": "1.2.0",
       "_view_name": "LayoutView",
       "align_content": null,
       "align_items": null,
       "align_self": null,
       "border": null,
       "bottom": null,
       "display": null,
       "flex": null,
       "flex_flow": null,
       "grid_area": null,
       "grid_auto_columns": null,
       "grid_auto_flow": null,
       "grid_auto_rows": null,
       "grid_column": null,
       "grid_gap": null,
       "grid_row": null,
       "grid_template_areas": null,
       "grid_template_columns": null,
       "grid_template_rows": null,
       "height": null,
       "justify_content": null,
       "justify_items": null,
       "left": null,
       "margin": null,
       "max_height": null,
       "max_width": null,
       "min_height": null,
       "min_width": null,
       "object_fit": null,
       "object_position": null,
       "order": null,
       "overflow": null,
       "overflow_x": null,
       "overflow_y": null,
       "padding": null,
       "right": null,
       "top": null,
       "visibility": null,
       "width": null
      }
     },
     "fb621d934b2343c8a6a3e2fdea91eb92": {
      "model_module": "@jupyter-widgets/controls",
      "model_module_version": "1.5.0",
      "model_name": "HTMLModel",
      "state": {
       "_dom_classes": [],
       "_model_module": "@jupyter-widgets/controls",
       "_model_module_version": "1.5.0",
       "_model_name": "HTMLModel",
       "_view_count": null,
       "_view_module": "@jupyter-widgets/controls",
       "_view_module_version": "1.5.0",
       "_view_name": "HTMLView",
       "description": "",
       "description_tooltip": null,
       "layout": "IPY_MODEL_998acd309a7e487ba8906c7492956cb2",
       "placeholder": "​",
       "style": "IPY_MODEL_b37b0b7c019e4461a231a29ba2f9b86a",
       "value": " 4/4 [03:22&lt;00:00, 43.33s/it]"
      }
     },
     "fe6035a99d3b4dc8a33621772a6c2c32": {
      "model_module": "@jupyter-widgets/base",
      "model_module_version": "1.2.0",
      "model_name": "LayoutModel",
      "state": {
       "_model_module": "@jupyter-widgets/base",
       "_model_module_version": "1.2.0",
       "_model_name": "LayoutModel",
       "_view_count": null,
       "_view_module": "@jupyter-widgets/base",
       "_view_module_version": "1.2.0",
       "_view_name": "LayoutView",
       "align_content": null,
       "align_items": null,
       "align_self": null,
       "border": null,
       "bottom": null,
       "display": null,
       "flex": null,
       "flex_flow": null,
       "grid_area": null,
       "grid_auto_columns": null,
       "grid_auto_flow": null,
       "grid_auto_rows": null,
       "grid_column": null,
       "grid_gap": null,
       "grid_row": null,
       "grid_template_areas": null,
       "grid_template_columns": null,
       "grid_template_rows": null,
       "height": null,
       "justify_content": null,
       "justify_items": null,
       "left": null,
       "margin": null,
       "max_height": null,
       "max_width": null,
       "min_height": null,
       "min_width": null,
       "object_fit": null,
       "object_position": null,
       "order": null,
       "overflow": null,
       "overflow_x": null,
       "overflow_y": null,
       "padding": null,
       "right": null,
       "top": null,
       "visibility": null,
       "width": null
      }
     }
    },
    "version_major": 2,
    "version_minor": 0
   }
  }
 },
 "nbformat": 4,
 "nbformat_minor": 5
}
