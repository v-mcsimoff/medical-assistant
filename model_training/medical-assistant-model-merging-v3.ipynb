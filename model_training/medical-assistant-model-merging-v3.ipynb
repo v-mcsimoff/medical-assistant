{
 "cells": [
  {
   "cell_type": "code",
   "execution_count": 1,
   "id": "5d4c2c0c",
   "metadata": {
    "_cell_guid": "b1076dfc-b9ad-4769-8c92-a6c4dae69d19",
    "_uuid": "8f2839f25d086af736a60e9eeb907d3b93b6e0e5",
    "execution": {
     "iopub.execute_input": "2024-07-30T20:10:06.462669Z",
     "iopub.status.busy": "2024-07-30T20:10:06.461849Z",
     "iopub.status.idle": "2024-07-30T20:10:07.252094Z",
     "shell.execute_reply": "2024-07-30T20:10:07.251151Z"
    },
    "papermill": {
     "duration": 0.800432,
     "end_time": "2024-07-30T20:10:07.254409",
     "exception": false,
     "start_time": "2024-07-30T20:10:06.453977",
     "status": "completed"
    },
    "tags": []
   },
   "outputs": [
    {
     "name": "stdout",
     "output_type": "stream",
     "text": [
      "/kaggle/input/llama-3-8b-medical-assistant-v3/transformers/default/1/llama-3-8b-medical-assistant-v3/adapter_model.safetensors\n",
      "/kaggle/input/llama-3-8b-medical-assistant-v3/transformers/default/1/llama-3-8b-medical-assistant-v3/adapter_config.json\n",
      "/kaggle/input/llama-3-8b-medical-assistant-v3/transformers/default/1/llama-3-8b-medical-assistant-v3/README.md\n",
      "/kaggle/input/llama-3-8b-medical-assistant-v3/transformers/default/1/llama-3-8b-medical-assistant-v3/checkpoint-630/adapter_model.safetensors\n",
      "/kaggle/input/llama-3-8b-medical-assistant-v3/transformers/default/1/llama-3-8b-medical-assistant-v3/checkpoint-630/trainer_state.json\n",
      "/kaggle/input/llama-3-8b-medical-assistant-v3/transformers/default/1/llama-3-8b-medical-assistant-v3/checkpoint-630/training_args.bin\n",
      "/kaggle/input/llama-3-8b-medical-assistant-v3/transformers/default/1/llama-3-8b-medical-assistant-v3/checkpoint-630/adapter_config.json\n",
      "/kaggle/input/llama-3-8b-medical-assistant-v3/transformers/default/1/llama-3-8b-medical-assistant-v3/checkpoint-630/README.md\n",
      "/kaggle/input/llama-3-8b-medical-assistant-v3/transformers/default/1/llama-3-8b-medical-assistant-v3/checkpoint-630/tokenizer.json\n",
      "/kaggle/input/llama-3-8b-medical-assistant-v3/transformers/default/1/llama-3-8b-medical-assistant-v3/checkpoint-630/tokenizer_config.json\n",
      "/kaggle/input/llama-3-8b-medical-assistant-v3/transformers/default/1/llama-3-8b-medical-assistant-v3/checkpoint-630/scheduler.pt\n",
      "/kaggle/input/llama-3-8b-medical-assistant-v3/transformers/default/1/llama-3-8b-medical-assistant-v3/checkpoint-630/special_tokens_map.json\n",
      "/kaggle/input/llama-3-8b-medical-assistant-v3/transformers/default/1/llama-3-8b-medical-assistant-v3/checkpoint-630/optimizer.pt\n",
      "/kaggle/input/llama-3-8b-medical-assistant-v3/transformers/default/1/llama-3-8b-medical-assistant-v3/checkpoint-630/rng_state.pth\n",
      "/kaggle/input/llama-3-8b-medical-assistant-v3/transformers/default/1/llama-3-8b-medical-assistant-v3/checkpoint-500/adapter_model.safetensors\n",
      "/kaggle/input/llama-3-8b-medical-assistant-v3/transformers/default/1/llama-3-8b-medical-assistant-v3/checkpoint-500/trainer_state.json\n",
      "/kaggle/input/llama-3-8b-medical-assistant-v3/transformers/default/1/llama-3-8b-medical-assistant-v3/checkpoint-500/training_args.bin\n",
      "/kaggle/input/llama-3-8b-medical-assistant-v3/transformers/default/1/llama-3-8b-medical-assistant-v3/checkpoint-500/adapter_config.json\n",
      "/kaggle/input/llama-3-8b-medical-assistant-v3/transformers/default/1/llama-3-8b-medical-assistant-v3/checkpoint-500/README.md\n",
      "/kaggle/input/llama-3-8b-medical-assistant-v3/transformers/default/1/llama-3-8b-medical-assistant-v3/checkpoint-500/tokenizer.json\n",
      "/kaggle/input/llama-3-8b-medical-assistant-v3/transformers/default/1/llama-3-8b-medical-assistant-v3/checkpoint-500/tokenizer_config.json\n",
      "/kaggle/input/llama-3-8b-medical-assistant-v3/transformers/default/1/llama-3-8b-medical-assistant-v3/checkpoint-500/scheduler.pt\n",
      "/kaggle/input/llama-3-8b-medical-assistant-v3/transformers/default/1/llama-3-8b-medical-assistant-v3/checkpoint-500/special_tokens_map.json\n",
      "/kaggle/input/llama-3-8b-medical-assistant-v3/transformers/default/1/llama-3-8b-medical-assistant-v3/checkpoint-500/optimizer.pt\n",
      "/kaggle/input/llama-3-8b-medical-assistant-v3/transformers/default/1/llama-3-8b-medical-assistant-v3/checkpoint-500/rng_state.pth\n",
      "/kaggle/input/llama-3-8b-medical-assistant-v3/transformers/default/1/wandb/run-20240730_182531-rs0xlqwv/run-rs0xlqwv.wandb\n",
      "/kaggle/input/llama-3-8b-medical-assistant-v3/transformers/default/1/wandb/run-20240730_182531-rs0xlqwv/logs/debug.log\n",
      "/kaggle/input/llama-3-8b-medical-assistant-v3/transformers/default/1/wandb/run-20240730_182531-rs0xlqwv/logs/debug-internal.log\n",
      "/kaggle/input/llama-3-8b-medical-assistant-v3/transformers/default/1/wandb/run-20240730_182531-rs0xlqwv/files/wandb-summary.json\n",
      "/kaggle/input/llama-3-8b-medical-assistant-v3/transformers/default/1/wandb/run-20240730_182531-rs0xlqwv/files/conda-environment.yaml\n",
      "/kaggle/input/llama-3-8b-medical-assistant-v3/transformers/default/1/wandb/run-20240730_182531-rs0xlqwv/files/config.yaml\n",
      "/kaggle/input/llama-3-8b-medical-assistant-v3/transformers/default/1/wandb/run-20240730_182531-rs0xlqwv/files/output.log\n",
      "/kaggle/input/llama-3-8b-medical-assistant-v3/transformers/default/1/wandb/run-20240730_182531-rs0xlqwv/files/requirements.txt\n",
      "/kaggle/input/llama-3-8b-medical-assistant-v3/transformers/default/1/wandb/run-20240730_182531-rs0xlqwv/files/wandb-metadata.json\n",
      "/kaggle/input/llama-3-8b-medical-assistant-v2.5/transformers/default/1/llama-3-8b-medical-assistant-v2/model.safetensors.index.json\n",
      "/kaggle/input/llama-3-8b-medical-assistant-v2.5/transformers/default/1/llama-3-8b-medical-assistant-v2/model-00003-of-00004.safetensors\n",
      "/kaggle/input/llama-3-8b-medical-assistant-v2.5/transformers/default/1/llama-3-8b-medical-assistant-v2/config.json\n",
      "/kaggle/input/llama-3-8b-medical-assistant-v2.5/transformers/default/1/llama-3-8b-medical-assistant-v2/model-00001-of-00004.safetensors\n",
      "/kaggle/input/llama-3-8b-medical-assistant-v2.5/transformers/default/1/llama-3-8b-medical-assistant-v2/README.md\n",
      "/kaggle/input/llama-3-8b-medical-assistant-v2.5/transformers/default/1/llama-3-8b-medical-assistant-v2/tokenizer.json\n",
      "/kaggle/input/llama-3-8b-medical-assistant-v2.5/transformers/default/1/llama-3-8b-medical-assistant-v2/tokenizer_config.json\n",
      "/kaggle/input/llama-3-8b-medical-assistant-v2.5/transformers/default/1/llama-3-8b-medical-assistant-v2/model-00004-of-00004.safetensors\n",
      "/kaggle/input/llama-3-8b-medical-assistant-v2.5/transformers/default/1/llama-3-8b-medical-assistant-v2/special_tokens_map.json\n",
      "/kaggle/input/llama-3-8b-medical-assistant-v2.5/transformers/default/1/llama-3-8b-medical-assistant-v2/model-00002-of-00004.safetensors\n",
      "/kaggle/input/llama-3-8b-medical-assistant-v2.5/transformers/default/1/llama-3-8b-medical-assistant-v2/generation_config.json\n"
     ]
    }
   ],
   "source": [
    "# This Python 3 environment comes with many helpful analytics libraries installed\n",
    "# It is defined by the kaggle/python Docker image: https://github.com/kaggle/docker-python\n",
    "# For example, here's several helpful packages to load\n",
    "\n",
    "import numpy as np # linear algebra\n",
    "import pandas as pd # data processing, CSV file I/O (e.g. pd.read_csv)\n",
    "\n",
    "# Input data files are available in the read-only \"../input/\" directory\n",
    "# For example, running this (by clicking run or pressing Shift+Enter) will list all files under the input directory\n",
    "\n",
    "import os\n",
    "for dirname, _, filenames in os.walk('/kaggle/input'):\n",
    "    for filename in filenames:\n",
    "        print(os.path.join(dirname, filename))\n",
    "\n",
    "# You can write up to 20GB to the current directory (/kaggle/working/) that gets preserved as output when you create a version using \"Save & Run All\" \n",
    "# You can also write temporary files to /kaggle/temp/, but they won't be saved outside of the current session"
   ]
  },
  {
   "cell_type": "markdown",
   "id": "74650187",
   "metadata": {
    "papermill": {
     "duration": 0.005596,
     "end_time": "2024-07-30T20:10:07.266249",
     "exception": false,
     "start_time": "2024-07-30T20:10:07.260653",
     "status": "completed"
    },
    "tags": []
   },
   "source": [
    "#### Tuned model merging."
   ]
  },
  {
   "cell_type": "markdown",
   "id": "60cb52e2",
   "metadata": {
    "papermill": {
     "duration": 0.005469,
     "end_time": "2024-07-30T20:10:07.277490",
     "exception": false,
     "start_time": "2024-07-30T20:10:07.272021",
     "status": "completed"
    },
    "tags": []
   },
   "source": [
    "We have already trained the version 2 of the model, and now it should be merged with the version 1 model to be saved and used in the project."
   ]
  },
  {
   "cell_type": "code",
   "execution_count": 2,
   "id": "75670c82",
   "metadata": {
    "execution": {
     "iopub.execute_input": "2024-07-30T20:10:07.290926Z",
     "iopub.status.busy": "2024-07-30T20:10:07.290014Z",
     "iopub.status.idle": "2024-07-30T20:11:27.453081Z",
     "shell.execute_reply": "2024-07-30T20:11:27.451863Z"
    },
    "papermill": {
     "duration": 80.172644,
     "end_time": "2024-07-30T20:11:27.455883",
     "exception": false,
     "start_time": "2024-07-30T20:10:07.283239",
     "status": "completed"
    },
    "tags": []
   },
   "outputs": [],
   "source": [
    "%%capture\n",
    "%pip install -U bitsandbytes\n",
    "%pip install -U transformers\n",
    "%pip install -U accelerate\n",
    "%pip install -U peft\n",
    "%pip install -U trl"
   ]
  },
  {
   "cell_type": "markdown",
   "id": "c5341714",
   "metadata": {
    "papermill": {
     "duration": 0.005428,
     "end_time": "2024-07-30T20:11:27.467458",
     "exception": false,
     "start_time": "2024-07-30T20:11:27.462030",
     "status": "completed"
    },
    "tags": []
   },
   "source": [
    "Logging in to Hugging Face."
   ]
  },
  {
   "cell_type": "code",
   "execution_count": 3,
   "id": "911a00c7",
   "metadata": {
    "execution": {
     "iopub.execute_input": "2024-07-30T20:11:27.480170Z",
     "iopub.status.busy": "2024-07-30T20:11:27.479831Z",
     "iopub.status.idle": "2024-07-30T20:11:28.179148Z",
     "shell.execute_reply": "2024-07-30T20:11:28.178055Z"
    },
    "papermill": {
     "duration": 0.708069,
     "end_time": "2024-07-30T20:11:28.181157",
     "exception": false,
     "start_time": "2024-07-30T20:11:27.473088",
     "status": "completed"
    },
    "tags": []
   },
   "outputs": [
    {
     "name": "stdout",
     "output_type": "stream",
     "text": [
      "The token has not been saved to the git credentials helper. Pass `add_to_git_credential=True` in this function directly or `--add-to-git-credential` if using via `huggingface-cli` if you want to set the git credential as well.\n",
      "Token is valid (permission: write).\n",
      "Your token has been saved to /root/.cache/huggingface/token\n",
      "Login successful\n"
     ]
    }
   ],
   "source": [
    "from huggingface_hub import login\n",
    "from kaggle_secrets import UserSecretsClient\n",
    "user_secrets = UserSecretsClient()\n",
    "\n",
    "hf_token = user_secrets.get_secret(\"huggingface_token\")\n",
    "login(token = hf_token)"
   ]
  },
  {
   "cell_type": "markdown",
   "id": "975277db",
   "metadata": {
    "papermill": {
     "duration": 0.005648,
     "end_time": "2024-07-30T20:11:28.192850",
     "exception": false,
     "start_time": "2024-07-30T20:11:28.187202",
     "status": "completed"
    },
    "tags": []
   },
   "source": [
    "Creating variables for base and new models."
   ]
  },
  {
   "cell_type": "code",
   "execution_count": 4,
   "id": "ffc69eeb",
   "metadata": {
    "execution": {
     "iopub.execute_input": "2024-07-30T20:11:28.205977Z",
     "iopub.status.busy": "2024-07-30T20:11:28.205424Z",
     "iopub.status.idle": "2024-07-30T20:11:28.209228Z",
     "shell.execute_reply": "2024-07-30T20:11:28.208401Z"
    },
    "papermill": {
     "duration": 0.012456,
     "end_time": "2024-07-30T20:11:28.211164",
     "exception": false,
     "start_time": "2024-07-30T20:11:28.198708",
     "status": "completed"
    },
    "tags": []
   },
   "outputs": [],
   "source": [
    "base_model = \"/kaggle/input/llama-3-8b-medical-assistant-v2.5/transformers/default/1/llama-3-8b-medical-assistant-v2\"\n",
    "new_model = \"/kaggle/input/llama-3-8b-medical-assistant-v3/transformers/default/1/llama-3-8b-medical-assistant-v3\""
   ]
  },
  {
   "cell_type": "markdown",
   "id": "39014876",
   "metadata": {
    "papermill": {
     "duration": 0.005674,
     "end_time": "2024-07-30T20:11:28.222535",
     "exception": false,
     "start_time": "2024-07-30T20:11:28.216861",
     "status": "completed"
    },
    "tags": []
   },
   "source": [
    "To merge the base model with the adapter we should load the tokenizer and base model using the transformers library. Then, we set up the chat format using the trl library. Finally, we load and merge the adapter to the base model using the PEFT library."
   ]
  },
  {
   "cell_type": "code",
   "execution_count": 5,
   "id": "2af08634",
   "metadata": {
    "execution": {
     "iopub.execute_input": "2024-07-30T20:11:28.235437Z",
     "iopub.status.busy": "2024-07-30T20:11:28.234850Z",
     "iopub.status.idle": "2024-07-30T20:14:36.524517Z",
     "shell.execute_reply": "2024-07-30T20:14:36.523696Z"
    },
    "papermill": {
     "duration": 188.298498,
     "end_time": "2024-07-30T20:14:36.526819",
     "exception": false,
     "start_time": "2024-07-30T20:11:28.228321",
     "status": "completed"
    },
    "tags": []
   },
   "outputs": [
    {
     "name": "stderr",
     "output_type": "stream",
     "text": [
      "2024-07-30 20:11:35.075544: E external/local_xla/xla/stream_executor/cuda/cuda_dnn.cc:9261] Unable to register cuDNN factory: Attempting to register factory for plugin cuDNN when one has already been registered\n",
      "2024-07-30 20:11:35.075684: E external/local_xla/xla/stream_executor/cuda/cuda_fft.cc:607] Unable to register cuFFT factory: Attempting to register factory for plugin cuFFT when one has already been registered\n",
      "2024-07-30 20:11:35.222225: E external/local_xla/xla/stream_executor/cuda/cuda_blas.cc:1515] Unable to register cuBLAS factory: Attempting to register factory for plugin cuBLAS when one has already been registered\n"
     ]
    },
    {
     "data": {
      "application/vnd.jupyter.widget-view+json": {
       "model_id": "97653ad2894a40b29e1fff363652369b",
       "version_major": 2,
       "version_minor": 0
      },
      "text/plain": [
       "Loading checkpoint shards:   0%|          | 0/4 [00:00<?, ?it/s]"
      ]
     },
     "metadata": {},
     "output_type": "display_data"
    }
   ],
   "source": [
    "from transformers import AutoModelForCausalLM, AutoTokenizer, pipeline\n",
    "from peft import PeftModel\n",
    "import torch\n",
    "from trl import setup_chat_format\n",
    "\n",
    "# Reload tokenizer and model\n",
    "tokenizer = AutoTokenizer.from_pretrained(base_model)\n",
    "\n",
    "base_model_reload = AutoModelForCausalLM.from_pretrained(\n",
    "        base_model,\n",
    "        return_dict=True,\n",
    "        low_cpu_mem_usage=True,\n",
    "        torch_dtype=torch.float16,\n",
    "        device_map=\"auto\",\n",
    "        trust_remote_code=True,\n",
    ")"
   ]
  },
  {
   "cell_type": "code",
   "execution_count": 6,
   "id": "ed572c71",
   "metadata": {
    "execution": {
     "iopub.execute_input": "2024-07-30T20:14:36.540806Z",
     "iopub.status.busy": "2024-07-30T20:14:36.540226Z",
     "iopub.status.idle": "2024-07-30T20:14:36.545753Z",
     "shell.execute_reply": "2024-07-30T20:14:36.544605Z"
    },
    "papermill": {
     "duration": 0.01451,
     "end_time": "2024-07-30T20:14:36.547755",
     "exception": false,
     "start_time": "2024-07-30T20:14:36.533245",
     "status": "completed"
    },
    "tags": []
   },
   "outputs": [],
   "source": [
    "torch.cuda.empty_cache()"
   ]
  },
  {
   "cell_type": "code",
   "execution_count": 7,
   "id": "de7df139",
   "metadata": {
    "execution": {
     "iopub.execute_input": "2024-07-30T20:14:36.561032Z",
     "iopub.status.busy": "2024-07-30T20:14:36.560780Z",
     "iopub.status.idle": "2024-07-30T20:14:39.490639Z",
     "shell.execute_reply": "2024-07-30T20:14:39.489848Z"
    },
    "papermill": {
     "duration": 2.939199,
     "end_time": "2024-07-30T20:14:39.493009",
     "exception": false,
     "start_time": "2024-07-30T20:14:36.553810",
     "status": "completed"
    },
    "tags": []
   },
   "outputs": [],
   "source": [
    "# Merge adapter with base model\n",
    "base_model_reload, tokenizer = setup_chat_format(base_model_reload, tokenizer)\n",
    "model = PeftModel.from_pretrained(base_model_reload, new_model)"
   ]
  },
  {
   "cell_type": "code",
   "execution_count": 8,
   "id": "35f77561",
   "metadata": {
    "execution": {
     "iopub.execute_input": "2024-07-30T20:14:39.506669Z",
     "iopub.status.busy": "2024-07-30T20:14:39.506344Z",
     "iopub.status.idle": "2024-07-30T20:14:39.802559Z",
     "shell.execute_reply": "2024-07-30T20:14:39.801544Z"
    },
    "papermill": {
     "duration": 0.305477,
     "end_time": "2024-07-30T20:14:39.804824",
     "exception": false,
     "start_time": "2024-07-30T20:14:39.499347",
     "status": "completed"
    },
    "tags": []
   },
   "outputs": [],
   "source": [
    "model = model.merge_and_unload()"
   ]
  },
  {
   "cell_type": "markdown",
   "id": "f5eb71c5",
   "metadata": {
    "papermill": {
     "duration": 0.005825,
     "end_time": "2024-07-30T20:14:39.817080",
     "exception": false,
     "start_time": "2024-07-30T20:14:39.811255",
     "status": "completed"
    },
    "tags": []
   },
   "source": [
    "#### Model Inference."
   ]
  },
  {
   "cell_type": "markdown",
   "id": "ddb6bdb0",
   "metadata": {
    "papermill": {
     "duration": 0.005731,
     "end_time": "2024-07-30T20:14:39.828728",
     "exception": false,
     "start_time": "2024-07-30T20:14:39.822997",
     "status": "completed"
    },
    "tags": []
   },
   "source": [
    "To verify if our model has been merged correctly, we perform a simple inference using pipeline from the transformers library. We convert the message using the chat template and then provide a prompt to the pipeline. The pipeline was initialized using the model, tokenizer, and task type."
   ]
  },
  {
   "cell_type": "code",
   "execution_count": 9,
   "id": "5c0dfb0b",
   "metadata": {
    "execution": {
     "iopub.execute_input": "2024-07-30T20:14:39.842335Z",
     "iopub.status.busy": "2024-07-30T20:14:39.841999Z",
     "iopub.status.idle": "2024-07-30T20:14:56.421881Z",
     "shell.execute_reply": "2024-07-30T20:14:56.420907Z"
    },
    "papermill": {
     "duration": 16.589488,
     "end_time": "2024-07-30T20:14:56.424159",
     "exception": false,
     "start_time": "2024-07-30T20:14:39.834671",
     "status": "completed"
    },
    "tags": []
   },
   "outputs": [
    {
     "name": "stdout",
     "output_type": "stream",
     "text": [
      "[{'generated_text': \"<|im_start|>user\\n\\n        Hello Doctor, please provide me with a brief summary of this medicine leaflet, \\n        from 3 to 6 most important side effects, important information, and recommendations in 250 words maximum:\\n        What you should know about Distalgesic tablets\\n        Distalgesic    Please read this leaflet carefully before you start to take your medicine.  \\n        It does not contain all the information about your medicine that you may need to know so if you \\n        have any questions, ask your doctor or pharmacist. This leaflet only applies to Distalgesic tablets.    \\n        What is in your medicine?   Your medicine is called Distalgesic, which is a brand of co-proxamol.  \\n        Its active ingredients are dextropropoxyphene hydrochloride and paracetamol.  \\n        Each white, pillow-shaped tablet contains 32.5mg dextropropoxyphene hydrochloride \\n        and 325mg paracetamol.  They are labelled DG.  The tablets also contain the inactive \\n        ingredients maize starch and magnesium stearate, and are coated with hydroxypropyl \\n        methyl cellulose 15, glycerine and titanium dioxide.  They come in blister packs of 100.   \\n        Distalgesic is one of a group of medicines called analgesics that help to ease pain.   \\n        Distalgesic is made by Eli Lilly and Company Limited, Kingsclere Road, Basingstoke, \\n        Hampshire, RG21 6XA.  The product licence is held by Dista Products Limited, \\n        Dextra Court, Chapel Hill, Basingstoke, Hampshire RG21 5SY     \\n        Why Distalgesic?   Distalgesic is given to help reduce mild to moderate pain.     \\n        Before taking your medicine    Make sure it is sate for you to take Distalgesic. \\n        It you answer YES to any of the following questions or you are not sure about \\n        the answer, tell your doctor or pharmacist.      \\n        Have you ever been allergic to this or any other pain-killing medicine?       \\n        Do you suffer from depression or any other psychiatric illness?     \\n        Have you ever been an alcoholic or drug addict?     \\n        Are you taking any other medicine, especially 'blood thinner' \\n        medicine (such as warfarin), antidepressants or drugs for epilepsy?     \\n        Are you pregnant or could you be?     Are you breast-feeding?       \\n        Have you ever had problems with your liver or kidneys?      \\n        Do not take more Distalgesic than your doctor tells you to  .    \\n        Do not drink alcohol while taking Distalgesic.    \\n        It can be very dangerous.  Discuss this with your doctor if you have any questions.   \\n        If you take drugs such as antihistamines, tranquillisers or sleeping tablets \\n        when you are taking Distalgesic, you may become extremely sleepy.   \\n        Distalgesic on its own makes some people very sleepy, especially when \\n        they first start taking it.   Do not drive or use dangerous machinery \\n        if you feel sleepy.   Do not give Distalgesic to children.      \\n        Please read the back of this leaflet          \\n        What you should know about Distalgesic tablets - continued         \\n        Taking your medicine     Follow your doctor’s instructions.  \\n        Check the label to see how many tablets to take and how often to take them.      \\n        Usual dose: take 2 tablets three or four times a day.       \\n        Do not take more than 8 tablets in 24 hours.    \\n        If you are elderly, you may need to take fewer.  \\n        If you are not sure how many tablets to take, ask your doctor or pharmacist     \\n        Swallow the tablets with a drink of water.     \\n        Do not take more tablets than your doctor tells you to.  \\n        You can become addicted to these tablets if you take too many for a long time.     \\n        If you miss a dose, take another dose as soon as you can.  Then go on as before.  \\n        Never double up on the next dose to make up for the one missed.      \\n        OVERDOSE: If you, or anyone else, ever take too many Distalgesic tablets, \\n        dial 999 for an ambulance straight away.  Then phone your doctor.    \\n        An overdose can damage your liver or cause coma, convulsions or death.       \\n        While taking your medicine     Distalgesic tablets may cause side-effects. \\n        These include feeling dizzy or tired, feeling sick and vomiting. \\n        They will often go away if you lie down.  Tell your doctor if they are troublesome. \\n        Very occasionally, Distalgesic may give you a rash, headaches or stomach ache. \\n        It might also make you constipated or moody, or give you problems with your sight, \\n        hallucinations or jaundice.  If you have these or any other ill-effects that are \\n        troublesome, tell your doctor.       How to store your medicine     \\n        Do not use Distalgesic after the 'Use Before' date.   \\n        Keep your tablets at room temperature, in a dry, safe place where children \\n        cannot see or reach them.  Your tablets could harm them.   \\n        When your treatment is over, we suggest that you take any tablets you have \\n        left back to the pharmacist who will dispose of them safely.     \\n        REMEMBER: This medicine is for you.  Only a doctor can prescribe it.  \\n        Never give it to others.  It may harm them, even if their symptoms are \\n        the same as yours.   'Distalgesic' is a registered trademark of Dista\\n        Products Limited.   Date of Leaflet Preparation: November 1995 © Dista \\n        Products Limited, 1995.\\n        <|im_end|>\\n<|im_start|>assistant\\n**Medication Name:** DISTALESAN DISCUAR \\n\\nYour doctor  can change this scheme if necessary; should there be problems with taking them, or the outcome is not to   your liking. To get it to work as well as possible, you should also take other simple measures as advised later on.         Please keep   this  for reference in future For Further  INFORMATION Please Contact at his/her discretion to:    Doctor /   local   Pharmacy if / you  find    it to unacceptable.           before taki    Please  read this   careful as these points  are important. For information or advice or    Distgesif / medicine / name, Distalestan Discu  about your    or side effects. A number of tests are carried  out to make sure that treatment with medicine of this.type  it suits you - in fact tests  or in practice is never absolutely certain , so take Care.          Before / Your       / (This must it    your condition\"}]\n"
     ]
    }
   ],
   "source": [
    "messages = [{\n",
    "    \"role\": \"user\",\n",
    "    \"content\": \"\"\"\n",
    "        Hello Doctor, please provide me with a brief summary of this medicine leaflet, \n",
    "        from 3 to 6 most important side effects, important information, and recommendations in 250 words maximum:\n",
    "        What you should know about Distalgesic tablets\n",
    "        Distalgesic    Please read this leaflet carefully before you start to take your medicine.  \n",
    "        It does not contain all the information about your medicine that you may need to know so if you \n",
    "        have any questions, ask your doctor or pharmacist. This leaflet only applies to Distalgesic tablets.    \n",
    "        What is in your medicine?   Your medicine is called Distalgesic, which is a brand of co-proxamol.  \n",
    "        Its active ingredients are dextropropoxyphene hydrochloride and paracetamol.  \n",
    "        Each white, pillow-shaped tablet contains 32.5mg dextropropoxyphene hydrochloride \n",
    "        and 325mg paracetamol.  They are labelled DG.  The tablets also contain the inactive \n",
    "        ingredients maize starch and magnesium stearate, and are coated with hydroxypropyl \n",
    "        methyl cellulose 15, glycerine and titanium dioxide.  They come in blister packs of 100.   \n",
    "        Distalgesic is one of a group of medicines called analgesics that help to ease pain.   \n",
    "        Distalgesic is made by Eli Lilly and Company Limited, Kingsclere Road, Basingstoke, \n",
    "        Hampshire, RG21 6XA.  The product licence is held by Dista Products Limited, \n",
    "        Dextra Court, Chapel Hill, Basingstoke, Hampshire RG21 5SY     \n",
    "        Why Distalgesic?   Distalgesic is given to help reduce mild to moderate pain.     \n",
    "        Before taking your medicine    Make sure it is sate for you to take Distalgesic. \n",
    "        It you answer YES to any of the following questions or you are not sure about \n",
    "        the answer, tell your doctor or pharmacist.      \n",
    "        Have you ever been allergic to this or any other pain-killing medicine?       \n",
    "        Do you suffer from depression or any other psychiatric illness?     \n",
    "        Have you ever been an alcoholic or drug addict?     \n",
    "        Are you taking any other medicine, especially 'blood thinner' \n",
    "        medicine (such as warfarin), antidepressants or drugs for epilepsy?     \n",
    "        Are you pregnant or could you be?     Are you breast-feeding?       \n",
    "        Have you ever had problems with your liver or kidneys?      \n",
    "        Do not take more Distalgesic than your doctor tells you to  .    \n",
    "        Do not drink alcohol while taking Distalgesic.    \n",
    "        It can be very dangerous.  Discuss this with your doctor if you have any questions.   \n",
    "        If you take drugs such as antihistamines, tranquillisers or sleeping tablets \n",
    "        when you are taking Distalgesic, you may become extremely sleepy.   \n",
    "        Distalgesic on its own makes some people very sleepy, especially when \n",
    "        they first start taking it.   Do not drive or use dangerous machinery \n",
    "        if you feel sleepy.   Do not give Distalgesic to children.      \n",
    "        Please read the back of this leaflet          \n",
    "        What you should know about Distalgesic tablets - continued         \n",
    "        Taking your medicine     Follow your doctor’s instructions.  \n",
    "        Check the label to see how many tablets to take and how often to take them.      \n",
    "        Usual dose: take 2 tablets three or four times a day.       \n",
    "        Do not take more than 8 tablets in 24 hours.    \n",
    "        If you are elderly, you may need to take fewer.  \n",
    "        If you are not sure how many tablets to take, ask your doctor or pharmacist     \n",
    "        Swallow the tablets with a drink of water.     \n",
    "        Do not take more tablets than your doctor tells you to.  \n",
    "        You can become addicted to these tablets if you take too many for a long time.     \n",
    "        If you miss a dose, take another dose as soon as you can.  Then go on as before.  \n",
    "        Never double up on the next dose to make up for the one missed.      \n",
    "        OVERDOSE: If you, or anyone else, ever take too many Distalgesic tablets, \n",
    "        dial 999 for an ambulance straight away.  Then phone your doctor.    \n",
    "        An overdose can damage your liver or cause coma, convulsions or death.       \n",
    "        While taking your medicine     Distalgesic tablets may cause side-effects. \n",
    "        These include feeling dizzy or tired, feeling sick and vomiting. \n",
    "        They will often go away if you lie down.  Tell your doctor if they are troublesome. \n",
    "        Very occasionally, Distalgesic may give you a rash, headaches or stomach ache. \n",
    "        It might also make you constipated or moody, or give you problems with your sight, \n",
    "        hallucinations or jaundice.  If you have these or any other ill-effects that are \n",
    "        troublesome, tell your doctor.       How to store your medicine     \n",
    "        Do not use Distalgesic after the 'Use Before' date.   \n",
    "        Keep your tablets at room temperature, in a dry, safe place where children \n",
    "        cannot see or reach them.  Your tablets could harm them.   \n",
    "        When your treatment is over, we suggest that you take any tablets you have \n",
    "        left back to the pharmacist who will dispose of them safely.     \n",
    "        REMEMBER: This medicine is for you.  Only a doctor can prescribe it.  \n",
    "        Never give it to others.  It may harm them, even if their symptoms are \n",
    "        the same as yours.   'Distalgesic' is a registered trademark of Dista\n",
    "        Products Limited.   Date of Leaflet Preparation: November 1995 © Dista \n",
    "        Products Limited, 1995.\n",
    "        \"\"\"\n",
    "}]\n",
    "prompt = tokenizer.apply_chat_template(messages, tokenize=False, add_generation_prompt=True)\n",
    "pipe = pipeline(\n",
    "    \"text-generation\",\n",
    "    model=model,\n",
    "    tokenizer=tokenizer,\n",
    "    torch_dtype=torch.float16,\n",
    "    device_map=\"auto\",\n",
    ")\n",
    "\n",
    "outputs = pipe(prompt, max_new_tokens=200, do_sample=True, temperature=2.1, top_k=50, top_p=0.95)\n",
    "print(outputs)"
   ]
  },
  {
   "cell_type": "markdown",
   "id": "63ce206d",
   "metadata": {
    "papermill": {
     "duration": 0.006105,
     "end_time": "2024-07-30T20:14:56.437123",
     "exception": false,
     "start_time": "2024-07-30T20:14:56.431018",
     "status": "completed"
    },
    "tags": []
   },
   "source": [
    "We can see that the fine-tuned model is working as expected after being merged."
   ]
  },
  {
   "cell_type": "markdown",
   "id": "8f32d856",
   "metadata": {
    "papermill": {
     "duration": 0.005875,
     "end_time": "2024-07-30T20:14:56.449301",
     "exception": false,
     "start_time": "2024-07-30T20:14:56.443426",
     "status": "completed"
    },
    "tags": []
   },
   "source": [
    "#### Saving and pushing the merged model."
   ]
  },
  {
   "cell_type": "code",
   "execution_count": 10,
   "id": "12fb0cc6",
   "metadata": {
    "execution": {
     "iopub.execute_input": "2024-07-30T20:14:56.463932Z",
     "iopub.status.busy": "2024-07-30T20:14:56.462877Z",
     "iopub.status.idle": "2024-07-30T20:15:54.073678Z",
     "shell.execute_reply": "2024-07-30T20:15:54.072691Z"
    },
    "papermill": {
     "duration": 71.638899,
     "end_time": "2024-07-30T20:16:08.094521",
     "exception": false,
     "start_time": "2024-07-30T20:14:56.455622",
     "status": "completed"
    },
    "tags": []
   },
   "outputs": [
    {
     "data": {
      "text/plain": [
       "('llama-3-8b-medical-assistant-v3/tokenizer_config.json',\n",
       " 'llama-3-8b-medical-assistant-v3/special_tokens_map.json',\n",
       " 'llama-3-8b-medical-assistant-v3/tokenizer.json')"
      ]
     },
     "execution_count": 10,
     "metadata": {},
     "output_type": "execute_result"
    }
   ],
   "source": [
    "model.save_pretrained(\"llama-3-8b-medical-assistant-v3\")\n",
    "tokenizer.save_pretrained(\"llama-3-8b-medical-assistant-v3\")"
   ]
  },
  {
   "cell_type": "code",
   "execution_count": 11,
   "id": "76a5bdc5",
   "metadata": {
    "execution": {
     "iopub.execute_input": "2024-07-30T20:16:08.316897Z",
     "iopub.status.busy": "2024-07-30T20:16:08.316420Z",
     "iopub.status.idle": "2024-07-30T20:18:36.512593Z",
     "shell.execute_reply": "2024-07-30T20:18:36.511603Z"
    },
    "papermill": {
     "duration": 148.390361,
     "end_time": "2024-07-30T20:18:36.521207",
     "exception": false,
     "start_time": "2024-07-30T20:16:08.130846",
     "status": "completed"
    },
    "tags": []
   },
   "outputs": [
    {
     "data": {
      "application/vnd.jupyter.widget-view+json": {
       "model_id": "ab075932e86f402f923d90da52cb614f",
       "version_major": 2,
       "version_minor": 0
      },
      "text/plain": [
       "README.md:   0%|          | 0.00/5.17k [00:00<?, ?B/s]"
      ]
     },
     "metadata": {},
     "output_type": "display_data"
    },
    {
     "data": {
      "text/plain": [
       "CommitInfo(commit_url='https://huggingface.co/McSimoff/llama-3-8b-medical-assistant-v3/commit/cc2c5babff52b060136c9ae136baf7a01106d117', commit_message='Upload tokenizer', commit_description='', oid='cc2c5babff52b060136c9ae136baf7a01106d117', pr_url=None, pr_revision=None, pr_num=None)"
      ]
     },
     "execution_count": 11,
     "metadata": {},
     "output_type": "execute_result"
    }
   ],
   "source": [
    "model.push_to_hub(\"llama-3-8b-medical-assistant-v3\", use_temp_dir=False)\n",
    "tokenizer.push_to_hub(\"llama-3-8b-medical-assistant-v3\", use_temp_dir=False)"
   ]
  },
  {
   "cell_type": "code",
   "execution_count": null,
   "id": "bb0fdba1",
   "metadata": {
    "papermill": {
     "duration": 0.006437,
     "end_time": "2024-07-30T20:18:36.534327",
     "exception": false,
     "start_time": "2024-07-30T20:18:36.527890",
     "status": "completed"
    },
    "tags": []
   },
   "outputs": [],
   "source": []
  }
 ],
 "metadata": {
  "kaggle": {
   "accelerator": "nvidiaTeslaT4",
   "dataSources": [
    {
     "modelId": 96633,
     "modelInstanceId": 71669,
     "sourceId": 85310,
     "sourceType": "modelInstanceVersion"
    },
    {
     "isSourceIdPinned": true,
     "modelId": 96792,
     "modelInstanceId": 71830,
     "sourceId": 85492,
     "sourceType": "modelInstanceVersion"
    }
   ],
   "dockerImageVersionId": 30747,
   "isGpuEnabled": true,
   "isInternetEnabled": true,
   "language": "python",
   "sourceType": "notebook"
  },
  "kernelspec": {
   "display_name": "Python 3",
   "language": "python",
   "name": "python3"
  },
  "language_info": {
   "codemirror_mode": {
    "name": "ipython",
    "version": 3
   },
   "file_extension": ".py",
   "mimetype": "text/x-python",
   "name": "python",
   "nbconvert_exporter": "python",
   "pygments_lexer": "ipython3",
   "version": "3.10.13"
  },
  "papermill": {
   "default_parameters": {},
   "duration": 516.409721,
   "end_time": "2024-07-30T20:18:40.058312",
   "environment_variables": {},
   "exception": null,
   "input_path": "__notebook__.ipynb",
   "output_path": "__notebook__.ipynb",
   "parameters": {},
   "start_time": "2024-07-30T20:10:03.648591",
   "version": "2.5.0"
  },
  "widgets": {
   "application/vnd.jupyter.widget-state+json": {
    "state": {
     "1b0144258bb9473eb597133c970599ff": {
      "model_module": "@jupyter-widgets/controls",
      "model_module_version": "1.5.0",
      "model_name": "ProgressStyleModel",
      "state": {
       "_model_module": "@jupyter-widgets/controls",
       "_model_module_version": "1.5.0",
       "_model_name": "ProgressStyleModel",
       "_view_count": null,
       "_view_module": "@jupyter-widgets/base",
       "_view_module_version": "1.2.0",
       "_view_name": "StyleView",
       "bar_color": null,
       "description_width": ""
      }
     },
     "220c761e224d4a3ea7d62108d6c03e51": {
      "model_module": "@jupyter-widgets/base",
      "model_module_version": "1.2.0",
      "model_name": "LayoutModel",
      "state": {
       "_model_module": "@jupyter-widgets/base",
       "_model_module_version": "1.2.0",
       "_model_name": "LayoutModel",
       "_view_count": null,
       "_view_module": "@jupyter-widgets/base",
       "_view_module_version": "1.2.0",
       "_view_name": "LayoutView",
       "align_content": null,
       "align_items": null,
       "align_self": null,
       "border": null,
       "bottom": null,
       "display": null,
       "flex": null,
       "flex_flow": null,
       "grid_area": null,
       "grid_auto_columns": null,
       "grid_auto_flow": null,
       "grid_auto_rows": null,
       "grid_column": null,
       "grid_gap": null,
       "grid_row": null,
       "grid_template_areas": null,
       "grid_template_columns": null,
       "grid_template_rows": null,
       "height": null,
       "justify_content": null,
       "justify_items": null,
       "left": null,
       "margin": null,
       "max_height": null,
       "max_width": null,
       "min_height": null,
       "min_width": null,
       "object_fit": null,
       "object_position": null,
       "order": null,
       "overflow": null,
       "overflow_x": null,
       "overflow_y": null,
       "padding": null,
       "right": null,
       "top": null,
       "visibility": null,
       "width": null
      }
     },
     "25158b2ab7eb4240bb7bf6d77d1c049b": {
      "model_module": "@jupyter-widgets/base",
      "model_module_version": "1.2.0",
      "model_name": "LayoutModel",
      "state": {
       "_model_module": "@jupyter-widgets/base",
       "_model_module_version": "1.2.0",
       "_model_name": "LayoutModel",
       "_view_count": null,
       "_view_module": "@jupyter-widgets/base",
       "_view_module_version": "1.2.0",
       "_view_name": "LayoutView",
       "align_content": null,
       "align_items": null,
       "align_self": null,
       "border": null,
       "bottom": null,
       "display": null,
       "flex": null,
       "flex_flow": null,
       "grid_area": null,
       "grid_auto_columns": null,
       "grid_auto_flow": null,
       "grid_auto_rows": null,
       "grid_column": null,
       "grid_gap": null,
       "grid_row": null,
       "grid_template_areas": null,
       "grid_template_columns": null,
       "grid_template_rows": null,
       "height": null,
       "justify_content": null,
       "justify_items": null,
       "left": null,
       "margin": null,
       "max_height": null,
       "max_width": null,
       "min_height": null,
       "min_width": null,
       "object_fit": null,
       "object_position": null,
       "order": null,
       "overflow": null,
       "overflow_x": null,
       "overflow_y": null,
       "padding": null,
       "right": null,
       "top": null,
       "visibility": null,
       "width": null
      }
     },
     "28285348c6034f969500075ce707630f": {
      "model_module": "@jupyter-widgets/base",
      "model_module_version": "1.2.0",
      "model_name": "LayoutModel",
      "state": {
       "_model_module": "@jupyter-widgets/base",
       "_model_module_version": "1.2.0",
       "_model_name": "LayoutModel",
       "_view_count": null,
       "_view_module": "@jupyter-widgets/base",
       "_view_module_version": "1.2.0",
       "_view_name": "LayoutView",
       "align_content": null,
       "align_items": null,
       "align_self": null,
       "border": null,
       "bottom": null,
       "display": null,
       "flex": null,
       "flex_flow": null,
       "grid_area": null,
       "grid_auto_columns": null,
       "grid_auto_flow": null,
       "grid_auto_rows": null,
       "grid_column": null,
       "grid_gap": null,
       "grid_row": null,
       "grid_template_areas": null,
       "grid_template_columns": null,
       "grid_template_rows": null,
       "height": null,
       "justify_content": null,
       "justify_items": null,
       "left": null,
       "margin": null,
       "max_height": null,
       "max_width": null,
       "min_height": null,
       "min_width": null,
       "object_fit": null,
       "object_position": null,
       "order": null,
       "overflow": null,
       "overflow_x": null,
       "overflow_y": null,
       "padding": null,
       "right": null,
       "top": null,
       "visibility": null,
       "width": null
      }
     },
     "49653b51a52242f7b17b495d1bda274f": {
      "model_module": "@jupyter-widgets/controls",
      "model_module_version": "1.5.0",
      "model_name": "ProgressStyleModel",
      "state": {
       "_model_module": "@jupyter-widgets/controls",
       "_model_module_version": "1.5.0",
       "_model_name": "ProgressStyleModel",
       "_view_count": null,
       "_view_module": "@jupyter-widgets/base",
       "_view_module_version": "1.2.0",
       "_view_name": "StyleView",
       "bar_color": null,
       "description_width": ""
      }
     },
     "64e8e19781144e98bb2670563364b980": {
      "model_module": "@jupyter-widgets/base",
      "model_module_version": "1.2.0",
      "model_name": "LayoutModel",
      "state": {
       "_model_module": "@jupyter-widgets/base",
       "_model_module_version": "1.2.0",
       "_model_name": "LayoutModel",
       "_view_count": null,
       "_view_module": "@jupyter-widgets/base",
       "_view_module_version": "1.2.0",
       "_view_name": "LayoutView",
       "align_content": null,
       "align_items": null,
       "align_self": null,
       "border": null,
       "bottom": null,
       "display": null,
       "flex": null,
       "flex_flow": null,
       "grid_area": null,
       "grid_auto_columns": null,
       "grid_auto_flow": null,
       "grid_auto_rows": null,
       "grid_column": null,
       "grid_gap": null,
       "grid_row": null,
       "grid_template_areas": null,
       "grid_template_columns": null,
       "grid_template_rows": null,
       "height": null,
       "justify_content": null,
       "justify_items": null,
       "left": null,
       "margin": null,
       "max_height": null,
       "max_width": null,
       "min_height": null,
       "min_width": null,
       "object_fit": null,
       "object_position": null,
       "order": null,
       "overflow": null,
       "overflow_x": null,
       "overflow_y": null,
       "padding": null,
       "right": null,
       "top": null,
       "visibility": null,
       "width": null
      }
     },
     "6bd916497cbb4be1b4d3af8d160ae5a2": {
      "model_module": "@jupyter-widgets/controls",
      "model_module_version": "1.5.0",
      "model_name": "DescriptionStyleModel",
      "state": {
       "_model_module": "@jupyter-widgets/controls",
       "_model_module_version": "1.5.0",
       "_model_name": "DescriptionStyleModel",
       "_view_count": null,
       "_view_module": "@jupyter-widgets/base",
       "_view_module_version": "1.2.0",
       "_view_name": "StyleView",
       "description_width": ""
      }
     },
     "74cbb1aa340243a186e6897404328dfc": {
      "model_module": "@jupyter-widgets/base",
      "model_module_version": "1.2.0",
      "model_name": "LayoutModel",
      "state": {
       "_model_module": "@jupyter-widgets/base",
       "_model_module_version": "1.2.0",
       "_model_name": "LayoutModel",
       "_view_count": null,
       "_view_module": "@jupyter-widgets/base",
       "_view_module_version": "1.2.0",
       "_view_name": "LayoutView",
       "align_content": null,
       "align_items": null,
       "align_self": null,
       "border": null,
       "bottom": null,
       "display": null,
       "flex": null,
       "flex_flow": null,
       "grid_area": null,
       "grid_auto_columns": null,
       "grid_auto_flow": null,
       "grid_auto_rows": null,
       "grid_column": null,
       "grid_gap": null,
       "grid_row": null,
       "grid_template_areas": null,
       "grid_template_columns": null,
       "grid_template_rows": null,
       "height": null,
       "justify_content": null,
       "justify_items": null,
       "left": null,
       "margin": null,
       "max_height": null,
       "max_width": null,
       "min_height": null,
       "min_width": null,
       "object_fit": null,
       "object_position": null,
       "order": null,
       "overflow": null,
       "overflow_x": null,
       "overflow_y": null,
       "padding": null,
       "right": null,
       "top": null,
       "visibility": null,
       "width": null
      }
     },
     "78ee43c3ce4c4e9d98e1b514260954c3": {
      "model_module": "@jupyter-widgets/base",
      "model_module_version": "1.2.0",
      "model_name": "LayoutModel",
      "state": {
       "_model_module": "@jupyter-widgets/base",
       "_model_module_version": "1.2.0",
       "_model_name": "LayoutModel",
       "_view_count": null,
       "_view_module": "@jupyter-widgets/base",
       "_view_module_version": "1.2.0",
       "_view_name": "LayoutView",
       "align_content": null,
       "align_items": null,
       "align_self": null,
       "border": null,
       "bottom": null,
       "display": null,
       "flex": null,
       "flex_flow": null,
       "grid_area": null,
       "grid_auto_columns": null,
       "grid_auto_flow": null,
       "grid_auto_rows": null,
       "grid_column": null,
       "grid_gap": null,
       "grid_row": null,
       "grid_template_areas": null,
       "grid_template_columns": null,
       "grid_template_rows": null,
       "height": null,
       "justify_content": null,
       "justify_items": null,
       "left": null,
       "margin": null,
       "max_height": null,
       "max_width": null,
       "min_height": null,
       "min_width": null,
       "object_fit": null,
       "object_position": null,
       "order": null,
       "overflow": null,
       "overflow_x": null,
       "overflow_y": null,
       "padding": null,
       "right": null,
       "top": null,
       "visibility": null,
       "width": null
      }
     },
     "797d64f5dbaf4f8aa0c446b0b41802fa": {
      "model_module": "@jupyter-widgets/controls",
      "model_module_version": "1.5.0",
      "model_name": "DescriptionStyleModel",
      "state": {
       "_model_module": "@jupyter-widgets/controls",
       "_model_module_version": "1.5.0",
       "_model_name": "DescriptionStyleModel",
       "_view_count": null,
       "_view_module": "@jupyter-widgets/base",
       "_view_module_version": "1.2.0",
       "_view_name": "StyleView",
       "description_width": ""
      }
     },
     "890b993de3e04216a810c87479d58597": {
      "model_module": "@jupyter-widgets/controls",
      "model_module_version": "1.5.0",
      "model_name": "HTMLModel",
      "state": {
       "_dom_classes": [],
       "_model_module": "@jupyter-widgets/controls",
       "_model_module_version": "1.5.0",
       "_model_name": "HTMLModel",
       "_view_count": null,
       "_view_module": "@jupyter-widgets/controls",
       "_view_module_version": "1.5.0",
       "_view_name": "HTMLView",
       "description": "",
       "description_tooltip": null,
       "layout": "IPY_MODEL_28285348c6034f969500075ce707630f",
       "placeholder": "​",
       "style": "IPY_MODEL_89436f15cd4c4e07a467055e3163c32f",
       "value": " 4/4 [02:49&lt;00:00, 37.21s/it]"
      }
     },
     "89436f15cd4c4e07a467055e3163c32f": {
      "model_module": "@jupyter-widgets/controls",
      "model_module_version": "1.5.0",
      "model_name": "DescriptionStyleModel",
      "state": {
       "_model_module": "@jupyter-widgets/controls",
       "_model_module_version": "1.5.0",
       "_model_name": "DescriptionStyleModel",
       "_view_count": null,
       "_view_module": "@jupyter-widgets/base",
       "_view_module_version": "1.2.0",
       "_view_name": "StyleView",
       "description_width": ""
      }
     },
     "97653ad2894a40b29e1fff363652369b": {
      "model_module": "@jupyter-widgets/controls",
      "model_module_version": "1.5.0",
      "model_name": "HBoxModel",
      "state": {
       "_dom_classes": [],
       "_model_module": "@jupyter-widgets/controls",
       "_model_module_version": "1.5.0",
       "_model_name": "HBoxModel",
       "_view_count": null,
       "_view_module": "@jupyter-widgets/controls",
       "_view_module_version": "1.5.0",
       "_view_name": "HBoxView",
       "box_style": "",
       "children": [
        "IPY_MODEL_b07143ffda1240bdaade3d741c433b9f",
        "IPY_MODEL_ba85980f0a9a469f8b0a31297e2d8e12",
        "IPY_MODEL_890b993de3e04216a810c87479d58597"
       ],
       "layout": "IPY_MODEL_25158b2ab7eb4240bb7bf6d77d1c049b"
      }
     },
     "9b406982b09949488e801b04dc1d3535": {
      "model_module": "@jupyter-widgets/base",
      "model_module_version": "1.2.0",
      "model_name": "LayoutModel",
      "state": {
       "_model_module": "@jupyter-widgets/base",
       "_model_module_version": "1.2.0",
       "_model_name": "LayoutModel",
       "_view_count": null,
       "_view_module": "@jupyter-widgets/base",
       "_view_module_version": "1.2.0",
       "_view_name": "LayoutView",
       "align_content": null,
       "align_items": null,
       "align_self": null,
       "border": null,
       "bottom": null,
       "display": null,
       "flex": null,
       "flex_flow": null,
       "grid_area": null,
       "grid_auto_columns": null,
       "grid_auto_flow": null,
       "grid_auto_rows": null,
       "grid_column": null,
       "grid_gap": null,
       "grid_row": null,
       "grid_template_areas": null,
       "grid_template_columns": null,
       "grid_template_rows": null,
       "height": null,
       "justify_content": null,
       "justify_items": null,
       "left": null,
       "margin": null,
       "max_height": null,
       "max_width": null,
       "min_height": null,
       "min_width": null,
       "object_fit": null,
       "object_position": null,
       "order": null,
       "overflow": null,
       "overflow_x": null,
       "overflow_y": null,
       "padding": null,
       "right": null,
       "top": null,
       "visibility": null,
       "width": null
      }
     },
     "ab075932e86f402f923d90da52cb614f": {
      "model_module": "@jupyter-widgets/controls",
      "model_module_version": "1.5.0",
      "model_name": "HBoxModel",
      "state": {
       "_dom_classes": [],
       "_model_module": "@jupyter-widgets/controls",
       "_model_module_version": "1.5.0",
       "_model_name": "HBoxModel",
       "_view_count": null,
       "_view_module": "@jupyter-widgets/controls",
       "_view_module_version": "1.5.0",
       "_view_name": "HBoxView",
       "box_style": "",
       "children": [
        "IPY_MODEL_ab673b718bf34be0b381b6034c6d18e3",
        "IPY_MODEL_de5b219716724e1b940007cc96f729e8",
        "IPY_MODEL_dd85ebc6d5294fd7806a1ee6b57df9bf"
       ],
       "layout": "IPY_MODEL_220c761e224d4a3ea7d62108d6c03e51"
      }
     },
     "ab673b718bf34be0b381b6034c6d18e3": {
      "model_module": "@jupyter-widgets/controls",
      "model_module_version": "1.5.0",
      "model_name": "HTMLModel",
      "state": {
       "_dom_classes": [],
       "_model_module": "@jupyter-widgets/controls",
       "_model_module_version": "1.5.0",
       "_model_name": "HTMLModel",
       "_view_count": null,
       "_view_module": "@jupyter-widgets/controls",
       "_view_module_version": "1.5.0",
       "_view_name": "HTMLView",
       "description": "",
       "description_tooltip": null,
       "layout": "IPY_MODEL_78ee43c3ce4c4e9d98e1b514260954c3",
       "placeholder": "​",
       "style": "IPY_MODEL_bbfbcd6d885d4a679b8953f156837396",
       "value": "README.md: 100%"
      }
     },
     "b07143ffda1240bdaade3d741c433b9f": {
      "model_module": "@jupyter-widgets/controls",
      "model_module_version": "1.5.0",
      "model_name": "HTMLModel",
      "state": {
       "_dom_classes": [],
       "_model_module": "@jupyter-widgets/controls",
       "_model_module_version": "1.5.0",
       "_model_name": "HTMLModel",
       "_view_count": null,
       "_view_module": "@jupyter-widgets/controls",
       "_view_module_version": "1.5.0",
       "_view_name": "HTMLView",
       "description": "",
       "description_tooltip": null,
       "layout": "IPY_MODEL_d595135e117948bc980991da84e0cd68",
       "placeholder": "​",
       "style": "IPY_MODEL_6bd916497cbb4be1b4d3af8d160ae5a2",
       "value": "Loading checkpoint shards: 100%"
      }
     },
     "ba85980f0a9a469f8b0a31297e2d8e12": {
      "model_module": "@jupyter-widgets/controls",
      "model_module_version": "1.5.0",
      "model_name": "FloatProgressModel",
      "state": {
       "_dom_classes": [],
       "_model_module": "@jupyter-widgets/controls",
       "_model_module_version": "1.5.0",
       "_model_name": "FloatProgressModel",
       "_view_count": null,
       "_view_module": "@jupyter-widgets/controls",
       "_view_module_version": "1.5.0",
       "_view_name": "ProgressView",
       "bar_style": "success",
       "description": "",
       "description_tooltip": null,
       "layout": "IPY_MODEL_74cbb1aa340243a186e6897404328dfc",
       "max": 4.0,
       "min": 0.0,
       "orientation": "horizontal",
       "style": "IPY_MODEL_49653b51a52242f7b17b495d1bda274f",
       "value": 4.0
      }
     },
     "bbfbcd6d885d4a679b8953f156837396": {
      "model_module": "@jupyter-widgets/controls",
      "model_module_version": "1.5.0",
      "model_name": "DescriptionStyleModel",
      "state": {
       "_model_module": "@jupyter-widgets/controls",
       "_model_module_version": "1.5.0",
       "_model_name": "DescriptionStyleModel",
       "_view_count": null,
       "_view_module": "@jupyter-widgets/base",
       "_view_module_version": "1.2.0",
       "_view_name": "StyleView",
       "description_width": ""
      }
     },
     "d595135e117948bc980991da84e0cd68": {
      "model_module": "@jupyter-widgets/base",
      "model_module_version": "1.2.0",
      "model_name": "LayoutModel",
      "state": {
       "_model_module": "@jupyter-widgets/base",
       "_model_module_version": "1.2.0",
       "_model_name": "LayoutModel",
       "_view_count": null,
       "_view_module": "@jupyter-widgets/base",
       "_view_module_version": "1.2.0",
       "_view_name": "LayoutView",
       "align_content": null,
       "align_items": null,
       "align_self": null,
       "border": null,
       "bottom": null,
       "display": null,
       "flex": null,
       "flex_flow": null,
       "grid_area": null,
       "grid_auto_columns": null,
       "grid_auto_flow": null,
       "grid_auto_rows": null,
       "grid_column": null,
       "grid_gap": null,
       "grid_row": null,
       "grid_template_areas": null,
       "grid_template_columns": null,
       "grid_template_rows": null,
       "height": null,
       "justify_content": null,
       "justify_items": null,
       "left": null,
       "margin": null,
       "max_height": null,
       "max_width": null,
       "min_height": null,
       "min_width": null,
       "object_fit": null,
       "object_position": null,
       "order": null,
       "overflow": null,
       "overflow_x": null,
       "overflow_y": null,
       "padding": null,
       "right": null,
       "top": null,
       "visibility": null,
       "width": null
      }
     },
     "dd85ebc6d5294fd7806a1ee6b57df9bf": {
      "model_module": "@jupyter-widgets/controls",
      "model_module_version": "1.5.0",
      "model_name": "HTMLModel",
      "state": {
       "_dom_classes": [],
       "_model_module": "@jupyter-widgets/controls",
       "_model_module_version": "1.5.0",
       "_model_name": "HTMLModel",
       "_view_count": null,
       "_view_module": "@jupyter-widgets/controls",
       "_view_module_version": "1.5.0",
       "_view_name": "HTMLView",
       "description": "",
       "description_tooltip": null,
       "layout": "IPY_MODEL_9b406982b09949488e801b04dc1d3535",
       "placeholder": "​",
       "style": "IPY_MODEL_797d64f5dbaf4f8aa0c446b0b41802fa",
       "value": " 5.17k/5.17k [00:00&lt;00:00, 490kB/s]"
      }
     },
     "de5b219716724e1b940007cc96f729e8": {
      "model_module": "@jupyter-widgets/controls",
      "model_module_version": "1.5.0",
      "model_name": "FloatProgressModel",
      "state": {
       "_dom_classes": [],
       "_model_module": "@jupyter-widgets/controls",
       "_model_module_version": "1.5.0",
       "_model_name": "FloatProgressModel",
       "_view_count": null,
       "_view_module": "@jupyter-widgets/controls",
       "_view_module_version": "1.5.0",
       "_view_name": "ProgressView",
       "bar_style": "success",
       "description": "",
       "description_tooltip": null,
       "layout": "IPY_MODEL_64e8e19781144e98bb2670563364b980",
       "max": 5174.0,
       "min": 0.0,
       "orientation": "horizontal",
       "style": "IPY_MODEL_1b0144258bb9473eb597133c970599ff",
       "value": 5174.0
      }
     }
    },
    "version_major": 2,
    "version_minor": 0
   }
  }
 },
 "nbformat": 4,
 "nbformat_minor": 5
}
